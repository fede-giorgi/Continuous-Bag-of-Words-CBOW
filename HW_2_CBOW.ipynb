{
  "cells": [
    {
      "cell_type": "markdown",
      "source": [
        "# Federico Giorgi\n",
        "**fg2617**"
      ],
      "metadata": {
        "id": "LJ0NZOhwz7vs"
      },
      "id": "LJ0NZOhwz7vs"
    },
    {
      "cell_type": "code",
      "execution_count": 65,
      "id": "080d50fc",
      "metadata": {
        "id": "080d50fc"
      },
      "outputs": [],
      "source": [
        "import time\n",
        "import torch\n",
        "from torch.utils.data import DataLoader, TensorDataset\n",
        "import torch.nn as nn\n",
        "from tqdm import tqdm\n",
        "import pickle\n",
        "import random\n",
        "import numpy as np\n",
        "from collections import Counter, defaultdict\n",
        "import numpy as np\n",
        "from torch import FloatTensor as FT"
      ]
    },
    {
      "cell_type": "markdown",
      "id": "66eb271d",
      "metadata": {
        "id": "66eb271d"
      },
      "source": [
        "### Instructions\n",
        "For this part, fill in the required code and make the notebook work. This wll be very similar to the Skip-Gram model, but a little more difficult. Look for the \"\"\" FILL IN \"\"\" string to guide you."
      ]
    },
    {
      "cell_type": "code",
      "execution_count": 66,
      "id": "31b412ca",
      "metadata": {
        "id": "31b412ca"
      },
      "outputs": [],
      "source": [
        "# Where do I want to run my job. You can do \"cuda\" on linux machines\n",
        "# DEVICE = \"mps\" if torch.backends.mps.is_available() else  \"cpu\"\n",
        "DEVICE = \"cuda\" if torch.cuda.is_available() else  \"cpu\"\n",
        "\n",
        "# The batch size in Adam or SGD\n",
        "BATCH_SIZE = 512\n",
        "\n",
        "# Number of epochs\n",
        "NUM_EPOCHS = 10\n",
        "\n",
        "# Predict from 2 words the inner word for CBOW\n",
        "# I.e. I'll have a window like [\"a\", \"b\", \"c\"] of continuous text (each is a word)\n",
        "# We'll predict each of wc = [\"a\", \"c\"] from \"b\" = wc for Skip-Gram\n",
        "# For CBOW, we'll use [\"a\", \"c\"] to predict \"b\" = wo\n",
        "WINDOW = 1\n",
        "\n",
        "# Negative samples.\n",
        "K = 4"
      ]
    },
    {
      "cell_type": "code",
      "source": [
        "DEVICE"
      ],
      "metadata": {
        "colab": {
          "base_uri": "https://localhost:8080/",
          "height": 35
        },
        "id": "1lyFTJR4x9HA",
        "outputId": "6256306f-1079-4039-90e1-54ca9998625f"
      },
      "id": "1lyFTJR4x9HA",
      "execution_count": 67,
      "outputs": [
        {
          "output_type": "execute_result",
          "data": {
            "text/plain": [
              "'cuda'"
            ],
            "application/vnd.google.colaboratory.intrinsic+json": {
              "type": "string"
            }
          },
          "metadata": {},
          "execution_count": 67
        }
      ]
    },
    {
      "cell_type": "markdown",
      "id": "3ec9f90a",
      "metadata": {
        "id": "3ec9f90a"
      },
      "source": [
        "The text8 Wikipedia corpus. 100M characters."
      ]
    },
    {
      "cell_type": "code",
      "execution_count": 68,
      "id": "3217b67b",
      "metadata": {
        "id": "3217b67b",
        "outputId": "7aa804d5-6197-4c65-eb6a-5a85503db4b0",
        "colab": {
          "base_uri": "https://localhost:8080/"
        }
      },
      "outputs": [
        {
          "output_type": "stream",
          "name": "stdout",
          "text": [
            "96M\ttext8\n",
            "100000000\n"
          ]
        }
      ],
      "source": [
        "# from google.colab import drive\n",
        "# drive.mount('/content/drive')\n",
        "\n",
        "!du -h text8\n",
        "\n",
        "f = open('text8', 'r')\n",
        "text = f.read()\n",
        "# One big string of size 100M\n",
        "print(len(text))"
      ]
    },
    {
      "cell_type": "code",
      "execution_count": 69,
      "id": "6c1bf892",
      "metadata": {
        "id": "6c1bf892"
      },
      "outputs": [],
      "source": [
        "punc = '!\"#$%&()*+,-./:;<=>?@[\\\\]^_\\'{|}~\\t\\n'\n",
        "\n",
        "# Can do regular expressions here too\n",
        "for c in punc:\n",
        "    if c in text:\n",
        "        text.replace(c, ' ')"
      ]
    },
    {
      "cell_type": "code",
      "execution_count": 70,
      "id": "0bc19b0c",
      "metadata": {
        "id": "0bc19b0c",
        "colab": {
          "base_uri": "https://localhost:8080/"
        },
        "outputId": "41346580-be2b-4b61-81a1-e71071c5ff1a"
      },
      "outputs": [
        {
          "output_type": "stream",
          "name": "stdout",
          "text": [
            "Total tokens: 17005207\n",
            "Unique words: 253854\n",
            "Top 5 most common: [('the', 1061396), ('of', 593677), ('and', 416629), ('one', 411764), ('in', 372201)]\n"
          ]
        }
      ],
      "source": [
        "# A very crude tokenizer you get for free: lower case and also split on spaces\n",
        "# This will not work!\n",
        "# Split text on space and strip each word\n",
        "# You should get a list \"words\" which is text but each element is a word in order\n",
        "\n",
        "# we are not using torchtext's get_tokenizer(\"basic_english\")\n",
        "# TOKENIZER = get_tokenizer(\"basic_english\")\n",
        "\n",
        "# -------- SOLUTION --------\n",
        "def get_tokenizer(text):\n",
        "    # lower case, strip edges, split on spaces\n",
        "    return text.lower().strip().split()\n",
        "\n",
        "TOKENIZER = get_tokenizer\n",
        "\n",
        "words = TOKENIZER(text)\n",
        "f = Counter(words)\n",
        "\n",
        "print(\"Total tokens:\", len(words))\n",
        "print(\"Unique words:\", len(f))\n",
        "print(\"Top 5 most common:\", f.most_common(5))"
      ]
    },
    {
      "cell_type": "code",
      "execution_count": 71,
      "id": "16b736a4",
      "metadata": {
        "id": "16b736a4"
      },
      "outputs": [],
      "source": [
        "# Do a very crude filter on the text which removes all very popular words\n",
        "text = [word for word in words if f[word] > 5]"
      ]
    },
    {
      "cell_type": "code",
      "execution_count": 72,
      "id": "6916a763",
      "metadata": {
        "id": "6916a763",
        "outputId": "2e500296-913e-4feb-f267-8c7c115b447d",
        "colab": {
          "base_uri": "https://localhost:8080/"
        }
      },
      "outputs": [
        {
          "output_type": "execute_result",
          "data": {
            "text/plain": [
              "['anarchism', 'originated', 'as', 'a', 'term']"
            ]
          },
          "metadata": {},
          "execution_count": 72
        }
      ],
      "source": [
        "text[0:5]"
      ]
    },
    {
      "cell_type": "code",
      "execution_count": 73,
      "id": "10ad817a",
      "metadata": {
        "id": "10ad817a",
        "colab": {
          "base_uri": "https://localhost:8080/",
          "height": 35
        },
        "outputId": "db8a47dc-229d-460d-d778-48af21f58aad"
      },
      "outputs": [
        {
          "output_type": "execute_result",
          "data": {
            "text/plain": [
              "' FILL IN '"
            ],
            "application/vnd.google.colaboratory.intrinsic+json": {
              "type": "string"
            }
          },
          "metadata": {},
          "execution_count": 73
        }
      ],
      "source": [
        "# SOLUTION: let's create a Vocab class, in this way we can have the get_stoi() and get_itos() methods\n",
        "class Vocab:\n",
        "    def __init__(self, stoi, itos):\n",
        "        self._stoi = stoi\n",
        "        self._itos = itos\n",
        "        self._vocab = set(itos)\n",
        "    def get_stoi(self):\n",
        "        return self._stoi\n",
        "    def get_itos(self):\n",
        "        return self._itos\n",
        "    def get_vocab(self):\n",
        "        return self._vocab\n",
        "    def __len__(self):\n",
        "        return len(self._itos)\n",
        "\n",
        "def build_vocab_from_iterator(text):\n",
        "    if len(text) > 0 and isinstance(text[0], list):\n",
        "        text = [word for sublist in text for word in sublist]\n",
        "\n",
        "    counts = Counter(text)\n",
        "    items = [(w, c) for w, c in counts.items() ]\n",
        "    items.sort(key=lambda wc: (-wc[1], wc[0]))  # decreasing frequency, then alphabetical\n",
        "\n",
        "    itos = [w for w, _ in items]\n",
        "    # itos = {i: w for i, (w, _) in enumerate(items)}\n",
        "    # We use a list for itos instead of a hash map because index-to-word lookup can be done directly by position.\n",
        "    # A list is simpler and faster for sequential integer keys, while a dictionary adds unnecessary overhead.\n",
        "\n",
        "    stoi = {w: i for i, w in enumerate(itos)}\n",
        "\n",
        "    return Vocab(stoi, itos)\n",
        "\n",
        "\n",
        "VOCAB = build_vocab_from_iterator([text])\n",
        "# Rebuild the vocabulary from text above\n",
        "\"\"\" FILL IN \"\"\""
      ]
    },
    {
      "cell_type": "code",
      "execution_count": 74,
      "id": "a7f69fc9",
      "metadata": {
        "id": "a7f69fc9"
      },
      "outputs": [],
      "source": [
        "# Populate these maps manually using Counter or defaltdict\n",
        "# This will not work\n",
        "\"\"\" FILL IN \"\"\"\n",
        "\n",
        "# word -> int hash map\n",
        "stoi = VOCAB.get_stoi()\n",
        "# int -> word hash map\n",
        "itos = VOCAB.get_itos()"
      ]
    },
    {
      "cell_type": "code",
      "execution_count": 75,
      "id": "9991f9ab",
      "metadata": {
        "id": "9991f9ab",
        "colab": {
          "base_uri": "https://localhost:8080/"
        },
        "outputId": "f5d235b7-5107-4976-ccf2-db2ef14d5e1c"
      },
      "outputs": [
        {
          "output_type": "execute_result",
          "data": {
            "text/plain": [
              "11"
            ]
          },
          "metadata": {},
          "execution_count": 75
        }
      ],
      "source": [
        "stoi['as']"
      ]
    },
    {
      "cell_type": "code",
      "execution_count": 76,
      "id": "0f49f5fa",
      "metadata": {
        "id": "0f49f5fa",
        "colab": {
          "base_uri": "https://localhost:8080/"
        },
        "outputId": "a26842e8-97ad-4521-df82-f644d27aa911"
      },
      "outputs": [
        {
          "output_type": "execute_result",
          "data": {
            "text/plain": [
              "63641"
            ]
          },
          "metadata": {},
          "execution_count": 76
        }
      ],
      "source": [
        "# Total number of words; you should see about 63K as below\n",
        "len(stoi)"
      ]
    },
    {
      "cell_type": "code",
      "execution_count": 77,
      "id": "6c5c415a",
      "metadata": {
        "id": "6c5c415a"
      },
      "outputs": [],
      "source": [
        "f = Counter(text)\n",
        "# This is the probability that we pick a word in the corpus\n",
        "z = {word: f[word] / len(text) for word in f}"
      ]
    },
    {
      "cell_type": "code",
      "execution_count": 78,
      "id": "1e543e1e",
      "metadata": {
        "id": "1e543e1e"
      },
      "outputs": [],
      "source": [
        "threshold = 1e-5\n",
        "# Probability that word is kept while subsampling\n",
        "# This is explained here and sightly differet from the paper: http://mccormickml.com/2017/01/11/word2vec-tutorial-part-2-negative-sampling/\n",
        "p_keep = {word: (np.sqrt(z[word] / 0.001) + 1)*(0.0001 / z[word]) for word in f}"
      ]
    },
    {
      "cell_type": "code",
      "execution_count": 79,
      "id": "dd22119d",
      "metadata": {
        "id": "dd22119d"
      },
      "outputs": [],
      "source": [
        "# This is in the integer space\n",
        "train_dataset = [word for word in text if random.random() < p_keep[word]]\n",
        "\n",
        "# Rebuild the vocabulary\n",
        "VOCAB = build_vocab_from_iterator([train_dataset])"
      ]
    },
    {
      "cell_type": "code",
      "execution_count": 80,
      "id": "a2d695da",
      "metadata": {
        "id": "a2d695da",
        "colab": {
          "base_uri": "https://localhost:8080/"
        },
        "outputId": "8a39913e-d5a8-4b9e-b14e-133647916058"
      },
      "outputs": [
        {
          "output_type": "execute_result",
          "data": {
            "text/plain": [
              "7845607"
            ]
          },
          "metadata": {},
          "execution_count": 80
        }
      ],
      "source": [
        "len(train_dataset)"
      ]
    },
    {
      "cell_type": "code",
      "execution_count": 81,
      "id": "30d67549",
      "metadata": {
        "id": "30d67549"
      },
      "outputs": [],
      "source": [
        "# Repopulate the stoi and itos maps again now that you dropped some words\n",
        "\"\"\" FILL IN \"\"\"\n",
        "# word -> int mapping\n",
        "stoi = VOCAB.get_stoi()\n",
        "# int -> word mapping\n",
        "itos = VOCAB.get_itos()"
      ]
    },
    {
      "cell_type": "code",
      "execution_count": 82,
      "id": "b46337b8",
      "metadata": {
        "id": "b46337b8",
        "colab": {
          "base_uri": "https://localhost:8080/"
        },
        "outputId": "71e1b34d-008b-4634-b90b-a911595f8374"
      },
      "outputs": [
        {
          "output_type": "execute_result",
          "data": {
            "text/plain": [
              "63641"
            ]
          },
          "metadata": {},
          "execution_count": 82
        }
      ],
      "source": [
        "# The vocabulary size after we do all the filters\n",
        "len(VOCAB)"
      ]
    },
    {
      "cell_type": "code",
      "execution_count": 83,
      "id": "c9346f36",
      "metadata": {
        "id": "c9346f36"
      },
      "outputs": [],
      "source": [
        "# The probability we draw something for negative sampling\n",
        "f = Counter(train_dataset)\n",
        "p = torch.zeros(len(VOCAB))\n",
        "\n",
        "# Downsample frequent words and upsample less frequent\n",
        "s = sum([np.power(freq, 0.75) for word, freq in f.items()])\n",
        "\n",
        "for word in f:\n",
        "    p[stoi[word]] = np.power(f[word], 0.75) / s"
      ]
    },
    {
      "cell_type": "code",
      "execution_count": 84,
      "id": "dd713c15",
      "metadata": {
        "id": "dd713c15"
      },
      "outputs": [],
      "source": [
        "# Map everything to integers\n",
        "# This might not work be careful w the above ...\n",
        "train_dataset = [stoi[word] for word in text]"
      ]
    },
    {
      "cell_type": "code",
      "execution_count": 85,
      "id": "8e96c0c4",
      "metadata": {
        "id": "8e96c0c4"
      },
      "outputs": [],
      "source": [
        "# This just gets the (wc, wo) pairs that are positive - they are seen together!\n",
        "\n",
        "# -------- SOLUTION --------\n",
        "def get_tokenized_dataset(dataset, verbose=False):\n",
        "    x_list = []\n",
        "\n",
        "    for i, token in enumerate(dataset):\n",
        "        m = 1  # context window size (use WINDOW if defined globally)\n",
        "\n",
        "        # Get the left and right tokens via safe slicing\n",
        "        start = max(0, i - m)\n",
        "        left_tokens = dataset[start:i]\n",
        "\n",
        "        end = min(len(dataset), i + m + 1)  # exclusive upper bound for slicing\n",
        "        right_tokens = dataset[i + 1:end]\n",
        "\n",
        "        # Only keep samples with a full context on both sides (length m each)\n",
        "        if len(left_tokens) == len(right_tokens) == m:\n",
        "            # Build the training row like [left_context, right_context, center]\n",
        "            w_context = left_tokens + right_tokens  # length 2m\n",
        "            wc = dataset[i]  # center word (integer id)\n",
        "\n",
        "            # Extend with a single sample row (list of ints)\n",
        "            x_list.extend([w_context + [wc]])\n",
        "        elif verbose:\n",
        "            # Optional: report skipped positions at boundaries\n",
        "            print(f\"Skipping i={i}: left={len(left_tokens)}, right={len(right_tokens)}\")\n",
        "\n",
        "    return x_list\n",
        "\n"
      ]
    },
    {
      "cell_type": "code",
      "execution_count": 86,
      "id": "3eb82aad",
      "metadata": {
        "id": "3eb82aad"
      },
      "outputs": [],
      "source": [
        "train_x_list = get_tokenized_dataset(train_dataset, verbose=False)"
      ]
    },
    {
      "cell_type": "code",
      "execution_count": 87,
      "id": "8412ee4d",
      "metadata": {
        "id": "8412ee4d"
      },
      "outputs": [],
      "source": [
        "pickle.dump(train_x_list, open('train_x_list.pkl', 'wb'))"
      ]
    },
    {
      "cell_type": "code",
      "execution_count": 88,
      "id": "3fd54caf",
      "metadata": {
        "id": "3fd54caf"
      },
      "outputs": [],
      "source": [
        "train_x_list = pickle.load(open('train_x_list.pkl', 'rb'))"
      ]
    },
    {
      "cell_type": "code",
      "execution_count": 89,
      "id": "576765f3",
      "metadata": {
        "id": "576765f3",
        "colab": {
          "base_uri": "https://localhost:8080/"
        },
        "outputId": "88dc91af-7cb1-4933-f289-777d895e6079"
      },
      "outputs": [
        {
          "output_type": "execute_result",
          "data": {
            "text/plain": [
              "[[5233, 11, 3083],\n",
              " [3083, 5, 11],\n",
              " [11, 177, 5],\n",
              " [5, 1, 177],\n",
              " [177, 3133, 1],\n",
              " [1, 44, 3133],\n",
              " [3133, 59, 44],\n",
              " [44, 140, 59],\n",
              " [59, 128, 140],\n",
              " [140, 741, 128]]"
            ]
          },
          "metadata": {},
          "execution_count": 89
        }
      ],
      "source": [
        "# These are (wc, wo) pairs. All are y = +1 by design\n",
        "train_x_list[:10]"
      ]
    },
    {
      "cell_type": "code",
      "execution_count": 90,
      "id": "316df1dc",
      "metadata": {
        "id": "316df1dc"
      },
      "outputs": [],
      "source": [
        "# The number of things of BATCH_SIZE = 512\n",
        "assert(len(train_x_list) // BATCH_SIZE == 32579)"
      ]
    },
    {
      "cell_type": "markdown",
      "id": "488c3519",
      "metadata": {
        "id": "488c3519"
      },
      "source": [
        "### Set up the dataloader."
      ]
    },
    {
      "cell_type": "code",
      "execution_count": 91,
      "id": "2e31ae4b",
      "metadata": {
        "id": "2e31ae4b"
      },
      "outputs": [],
      "source": [
        "train_dl = DataLoader(\n",
        "    TensorDataset(\n",
        "        torch.tensor(train_x_list).to(DEVICE),\n",
        "    ),\n",
        "    batch_size=BATCH_SIZE,\n",
        "    shuffle=True\n",
        ")"
      ]
    },
    {
      "cell_type": "code",
      "execution_count": 92,
      "id": "e9c42f50",
      "metadata": {
        "id": "e9c42f50"
      },
      "outputs": [],
      "source": [
        "for xb in train_dl:\n",
        "    assert(xb[0].shape == (BATCH_SIZE, 3))\n",
        "    break"
      ]
    },
    {
      "cell_type": "markdown",
      "id": "12d93d22",
      "metadata": {
        "id": "12d93d22"
      },
      "source": [
        "### Words we'll use to asses the quality of the model ..."
      ]
    },
    {
      "cell_type": "code",
      "execution_count": 93,
      "id": "ffada8d0",
      "metadata": {
        "id": "ffada8d0"
      },
      "outputs": [],
      "source": [
        "valid_ids = torch.tensor([\n",
        "    stoi['money'],\n",
        "    stoi['lion'],\n",
        "    stoi['africa'],\n",
        "    stoi['musician'],\n",
        "    stoi['dance'],\n",
        "])"
      ]
    },
    {
      "cell_type": "markdown",
      "id": "64096cd8",
      "metadata": {
        "id": "64096cd8"
      },
      "source": [
        "### Get the model."
      ]
    },
    {
      "cell_type": "code",
      "execution_count": 94,
      "id": "dc51c359",
      "metadata": {
        "id": "dc51c359"
      },
      "outputs": [],
      "source": [
        "class CBOWNegativeSampling(nn.Module):\n",
        "    def __init__(self, vocab_size, embed_dim):\n",
        "        super(CBOWNegativeSampling, self).__init__()\n",
        "\n",
        "        # -------- SOLUTION --------\n",
        "        self.A = nn.Embedding(vocab_size, embed_dim)  # context embeddings\n",
        "        self.B = nn.Embedding(vocab_size, embed_dim)  # target/output embeddings\n",
        "        self.init_weights()\n",
        "\n",
        "    def init_weights(self):\n",
        "        # Is this the best way? Not sure\n",
        "        #initrange = 0.5\n",
        "        #self.A.weight.data.uniform_(-initrange, initrange)\n",
        "        #self.B.weight.data.uniform_(-initrange, initrange)\n",
        "\n",
        "        # -------- SOLUTION --------\n",
        "        initrange = 1.0 / np.sqrt(self.A.embedding_dim)\n",
        "        self.A.weight.data.uniform_(-initrange, initrange)\n",
        "        self.B.weight.data.uniform_(-initrange, initrange)\n",
        "\n",
        "\n",
        "    def forward(self, x):\n",
        "        # -------- SOLUTION --------\n",
        "        # N is the batch size\n",
        "        # x is (N, 3)\n",
        "\n",
        "        # Context words are 2m things, m = 1 so w_context is (N, 2) while wc is (N, 1)\n",
        "        w_context, wc = x[:, :2], x[:, 2:]          # (N, 2), (N, 1)\n",
        "\n",
        "        # Each of these is (N, 2, D) since each context has 2 word\n",
        "        # We want this to be (N, D) and this is what we get\n",
        "\n",
        "        # (N, 2, D)\n",
        "        a = self.A(w_context)\n",
        "\n",
        "        # (N, D)\n",
        "        a_avg = a.mean(dim=1)\n",
        "\n",
        "        # Each of these is (N, D) since each target has 1 word\n",
        "        b = self.B(wc).squeeze(1)\n",
        "\n",
        "        # The product between each context and target vector. Look at the Skip-Gram code.\n",
        "        # The logits is now (N, 1) since we sum across the final dimension.\n",
        "        logits = torch.sum(a_avg * b, dim=1, keepdim=True)\n",
        "\n",
        "        return logits"
      ]
    },
    {
      "cell_type": "code",
      "execution_count": 95,
      "id": "ed9c509d",
      "metadata": {
        "id": "ed9c509d"
      },
      "outputs": [],
      "source": [
        "@torch.no_grad()\n",
        "def validate_embeddings(\n",
        "    model,\n",
        "    valid_ids,\n",
        "    itos\n",
        "):\n",
        "    \"\"\" Validation logic \"\"\"\n",
        "\n",
        "    # We will use context embeddings to get the most similar words\n",
        "    # Other strategies include: using target embeddings, mean embeddings after avaraging context/target\n",
        "    embedding_weights = model.A.weight\n",
        "\n",
        "    normalized_embeddings = embedding_weights.cpu() / np.sqrt(\n",
        "        np.sum(embedding_weights.cpu().numpy()**2, axis=1, keepdims=True)\n",
        "    )\n",
        "\n",
        "    # Get the embeddings corresponding to valid_term_ids\n",
        "    valid_embeddings = normalized_embeddings[valid_ids, :]\n",
        "\n",
        "    # Compute the similarity between valid_term_ids (S) and all the embeddings (V)\n",
        "    # We do S x d (d x V) => S x D and sort by negative similarity\n",
        "    top_k = 10 # Top k items will be displayed\n",
        "    similarity = np.dot(valid_embeddings.cpu().numpy(), normalized_embeddings.cpu().numpy().T)\n",
        "\n",
        "    # Invert similarity matrix to negative\n",
        "    # Ignore the first one because that would be the same word as the probe word\n",
        "    similarity_top_k = np.argsort(-similarity, axis=1)[:, 1: top_k+1]\n",
        "\n",
        "    # Print the output.\n",
        "    for i, word_id in enumerate(valid_ids):\n",
        "        # j >= 1 here since we don't want to include the word itself.\n",
        "        similar_word_str = ', '.join([itos[j] for j in similarity_top_k[i, :] if j >= 1])\n",
        "        # This might need a fix!\n",
        "        print(f\"{itos[word_id]}: {similar_word_str}\")\n",
        "\n",
        "    print('\\n')"
      ]
    },
    {
      "cell_type": "markdown",
      "id": "3b3c6ed5",
      "metadata": {
        "id": "3b3c6ed5"
      },
      "source": [
        "### Set up the model"
      ]
    },
    {
      "cell_type": "code",
      "execution_count": 96,
      "id": "16da95d1",
      "metadata": {
        "id": "16da95d1"
      },
      "outputs": [],
      "source": [
        "LR = 10.0\n",
        "NUM_EPOCHS = 10\n",
        "EMBED_DIM = 300"
      ]
    },
    {
      "cell_type": "code",
      "execution_count": 97,
      "id": "cef585f4",
      "metadata": {
        "id": "cef585f4"
      },
      "outputs": [],
      "source": [
        "model = CBOWNegativeSampling(len(VOCAB), EMBED_DIM).to(DEVICE)\n",
        "optimizer = torch.optim.SGD(model.parameters(), lr=LR)\n",
        "\n",
        "# The learning rate is lowered every epoch by 1/10\n",
        "# Is this a good idea?\n",
        "# scheduler = torch.optim.lr_scheduler.StepLR(optimizer, 1, gamma=0.1)\n",
        "\n",
        "scheduler = torch.optim.lr_scheduler.StepLR(optimizer, step_size=3, gamma=0.5)"
      ]
    },
    {
      "cell_type": "code",
      "execution_count": 98,
      "id": "f8a642bf",
      "metadata": {
        "id": "f8a642bf",
        "colab": {
          "base_uri": "https://localhost:8080/"
        },
        "outputId": "2144bc56-e029-4441-eb95-ded971d8f28b"
      },
      "outputs": [
        {
          "output_type": "execute_result",
          "data": {
            "text/plain": [
              "CBOWNegativeSampling(\n",
              "  (A): Embedding(63641, 300)\n",
              "  (B): Embedding(63641, 300)\n",
              ")"
            ]
          },
          "metadata": {},
          "execution_count": 98
        }
      ],
      "source": [
        "model"
      ]
    },
    {
      "cell_type": "code",
      "execution_count": 99,
      "id": "85773616",
      "metadata": {
        "id": "85773616",
        "colab": {
          "base_uri": "https://localhost:8080/"
        },
        "outputId": "bf0dc467-90d8-479b-fa33-5d9af5bad73d"
      },
      "outputs": [
        {
          "output_type": "stream",
          "name": "stdout",
          "text": [
            "money: inductor, bream, langer, acknowledgment, luo, promotion, podcasting, coelom, mishearing, macrostate\n",
            "lion: disconnection, retrieving, ivf, modest, zalman, trust, reissued, triangular, ortelius, acquired\n",
            "africa: arches, direct, wonderful, stem, wordplay, netted, lysis, downgraded, eradication, unaffected\n",
            "musician: dunbar, businesses, exalts, struct, koalas, tulare, unsaturated, zeitschrift, azariah, hour\n",
            "dance: chandigarh, mep, cfm, shellfish, ssa, brie, caymanian, cholinesterase, preponderance, ingesting\n",
            "\n",
            "\n"
          ]
        },
        {
          "output_type": "stream",
          "name": "stderr",
          "text": [
            "/tmp/ipython-input-1339109259.py:13: DeprecationWarning: __array_wrap__ must accept context and return_scalar arguments (positionally) in the future. (Deprecated NumPy 2.0)\n",
            "  normalized_embeddings = embedding_weights.cpu() / np.sqrt(\n"
          ]
        }
      ],
      "source": [
        "validate_embeddings(model, valid_ids, itos)"
      ]
    },
    {
      "cell_type": "code",
      "execution_count": 99,
      "id": "66075f5e",
      "metadata": {
        "id": "66075f5e"
      },
      "outputs": [],
      "source": []
    },
    {
      "cell_type": "markdown",
      "id": "86476e2a",
      "metadata": {
        "id": "86476e2a"
      },
      "source": [
        "### Train the model"
      ]
    },
    {
      "cell_type": "code",
      "execution_count": 100,
      "id": "24950481",
      "metadata": {
        "id": "24950481"
      },
      "outputs": [],
      "source": [
        "ratios = []\n",
        "\n",
        "def train(dataloader, model, optimizer, epoch):\n",
        "    model.train()\n",
        "    total_acc, total_count, total_loss, total_batches = 0, 0, 0.0, 0.0\n",
        "    log_interval = 500\n",
        "\n",
        "    for idx, x_batch in tqdm(enumerate(dataloader)):\n",
        "\n",
        "        x_batch = x_batch[0]\n",
        "\n",
        "        batch_size = x_batch.shape[0]\n",
        "\n",
        "        # Zero the gradient so they don't accumulate\n",
        "        optimizer.zero_grad()\n",
        "\n",
        "        logits = model(x_batch)\n",
        "\n",
        "        # Get the positive samples loss. Notice we use weights here\n",
        "        positive_loss = torch.nn.functional.softplus(-logits).squeeze(1)\n",
        "\n",
        "        # For each batch, get some negative samples\n",
        "        # We need a total of len(y_batch) * K samples across a batch\n",
        "        # We then reshape this batch\n",
        "        # These are effectively the output words\n",
        "        negative_samples = torch.multinomial(p.to(DEVICE), batch_size * K, replacement=True)  # (N*K,)\n",
        "\n",
        "        # Context words are 2m things, m = 1 so w_context is (N, 2) while wc is (N, 1)\n",
        "        w_context, wc = x_batch[:, :2], x_batch[:, 2:]\n",
        "\n",
        "        \"\"\"\n",
        "        if w_context looks like below (batch_size = 3)\n",
        "        [\n",
        "        (a, b),\n",
        "        (c, d),\n",
        "        (e, f)\n",
        "        ] and K = 2 we'd like to get:\n",
        "\n",
        "        [\n",
        "        (a, b),\n",
        "        (a, b),\n",
        "        (c, d),\n",
        "        (c, d),\n",
        "        (e, f),\n",
        "        (e, f)\n",
        "        ]\n",
        "\n",
        "        This will be batch_size * K rows.\n",
        "        \"\"\"\n",
        "\n",
        "        # This should be (N * K, 2)\n",
        "        w_context = torch.concat([\n",
        "            w.repeat(K, 1) for w in torch.tensor(w_context).split(1)\n",
        "        ])\n",
        "\n",
        "        # Remove the last dimension 1\n",
        "        wc = wc.squeeze(1)\n",
        "\n",
        "        # Get the negative samples. This should be (N * K, 3)\n",
        "        # Concatenate the w_context and wc along the column. Make sure everything is on CUDA / MPS or CPU\n",
        "        x_batch_negative = torch.cat([w_context, negative_samples.view(-1, 1)], dim=1)\n",
        "\n",
        "        \"\"\"\n",
        "        Note the way we formulated the targets: they are all 0 since these are negative samples.\n",
        "        We do the BCEWithLogitsLoss by hand basically here.\n",
        "        Notice we sum across the negative samples, per positive word.\n",
        "\n",
        "        This is literally the equation in the lecture notes.\n",
        "        \"\"\"\n",
        "\n",
        "        # (N, K, D) -> (N, D) -> (N)\n",
        "        # Look at the Skip-Gram notebook\n",
        "        logits_neg = model(x_batch_negative).view(batch_size, K)\n",
        "        negative_loss = torch.nn.functional.softplus(logits_neg).sum(dim=1)\n",
        "\n",
        "        loss = (positive_loss + negative_loss).mean()\n",
        "\n",
        "        # Get the gradients via back propagation\n",
        "        loss.backward()\n",
        "\n",
        "        # Clip the gradients? Generally a good idea\n",
        "        torch.nn.utils.clip_grad_norm_(model.parameters(), 0.1)\n",
        "\n",
        "\n",
        "        # Do an optimization step. Update the parameters A and B\n",
        "        optimizer.step()\n",
        "\n",
        "        # Get the new loss\n",
        "        total_loss += loss.item()\n",
        "\n",
        "        # Update the batch count\n",
        "        total_batches += 1\n",
        "\n",
        "        if idx % log_interval == 0:\n",
        "            print(\n",
        "                \"| epoch {:3d} | {:5d}/{:5d} batches \"\n",
        "                \"| loss {:8.3f} \".format(\n",
        "                    epoch,\n",
        "                    idx,\n",
        "                    len(dataloader),\n",
        "                    total_loss / total_batches\n",
        "                )\n",
        "            )\n",
        "            validate_embeddings(model, valid_ids, itos)\n",
        "            total_loss, total_batches = 0.0, 0.0"
      ]
    },
    {
      "cell_type": "markdown",
      "id": "0764d675",
      "metadata": {
        "id": "0764d675"
      },
      "source": [
        "### Some results from the run look like below:\n",
        "\n",
        "Somewhere inside of 2 iterations you should get sensible associattions.\n",
        "Paste here a screenshot of the closest vectors."
      ]
    },
    {
      "cell_type": "code",
      "execution_count": 101,
      "id": "a9e02c09",
      "metadata": {
        "id": "a9e02c09",
        "colab": {
          "base_uri": "https://localhost:8080/"
        },
        "outputId": "679166cb-81b8-4ed5-d371-79d47011f48a"
      },
      "outputs": [
        {
          "output_type": "stream",
          "name": "stderr",
          "text": [
            "\r0it [00:00, ?it/s]/tmp/ipython-input-978102027.py:53: UserWarning: To copy construct from a tensor, it is recommended to use sourceTensor.detach().clone() or sourceTensor.detach().clone().requires_grad_(True), rather than torch.tensor(sourceTensor).\n",
            "  w.repeat(K, 1) for w in torch.tensor(w_context).split(1)\n",
            "/tmp/ipython-input-1339109259.py:13: DeprecationWarning: __array_wrap__ must accept context and return_scalar arguments (positionally) in the future. (Deprecated NumPy 2.0)\n",
            "  normalized_embeddings = embedding_weights.cpu() / np.sqrt(\n",
            "1it [00:02,  2.88s/it]"
          ]
        },
        {
          "output_type": "stream",
          "name": "stdout",
          "text": [
            "| epoch   1 |     0/32580 batches | loss    3.467 \n",
            "money: inductor, bream, langer, acknowledgment, luo, promotion, podcasting, coelom, mishearing, macrostate\n",
            "lion: disconnection, retrieving, ivf, modest, zalman, trust, reissued, triangular, ortelius, acquired\n",
            "africa: arches, direct, wonderful, stem, wordplay, netted, lysis, downgraded, eradication, unaffected\n",
            "musician: dunbar, businesses, exalts, struct, koalas, tulare, unsaturated, zeitschrift, azariah, hour\n",
            "dance: chandigarh, mep, cfm, shellfish, ssa, brie, caymanian, cholinesterase, preponderance, ingesting\n",
            "\n",
            "\n"
          ]
        },
        {
          "output_type": "stream",
          "name": "stderr",
          "text": [
            "494it [00:09, 74.24it/s]"
          ]
        },
        {
          "output_type": "stream",
          "name": "stdout",
          "text": [
            "| epoch   1 |   500/32580 batches | loss    3.098 \n",
            "money: as, more, have, new, most, was, are, but, by, be\n",
            "lion: disconnection, retrieving, ivf, modest, trust, zalman, reissued, triangular, object, ortelius\n",
            "africa: these, still, it, former, direct, various, king, also, wonderful, stem\n",
            "musician: businesses, tulare, hour, koalas, dunbar, relator, follow, zeitschrift, struct, matheson\n",
            "dance: although, chandigarh, constitution, shellfish, cfm, mep, there, are, also, ascii\n",
            "\n",
            "\n"
          ]
        },
        {
          "output_type": "stream",
          "name": "stderr",
          "text": [
            "995it [00:16, 73.49it/s]"
          ]
        },
        {
          "output_type": "stream",
          "name": "stdout",
          "text": [
            "| epoch   1 |  1000/32580 batches | loss    2.563 \n",
            "money: more, use, then, have, most, only, made, but, english, government\n",
            "lion: disconnection, object, retrieving, makes, modest, ivf, acquired, allows, trust, lebanon\n",
            "africa: these, many, it, all, time, this, its, him, other, which\n",
            "musician: zero, s, seven, two, d, six, or, four, nine, five\n",
            "dance: also, there, x, they, only, are, made, time, was, used\n",
            "\n",
            "\n"
          ]
        },
        {
          "output_type": "stream",
          "name": "stderr",
          "text": [
            "1499it [00:24, 69.81it/s]"
          ]
        },
        {
          "output_type": "stream",
          "name": "stdout",
          "text": [
            "| epoch   1 |  1500/32580 batches | loss    2.345 \n",
            "money: use, then, government, modern, both, made, him, up, state, president\n",
            "lion: makes, object, across, allows, story, following, before, area, scientific, upon\n",
            "africa: these, king, law, him, state, all, many, church, time, her\n",
            "musician: or, d, by, zero, seven, time, four, two, six, five\n",
            "dance: there, also, used, only, they, you, these, she, time, which\n",
            "\n",
            "\n"
          ]
        },
        {
          "output_type": "stream",
          "name": "stderr",
          "text": [
            "1997it [00:31, 73.75it/s]"
          ]
        },
        {
          "output_type": "stream",
          "name": "stdout",
          "text": [
            "| epoch   1 |  2000/32580 batches | loss    2.215 \n",
            "money: book, president, government, both, life, power, form, modern, then, made\n",
            "lion: makes, object, allows, across, scientific, cause, story, upon, empire, area\n",
            "africa: king, church, city, both, law, north, set, god, time, state\n",
            "musician: time, president, all, other, end, british, over, point, systems, another\n",
            "dance: used, only, there, you, then, time, made, also, she, they\n",
            "\n",
            "\n"
          ]
        },
        {
          "output_type": "stream",
          "name": "stderr",
          "text": [
            "2500it [00:38, 70.43it/s]"
          ]
        },
        {
          "output_type": "stream",
          "name": "stdout",
          "text": [
            "| epoch   1 |  2500/32580 batches | loss    2.127 \n",
            "money: made, god, president, power, support, then, series, book, how, both\n",
            "lion: object, makes, allows, across, scientific, cause, story, upon, title, empire\n",
            "africa: church, law, king, north, city, state, both, god, various, house\n",
            "musician: time, all, other, president, british, over, first, state, people, game\n",
            "dance: used, only, time, these, there, all, number, then, them, about\n",
            "\n",
            "\n"
          ]
        },
        {
          "output_type": "stream",
          "name": "stderr",
          "text": [
            "3001it [00:46, 45.28it/s]"
          ]
        },
        {
          "output_type": "stream",
          "name": "stdout",
          "text": [
            "| epoch   1 |  3000/32580 batches | loss    2.060 \n",
            "money: god, support, president, made, man, line, series, power, given, way\n",
            "lion: object, makes, allows, cause, story, scientific, increase, empire, belief, here\n",
            "africa: law, north, church, king, city, various, former, west, god, house\n",
            "musician: time, president, film, state, british, all, history, point, number, end\n",
            "dance: used, number, only, time, them, then, him, these, all, system\n",
            "\n",
            "\n"
          ]
        },
        {
          "output_type": "stream",
          "name": "stderr",
          "text": [
            "3501it [00:53, 48.58it/s]"
          ]
        },
        {
          "output_type": "stream",
          "name": "stdout",
          "text": [
            "| epoch   1 |  3500/32580 batches | loss    2.004 \n",
            "money: god, view, man, created, given, support, case, result, means, play\n",
            "lion: object, makes, allows, cause, story, title, belief, scientific, adopted, question\n",
            "africa: church, west, various, law, city, north, england, america, former, house\n",
            "musician: film, president, actor, end, group, government, time, point, systems, game\n",
            "dance: president, island, series, god, group, number, part, list, place, them\n",
            "\n",
            "\n"
          ]
        },
        {
          "output_type": "stream",
          "name": "stderr",
          "text": [
            "4001it [01:00, 46.44it/s]"
          ]
        },
        {
          "output_type": "stream",
          "name": "stdout",
          "text": [
            "| epoch   1 |  4000/32580 batches | loss    1.954 \n",
            "money: view, god, created, support, result, said, given, play, case, means\n",
            "lion: object, makes, allows, belief, question, cause, across, increase, adopted, call\n",
            "africa: america, west, various, church, north, house, battle, former, god, city\n",
            "musician: film, actor, president, group, end, house, government, country, power, family\n",
            "dance: island, group, president, god, battle, works, place, series, country, theory\n",
            "\n",
            "\n"
          ]
        },
        {
          "output_type": "stream",
          "name": "stderr",
          "text": [
            "4501it [01:07, 49.06it/s]"
          ]
        },
        {
          "output_type": "stream",
          "name": "stdout",
          "text": [
            "| epoch   1 |  4500/32580 batches | loss    1.915 \n",
            "money: god, view, support, created, study, result, said, means, play, given\n",
            "lion: object, allows, makes, increase, question, call, belief, supported, cause, sent\n",
            "africa: america, west, various, church, england, battle, north, house, god, germany\n",
            "musician: actor, film, president, house, island, family, group, church, singer, country\n",
            "dance: battle, island, works, god, china, group, place, line, country, earth\n",
            "\n",
            "\n"
          ]
        },
        {
          "output_type": "stream",
          "name": "stderr",
          "text": [
            "4996it [01:14, 73.33it/s]"
          ]
        },
        {
          "output_type": "stream",
          "name": "stdout",
          "text": [
            "| epoch   1 |  5000/32580 batches | loss    1.875 \n",
            "money: god, play, support, created, result, view, said, study, held, given\n",
            "lion: object, allows, makes, increase, call, question, belief, supported, definition, song\n",
            "africa: america, west, various, battle, church, house, north, england, germany, east\n",
            "musician: actor, film, singer, house, author, president, island, son, family, church\n",
            "dance: battle, island, works, god, china, line, place, group, earth, area\n",
            "\n",
            "\n"
          ]
        },
        {
          "output_type": "stream",
          "name": "stderr",
          "text": [
            "5496it [01:21, 69.57it/s]"
          ]
        },
        {
          "output_type": "stream",
          "name": "stdout",
          "text": [
            "| epoch   1 |  5500/32580 batches | loss    1.847 \n",
            "money: support, view, god, play, said, created, given, required, light, result\n",
            "lion: object, allows, increase, makes, question, belief, call, adopted, definition, formation\n",
            "africa: america, west, battle, various, germany, england, house, former, sea, development\n",
            "musician: actor, singer, film, author, house, island, son, society, family, earth\n",
            "dance: battle, island, works, china, god, group, earth, line, period, place\n",
            "\n",
            "\n"
          ]
        },
        {
          "output_type": "stream",
          "name": "stderr",
          "text": [
            "6001it [01:29, 48.87it/s]"
          ]
        },
        {
          "output_type": "stream",
          "name": "stdout",
          "text": [
            "| epoch   1 |  6000/32580 batches | loss    1.816 \n",
            "money: support, view, required, practice, created, god, study, idea, given, result\n",
            "lion: object, allows, question, increase, belief, formation, makes, call, featured, changed\n",
            "africa: america, west, germany, battle, former, various, england, east, sea, house\n",
            "musician: actor, singer, author, film, island, actress, society, islands, battle, house\n",
            "dance: battle, island, china, works, group, earth, line, god, study, country\n",
            "\n",
            "\n"
          ]
        },
        {
          "output_type": "stream",
          "name": "stderr",
          "text": [
            "6496it [01:35, 74.06it/s]"
          ]
        },
        {
          "output_type": "stream",
          "name": "stdout",
          "text": [
            "| epoch   1 |  6500/32580 batches | loss    1.788 \n",
            "money: support, required, view, practice, play, given, created, god, able, allowed\n",
            "lion: object, question, allows, contract, formation, belief, featured, call, reputation, increase\n",
            "africa: america, west, germany, former, india, east, asia, western, various, battle\n",
            "musician: actor, singer, author, actress, writer, society, film, islands, house, battle\n",
            "dance: battle, china, island, earth, study, works, god, group, record, period\n",
            "\n",
            "\n"
          ]
        },
        {
          "output_type": "stream",
          "name": "stderr",
          "text": [
            "6999it [01:43, 64.07it/s]"
          ]
        },
        {
          "output_type": "stream",
          "name": "stdout",
          "text": [
            "| epoch   1 |  7000/32580 batches | loss    1.768 \n"
          ]
        },
        {
          "output_type": "stream",
          "name": "stderr",
          "text": [
            "\r7006it [01:43, 37.39it/s]"
          ]
        },
        {
          "output_type": "stream",
          "name": "stdout",
          "text": [
            "money: required, play, support, practice, created, view, given, founded, said, introduced\n",
            "lion: object, contract, question, reputation, formation, belief, allows, featured, teaching, kind\n",
            "africa: america, west, east, germany, asia, african, north, india, eastern, sea\n",
            "musician: actor, singer, author, actress, writer, society, film, association, islands, leader\n",
            "dance: battle, china, island, study, works, earth, group, period, majority, record\n",
            "\n",
            "\n"
          ]
        },
        {
          "output_type": "stream",
          "name": "stderr",
          "text": [
            "7497it [01:50, 71.51it/s]"
          ]
        },
        {
          "output_type": "stream",
          "name": "stdout",
          "text": [
            "| epoch   1 |  7500/32580 batches | loss    1.748 \n",
            "money: view, play, support, god, practice, required, given, created, held, nature\n",
            "lion: contract, reputation, object, question, formation, path, efforts, increase, models, kind\n",
            "africa: america, west, east, asia, african, germany, eastern, former, india, north\n",
            "musician: actor, singer, author, actress, writer, society, association, film, leader, islands\n",
            "dance: battle, china, island, study, majority, earth, record, terms, period, support\n",
            "\n",
            "\n"
          ]
        },
        {
          "output_type": "stream",
          "name": "stderr",
          "text": [
            "8000it [01:57, 71.75it/s]"
          ]
        },
        {
          "output_type": "stream",
          "name": "stdout",
          "text": [
            "| epoch   1 |  8000/32580 batches | loss    1.726 \n",
            "money: view, support, play, god, practice, result, created, required, given, act\n",
            "lion: reputation, contract, object, formation, path, efforts, target, wealth, kind, belief\n",
            "africa: america, west, asia, african, east, eastern, former, germany, india, north\n",
            "musician: actor, singer, author, actress, writer, association, society, film, islands, leader\n",
            "dance: majority, record, battle, china, study, earth, island, collection, region, society\n",
            "\n",
            "\n"
          ]
        },
        {
          "output_type": "stream",
          "name": "stderr",
          "text": [
            "8496it [02:05, 70.95it/s]"
          ]
        },
        {
          "output_type": "stream",
          "name": "stdout",
          "text": [
            "| epoch   1 |  8500/32580 batches | loss    1.705 \n",
            "money: view, play, required, practice, support, able, created, produced, god, built\n",
            "lion: object, reputation, formation, belief, contract, path, kind, target, impact, efforts\n",
            "africa: america, african, asia, west, eastern, east, coast, former, india, australia\n",
            "musician: actor, singer, author, actress, writer, association, native, film, composer, leader\n",
            "dance: record, majority, battle, study, china, collection, earth, region, title, lack\n",
            "\n",
            "\n"
          ]
        },
        {
          "output_type": "stream",
          "name": "stderr",
          "text": [
            "8997it [02:12, 73.13it/s]"
          ]
        },
        {
          "output_type": "stream",
          "name": "stdout",
          "text": [
            "| epoch   1 |  9000/32580 batches | loss    1.693 \n",
            "money: view, play, required, able, practice, support, produced, introduced, built, created\n",
            "lion: object, reputation, contract, belief, formation, impact, teaching, possibility, path, kind\n",
            "africa: america, asia, african, korea, coast, australia, west, east, bank, india\n",
            "musician: actor, singer, author, actress, writer, association, native, composer, politician, leader\n",
            "dance: battle, china, majority, record, study, earth, collection, society, religion, island\n",
            "\n",
            "\n"
          ]
        },
        {
          "output_type": "stream",
          "name": "stderr",
          "text": [
            "9496it [02:19, 68.57it/s]"
          ]
        },
        {
          "output_type": "stream",
          "name": "stdout",
          "text": [
            "| epoch   1 |  9500/32580 batches | loss    1.676 \n",
            "money: view, required, able, practice, play, introduced, produced, formed, built, position\n",
            "lion: reputation, object, belief, formation, teaching, contract, impact, path, efforts, wealth\n",
            "africa: america, korea, asia, african, coast, east, bank, australia, india, west\n",
            "musician: actor, singer, author, actress, writer, association, politician, composer, native, leader\n",
            "dance: battle, china, majority, study, record, island, collection, religion, title, literature\n",
            "\n",
            "\n"
          ]
        },
        {
          "output_type": "stream",
          "name": "stderr",
          "text": [
            "9999it [02:26, 70.92it/s]"
          ]
        },
        {
          "output_type": "stream",
          "name": "stdout",
          "text": [
            "| epoch   1 | 10000/32580 batches | loss    1.660 \n",
            "money: view, required, practice, able, introduced, play, idea, formed, founded, interest\n",
            "lion: reputation, teaching, belief, kind, contract, path, impact, possibility, object, formation\n",
            "africa: america, korea, asia, coast, african, west, bank, australia, india, east\n",
            "musician: singer, actor, author, actress, writer, association, native, politician, composer, poet\n",
            "dance: majority, china, battle, record, study, religion, collection, title, island, literature\n",
            "\n",
            "\n"
          ]
        },
        {
          "output_type": "stream",
          "name": "stderr",
          "text": [
            "10494it [02:33, 73.14it/s]"
          ]
        },
        {
          "output_type": "stream",
          "name": "stdout",
          "text": [
            "| epoch   1 | 10500/32580 batches | loss    1.644 \n",
            "money: view, practice, required, able, play, idea, introduced, result, position, formed\n",
            "lion: teaching, reputation, contract, kind, efforts, wealth, object, belief, possibility, formation\n",
            "africa: america, korea, asia, coast, african, australia, west, bank, india, east\n",
            "musician: singer, actor, author, actress, writer, politician, composer, association, native, poet\n",
            "dance: record, majority, battle, collection, study, title, religion, china, literature, island\n",
            "\n",
            "\n"
          ]
        },
        {
          "output_type": "stream",
          "name": "stderr",
          "text": [
            "11001it [02:41, 43.19it/s]"
          ]
        },
        {
          "output_type": "stream",
          "name": "stdout",
          "text": [
            "| epoch   1 | 11000/32580 batches | loss    1.626 \n",
            "money: view, practice, able, required, result, position, introduced, formed, idea, question\n",
            "lion: reputation, contract, teaching, wealth, possibility, efforts, path, kind, formation, object\n",
            "africa: america, korea, asia, coast, african, west, australia, india, bank, east\n",
            "musician: singer, actor, author, actress, writer, politician, composer, association, poet, native\n",
            "dance: collection, majority, record, title, religion, battle, study, literature, library, economy\n",
            "\n",
            "\n"
          ]
        },
        {
          "output_type": "stream",
          "name": "stderr",
          "text": [
            "11501it [02:48, 48.18it/s]"
          ]
        },
        {
          "output_type": "stream",
          "name": "stdout",
          "text": [
            "| epoch   1 | 11500/32580 batches | loss    1.618 \n",
            "money: view, practice, able, required, introduced, formed, question, idea, result, position\n",
            "lion: reputation, contract, wealth, possibility, efforts, teaching, formation, path, kind, temple\n",
            "africa: america, korea, asia, coast, african, west, australia, india, bank, east\n",
            "musician: singer, author, actress, actor, writer, politician, poet, composer, association, native\n",
            "dance: collection, majority, record, religion, title, study, literature, library, battle, china\n",
            "\n",
            "\n"
          ]
        },
        {
          "output_type": "stream",
          "name": "stderr",
          "text": [
            "11995it [02:55, 73.32it/s]"
          ]
        },
        {
          "output_type": "stream",
          "name": "stdout",
          "text": [
            "| epoch   1 | 12000/32580 batches | loss    1.606 \n",
            "money: view, able, required, practice, result, idea, introduced, question, nature, play\n",
            "lion: reputation, wealth, contract, possibility, efforts, path, teaching, notion, formation, doctrine\n",
            "africa: america, korea, asia, coast, african, west, australia, india, bank, east\n",
            "musician: singer, author, actress, actor, writer, politician, poet, composer, association, native\n",
            "dance: collection, title, religion, majority, record, literature, library, museum, study, china\n",
            "\n",
            "\n"
          ]
        },
        {
          "output_type": "stream",
          "name": "stderr",
          "text": [
            "12494it [03:02, 70.33it/s]"
          ]
        },
        {
          "output_type": "stream",
          "name": "stdout",
          "text": [
            "| epoch   1 | 12500/32580 batches | loss    1.598 \n",
            "money: view, able, required, idea, practice, result, formed, question, introduced, nature\n",
            "lion: reputation, possibility, wealth, contract, efforts, path, teaching, notion, doctrine, principle\n",
            "africa: america, korea, asia, coast, west, african, australia, india, east, bank\n",
            "musician: author, singer, actress, actor, politician, poet, writer, composer, association, native\n",
            "dance: collection, majority, religion, literature, record, library, marriage, tradition, title, practice\n",
            "\n",
            "\n"
          ]
        },
        {
          "output_type": "stream",
          "name": "stderr",
          "text": [
            "13000it [03:10, 73.96it/s]"
          ]
        },
        {
          "output_type": "stream",
          "name": "stdout",
          "text": [
            "| epoch   1 | 13000/32580 batches | loss    1.584 \n",
            "money: view, required, idea, practice, able, question, formed, nature, position, result\n",
            "lion: reputation, wealth, possibility, contract, notion, doctrine, teaching, efforts, formation, principle\n",
            "africa: america, korea, asia, coast, west, australia, india, african, bank, carolina\n",
            "musician: singer, author, actress, actor, politician, poet, composer, writer, association, actors\n",
            "dance: collection, literature, majority, religion, record, library, title, style, tradition, creation\n",
            "\n",
            "\n"
          ]
        },
        {
          "output_type": "stream",
          "name": "stderr",
          "text": [
            "13496it [03:17, 71.67it/s]"
          ]
        },
        {
          "output_type": "stream",
          "name": "stdout",
          "text": [
            "| epoch   1 | 13500/32580 batches | loss    1.572 \n",
            "money: required, able, idea, view, practice, intended, question, position, nature, formed\n",
            "lion: reputation, wealth, possibility, notion, contract, doctrine, teaching, formation, copy, principle\n",
            "africa: america, korea, asia, coast, west, india, carolina, australia, bank, african\n",
            "musician: author, actress, singer, actor, politician, writer, poet, composer, association, actors\n",
            "dance: collection, literature, religion, majority, library, tradition, town, style, title, record\n",
            "\n",
            "\n"
          ]
        },
        {
          "output_type": "stream",
          "name": "stderr",
          "text": [
            "14000it [03:24, 68.40it/s]"
          ]
        },
        {
          "output_type": "stream",
          "name": "stdout",
          "text": [
            "| epoch   1 | 14000/32580 batches | loss    1.564 \n",
            "money: idea, able, view, required, position, intended, practice, question, play, nature\n",
            "lion: reputation, possibility, wealth, contract, notion, doctrine, formation, teaching, eyes, enemies\n",
            "africa: america, korea, asia, coast, west, carolina, australia, india, bank, african\n",
            "musician: author, actress, singer, actor, politician, writer, poet, composer, actors, association\n",
            "dance: literature, religion, collection, library, majority, tradition, museum, title, china, style\n",
            "\n",
            "\n"
          ]
        },
        {
          "output_type": "stream",
          "name": "stderr",
          "text": [
            "14498it [03:31, 74.07it/s]"
          ]
        },
        {
          "output_type": "stream",
          "name": "stdout",
          "text": [
            "| epoch   1 | 14500/32580 batches | loss    1.553 \n",
            "money: idea, able, required, question, view, intended, position, practice, play, formed\n",
            "lion: reputation, possibility, wealth, doctrine, contract, notion, teaching, eyes, genre, formation\n",
            "africa: korea, america, asia, coast, carolina, west, australia, india, bank, african\n",
            "musician: singer, actress, author, actor, politician, composer, writer, poet, philosopher, actors\n",
            "dance: literature, religion, tradition, library, collection, majority, style, philosophy, museum, china\n",
            "\n",
            "\n"
          ]
        },
        {
          "output_type": "stream",
          "name": "stderr",
          "text": [
            "15001it [03:39, 46.63it/s]"
          ]
        },
        {
          "output_type": "stream",
          "name": "stdout",
          "text": [
            "| epoch   1 | 15000/32580 batches | loss    1.541 \n",
            "money: able, required, idea, question, view, position, intended, practice, formed, play\n",
            "lion: reputation, possibility, doctrine, contract, eyes, wealth, genre, notion, formation, copy\n",
            "africa: korea, america, asia, coast, carolina, australia, west, india, bank, african\n",
            "musician: singer, actress, author, actor, politician, composer, poet, writer, philosopher, actors\n",
            "dance: literature, religion, style, philosophy, china, museum, tradition, collection, majority, studies\n",
            "\n",
            "\n"
          ]
        },
        {
          "output_type": "stream",
          "name": "stderr",
          "text": [
            "15501it [03:46, 46.95it/s]"
          ]
        },
        {
          "output_type": "stream",
          "name": "stdout",
          "text": [
            "| epoch   1 | 15500/32580 batches | loss    1.539 \n",
            "money: required, idea, question, able, intended, practice, position, view, formed, designed\n",
            "lion: reputation, possibility, doctrine, contract, eyes, formation, wealth, notion, genre, copy\n",
            "africa: korea, america, asia, coast, carolina, australia, india, west, bank, wales\n",
            "musician: actress, author, singer, politician, actor, composer, poet, writer, philosopher, mathematician\n",
            "dance: literature, religion, philosophy, style, origin, museum, creation, collection, studies, majority\n",
            "\n",
            "\n"
          ]
        },
        {
          "output_type": "stream",
          "name": "stderr",
          "text": [
            "15995it [03:53, 73.39it/s]"
          ]
        },
        {
          "output_type": "stream",
          "name": "stdout",
          "text": [
            "| epoch   1 | 16000/32580 batches | loss    1.535 \n",
            "money: idea, required, question, able, intended, position, practice, view, formed, problem\n",
            "lion: reputation, contract, possibility, doctrine, eyes, formation, wealth, copy, notion, genre\n",
            "africa: korea, america, asia, coast, carolina, australia, india, west, bank, african\n",
            "musician: actress, author, singer, politician, actor, composer, poet, writer, philosopher, mathematician\n",
            "dance: literature, religion, philosophy, studies, style, museum, library, centre, creation, collection\n",
            "\n",
            "\n"
          ]
        },
        {
          "output_type": "stream",
          "name": "stderr",
          "text": [
            "16501it [04:00, 43.80it/s]"
          ]
        },
        {
          "output_type": "stream",
          "name": "stdout",
          "text": [
            "| epoch   1 | 16500/32580 batches | loss    1.519 \n",
            "money: question, idea, required, able, intended, practice, position, view, problem, lack\n",
            "lion: reputation, contract, possibility, doctrine, eyes, wealth, notion, genre, copy, formation\n",
            "africa: korea, america, asia, carolina, coast, australia, india, bank, west, pacific\n",
            "musician: actress, author, singer, politician, actor, composer, poet, writer, philosopher, mathematician\n",
            "dance: literature, religion, style, studies, library, philosophy, museum, collection, centre, association\n",
            "\n",
            "\n"
          ]
        },
        {
          "output_type": "stream",
          "name": "stderr",
          "text": [
            "16999it [04:08, 72.12it/s]"
          ]
        },
        {
          "output_type": "stream",
          "name": "stdout",
          "text": [
            "| epoch   1 | 17000/32580 batches | loss    1.515 \n",
            "money: idea, question, required, able, intended, view, practice, position, problem, lack\n",
            "lion: reputation, contract, possibility, doctrine, eyes, wealth, notion, copy, genre, soul\n",
            "africa: korea, america, asia, coast, carolina, australia, india, bank, west, wales\n",
            "musician: actress, author, singer, politician, actor, composer, poet, writer, philosopher, mathematician\n",
            "dance: literature, library, style, religion, philosophy, studies, museum, capital, centre, association\n",
            "\n",
            "\n"
          ]
        },
        {
          "output_type": "stream",
          "name": "stderr",
          "text": [
            "17494it [04:15, 72.73it/s]"
          ]
        },
        {
          "output_type": "stream",
          "name": "stdout",
          "text": [
            "| epoch   1 | 17500/32580 batches | loss    1.506 \n",
            "money: question, idea, required, intended, view, able, practice, position, lack, problem\n",
            "lion: reputation, contract, possibility, eyes, doctrine, wealth, notion, copy, declaration, soul\n",
            "africa: korea, america, asia, carolina, coast, australia, india, wales, bank, china\n",
            "musician: actress, author, singer, politician, actor, composer, poet, writer, philosopher, mathematician\n",
            "dance: literature, library, style, philosophy, studies, religion, capital, art, association, jazz\n",
            "\n",
            "\n"
          ]
        },
        {
          "output_type": "stream",
          "name": "stderr",
          "text": [
            "17999it [04:22, 67.65it/s]"
          ]
        },
        {
          "output_type": "stream",
          "name": "stdout",
          "text": [
            "| epoch   1 | 18000/32580 batches | loss    1.497 \n",
            "money: question, idea, able, required, intended, practice, view, position, necessary, lack\n",
            "lion: reputation, contract, possibility, doctrine, eyes, wealth, declaration, soul, notion, copy\n",
            "africa: korea, america, asia, carolina, coast, australia, india, bank, wales, china\n",
            "musician: actress, author, singer, politician, actor, composer, poet, writer, philosopher, mathematician\n",
            "dance: literature, library, style, philosophy, religion, studies, art, pop, jazz, capital\n",
            "\n",
            "\n"
          ]
        },
        {
          "output_type": "stream",
          "name": "stderr",
          "text": [
            "18501it [04:30, 47.89it/s]"
          ]
        },
        {
          "output_type": "stream",
          "name": "stdout",
          "text": [
            "| epoch   1 | 18500/32580 batches | loss    1.487 \n",
            "money: question, idea, able, required, intended, view, practice, necessary, problem, position\n",
            "lion: reputation, contract, possibility, soul, eyes, wealth, doctrine, declaration, notion, genre\n",
            "africa: korea, america, asia, carolina, coast, australia, india, wales, china, bank\n",
            "musician: actress, author, singer, politician, composer, actor, poet, writer, philosopher, mathematician\n",
            "dance: literature, studies, style, library, philosophy, jazz, pop, art, religion, contemporary\n",
            "\n",
            "\n"
          ]
        },
        {
          "output_type": "stream",
          "name": "stderr",
          "text": [
            "18995it [04:37, 73.14it/s]"
          ]
        },
        {
          "output_type": "stream",
          "name": "stdout",
          "text": [
            "| epoch   1 | 19000/32580 batches | loss    1.487 \n",
            "money: question, idea, intended, able, required, view, practice, necessary, humans, lack\n",
            "lion: reputation, contract, possibility, wealth, soul, notion, declaration, genre, doctrine, eyes\n",
            "africa: korea, america, carolina, asia, coast, australia, india, wales, china, bank\n",
            "musician: actress, singer, author, politician, actor, composer, poet, writer, mathematician, philosopher\n",
            "dance: literature, studies, jazz, pop, library, art, style, philosophy, folk, religion\n",
            "\n",
            "\n"
          ]
        },
        {
          "output_type": "stream",
          "name": "stderr",
          "text": [
            "19498it [04:44, 71.57it/s]"
          ]
        },
        {
          "output_type": "stream",
          "name": "stdout",
          "text": [
            "| epoch   1 | 19500/32580 batches | loss    1.473 \n",
            "money: question, idea, able, practice, required, intended, view, lack, humans, necessary\n",
            "lion: contract, reputation, possibility, wealth, notion, eyes, soul, doctrine, declaration, copy\n",
            "africa: korea, america, carolina, asia, coast, australia, india, china, wales, bank\n",
            "musician: actress, author, singer, politician, composer, poet, actor, writer, mathematician, philosopher\n",
            "dance: literature, jazz, library, studies, style, pop, philosophy, art, folk, religion\n",
            "\n",
            "\n"
          ]
        },
        {
          "output_type": "stream",
          "name": "stderr",
          "text": [
            "19996it [04:51, 73.10it/s]"
          ]
        },
        {
          "output_type": "stream",
          "name": "stdout",
          "text": [
            "| epoch   1 | 20000/32580 batches | loss    1.468 \n",
            "money: question, idea, able, required, intended, practice, humans, necessary, view, lack\n",
            "lion: reputation, contract, possibility, notion, eyes, soul, wealth, doctrine, maintaining, presidency\n",
            "africa: korea, america, carolina, asia, coast, australia, india, wales, china, bank\n",
            "musician: actress, author, singer, politician, actor, composer, poet, writer, philosopher, mathematician\n",
            "dance: literature, jazz, studies, style, pop, library, philosophy, folk, religion, art\n",
            "\n",
            "\n"
          ]
        },
        {
          "output_type": "stream",
          "name": "stderr",
          "text": [
            "20498it [04:58, 71.86it/s]"
          ]
        },
        {
          "output_type": "stream",
          "name": "stdout",
          "text": [
            "| epoch   1 | 20500/32580 batches | loss    1.465 \n",
            "money: question, idea, practice, able, humans, view, lack, required, necessary, intended\n",
            "lion: reputation, possibility, contract, notion, doctrine, soul, eyes, maintaining, declaration, wealth\n",
            "africa: korea, america, carolina, asia, coast, australia, india, wales, china, bank\n",
            "musician: actress, author, politician, actor, singer, composer, writer, poet, philosopher, mathematician\n",
            "dance: literature, jazz, style, studies, folk, pop, library, philosophy, art, religion\n",
            "\n",
            "\n"
          ]
        },
        {
          "output_type": "stream",
          "name": "stderr",
          "text": [
            "20996it [05:06, 68.47it/s]"
          ]
        },
        {
          "output_type": "stream",
          "name": "stdout",
          "text": [
            "| epoch   1 | 21000/32580 batches | loss    1.462 \n",
            "money: question, idea, practice, able, view, necessary, humans, lack, required, intended\n",
            "lion: possibility, reputation, contract, notion, declaration, doctrine, wealth, soul, eyes, maintaining\n",
            "africa: korea, america, carolina, asia, coast, australia, india, wales, china, bank\n",
            "musician: actress, singer, author, politician, actor, composer, poet, writer, philosopher, mathematician\n",
            "dance: literature, jazz, style, folk, art, library, pop, philosophy, studies, centre\n",
            "\n",
            "\n"
          ]
        },
        {
          "output_type": "stream",
          "name": "stderr",
          "text": [
            "21500it [05:13, 71.17it/s]"
          ]
        },
        {
          "output_type": "stream",
          "name": "stdout",
          "text": [
            "| epoch   1 | 21500/32580 batches | loss    1.453 \n",
            "money: question, idea, practice, able, humans, lack, view, necessary, position, required\n",
            "lion: possibility, reputation, notion, contract, declaration, soul, eyes, poem, doctrine, proposal\n",
            "africa: korea, america, carolina, asia, coast, australia, india, wales, china, bank\n",
            "musician: actress, singer, author, actor, politician, composer, writer, poet, philosopher, physicist\n",
            "dance: jazz, literature, folk, art, style, pop, library, philosophy, blues, contemporary\n",
            "\n",
            "\n"
          ]
        },
        {
          "output_type": "stream",
          "name": "stderr",
          "text": [
            "21996it [05:20, 72.67it/s]"
          ]
        },
        {
          "output_type": "stream",
          "name": "stdout",
          "text": [
            "| epoch   1 | 22000/32580 batches | loss    1.447 \n",
            "money: question, idea, humans, necessary, practice, lack, able, existence, intended, view\n",
            "lion: possibility, reputation, contract, soul, declaration, notion, poem, copy, eyes, presidency\n",
            "africa: korea, america, carolina, asia, coast, australia, india, wales, china, bank\n",
            "musician: actress, singer, author, actor, composer, politician, writer, poet, philosopher, mathematician\n",
            "dance: jazz, folk, literature, art, pop, style, library, blues, philosophy, contemporary\n",
            "\n",
            "\n"
          ]
        },
        {
          "output_type": "stream",
          "name": "stderr",
          "text": [
            "22496it [05:27, 71.79it/s]"
          ]
        },
        {
          "output_type": "stream",
          "name": "stdout",
          "text": [
            "| epoch   1 | 22500/32580 batches | loss    1.443 \n",
            "money: question, idea, able, humans, necessary, required, practice, intended, clear, needed\n",
            "lion: reputation, possibility, soul, declaration, contract, notion, presidency, poem, eyes, copy\n",
            "africa: korea, america, carolina, asia, australia, coast, wales, india, china, bank\n",
            "musician: actress, singer, actor, author, politician, composer, writer, poet, philosopher, physicist\n",
            "dance: jazz, folk, art, literature, pop, style, library, blues, philosophy, contemporary\n",
            "\n",
            "\n"
          ]
        },
        {
          "output_type": "stream",
          "name": "stderr",
          "text": [
            "22999it [05:38, 41.52it/s]"
          ]
        },
        {
          "output_type": "stream",
          "name": "stdout",
          "text": [
            "| epoch   1 | 23000/32580 batches | loss    1.437 \n",
            "money: question, idea, practice, humans, necessary, able, required, intended, lack, clear\n",
            "lion: reputation, possibility, presidency, soul, declaration, poem, contract, copy, proposal, throne\n",
            "africa: korea, america, carolina, asia, australia, coast, india, wales, china, bank\n",
            "musician: actress, singer, author, actor, politician, composer, poet, writer, philosopher, physicist\n",
            "dance: jazz, folk, art, pop, literature, style, library, blues, traditional, philosophy\n",
            "\n",
            "\n"
          ]
        },
        {
          "output_type": "stream",
          "name": "stderr",
          "text": [
            "23498it [05:45, 63.32it/s]"
          ]
        },
        {
          "output_type": "stream",
          "name": "stdout",
          "text": [
            "| epoch   1 | 23500/32580 batches | loss    1.429 \n",
            "money: question, idea, practice, necessary, humans, able, required, intended, unable, useful\n",
            "lion: reputation, possibility, soul, declaration, presidency, poem, copy, proposal, contract, notion\n",
            "africa: korea, america, carolina, australia, asia, coast, india, wales, china, bank\n",
            "musician: actress, singer, author, actor, composer, politician, poet, writer, philosopher, physicist\n",
            "dance: jazz, folk, art, literature, pop, library, style, blues, traditional, philosophy\n",
            "\n",
            "\n"
          ]
        },
        {
          "output_type": "stream",
          "name": "stderr",
          "text": [
            "23995it [05:53, 69.35it/s]"
          ]
        },
        {
          "output_type": "stream",
          "name": "stdout",
          "text": [
            "| epoch   1 | 24000/32580 batches | loss    1.427 \n",
            "money: question, idea, humans, necessary, practice, unable, intended, clear, able, response\n",
            "lion: possibility, reputation, declaration, poem, presidency, soul, devil, contract, proposal, isle\n",
            "africa: korea, america, carolina, australia, asia, coast, india, wales, china, bank\n",
            "musician: actress, singer, author, politician, composer, actor, poet, writer, philosopher, physicist\n",
            "dance: folk, jazz, pop, literature, art, style, blues, library, traditional, contemporary\n",
            "\n",
            "\n"
          ]
        },
        {
          "output_type": "stream",
          "name": "stderr",
          "text": [
            "24499it [06:00, 73.54it/s]"
          ]
        },
        {
          "output_type": "stream",
          "name": "stdout",
          "text": [
            "| epoch   1 | 24500/32580 batches | loss    1.420 \n",
            "money: question, humans, necessary, idea, unable, clear, response, able, practice, useful\n",
            "lion: reputation, possibility, presidency, poem, soul, proposal, isle, declaration, lifetime, notion\n",
            "africa: korea, carolina, america, australia, asia, coast, india, china, wales, bank\n",
            "musician: actress, politician, singer, actor, composer, author, poet, writer, philosopher, physicist\n",
            "dance: jazz, folk, pop, literature, art, blues, style, library, traditional, contemporary\n",
            "\n",
            "\n"
          ]
        },
        {
          "output_type": "stream",
          "name": "stderr",
          "text": [
            "24999it [06:07, 68.20it/s]"
          ]
        },
        {
          "output_type": "stream",
          "name": "stdout",
          "text": [
            "| epoch   1 | 25000/32580 batches | loss    1.416 \n"
          ]
        },
        {
          "output_type": "stream",
          "name": "stderr",
          "text": [
            "\r25006it [06:08, 37.29it/s]"
          ]
        },
        {
          "output_type": "stream",
          "name": "stdout",
          "text": [
            "money: question, humans, necessary, idea, unable, clear, response, useful, intended, expected\n",
            "lion: reputation, possibility, presidency, poem, proposal, declaration, lifetime, soul, notion, collapse\n",
            "africa: korea, carolina, america, australia, asia, coast, india, china, wales, bank\n",
            "musician: actress, politician, singer, actor, author, composer, poet, writer, philosopher, mathematician\n",
            "dance: jazz, pop, folk, literature, blues, art, library, style, philosophy, contemporary\n",
            "\n",
            "\n"
          ]
        },
        {
          "output_type": "stream",
          "name": "stderr",
          "text": [
            "25494it [06:14, 73.60it/s]"
          ]
        },
        {
          "output_type": "stream",
          "name": "stdout",
          "text": [
            "| epoch   1 | 25500/32580 batches | loss    1.413 \n",
            "money: question, humans, necessary, clear, unable, useful, intended, idea, response, expected\n",
            "lion: reputation, possibility, presidency, poem, lifetime, proposal, declaration, collapse, soul, notion\n",
            "africa: korea, carolina, america, australia, asia, coast, india, china, wales, bank\n",
            "musician: actress, politician, singer, actor, author, composer, poet, writer, philosopher, mathematician\n",
            "dance: jazz, folk, pop, literature, art, blues, library, style, traditional, electronic\n",
            "\n",
            "\n"
          ]
        },
        {
          "output_type": "stream",
          "name": "stderr",
          "text": [
            "25997it [06:22, 67.95it/s]"
          ]
        },
        {
          "output_type": "stream",
          "name": "stdout",
          "text": [
            "| epoch   1 | 26000/32580 batches | loss    1.410 \n",
            "money: question, humans, necessary, clear, able, useful, unable, idea, response, intended\n",
            "lion: reputation, presidency, possibility, poem, proposal, collapse, lifetime, declaration, throne, nickname\n",
            "africa: korea, carolina, america, australia, asia, wales, coast, india, china, bank\n",
            "musician: actress, politician, singer, composer, actor, author, poet, writer, philosopher, physicist\n",
            "dance: jazz, folk, pop, literature, art, blues, library, style, electronic, traditional\n",
            "\n",
            "\n"
          ]
        },
        {
          "output_type": "stream",
          "name": "stderr",
          "text": [
            "26499it [06:29, 71.35it/s]"
          ]
        },
        {
          "output_type": "stream",
          "name": "stdout",
          "text": [
            "| epoch   1 | 26500/32580 batches | loss    1.402 \n",
            "money: humans, question, necessary, clear, able, useful, idea, unable, intended, response\n",
            "lion: presidency, reputation, possibility, proposal, lifetime, poem, collapse, declaration, soul, nickname\n",
            "africa: korea, carolina, america, australia, asia, wales, india, coast, china, bank\n",
            "musician: actress, politician, singer, composer, author, actor, writer, poet, philosopher, physicist\n",
            "dance: jazz, pop, folk, literature, blues, art, style, library, electronic, culture\n",
            "\n",
            "\n"
          ]
        },
        {
          "output_type": "stream",
          "name": "stderr",
          "text": [
            "26995it [06:36, 73.75it/s]"
          ]
        },
        {
          "output_type": "stream",
          "name": "stdout",
          "text": [
            "| epoch   1 | 27000/32580 batches | loss    1.402 \n",
            "money: clear, humans, question, necessary, able, difficult, useful, idea, unable, perhaps\n",
            "lion: presidency, reputation, possibility, proposal, collapse, poem, nickname, lifetime, declaration, notion\n",
            "africa: korea, carolina, america, australia, asia, wales, india, coast, china, dakota\n",
            "musician: actress, politician, singer, actor, composer, author, writer, poet, philosopher, physicist\n",
            "dance: jazz, pop, folk, literature, blues, art, style, library, culture, electronic\n",
            "\n",
            "\n"
          ]
        },
        {
          "output_type": "stream",
          "name": "stderr",
          "text": [
            "27493it [06:43, 68.75it/s]"
          ]
        },
        {
          "output_type": "stream",
          "name": "stdout",
          "text": [
            "| epoch   1 | 27500/32580 batches | loss    1.396 \n"
          ]
        },
        {
          "output_type": "stream",
          "name": "stderr",
          "text": [
            "27507it [06:44, 44.20it/s]"
          ]
        },
        {
          "output_type": "stream",
          "name": "stdout",
          "text": [
            "money: humans, question, clear, necessary, idea, response, creating, brain, difficult, useful\n",
            "lion: presidency, reputation, possibility, proposal, collapse, nickname, declaration, lifetime, poem, notion\n",
            "africa: korea, carolina, america, australia, asia, india, coast, china, wales, dakota\n",
            "musician: actress, politician, singer, actor, composer, author, writer, poet, physicist, philosopher\n",
            "dance: jazz, pop, folk, literature, blues, art, style, library, culture, philosophy\n",
            "\n",
            "\n"
          ]
        },
        {
          "output_type": "stream",
          "name": "stderr",
          "text": [
            "27999it [06:51, 70.48it/s]"
          ]
        },
        {
          "output_type": "stream",
          "name": "stdout",
          "text": [
            "| epoch   1 | 28000/32580 batches | loss    1.389 \n",
            "money: humans, question, necessary, clear, truth, idea, response, creating, slow, useful\n",
            "lion: presidency, proposal, possibility, reputation, collapse, lifetime, poem, nickname, notion, monarch\n",
            "africa: korea, carolina, america, australia, asia, india, wales, coast, china, dakota\n",
            "musician: actress, politician, singer, actor, composer, author, writer, poet, physicist, philosopher\n",
            "dance: jazz, pop, folk, literature, blues, art, style, library, culture, philosophy\n",
            "\n",
            "\n"
          ]
        },
        {
          "output_type": "stream",
          "name": "stderr",
          "text": [
            "28495it [06:58, 73.69it/s]"
          ]
        },
        {
          "output_type": "stream",
          "name": "stdout",
          "text": [
            "| epoch   1 | 28500/32580 batches | loss    1.385 \n",
            "money: question, humans, necessary, clear, truth, damage, creating, useful, idea, response\n",
            "lion: presidency, proposal, collapse, possibility, reputation, nickname, lifetime, eyes, monarch, archbishop\n",
            "africa: korea, carolina, america, australia, asia, india, wales, china, coast, dakota\n",
            "musician: actress, politician, singer, composer, actor, writer, author, poet, physicist, philosopher\n",
            "dance: jazz, folk, pop, literature, blues, art, style, library, traditional, culture\n",
            "\n",
            "\n"
          ]
        },
        {
          "output_type": "stream",
          "name": "stderr",
          "text": [
            "28998it [07:05, 70.66it/s]"
          ]
        },
        {
          "output_type": "stream",
          "name": "stdout",
          "text": [
            "| epoch   1 | 29000/32580 batches | loss    1.376 \n",
            "money: question, humans, necessary, clear, damage, experience, truth, creating, useful, idea\n",
            "lion: presidency, proposal, collapse, nickname, reputation, possibility, lifetime, isle, monarch, archbishop\n",
            "africa: korea, carolina, america, australia, wales, india, asia, china, coast, dakota\n",
            "musician: politician, actress, singer, composer, writer, author, actor, poet, physicist, mathematician\n",
            "dance: jazz, folk, pop, blues, literature, art, style, traditional, library, classical\n",
            "\n",
            "\n"
          ]
        },
        {
          "output_type": "stream",
          "name": "stderr",
          "text": [
            "29494it [07:12, 73.36it/s]"
          ]
        },
        {
          "output_type": "stream",
          "name": "stdout",
          "text": [
            "| epoch   1 | 29500/32580 batches | loss    1.378 \n",
            "money: question, humans, damage, necessary, truth, experience, clear, practice, attention, creating\n",
            "lion: proposal, presidency, collapse, possibility, nickname, lifetime, reputation, isle, opponent, sword\n",
            "africa: korea, carolina, america, australia, wales, asia, india, china, coast, dakota\n",
            "musician: actress, politician, singer, composer, writer, author, poet, actor, physicist, comedian\n",
            "dance: jazz, folk, pop, blues, art, literature, style, traditional, library, electronic\n",
            "\n",
            "\n"
          ]
        },
        {
          "output_type": "stream",
          "name": "stderr",
          "text": [
            "29996it [07:19, 71.69it/s]"
          ]
        },
        {
          "output_type": "stream",
          "name": "stdout",
          "text": [
            "| epoch   1 | 30000/32580 batches | loss    1.375 \n",
            "money: question, humans, damage, necessary, experience, clear, truth, attention, creating, practice\n",
            "lion: proposal, presidency, nickname, isle, collapse, possibility, reputation, sword, bread, lifetime\n",
            "africa: korea, carolina, america, wales, australia, india, asia, china, coast, dakota\n",
            "musician: politician, actress, singer, composer, writer, author, poet, actor, physicist, mathematician\n",
            "dance: jazz, folk, pop, blues, literature, art, traditional, style, library, culture\n",
            "\n",
            "\n"
          ]
        },
        {
          "output_type": "stream",
          "name": "stderr",
          "text": [
            "30497it [07:27, 69.97it/s]"
          ]
        },
        {
          "output_type": "stream",
          "name": "stdout",
          "text": [
            "| epoch   1 | 30500/32580 batches | loss    1.370 \n",
            "money: question, humans, damage, necessary, truth, experience, clear, attention, creating, effective\n",
            "lion: proposal, presidency, nickname, isle, reputation, possibility, collapse, sword, bread, coat\n",
            "africa: korea, carolina, america, australia, wales, india, asia, china, coast, dakota\n",
            "musician: politician, actress, singer, composer, writer, author, poet, actor, physicist, comedian\n",
            "dance: folk, jazz, pop, blues, literature, art, traditional, style, electronic, culture\n",
            "\n",
            "\n"
          ]
        },
        {
          "output_type": "stream",
          "name": "stderr",
          "text": [
            "30999it [07:34, 72.41it/s]"
          ]
        },
        {
          "output_type": "stream",
          "name": "stdout",
          "text": [
            "| epoch   1 | 31000/32580 batches | loss    1.362 \n",
            "money: question, humans, damage, clear, necessary, truth, attention, experience, creating, slow\n",
            "lion: presidency, proposal, isle, possibility, reputation, collapse, nickname, bread, lifetime, coat\n",
            "africa: korea, carolina, america, australia, wales, india, asia, china, coast, dakota\n",
            "musician: politician, actress, singer, writer, composer, author, poet, actor, physicist, comedian\n",
            "dance: folk, jazz, pop, blues, literature, art, traditional, style, electronic, culture\n",
            "\n",
            "\n"
          ]
        },
        {
          "output_type": "stream",
          "name": "stderr",
          "text": [
            "31495it [07:41, 68.46it/s]"
          ]
        },
        {
          "output_type": "stream",
          "name": "stdout",
          "text": [
            "| epoch   1 | 31500/32580 batches | loss    1.363 \n",
            "money: question, humans, clear, truth, necessary, damage, attention, experience, creating, hundreds\n",
            "lion: presidency, isle, proposal, possibility, nickname, reputation, collapse, throne, bread, tomb\n",
            "africa: korea, carolina, wales, australia, america, india, asia, china, coast, dakota\n",
            "musician: actress, politician, singer, writer, composer, author, actor, poet, physicist, comedian\n",
            "dance: folk, pop, jazz, blues, literature, art, traditional, style, electronic, culture\n",
            "\n",
            "\n"
          ]
        },
        {
          "output_type": "stream",
          "name": "stderr",
          "text": [
            "31996it [07:49, 70.96it/s]"
          ]
        },
        {
          "output_type": "stream",
          "name": "stdout",
          "text": [
            "| epoch   1 | 32000/32580 batches | loss    1.358 \n",
            "money: question, humans, clear, damage, necessary, something, truth, attention, creating, experience\n",
            "lion: presidency, isle, proposal, nickname, possibility, collapse, reputation, lifetime, bread, throne\n",
            "africa: korea, carolina, wales, australia, america, india, asia, china, coast, dakota\n",
            "musician: actress, politician, singer, writer, composer, author, comedian, poet, actor, physicist\n",
            "dance: folk, jazz, pop, blues, literature, art, traditional, electronic, style, culture\n",
            "\n",
            "\n"
          ]
        },
        {
          "output_type": "stream",
          "name": "stderr",
          "text": [
            "32498it [07:56, 71.98it/s]"
          ]
        },
        {
          "output_type": "stream",
          "name": "stdout",
          "text": [
            "| epoch   1 | 32500/32580 batches | loss    1.356 \n",
            "money: question, humans, clear, damage, something, necessary, truth, attention, slow, experience\n",
            "lion: presidency, isle, possibility, proposal, collapse, nickname, reputation, lifetime, bread, declaration\n",
            "africa: korea, carolina, wales, australia, india, america, china, asia, coast, dakota\n",
            "musician: actress, politician, singer, writer, composer, actor, author, comedian, poet, physicist\n",
            "dance: folk, jazz, pop, blues, literature, art, traditional, style, culture, electronic\n",
            "\n",
            "\n"
          ]
        },
        {
          "output_type": "stream",
          "name": "stderr",
          "text": [
            "32580it [07:59, 67.91it/s]\n",
            "1it [00:02,  2.24s/it]"
          ]
        },
        {
          "output_type": "stream",
          "name": "stdout",
          "text": [
            "| epoch   2 |     0/32580 batches | loss    1.253 \n",
            "money: question, humans, clear, damage, something, necessary, attention, truth, slow, experience\n",
            "lion: presidency, isle, possibility, collapse, proposal, nickname, lifetime, reputation, declaration, coat\n",
            "africa: korea, carolina, wales, australia, india, america, china, asia, coast, dakota\n",
            "musician: actress, politician, singer, writer, composer, actor, comedian, author, poet, physicist\n",
            "dance: folk, jazz, pop, blues, literature, art, traditional, culture, style, electronic\n",
            "\n",
            "\n"
          ]
        },
        {
          "output_type": "stream",
          "name": "stderr",
          "text": [
            "496it [00:09, 70.46it/s]"
          ]
        },
        {
          "output_type": "stream",
          "name": "stdout",
          "text": [
            "| epoch   2 |   500/32580 batches | loss    1.333 \n",
            "money: question, humans, clear, damage, something, necessary, attention, slow, demand, truth\n",
            "lion: isle, presidency, collapse, possibility, proposal, lifetime, nickname, coat, bread, reputation\n",
            "africa: korea, carolina, wales, australia, india, america, china, asia, coast, pakistan\n",
            "musician: actress, politician, singer, composer, writer, actor, comedian, poet, physicist, author\n",
            "dance: folk, jazz, pop, blues, literature, art, traditional, style, electronic, culture\n",
            "\n",
            "\n"
          ]
        },
        {
          "output_type": "stream",
          "name": "stderr",
          "text": [
            "998it [00:16, 73.76it/s]"
          ]
        },
        {
          "output_type": "stream",
          "name": "stdout",
          "text": [
            "| epoch   2 |  1000/32580 batches | loss    1.330 \n",
            "money: question, humans, clear, damage, something, attention, demand, hundreds, truth, necessary\n",
            "lion: isle, presidency, collapse, lifetime, possibility, nickname, coat, bread, proposal, reputation\n",
            "africa: korea, carolina, wales, australia, america, india, china, asia, coast, pakistan\n",
            "musician: actress, politician, singer, composer, writer, comedian, poet, actor, physicist, journalist\n",
            "dance: folk, jazz, pop, blues, literature, art, traditional, electronic, classical, culture\n",
            "\n",
            "\n"
          ]
        },
        {
          "output_type": "stream",
          "name": "stderr",
          "text": [
            "1495it [00:27, 68.05it/s]"
          ]
        },
        {
          "output_type": "stream",
          "name": "stdout",
          "text": [
            "| epoch   2 |  1500/32580 batches | loss    1.326 \n",
            "money: question, humans, clear, something, damage, demand, attention, position, hundreds, truth\n",
            "lion: isle, collapse, lifetime, nickname, presidency, possibility, bread, coat, proposal, honour\n",
            "africa: korea, carolina, wales, australia, america, india, china, asia, coast, dakota\n",
            "musician: actress, politician, composer, singer, writer, comedian, poet, actor, physicist, journalist\n",
            "dance: jazz, folk, pop, blues, literature, art, traditional, style, culture, electronic\n",
            "\n",
            "\n"
          ]
        },
        {
          "output_type": "stream",
          "name": "stderr",
          "text": [
            "1998it [00:34, 73.53it/s]"
          ]
        },
        {
          "output_type": "stream",
          "name": "stdout",
          "text": [
            "| epoch   2 |  2000/32580 batches | loss    1.323 \n",
            "money: question, humans, something, clear, demand, necessary, truth, damage, hundreds, position\n",
            "lion: isle, collapse, nickname, possibility, bread, lifetime, presidency, comet, advent, proposal\n",
            "africa: korea, carolina, wales, australia, america, india, china, asia, dakota, coast\n",
            "musician: actress, politician, writer, composer, singer, comedian, poet, actor, physicist, journalist\n",
            "dance: folk, jazz, pop, blues, literature, art, traditional, style, electronic, baroque\n",
            "\n",
            "\n"
          ]
        },
        {
          "output_type": "stream",
          "name": "stderr",
          "text": [
            "2501it [00:41, 46.87it/s]"
          ]
        },
        {
          "output_type": "stream",
          "name": "stdout",
          "text": [
            "| epoch   2 |  2500/32580 batches | loss    1.316 \n",
            "money: question, humans, clear, something, demand, damage, position, fire, decision, hundreds\n",
            "lion: isle, collapse, nickname, bread, comet, possibility, proposal, advent, honour, lifetime\n",
            "africa: korea, carolina, wales, australia, india, america, china, asia, dakota, pakistan\n",
            "musician: actress, politician, singer, composer, writer, comedian, actor, poet, physicist, journalist\n",
            "dance: folk, jazz, pop, blues, literature, traditional, art, electronic, baroque, style\n",
            "\n",
            "\n"
          ]
        },
        {
          "output_type": "stream",
          "name": "stderr",
          "text": [
            "2999it [00:49, 69.34it/s]"
          ]
        },
        {
          "output_type": "stream",
          "name": "stdout",
          "text": [
            "| epoch   2 |  3000/32580 batches | loss    1.315 \n"
          ]
        },
        {
          "output_type": "stream",
          "name": "stderr",
          "text": [
            "\r3006it [00:49, 39.66it/s]"
          ]
        },
        {
          "output_type": "stream",
          "name": "stdout",
          "text": [
            "money: question, humans, clear, demand, something, attention, hundreds, damage, truth, slow\n",
            "lion: isle, collapse, nickname, bread, proposal, comet, advent, honour, restoration, lifetime\n",
            "africa: korea, carolina, wales, australia, america, india, china, asia, dakota, pakistan\n",
            "musician: actress, singer, politician, composer, writer, comedian, actor, poet, journalist, physicist\n",
            "dance: folk, jazz, pop, blues, literature, baroque, art, traditional, classic, style\n",
            "\n",
            "\n"
          ]
        },
        {
          "output_type": "stream",
          "name": "stderr",
          "text": [
            "3496it [00:56, 68.36it/s]"
          ]
        },
        {
          "output_type": "stream",
          "name": "stdout",
          "text": [
            "| epoch   2 |  3500/32580 batches | loss    1.315 \n",
            "money: question, humans, clear, demand, something, attention, hundreds, necessary, damage, slow\n",
            "lion: isle, nickname, collapse, bread, proposal, declaration, comet, advent, restoration, honour\n",
            "africa: korea, carolina, wales, australia, america, india, china, dakota, asia, pakistan\n",
            "musician: actress, singer, politician, composer, writer, comedian, actor, poet, journalist, physicist\n",
            "dance: folk, jazz, pop, blues, literature, traditional, baroque, art, classic, mainstream\n",
            "\n",
            "\n"
          ]
        },
        {
          "output_type": "stream",
          "name": "stderr",
          "text": [
            "3997it [01:03, 66.85it/s]"
          ]
        },
        {
          "output_type": "stream",
          "name": "stdout",
          "text": [
            "| epoch   2 |  4000/32580 batches | loss    1.312 \n",
            "money: question, humans, clear, demand, something, hundreds, necessary, situation, truth, neither\n",
            "lion: nickname, isle, proposal, bread, collapse, honour, restoration, comet, advent, tomb\n",
            "africa: korea, carolina, wales, australia, india, america, dakota, china, asia, pakistan\n",
            "musician: actress, singer, composer, politician, writer, actor, comedian, poet, journalist, physicist\n",
            "dance: jazz, folk, pop, blues, literature, baroque, traditional, mainstream, electronic, contemporary\n",
            "\n",
            "\n"
          ]
        },
        {
          "output_type": "stream",
          "name": "stderr",
          "text": [
            "4494it [01:11, 73.04it/s]"
          ]
        },
        {
          "output_type": "stream",
          "name": "stdout",
          "text": [
            "| epoch   2 |  4500/32580 batches | loss    1.304 \n",
            "money: question, humans, clear, something, demand, necessary, hundreds, slow, truth, anything\n",
            "lion: nickname, proposal, isle, bread, collapse, restoration, bachelor, honour, comet, tomb\n",
            "africa: korea, carolina, wales, australia, india, america, dakota, china, asia, pakistan\n",
            "musician: singer, actress, composer, politician, writer, comedian, actor, poet, journalist, physicist\n",
            "dance: jazz, folk, pop, blues, baroque, literature, traditional, mainstream, horror, musical\n",
            "\n",
            "\n"
          ]
        },
        {
          "output_type": "stream",
          "name": "stderr",
          "text": [
            "4995it [01:18, 73.52it/s]"
          ]
        },
        {
          "output_type": "stream",
          "name": "stdout",
          "text": [
            "| epoch   2 |  5000/32580 batches | loss    1.307 \n",
            "money: humans, question, clear, something, demand, necessary, slow, anything, damage, attention\n",
            "lion: nickname, proposal, isle, collapse, honour, bachelor, restoration, bread, declaration, tomb\n",
            "africa: korea, carolina, wales, australia, india, china, america, dakota, asia, pakistan\n",
            "musician: singer, actress, politician, composer, writer, comedian, actor, poet, journalist, physicist\n",
            "dance: jazz, folk, pop, blues, baroque, literature, electronic, traditional, musical, classic\n",
            "\n",
            "\n"
          ]
        },
        {
          "output_type": "stream",
          "name": "stderr",
          "text": [
            "5499it [01:25, 70.95it/s]"
          ]
        },
        {
          "output_type": "stream",
          "name": "stdout",
          "text": [
            "| epoch   2 |  5500/32580 batches | loss    1.305 \n",
            "money: humans, question, clear, something, demand, slow, damage, decision, truth, necessary\n",
            "lion: nickname, proposal, honour, restoration, isle, collapse, merger, bread, comet, tomb\n",
            "africa: korea, carolina, wales, australia, china, india, america, asia, pakistan, dakota\n",
            "musician: singer, actress, politician, composer, writer, comedian, actor, journalist, poet, physicist\n",
            "dance: jazz, folk, pop, blues, literature, baroque, traditional, electronic, musical, mainstream\n",
            "\n",
            "\n"
          ]
        },
        {
          "output_type": "stream",
          "name": "stderr",
          "text": [
            "5999it [01:32, 73.51it/s]"
          ]
        },
        {
          "output_type": "stream",
          "name": "stdout",
          "text": [
            "| epoch   2 |  6000/32580 batches | loss    1.297 \n",
            "money: humans, question, something, clear, demand, damage, attention, decision, slow, necessary\n",
            "lion: nickname, proposal, honour, restoration, nose, comet, bread, tomb, bachelor, collapse\n",
            "africa: korea, carolina, wales, australia, india, china, pakistan, asia, dakota, america\n",
            "musician: singer, actress, composer, politician, writer, actor, comedian, journalist, poet, novelist\n",
            "dance: jazz, folk, pop, blues, baroque, electronic, literature, traditional, musical, mainstream\n",
            "\n",
            "\n"
          ]
        },
        {
          "output_type": "stream",
          "name": "stderr",
          "text": [
            "6494it [01:39, 71.22it/s]"
          ]
        },
        {
          "output_type": "stream",
          "name": "stdout",
          "text": [
            "| epoch   2 |  6500/32580 batches | loss    1.295 \n",
            "money: humans, question, something, clear, demand, damage, anything, attention, necessary, effective\n",
            "lion: nickname, proposal, honour, nose, bachelor, isle, bread, restoration, tomb, collapse\n",
            "africa: korea, carolina, wales, australia, india, china, pakistan, asia, dakota, america\n",
            "musician: singer, actress, composer, politician, writer, actor, comedian, journalist, poet, novelist\n",
            "dance: jazz, folk, pop, blues, baroque, electronic, literature, musical, mainstream, traditional\n",
            "\n",
            "\n"
          ]
        },
        {
          "output_type": "stream",
          "name": "stderr",
          "text": [
            "6999it [01:47, 66.85it/s]"
          ]
        },
        {
          "output_type": "stream",
          "name": "stdout",
          "text": [
            "| epoch   2 |  7000/32580 batches | loss    1.297 \n",
            "money: humans, question, clear, something, demand, effective, damage, attention, anything, necessary\n",
            "lion: nickname, honour, proposal, nose, isle, tomb, comet, advent, merger, bread\n",
            "africa: korea, carolina, wales, india, australia, china, pakistan, asia, dakota, america\n",
            "musician: singer, actress, composer, politician, writer, actor, comedian, journalist, poet, novelist\n",
            "dance: jazz, folk, pop, blues, baroque, literature, electronic, musical, mainstream, renaissance\n",
            "\n",
            "\n"
          ]
        },
        {
          "output_type": "stream",
          "name": "stderr",
          "text": [
            "7495it [01:54, 73.23it/s]"
          ]
        },
        {
          "output_type": "stream",
          "name": "stdout",
          "text": [
            "| epoch   2 |  7500/32580 batches | loss    1.293 \n",
            "money: humans, question, clear, demand, something, slowly, attention, damage, decision, necessary\n",
            "lion: nickname, proposal, honour, comet, nose, merger, advent, tomb, bachelor, isle\n",
            "africa: korea, carolina, wales, india, australia, pakistan, china, dakota, asia, america\n",
            "musician: singer, actress, composer, politician, writer, comedian, journalist, actor, poet, novelist\n",
            "dance: jazz, folk, pop, blues, baroque, electronic, literature, musical, mainstream, traditional\n",
            "\n",
            "\n"
          ]
        },
        {
          "output_type": "stream",
          "name": "stderr",
          "text": [
            "7996it [02:01, 72.86it/s]"
          ]
        },
        {
          "output_type": "stream",
          "name": "stdout",
          "text": [
            "| epoch   2 |  8000/32580 batches | loss    1.294 \n"
          ]
        },
        {
          "output_type": "stream",
          "name": "stderr",
          "text": [
            "\r8004it [02:01, 41.64it/s]"
          ]
        },
        {
          "output_type": "stream",
          "name": "stdout",
          "text": [
            "money: humans, question, clear, demand, something, slowly, necessary, slow, truth, decision\n",
            "lion: nickname, proposal, nose, honour, isle, merger, tomb, coat, advent, restoration\n",
            "africa: korea, carolina, wales, australia, india, pakistan, china, dakota, asia, america\n",
            "musician: singer, composer, politician, actress, comedian, writer, journalist, actor, novelist, poet\n",
            "dance: jazz, folk, pop, blues, baroque, genre, musical, literature, electronic, traditional\n",
            "\n",
            "\n"
          ]
        },
        {
          "output_type": "stream",
          "name": "stderr",
          "text": [
            "8493it [02:08, 69.64it/s]"
          ]
        },
        {
          "output_type": "stream",
          "name": "stdout",
          "text": [
            "| epoch   2 |  8500/32580 batches | loss    1.286 \n"
          ]
        },
        {
          "output_type": "stream",
          "name": "stderr",
          "text": [
            "8507it [02:09, 43.39it/s]"
          ]
        },
        {
          "output_type": "stream",
          "name": "stdout",
          "text": [
            "money: humans, clear, question, something, demand, decision, slow, attention, slowly, necessary\n",
            "lion: nose, nickname, proposal, honour, merger, tomb, restoration, isle, advent, comet\n",
            "africa: korea, wales, carolina, india, australia, pakistan, china, dakota, asia, america\n",
            "musician: singer, composer, actress, politician, comedian, writer, actor, journalist, novelist, poet\n",
            "dance: jazz, folk, pop, blues, baroque, musical, traditional, genre, electronic, literature\n",
            "\n",
            "\n"
          ]
        },
        {
          "output_type": "stream",
          "name": "stderr",
          "text": [
            "8994it [02:16, 73.78it/s]"
          ]
        },
        {
          "output_type": "stream",
          "name": "stdout",
          "text": [
            "| epoch   2 |  9000/32580 batches | loss    1.288 \n",
            "money: humans, clear, question, attention, something, slow, demand, decision, slowly, situation\n",
            "lion: nose, nickname, merger, restoration, honour, tomb, advent, coat, comet, isle\n",
            "africa: korea, wales, carolina, australia, india, pakistan, dakota, china, asia, lebanon\n",
            "musician: singer, composer, actress, politician, writer, comedian, actor, journalist, novelist, poet\n",
            "dance: jazz, blues, folk, pop, baroque, musical, genre, traditional, electronic, horror\n",
            "\n",
            "\n"
          ]
        },
        {
          "output_type": "stream",
          "name": "stderr",
          "text": [
            "9495it [02:23, 69.34it/s]"
          ]
        },
        {
          "output_type": "stream",
          "name": "stdout",
          "text": [
            "| epoch   2 |  9500/32580 batches | loss    1.284 \n",
            "money: humans, clear, question, demand, slow, attention, something, decision, truth, effective\n",
            "lion: nose, merger, nickname, restoration, honour, tomb, coat, isle, advent, bed\n",
            "africa: korea, wales, carolina, australia, india, pakistan, dakota, china, america, asia\n",
            "musician: composer, singer, actress, politician, comedian, writer, novelist, actor, journalist, poet\n",
            "dance: jazz, blues, pop, folk, baroque, genre, musical, traditional, renaissance, horror\n",
            "\n",
            "\n"
          ]
        },
        {
          "output_type": "stream",
          "name": "stderr",
          "text": [
            "10001it [02:30, 46.64it/s]"
          ]
        },
        {
          "output_type": "stream",
          "name": "stdout",
          "text": [
            "| epoch   2 | 10000/32580 batches | loss    1.282 \n",
            "money: clear, humans, attention, question, demand, effective, decision, slow, situation, truth\n",
            "lion: isle, nose, merger, honour, tomb, nickname, coat, restoration, bachelor, bed\n",
            "africa: korea, wales, carolina, australia, india, pakistan, dakota, china, asia, america\n",
            "musician: composer, actress, singer, comedian, politician, writer, journalist, novelist, actor, poet\n",
            "dance: jazz, folk, pop, blues, baroque, genre, musical, renaissance, style, traditional\n",
            "\n",
            "\n"
          ]
        },
        {
          "output_type": "stream",
          "name": "stderr",
          "text": [
            "10501it [02:37, 48.25it/s]"
          ]
        },
        {
          "output_type": "stream",
          "name": "stdout",
          "text": [
            "| epoch   2 | 10500/32580 batches | loss    1.281 \n",
            "money: clear, humans, attention, question, demand, slow, effective, decision, slowly, situation\n",
            "lion: nose, merger, isle, honour, tomb, bed, coat, restoration, bachelor, monastery\n",
            "africa: korea, wales, carolina, pakistan, india, australia, dakota, china, asia, lebanon\n",
            "musician: composer, comedian, singer, actress, politician, writer, journalist, novelist, actor, poet\n",
            "dance: jazz, folk, pop, blues, baroque, genre, musical, style, renaissance, traditional\n",
            "\n",
            "\n"
          ]
        },
        {
          "output_type": "stream",
          "name": "stderr",
          "text": [
            "10997it [02:44, 68.39it/s]"
          ]
        },
        {
          "output_type": "stream",
          "name": "stdout",
          "text": [
            "| epoch   2 | 11000/32580 batches | loss    1.278 \n",
            "money: clear, attention, humans, demand, decision, situation, question, effective, truth, slowly\n",
            "lion: isle, nose, merger, honour, tomb, nickname, bachelor, restoration, coat, bed\n",
            "africa: korea, wales, carolina, pakistan, india, dakota, australia, china, asia, lebanon\n",
            "musician: composer, comedian, singer, politician, actress, journalist, writer, novelist, actor, poet\n",
            "dance: jazz, pop, folk, blues, genre, musical, baroque, style, horror, renaissance\n",
            "\n",
            "\n"
          ]
        },
        {
          "output_type": "stream",
          "name": "stderr",
          "text": [
            "11495it [02:52, 73.19it/s]"
          ]
        },
        {
          "output_type": "stream",
          "name": "stdout",
          "text": [
            "| epoch   2 | 11500/32580 batches | loss    1.269 \n",
            "money: clear, attention, demand, humans, decision, effective, situation, question, slow, slowly\n",
            "lion: nose, isle, merger, honour, tomb, nickname, bachelor, coat, bed, restoration\n",
            "africa: korea, wales, carolina, pakistan, india, dakota, australia, asia, china, lebanon\n",
            "musician: composer, singer, comedian, actress, politician, journalist, writer, novelist, poet, actor\n",
            "dance: jazz, pop, folk, blues, genre, musical, baroque, style, animation, recording\n",
            "\n",
            "\n"
          ]
        },
        {
          "output_type": "stream",
          "name": "stderr",
          "text": [
            "11997it [02:59, 73.49it/s]"
          ]
        },
        {
          "output_type": "stream",
          "name": "stdout",
          "text": [
            "| epoch   2 | 12000/32580 batches | loss    1.271 \n",
            "money: clear, demand, attention, humans, decision, situation, effective, question, truth, slow\n",
            "lion: nose, nickname, merger, honour, tomb, bachelor, isle, bed, coat, quest\n",
            "africa: korea, wales, carolina, dakota, pakistan, india, australia, asia, china, lebanon\n",
            "musician: composer, comedian, singer, actress, politician, journalist, writer, novelist, poet, guitarist\n",
            "dance: jazz, folk, pop, blues, genre, baroque, musical, style, animation, renaissance\n",
            "\n",
            "\n"
          ]
        },
        {
          "output_type": "stream",
          "name": "stderr",
          "text": [
            "12495it [03:06, 69.80it/s]"
          ]
        },
        {
          "output_type": "stream",
          "name": "stdout",
          "text": [
            "| epoch   2 | 12500/32580 batches | loss    1.269 \n",
            "money: clear, humans, demand, attention, decision, situation, question, slowly, effective, something\n",
            "lion: nose, bachelor, tomb, merger, isle, honour, nickname, bed, coat, comet\n",
            "africa: korea, wales, carolina, dakota, pakistan, india, australia, china, asia, lebanon\n",
            "musician: composer, comedian, singer, actress, politician, journalist, novelist, writer, guitarist, poet\n",
            "dance: jazz, pop, folk, blues, genre, baroque, musical, style, animation, renaissance\n",
            "\n",
            "\n"
          ]
        },
        {
          "output_type": "stream",
          "name": "stderr",
          "text": [
            "12997it [03:14, 73.82it/s]"
          ]
        },
        {
          "output_type": "stream",
          "name": "stdout",
          "text": [
            "| epoch   2 | 13000/32580 batches | loss    1.269 \n",
            "money: clear, humans, demand, attention, decision, effective, situation, slowly, slow, question\n",
            "lion: nose, tomb, bachelor, merger, honour, isle, nickname, bed, devil, coat\n",
            "africa: korea, wales, carolina, dakota, india, pakistan, australia, china, asia, lebanon\n",
            "musician: comedian, composer, singer, actress, politician, journalist, writer, novelist, poet, guitarist\n",
            "dance: jazz, pop, folk, blues, genre, baroque, musical, style, animation, romantic\n",
            "\n",
            "\n"
          ]
        },
        {
          "output_type": "stream",
          "name": "stderr",
          "text": [
            "13500it [03:21, 73.61it/s]"
          ]
        },
        {
          "output_type": "stream",
          "name": "stdout",
          "text": [
            "| epoch   2 | 13500/32580 batches | loss    1.265 \n",
            "money: clear, demand, humans, attention, decision, slowly, situation, effective, thereby, slow\n",
            "lion: nose, tomb, isle, bachelor, nickname, merger, honour, bed, coat, comet\n",
            "africa: korea, wales, carolina, dakota, pakistan, india, australia, china, asia, lebanon\n",
            "musician: singer, comedian, composer, actress, politician, writer, journalist, novelist, poet, guitarist\n",
            "dance: jazz, pop, folk, blues, genre, baroque, musical, style, animation, mainstream\n",
            "\n",
            "\n"
          ]
        },
        {
          "output_type": "stream",
          "name": "stderr",
          "text": [
            "13993it [03:28, 66.88it/s]"
          ]
        },
        {
          "output_type": "stream",
          "name": "stdout",
          "text": [
            "| epoch   2 | 14000/32580 batches | loss    1.261 \n"
          ]
        },
        {
          "output_type": "stream",
          "name": "stderr",
          "text": [
            "14007it [03:29, 42.36it/s]"
          ]
        },
        {
          "output_type": "stream",
          "name": "stdout",
          "text": [
            "money: clear, demand, attention, humans, decision, thereby, effective, situation, slowly, rapidly\n",
            "lion: nose, tomb, isle, nickname, bachelor, honour, merger, bed, coat, comet\n",
            "africa: korea, wales, carolina, india, dakota, pakistan, australia, china, asia, africans\n",
            "musician: singer, comedian, composer, politician, actress, writer, journalist, novelist, poet, guitarist\n",
            "dance: jazz, pop, folk, blues, genre, musical, baroque, style, animation, renaissance\n",
            "\n",
            "\n"
          ]
        },
        {
          "output_type": "stream",
          "name": "stderr",
          "text": [
            "14494it [03:35, 73.28it/s]"
          ]
        },
        {
          "output_type": "stream",
          "name": "stdout",
          "text": [
            "| epoch   2 | 14500/32580 batches | loss    1.257 \n",
            "money: demand, attention, clear, decision, humans, situation, thereby, effective, wealth, taxes\n",
            "lion: nose, tomb, nickname, merger, bed, honour, isle, bachelor, coat, quest\n",
            "africa: korea, wales, carolina, dakota, india, pakistan, australia, china, asia, lebanon\n",
            "musician: singer, comedian, composer, politician, writer, journalist, actress, novelist, poet, guitarist\n",
            "dance: jazz, pop, folk, blues, genre, baroque, musical, animation, style, renaissance\n",
            "\n",
            "\n"
          ]
        },
        {
          "output_type": "stream",
          "name": "stderr",
          "text": [
            "14996it [03:42, 72.34it/s]"
          ]
        },
        {
          "output_type": "stream",
          "name": "stdout",
          "text": [
            "| epoch   2 | 15000/32580 batches | loss    1.264 \n",
            "money: attention, clear, decision, demand, thereby, rapidly, humans, situation, slowly, wealth\n",
            "lion: nose, nickname, tomb, merger, bed, honour, isle, coat, bachelor, quest\n",
            "africa: korea, wales, carolina, pakistan, india, dakota, australia, china, asia, lebanon\n",
            "musician: singer, comedian, composer, politician, journalist, actress, writer, novelist, poet, guitarist\n",
            "dance: jazz, pop, folk, blues, genre, baroque, musical, animation, style, gothic\n",
            "\n",
            "\n"
          ]
        },
        {
          "output_type": "stream",
          "name": "stderr",
          "text": [
            "15499it [03:50, 69.63it/s]"
          ]
        },
        {
          "output_type": "stream",
          "name": "stdout",
          "text": [
            "| epoch   2 | 15500/32580 batches | loss    1.253 \n",
            "money: attention, decision, clear, demand, thereby, rapidly, situation, humans, difficult, wealth\n",
            "lion: nose, merger, nickname, tomb, bed, honour, comet, coat, bachelor, isle\n",
            "africa: korea, wales, carolina, pakistan, dakota, india, australia, china, asia, lebanon\n",
            "musician: singer, comedian, composer, journalist, politician, actress, writer, guitarist, novelist, poet\n",
            "dance: jazz, pop, folk, blues, genre, musical, baroque, animation, style, musicians\n",
            "\n",
            "\n"
          ]
        },
        {
          "output_type": "stream",
          "name": "stderr",
          "text": [
            "15998it [03:57, 73.18it/s]"
          ]
        },
        {
          "output_type": "stream",
          "name": "stdout",
          "text": [
            "| epoch   2 | 16000/32580 batches | loss    1.254 \n",
            "money: attention, decision, demand, clear, thereby, situation, rapidly, taxes, wealth, humans\n",
            "lion: nose, merger, nickname, bed, tomb, coat, comet, honour, bachelor, devil\n",
            "africa: korea, wales, carolina, dakota, pakistan, india, australia, china, lebanon, asia\n",
            "musician: comedian, singer, composer, journalist, politician, actress, guitarist, novelist, writer, poet\n",
            "dance: jazz, pop, folk, blues, genre, musical, baroque, style, animation, horror\n",
            "\n",
            "\n"
          ]
        },
        {
          "output_type": "stream",
          "name": "stderr",
          "text": [
            "16496it [04:05, 68.29it/s]"
          ]
        },
        {
          "output_type": "stream",
          "name": "stdout",
          "text": [
            "| epoch   2 | 16500/32580 batches | loss    1.253 \n",
            "money: attention, decision, demand, clear, situation, thereby, taxes, humans, rapidly, wealth\n",
            "lion: nose, nickname, merger, bed, coat, tomb, comet, honour, bachelor, quest\n",
            "africa: korea, wales, carolina, dakota, pakistan, india, australia, lebanon, china, asia\n",
            "musician: singer, comedian, composer, politician, journalist, guitarist, actress, novelist, writer, poet\n",
            "dance: jazz, folk, pop, blues, musical, genre, baroque, style, animation, music\n",
            "\n",
            "\n"
          ]
        },
        {
          "output_type": "stream",
          "name": "stderr",
          "text": [
            "16997it [04:12, 68.50it/s]"
          ]
        },
        {
          "output_type": "stream",
          "name": "stdout",
          "text": [
            "| epoch   2 | 17000/32580 batches | loss    1.252 \n",
            "money: attention, demand, decision, clear, situation, thereby, taxes, rapidly, wealth, humans\n",
            "lion: nose, bed, merger, nickname, coat, comet, tomb, honour, bachelor, quest\n",
            "africa: korea, wales, carolina, dakota, pakistan, india, australia, lebanon, asia, china\n",
            "musician: singer, comedian, composer, politician, journalist, guitarist, novelist, actress, writer, poet\n",
            "dance: jazz, folk, pop, blues, musical, genre, baroque, style, musicians, music\n",
            "\n",
            "\n"
          ]
        },
        {
          "output_type": "stream",
          "name": "stderr",
          "text": [
            "17498it [04:20, 72.24it/s]"
          ]
        },
        {
          "output_type": "stream",
          "name": "stdout",
          "text": [
            "| epoch   2 | 17500/32580 batches | loss    1.252 \n",
            "money: attention, decision, demand, clear, situation, thereby, taxes, wealth, rapidly, humans\n",
            "lion: nose, bed, merger, coat, nickname, tomb, comet, honour, quest, handful\n",
            "africa: korea, wales, carolina, dakota, pakistan, india, australia, asia, lebanon, china\n",
            "musician: singer, comedian, composer, journalist, guitarist, politician, novelist, poet, actress, writer\n",
            "dance: jazz, pop, folk, blues, musical, genre, baroque, musicians, style, animation\n",
            "\n",
            "\n"
          ]
        },
        {
          "output_type": "stream",
          "name": "stderr",
          "text": [
            "18001it [04:27, 47.40it/s]"
          ]
        },
        {
          "output_type": "stream",
          "name": "stdout",
          "text": [
            "| epoch   2 | 18000/32580 batches | loss    1.245 \n",
            "money: attention, demand, decision, situation, clear, thereby, taxes, wealth, humans, slowly\n",
            "lion: nose, bed, merger, nickname, coat, tomb, comet, quest, honour, bachelor\n",
            "africa: korea, wales, carolina, dakota, pakistan, india, australia, asia, lebanon, china\n",
            "musician: comedian, singer, composer, journalist, guitarist, politician, novelist, poet, actress, writer\n",
            "dance: jazz, pop, folk, blues, musical, genre, baroque, musicians, style, gothic\n",
            "\n",
            "\n"
          ]
        },
        {
          "output_type": "stream",
          "name": "stderr",
          "text": [
            "18498it [04:34, 73.32it/s]"
          ]
        },
        {
          "output_type": "stream",
          "name": "stdout",
          "text": [
            "| epoch   2 | 18500/32580 batches | loss    1.245 \n",
            "money: attention, demand, decision, thereby, situation, clear, wealth, taxes, humans, respect\n",
            "lion: nose, bed, merger, nickname, tomb, comet, coat, quest, honour, bachelor\n",
            "africa: korea, wales, carolina, dakota, pakistan, india, australia, asia, lebanon, china\n",
            "musician: singer, comedian, composer, guitarist, journalist, politician, novelist, poet, actress, writer\n",
            "dance: jazz, pop, folk, blues, musical, genre, musicians, baroque, style, animation\n",
            "\n",
            "\n"
          ]
        },
        {
          "output_type": "stream",
          "name": "stderr",
          "text": [
            "19001it [04:41, 48.24it/s]"
          ]
        },
        {
          "output_type": "stream",
          "name": "stdout",
          "text": [
            "| epoch   2 | 19000/32580 batches | loss    1.240 \n",
            "money: attention, thereby, decision, demand, clear, situation, rapidly, wealth, slowly, taxes\n",
            "lion: nose, comet, nickname, merger, bed, skull, tomb, quest, handful, bachelor\n",
            "africa: korea, wales, carolina, dakota, pakistan, india, australia, asia, africans, china\n",
            "musician: singer, comedian, composer, guitarist, journalist, politician, novelist, poet, actress, writer\n",
            "dance: jazz, pop, folk, blues, musical, genre, musicians, baroque, style, music\n",
            "\n",
            "\n"
          ]
        },
        {
          "output_type": "stream",
          "name": "stderr",
          "text": [
            "19500it [04:48, 67.86it/s]"
          ]
        },
        {
          "output_type": "stream",
          "name": "stdout",
          "text": [
            "| epoch   2 | 19500/32580 batches | loss    1.240 \n",
            "money: attention, decision, demand, thereby, situation, clear, taxes, wealth, sales, respect\n",
            "lion: nose, merger, comet, nickname, tomb, bed, quest, skull, bachelor, handful\n",
            "africa: korea, wales, carolina, dakota, pakistan, india, australia, africans, asia, lebanon\n",
            "musician: singer, comedian, guitarist, composer, journalist, novelist, politician, poet, writer, actress\n",
            "dance: jazz, pop, folk, blues, musical, genre, baroque, musicians, style, animation\n",
            "\n",
            "\n"
          ]
        },
        {
          "output_type": "stream",
          "name": "stderr",
          "text": [
            "19997it [04:56, 72.78it/s]"
          ]
        },
        {
          "output_type": "stream",
          "name": "stdout",
          "text": [
            "| epoch   2 | 20000/32580 batches | loss    1.240 \n",
            "money: attention, demand, decision, situation, thereby, clear, taxes, wealth, mechanism, sales\n",
            "lion: nose, comet, nickname, merger, quest, tomb, skull, bachelor, devil, bed\n",
            "africa: korea, wales, carolina, dakota, pakistan, india, africans, australia, asia, china\n",
            "musician: comedian, singer, composer, guitarist, journalist, novelist, politician, poet, writer, actress\n",
            "dance: jazz, pop, folk, blues, musical, genre, baroque, musicians, music, style\n",
            "\n",
            "\n"
          ]
        },
        {
          "output_type": "stream",
          "name": "stderr",
          "text": [
            "20500it [05:03, 72.57it/s]"
          ]
        },
        {
          "output_type": "stream",
          "name": "stdout",
          "text": [
            "| epoch   2 | 20500/32580 batches | loss    1.241 \n",
            "money: attention, demand, situation, decision, thereby, taxes, clear, wealth, sales, mechanism\n",
            "lion: nose, nickname, merger, skull, quest, comet, tomb, bachelor, bed, widow\n",
            "africa: korea, wales, carolina, dakota, pakistan, india, asia, australia, africans, china\n",
            "musician: comedian, singer, journalist, composer, guitarist, novelist, politician, poet, writer, actress\n",
            "dance: jazz, folk, pop, blues, musical, genre, baroque, musicians, rock, style\n",
            "\n",
            "\n"
          ]
        },
        {
          "output_type": "stream",
          "name": "stderr",
          "text": [
            "21001it [05:10, 43.65it/s]"
          ]
        },
        {
          "output_type": "stream",
          "name": "stdout",
          "text": [
            "| epoch   2 | 21000/32580 batches | loss    1.237 \n",
            "money: attention, demand, decision, situation, thereby, taxes, clear, wealth, sales, mechanism\n",
            "lion: nose, nickname, skull, merger, tomb, comet, bed, bachelor, quest, widow\n",
            "africa: korea, wales, carolina, dakota, pakistan, india, asia, australia, africans, china\n",
            "musician: comedian, singer, guitarist, journalist, composer, novelist, politician, poet, writer, actress\n",
            "dance: jazz, pop, folk, blues, genre, musical, baroque, musicians, rock, animation\n",
            "\n",
            "\n"
          ]
        },
        {
          "output_type": "stream",
          "name": "stderr",
          "text": [
            "21498it [05:17, 73.48it/s]"
          ]
        },
        {
          "output_type": "stream",
          "name": "stdout",
          "text": [
            "| epoch   2 | 21500/32580 batches | loss    1.234 \n",
            "money: attention, demand, decision, thereby, situation, taxes, clear, wealth, sales, popularity\n",
            "lion: nose, nickname, skull, tomb, merger, comet, bachelor, bed, banner, handful\n",
            "africa: korea, wales, dakota, carolina, pakistan, asia, india, australia, africans, china\n",
            "musician: comedian, singer, guitarist, journalist, composer, novelist, poet, politician, writer, actress\n",
            "dance: jazz, blues, folk, pop, genre, musical, baroque, musicians, rock, style\n",
            "\n",
            "\n"
          ]
        },
        {
          "output_type": "stream",
          "name": "stderr",
          "text": [
            "22000it [05:24, 68.54it/s]"
          ]
        },
        {
          "output_type": "stream",
          "name": "stdout",
          "text": [
            "| epoch   2 | 22000/32580 batches | loss    1.230 \n"
          ]
        },
        {
          "output_type": "stream",
          "name": "stderr",
          "text": [
            "\r22007it [05:25, 39.06it/s]"
          ]
        },
        {
          "output_type": "stream",
          "name": "stdout",
          "text": [
            "money: attention, decision, demand, thereby, situation, taxes, wealth, clear, sales, permission\n",
            "lion: nose, nickname, skull, tomb, bachelor, comet, banner, merger, handful, devil\n",
            "africa: korea, wales, dakota, carolina, pakistan, africans, asia, india, australia, lebanon\n",
            "musician: comedian, guitarist, singer, journalist, composer, novelist, poet, politician, writer, actress\n",
            "dance: jazz, blues, pop, folk, genre, musical, baroque, rock, musicians, concert\n",
            "\n",
            "\n"
          ]
        },
        {
          "output_type": "stream",
          "name": "stderr",
          "text": [
            "22500it [05:32, 70.05it/s]"
          ]
        },
        {
          "output_type": "stream",
          "name": "stdout",
          "text": [
            "| epoch   2 | 22500/32580 batches | loss    1.228 \n",
            "money: attention, thereby, decision, demand, situation, taxes, wealth, permission, sales, clear\n",
            "lion: nose, nickname, skull, comet, tomb, banner, merger, bachelor, devil, handful\n",
            "africa: korea, wales, dakota, carolina, pakistan, asia, africans, india, australia, china\n",
            "musician: comedian, singer, guitarist, journalist, composer, novelist, poet, politician, writer, actress\n",
            "dance: jazz, blues, pop, folk, musical, baroque, genre, rock, musicians, music\n",
            "\n",
            "\n"
          ]
        },
        {
          "output_type": "stream",
          "name": "stderr",
          "text": [
            "22996it [05:39, 73.70it/s]"
          ]
        },
        {
          "output_type": "stream",
          "name": "stdout",
          "text": [
            "| epoch   2 | 23000/32580 batches | loss    1.229 \n",
            "money: attention, demand, thereby, decision, situation, taxes, wealth, permission, sales, funding\n",
            "lion: nose, nickname, comet, skull, tomb, banner, merger, handful, bed, widow\n",
            "africa: korea, wales, dakota, carolina, pakistan, india, asia, africans, australia, china\n",
            "musician: singer, comedian, guitarist, composer, journalist, novelist, poet, politician, writer, actress\n",
            "dance: jazz, blues, pop, folk, musical, baroque, genre, rock, music, concert\n",
            "\n",
            "\n"
          ]
        },
        {
          "output_type": "stream",
          "name": "stderr",
          "text": [
            "23501it [05:46, 42.66it/s]"
          ]
        },
        {
          "output_type": "stream",
          "name": "stdout",
          "text": [
            "| epoch   2 | 23500/32580 batches | loss    1.228 \n",
            "money: attention, thereby, demand, decision, situation, taxes, wealth, rapidly, clear, sales\n",
            "lion: nose, skull, nickname, banner, comet, tomb, merger, handful, bed, widow\n",
            "africa: korea, wales, dakota, carolina, pakistan, india, africans, asia, lebanon, china\n",
            "musician: singer, comedian, guitarist, composer, journalist, novelist, writer, politician, poet, actress\n",
            "dance: jazz, blues, pop, folk, musical, baroque, genre, music, concert, rock\n",
            "\n",
            "\n"
          ]
        },
        {
          "output_type": "stream",
          "name": "stderr",
          "text": [
            "23997it [05:54, 71.21it/s]"
          ]
        },
        {
          "output_type": "stream",
          "name": "stdout",
          "text": [
            "| epoch   2 | 24000/32580 batches | loss    1.222 \n",
            "money: attention, thereby, demand, decision, situation, taxes, wealth, clear, rapidly, permission\n",
            "lion: nose, skull, nickname, banner, comet, tomb, merger, bed, handful, widow\n",
            "africa: korea, wales, dakota, carolina, pakistan, india, asia, africans, china, lebanon\n",
            "musician: singer, comedian, guitarist, composer, journalist, novelist, writer, poet, politician, actress\n",
            "dance: jazz, blues, pop, folk, genre, baroque, musical, concert, music, rock\n",
            "\n",
            "\n"
          ]
        },
        {
          "output_type": "stream",
          "name": "stderr",
          "text": [
            "24500it [06:01, 73.12it/s]"
          ]
        },
        {
          "output_type": "stream",
          "name": "stdout",
          "text": [
            "| epoch   2 | 24500/32580 batches | loss    1.224 \n",
            "money: attention, thereby, demand, decision, situation, taxes, rapidly, wealth, clear, permission\n",
            "lion: nose, skull, nickname, banner, tomb, comet, merger, handful, bed, widow\n",
            "africa: korea, wales, dakota, carolina, pakistan, india, asia, africans, lebanon, indonesia\n",
            "musician: singer, comedian, guitarist, composer, journalist, writer, novelist, poet, actress, politician\n",
            "dance: jazz, blues, pop, folk, musical, baroque, genre, music, concert, rock\n",
            "\n",
            "\n"
          ]
        },
        {
          "output_type": "stream",
          "name": "stderr",
          "text": [
            "25000it [06:12, 69.25it/s]"
          ]
        },
        {
          "output_type": "stream",
          "name": "stdout",
          "text": [
            "| epoch   2 | 25000/32580 batches | loss    1.222 \n",
            "money: attention, thereby, demand, decision, situation, taxes, rapidly, wealth, clear, permission\n",
            "lion: nose, skull, nickname, banner, tomb, comet, handful, eagle, widow, merger\n",
            "africa: korea, wales, dakota, carolina, pakistan, india, asia, africans, indonesia, lebanon\n",
            "musician: singer, comedian, guitarist, composer, journalist, writer, novelist, poet, actress, politician\n",
            "dance: jazz, blues, pop, folk, musical, genre, baroque, music, rock, concert\n",
            "\n",
            "\n"
          ]
        },
        {
          "output_type": "stream",
          "name": "stderr",
          "text": [
            "25494it [06:19, 74.05it/s]"
          ]
        },
        {
          "output_type": "stream",
          "name": "stdout",
          "text": [
            "| epoch   2 | 25500/32580 batches | loss    1.223 \n",
            "money: attention, thereby, demand, decision, taxes, situation, rapidly, slowly, permission, something\n",
            "lion: nose, skull, nickname, banner, eagle, comet, handful, tomb, widow, bed\n",
            "africa: korea, wales, dakota, carolina, pakistan, india, asia, africans, lebanon, china\n",
            "musician: comedian, singer, guitarist, journalist, composer, novelist, writer, actress, politician, poet\n",
            "dance: jazz, blues, pop, folk, musical, genre, baroque, music, rock, concert\n",
            "\n",
            "\n"
          ]
        },
        {
          "output_type": "stream",
          "name": "stderr",
          "text": [
            "25999it [06:26, 69.26it/s]"
          ]
        },
        {
          "output_type": "stream",
          "name": "stdout",
          "text": [
            "| epoch   2 | 26000/32580 batches | loss    1.217 \n",
            "money: attention, thereby, demand, situation, decision, taxes, wealth, rapidly, permission, slowly\n",
            "lion: skull, nickname, nose, eagle, banner, comet, widow, tomb, handful, quest\n",
            "africa: korea, wales, dakota, carolina, pakistan, india, africans, asia, lebanon, indonesia\n",
            "musician: singer, comedian, guitarist, composer, journalist, writer, novelist, actress, politician, poet\n",
            "dance: jazz, blues, pop, folk, genre, musical, music, baroque, rock, musicians\n",
            "\n",
            "\n"
          ]
        },
        {
          "output_type": "stream",
          "name": "stderr",
          "text": [
            "26496it [06:33, 73.72it/s]"
          ]
        },
        {
          "output_type": "stream",
          "name": "stdout",
          "text": [
            "| epoch   2 | 26500/32580 batches | loss    1.215 \n",
            "money: attention, demand, thereby, situation, taxes, decision, permission, wealth, rapidly, mechanism\n",
            "lion: skull, banner, nose, eagle, nickname, tomb, handful, widow, comet, triumph\n",
            "africa: korea, wales, dakota, carolina, pakistan, india, asia, africans, indonesia, macedonia\n",
            "musician: singer, comedian, guitarist, composer, journalist, novelist, writer, poet, actress, politician\n",
            "dance: jazz, blues, folk, pop, musical, genre, baroque, music, musicians, rock\n",
            "\n",
            "\n"
          ]
        },
        {
          "output_type": "stream",
          "name": "stderr",
          "text": [
            "26999it [06:40, 70.13it/s]"
          ]
        },
        {
          "output_type": "stream",
          "name": "stdout",
          "text": [
            "| epoch   2 | 27000/32580 batches | loss    1.216 \n",
            "money: attention, demand, thereby, situation, taxes, decision, wealth, permission, mechanism, rapidly\n",
            "lion: skull, banner, nose, nickname, eagle, tomb, comet, widow, handful, quest\n",
            "africa: korea, wales, dakota, pakistan, carolina, asia, india, africans, indonesia, lebanon\n",
            "musician: singer, comedian, guitarist, composer, journalist, novelist, writer, politician, actress, poet\n",
            "dance: jazz, blues, pop, folk, genre, musical, music, musicians, rock, baroque\n",
            "\n",
            "\n"
          ]
        },
        {
          "output_type": "stream",
          "name": "stderr",
          "text": [
            "27501it [06:48, 46.61it/s]"
          ]
        },
        {
          "output_type": "stream",
          "name": "stdout",
          "text": [
            "| epoch   2 | 27500/32580 batches | loss    1.216 \n",
            "money: attention, demand, thereby, taxes, situation, decision, wealth, permission, funding, mechanism\n",
            "lion: skull, banner, nickname, eagle, comet, nose, widow, tomb, handful, triumph\n",
            "africa: korea, wales, dakota, pakistan, carolina, asia, india, africans, lebanon, afghanistan\n",
            "musician: comedian, singer, guitarist, composer, journalist, novelist, writer, politician, actress, poet\n",
            "dance: jazz, blues, pop, folk, musical, genre, music, musicians, rock, concert\n",
            "\n",
            "\n"
          ]
        },
        {
          "output_type": "stream",
          "name": "stderr",
          "text": [
            "27999it [06:55, 74.01it/s]"
          ]
        },
        {
          "output_type": "stream",
          "name": "stdout",
          "text": [
            "| epoch   2 | 28000/32580 batches | loss    1.212 \n",
            "money: attention, demand, thereby, taxes, situation, decision, wealth, permission, effective, funding\n",
            "lion: skull, eagle, banner, nose, nickname, comet, widow, triumph, handful, tomb\n",
            "africa: korea, wales, dakota, carolina, pakistan, asia, india, africans, lebanon, indonesia\n",
            "musician: comedian, singer, guitarist, composer, journalist, novelist, writer, politician, actress, poet\n",
            "dance: jazz, blues, pop, folk, genre, music, musical, musicians, rock, concert\n",
            "\n",
            "\n"
          ]
        },
        {
          "output_type": "stream",
          "name": "stderr",
          "text": [
            "28495it [07:02, 73.53it/s]"
          ]
        },
        {
          "output_type": "stream",
          "name": "stdout",
          "text": [
            "| epoch   2 | 28500/32580 batches | loss    1.210 \n",
            "money: demand, attention, thereby, taxes, situation, decision, wealth, permission, effective, funding\n",
            "lion: skull, eagle, nose, banner, comet, nickname, triumph, papacy, handful, widow\n",
            "africa: korea, wales, dakota, carolina, pakistan, india, asia, africans, lebanon, macedonia\n",
            "musician: singer, comedian, guitarist, composer, journalist, novelist, writer, actress, poet, politician\n",
            "dance: jazz, blues, pop, folk, genre, music, musical, concert, musicians, rock\n",
            "\n",
            "\n"
          ]
        },
        {
          "output_type": "stream",
          "name": "stderr",
          "text": [
            "29001it [07:10, 42.53it/s]"
          ]
        },
        {
          "output_type": "stream",
          "name": "stdout",
          "text": [
            "| epoch   2 | 29000/32580 batches | loss    1.210 \n",
            "money: demand, attention, thereby, taxes, decision, situation, wealth, permission, effective, funding\n",
            "lion: skull, eagle, banner, nose, comet, nickname, triumph, handful, widow, papacy\n",
            "africa: korea, wales, dakota, carolina, pakistan, india, asia, africans, lebanon, macedonia\n",
            "musician: singer, comedian, guitarist, composer, journalist, novelist, writer, poet, actress, politician\n",
            "dance: jazz, blues, pop, folk, genre, music, musical, musicians, concert, rock\n",
            "\n",
            "\n"
          ]
        },
        {
          "output_type": "stream",
          "name": "stderr",
          "text": [
            "29495it [07:17, 72.89it/s]"
          ]
        },
        {
          "output_type": "stream",
          "name": "stdout",
          "text": [
            "| epoch   2 | 29500/32580 batches | loss    1.208 \n",
            "money: demand, attention, taxes, thereby, situation, decision, wealth, permission, effective, funding\n",
            "lion: skull, banner, nose, eagle, nickname, triumph, widow, comet, handful, papacy\n",
            "africa: korea, wales, dakota, carolina, pakistan, india, asia, africans, macedonia, lebanon\n",
            "musician: singer, comedian, guitarist, composer, journalist, novelist, writer, poet, actress, politician\n",
            "dance: jazz, blues, pop, folk, genre, music, musical, musicians, concert, rock\n",
            "\n",
            "\n"
          ]
        },
        {
          "output_type": "stream",
          "name": "stderr",
          "text": [
            "29997it [07:24, 72.88it/s]"
          ]
        },
        {
          "output_type": "stream",
          "name": "stdout",
          "text": [
            "| epoch   2 | 30000/32580 batches | loss    1.205 \n"
          ]
        },
        {
          "output_type": "stream",
          "name": "stderr",
          "text": [
            "\r30005it [07:24, 41.94it/s]"
          ]
        },
        {
          "output_type": "stream",
          "name": "stdout",
          "text": [
            "money: demand, attention, taxes, thereby, decision, situation, wealth, permission, funding, mechanism\n",
            "lion: skull, nose, banner, triumph, nickname, widow, eagle, handful, papacy, witch\n",
            "africa: korea, wales, dakota, carolina, pakistan, asia, africans, india, macedonia, lebanon\n",
            "musician: singer, comedian, guitarist, composer, journalist, novelist, writer, actress, politician, poet\n",
            "dance: jazz, blues, pop, folk, genre, music, musicians, musical, concert, dancing\n",
            "\n",
            "\n"
          ]
        },
        {
          "output_type": "stream",
          "name": "stderr",
          "text": [
            "30496it [07:31, 66.40it/s]"
          ]
        },
        {
          "output_type": "stream",
          "name": "stdout",
          "text": [
            "| epoch   2 | 30500/32580 batches | loss    1.204 \n",
            "money: demand, attention, taxes, thereby, decision, situation, wealth, permission, sales, funding\n",
            "lion: skull, banner, nose, widow, nickname, eagle, triumph, handful, quest, witch\n",
            "africa: korea, wales, dakota, carolina, pakistan, africans, asia, india, lebanon, macedonia\n",
            "musician: singer, comedian, guitarist, composer, journalist, novelist, writer, actress, politician, actor\n",
            "dance: jazz, blues, pop, folk, musicians, genre, music, musical, concert, dancing\n",
            "\n",
            "\n"
          ]
        },
        {
          "output_type": "stream",
          "name": "stderr",
          "text": [
            "30995it [07:38, 73.16it/s]"
          ]
        },
        {
          "output_type": "stream",
          "name": "stdout",
          "text": [
            "| epoch   2 | 31000/32580 batches | loss    1.204 \n",
            "money: demand, attention, thereby, taxes, decision, situation, permission, wealth, sales, funding\n",
            "lion: skull, widow, banner, nose, eagle, handful, quest, triumph, tomb, nickname\n",
            "africa: korea, wales, dakota, carolina, pakistan, africans, india, asia, macedonia, afghanistan\n",
            "musician: singer, comedian, guitarist, composer, journalist, novelist, writer, actress, politician, poet\n",
            "dance: jazz, blues, pop, folk, musicians, music, genre, musical, concert, rock\n",
            "\n",
            "\n"
          ]
        },
        {
          "output_type": "stream",
          "name": "stderr",
          "text": [
            "31496it [07:46, 69.56it/s]"
          ]
        },
        {
          "output_type": "stream",
          "name": "stdout",
          "text": [
            "| epoch   2 | 31500/32580 batches | loss    1.200 \n",
            "money: demand, attention, thereby, taxes, situation, decision, permission, wealth, funding, sales\n",
            "lion: skull, widow, banner, eagle, nose, handful, witch, nickname, comet, coat\n",
            "africa: korea, wales, dakota, carolina, pakistan, africans, macedonia, asia, india, albania\n",
            "musician: singer, comedian, composer, guitarist, journalist, novelist, writer, actress, politician, poet\n",
            "dance: jazz, blues, pop, folk, musicians, music, genre, concert, musical, dancing\n",
            "\n",
            "\n"
          ]
        },
        {
          "output_type": "stream",
          "name": "stderr",
          "text": [
            "31994it [07:53, 70.99it/s]"
          ]
        },
        {
          "output_type": "stream",
          "name": "stdout",
          "text": [
            "| epoch   2 | 32000/32580 batches | loss    1.196 \n",
            "money: demand, attention, thereby, taxes, situation, decision, permission, wealth, funding, mechanism\n",
            "lion: skull, widow, handful, eagle, banner, witch, nose, mill, coat, papacy\n",
            "africa: korea, wales, dakota, carolina, pakistan, africans, asia, india, macedonia, albania\n",
            "musician: singer, comedian, composer, guitarist, journalist, novelist, writer, politician, actress, poet\n",
            "dance: jazz, blues, pop, folk, musicians, music, genre, concert, dancing, musical\n",
            "\n",
            "\n"
          ]
        },
        {
          "output_type": "stream",
          "name": "stderr",
          "text": [
            "32496it [08:00, 73.79it/s]"
          ]
        },
        {
          "output_type": "stream",
          "name": "stdout",
          "text": [
            "| epoch   2 | 32500/32580 batches | loss    1.201 \n",
            "money: demand, attention, thereby, taxes, situation, decision, permission, wealth, funding, sales\n",
            "lion: skull, handful, widow, witch, banner, nose, eagle, coat, papacy, mill\n",
            "africa: korea, wales, dakota, carolina, pakistan, africans, asia, india, macedonia, albania\n",
            "musician: singer, comedian, guitarist, composer, journalist, novelist, writer, politician, poet, actress\n",
            "dance: jazz, blues, pop, folk, concert, music, musical, musicians, dancing, genre\n",
            "\n",
            "\n"
          ]
        },
        {
          "output_type": "stream",
          "name": "stderr",
          "text": [
            "32580it [08:04, 67.29it/s]\n",
            "0it [00:00, ?it/s]"
          ]
        },
        {
          "output_type": "stream",
          "name": "stdout",
          "text": [
            "| epoch   3 |     0/32580 batches | loss    1.167 \n"
          ]
        },
        {
          "output_type": "stream",
          "name": "stderr",
          "text": [
            "\r1it [00:02,  2.13s/it]"
          ]
        },
        {
          "output_type": "stream",
          "name": "stdout",
          "text": [
            "money: demand, attention, thereby, taxes, situation, decision, permission, wealth, funding, sales\n",
            "lion: skull, coat, handful, witch, eagle, widow, banner, nose, nile, devil\n",
            "africa: korea, wales, dakota, carolina, pakistan, africans, india, asia, macedonia, albania\n",
            "musician: singer, composer, guitarist, comedian, journalist, novelist, writer, politician, actress, poet\n",
            "dance: jazz, blues, pop, folk, concert, musicians, music, musical, dancing, genre\n",
            "\n",
            "\n"
          ]
        },
        {
          "output_type": "stream",
          "name": "stderr",
          "text": [
            "498it [00:09, 71.43it/s]"
          ]
        },
        {
          "output_type": "stream",
          "name": "stdout",
          "text": [
            "| epoch   3 |   500/32580 batches | loss    1.170 \n",
            "money: demand, attention, thereby, taxes, decision, situation, permission, wealth, sales, funding\n",
            "lion: skull, witch, coat, handful, eagle, widow, banner, nose, papacy, mill\n",
            "africa: korea, wales, dakota, carolina, pakistan, africans, albania, macedonia, asia, india\n",
            "musician: singer, guitarist, composer, comedian, journalist, novelist, politician, writer, actress, poet\n",
            "dance: jazz, blues, pop, folk, musical, concert, musicians, music, dancing, genre\n",
            "\n",
            "\n"
          ]
        },
        {
          "output_type": "stream",
          "name": "stderr",
          "text": [
            "994it [00:16, 73.05it/s]"
          ]
        },
        {
          "output_type": "stream",
          "name": "stdout",
          "text": [
            "| epoch   3 |  1000/32580 batches | loss    1.167 \n",
            "money: demand, thereby, attention, taxes, situation, decision, permission, wealth, sales, funding\n",
            "lion: skull, witch, eagle, coat, handful, widow, banner, mill, isle, nose\n",
            "africa: korea, wales, dakota, carolina, pakistan, africans, albania, asia, macedonia, afghanistan\n",
            "musician: singer, guitarist, composer, comedian, journalist, novelist, politician, writer, actress, poet\n",
            "dance: jazz, blues, pop, folk, musical, concert, musicians, music, dancing, baroque\n",
            "\n",
            "\n"
          ]
        },
        {
          "output_type": "stream",
          "name": "stderr",
          "text": [
            "1496it [00:23, 69.51it/s]"
          ]
        },
        {
          "output_type": "stream",
          "name": "stdout",
          "text": [
            "| epoch   3 |  1500/32580 batches | loss    1.166 \n",
            "money: attention, demand, thereby, taxes, decision, situation, sales, wealth, permission, access\n",
            "lion: skull, witch, eagle, widow, handful, coat, banner, devil, bronx, isle\n",
            "africa: korea, wales, dakota, carolina, pakistan, africans, albania, asia, macedonia, afghanistan\n",
            "musician: singer, guitarist, composer, comedian, journalist, novelist, politician, writer, actress, actor\n",
            "dance: jazz, blues, pop, folk, concert, musical, music, dancing, baroque, musicians\n",
            "\n",
            "\n"
          ]
        },
        {
          "output_type": "stream",
          "name": "stderr",
          "text": [
            "1998it [00:31, 73.76it/s]"
          ]
        },
        {
          "output_type": "stream",
          "name": "stdout",
          "text": [
            "| epoch   3 |  2000/32580 batches | loss    1.167 \n",
            "money: attention, demand, thereby, taxes, situation, decision, sales, wealth, permission, access\n",
            "lion: skull, witch, eagle, widow, coat, handful, banner, elector, bronx, pseudonym\n",
            "africa: korea, wales, dakota, pakistan, carolina, albania, africans, macedonia, asia, afghanistan\n",
            "musician: singer, guitarist, composer, comedian, journalist, novelist, politician, writer, actress, poet\n",
            "dance: jazz, blues, pop, folk, concert, musical, dancing, music, musicians, rap\n",
            "\n",
            "\n"
          ]
        },
        {
          "output_type": "stream",
          "name": "stderr",
          "text": [
            "2500it [00:38, 73.31it/s]"
          ]
        },
        {
          "output_type": "stream",
          "name": "stdout",
          "text": [
            "| epoch   3 |  2500/32580 batches | loss    1.160 \n",
            "money: attention, demand, thereby, taxes, situation, decision, sales, wealth, permission, access\n",
            "lion: skull, eagle, witch, widow, handful, banner, coat, bronx, pseudonym, elector\n",
            "africa: korea, wales, dakota, pakistan, carolina, africans, albania, asia, afghanistan, macedonia\n",
            "musician: singer, guitarist, composer, comedian, journalist, novelist, politician, actress, writer, poet\n",
            "dance: jazz, blues, pop, folk, concert, dancing, music, musicians, musical, baroque\n",
            "\n",
            "\n"
          ]
        },
        {
          "output_type": "stream",
          "name": "stderr",
          "text": [
            "2997it [00:45, 70.93it/s]"
          ]
        },
        {
          "output_type": "stream",
          "name": "stdout",
          "text": [
            "| epoch   3 |  3000/32580 batches | loss    1.162 \n",
            "money: attention, demand, thereby, taxes, situation, decision, sales, wealth, permission, access\n",
            "lion: skull, eagle, witch, widow, banner, handful, bronx, pseudonym, devil, coat\n",
            "africa: korea, wales, dakota, pakistan, carolina, africans, albania, macedonia, afghanistan, asia\n",
            "musician: singer, guitarist, composer, comedian, journalist, novelist, politician, actress, writer, poet\n",
            "dance: jazz, blues, pop, folk, concert, dancing, music, musicians, rap, baroque\n",
            "\n",
            "\n"
          ]
        },
        {
          "output_type": "stream",
          "name": "stderr",
          "text": [
            "3499it [00:52, 73.83it/s]"
          ]
        },
        {
          "output_type": "stream",
          "name": "stdout",
          "text": [
            "| epoch   3 |  3500/32580 batches | loss    1.165 \n",
            "money: attention, demand, thereby, taxes, situation, sales, decision, wealth, permission, access\n",
            "lion: skull, eagle, witch, widow, banner, pseudonym, handful, bronx, elector, mill\n",
            "africa: korea, wales, dakota, pakistan, carolina, africans, albania, macedonia, afghanistan, asia\n",
            "musician: singer, guitarist, composer, comedian, journalist, novelist, politician, actress, writer, actor\n",
            "dance: jazz, blues, pop, folk, concert, dancing, music, musicians, rap, musical\n",
            "\n",
            "\n"
          ]
        },
        {
          "output_type": "stream",
          "name": "stderr",
          "text": [
            "3994it [00:59, 73.05it/s]"
          ]
        },
        {
          "output_type": "stream",
          "name": "stdout",
          "text": [
            "| epoch   3 |  4000/32580 batches | loss    1.162 \n",
            "money: demand, attention, thereby, taxes, situation, decision, sales, wealth, permission, access\n",
            "lion: skull, eagle, witch, widow, banner, pseudonym, handful, coat, bronx, elector\n",
            "africa: korea, wales, dakota, pakistan, carolina, albania, africans, macedonia, afghanistan, asia\n",
            "musician: singer, guitarist, comedian, composer, journalist, novelist, actress, politician, writer, actor\n",
            "dance: jazz, blues, pop, folk, concert, dancing, musicians, music, rap, baroque\n",
            "\n",
            "\n"
          ]
        },
        {
          "output_type": "stream",
          "name": "stderr",
          "text": [
            "4496it [01:07, 69.83it/s]"
          ]
        },
        {
          "output_type": "stream",
          "name": "stdout",
          "text": [
            "| epoch   3 |  4500/32580 batches | loss    1.162 \n",
            "money: demand, attention, taxes, thereby, situation, permission, wealth, sales, decision, access\n",
            "lion: skull, witch, eagle, widow, banner, handful, pseudonym, bronx, cliff, devil\n",
            "africa: korea, wales, dakota, pakistan, carolina, albania, macedonia, africans, afghanistan, asia\n",
            "musician: singer, guitarist, comedian, composer, journalist, novelist, actress, politician, writer, actor\n",
            "dance: jazz, blues, pop, folk, concert, dancing, music, musicians, musical, baroque\n",
            "\n",
            "\n"
          ]
        },
        {
          "output_type": "stream",
          "name": "stderr",
          "text": [
            "4995it [01:14, 73.66it/s]"
          ]
        },
        {
          "output_type": "stream",
          "name": "stdout",
          "text": [
            "| epoch   3 |  5000/32580 batches | loss    1.160 \n",
            "money: demand, attention, thereby, taxes, situation, permission, wealth, sales, decision, mechanism\n",
            "lion: skull, witch, eagle, widow, cliff, handful, elector, pseudonym, banner, mill\n",
            "africa: korea, wales, dakota, pakistan, carolina, albania, africans, macedonia, asia, afghanistan\n",
            "musician: singer, guitarist, comedian, composer, journalist, novelist, actress, politician, writer, actor\n",
            "dance: jazz, blues, pop, folk, dancing, concert, music, musicians, musical, baroque\n",
            "\n",
            "\n"
          ]
        },
        {
          "output_type": "stream",
          "name": "stderr",
          "text": [
            "5498it [01:21, 72.87it/s]"
          ]
        },
        {
          "output_type": "stream",
          "name": "stdout",
          "text": [
            "| epoch   3 |  5500/32580 batches | loss    1.161 \n",
            "money: demand, attention, thereby, taxes, situation, sales, wealth, permission, decision, access\n",
            "lion: skull, witch, eagle, widow, banner, cliff, pseudonym, handful, coat, mill\n",
            "africa: korea, wales, dakota, pakistan, carolina, africans, albania, macedonia, asia, afghanistan\n",
            "musician: singer, guitarist, comedian, composer, journalist, novelist, actress, politician, writer, actor\n",
            "dance: jazz, blues, pop, folk, dancing, concert, music, musicians, rap, baroque\n",
            "\n",
            "\n"
          ]
        },
        {
          "output_type": "stream",
          "name": "stderr",
          "text": [
            "5994it [01:28, 70.45it/s]"
          ]
        },
        {
          "output_type": "stream",
          "name": "stdout",
          "text": [
            "| epoch   3 |  6000/32580 batches | loss    1.155 \n",
            "money: demand, attention, thereby, situation, taxes, wealth, permission, sales, decision, mechanism\n",
            "lion: skull, witch, eagle, widow, cliff, pseudonym, banner, mill, handful, mare\n",
            "africa: korea, wales, dakota, pakistan, carolina, africans, albania, macedonia, asia, afghanistan\n",
            "musician: singer, guitarist, comedian, composer, journalist, novelist, actress, politician, writer, actor\n",
            "dance: jazz, blues, pop, folk, dancing, concert, music, musicians, rap, musical\n",
            "\n",
            "\n"
          ]
        },
        {
          "output_type": "stream",
          "name": "stderr",
          "text": [
            "6501it [01:36, 48.01it/s]"
          ]
        },
        {
          "output_type": "stream",
          "name": "stdout",
          "text": [
            "| epoch   3 |  6500/32580 batches | loss    1.159 \n",
            "money: demand, attention, thereby, situation, taxes, permission, wealth, sales, decision, mechanism\n",
            "lion: skull, witch, eagle, widow, banner, handful, pseudonym, bread, cliff, isle\n",
            "africa: korea, wales, dakota, pakistan, carolina, albania, africans, macedonia, asia, afghanistan\n",
            "musician: singer, comedian, guitarist, composer, journalist, novelist, actress, politician, actor, poet\n",
            "dance: jazz, blues, pop, folk, dancing, concert, music, musicians, rap, musical\n",
            "\n",
            "\n"
          ]
        },
        {
          "output_type": "stream",
          "name": "stderr",
          "text": [
            "7001it [01:43, 44.10it/s]"
          ]
        },
        {
          "output_type": "stream",
          "name": "stdout",
          "text": [
            "| epoch   3 |  7000/32580 batches | loss    1.157 \n",
            "money: demand, attention, thereby, taxes, situation, permission, sales, wealth, decision, access\n",
            "lion: skull, witch, banner, widow, bread, handful, pseudonym, cliff, eagle, isle\n",
            "africa: korea, wales, dakota, pakistan, carolina, albania, africans, macedonia, asia, afghanistan\n",
            "musician: singer, guitarist, comedian, composer, journalist, novelist, actress, politician, actor, writer\n",
            "dance: jazz, blues, pop, folk, dancing, concert, music, musicians, rap, rock\n",
            "\n",
            "\n"
          ]
        },
        {
          "output_type": "stream",
          "name": "stderr",
          "text": [
            "7496it [01:50, 72.40it/s]"
          ]
        },
        {
          "output_type": "stream",
          "name": "stdout",
          "text": [
            "| epoch   3 |  7500/32580 batches | loss    1.157 \n",
            "money: demand, attention, thereby, taxes, permission, situation, sales, wealth, decision, access\n",
            "lion: skull, witch, banner, widow, swan, coat, eagle, pseudonym, cliff, handful\n",
            "africa: korea, wales, dakota, pakistan, africans, albania, carolina, macedonia, asia, afghanistan\n",
            "musician: singer, comedian, guitarist, composer, journalist, novelist, actress, actor, politician, poet\n",
            "dance: jazz, blues, pop, folk, dancing, concert, musicians, music, rap, musical\n",
            "\n",
            "\n"
          ]
        },
        {
          "output_type": "stream",
          "name": "stderr",
          "text": [
            "7999it [01:57, 73.49it/s]"
          ]
        },
        {
          "output_type": "stream",
          "name": "stdout",
          "text": [
            "| epoch   3 |  8000/32580 batches | loss    1.155 \n",
            "money: demand, attention, thereby, taxes, sales, permission, wealth, situation, decision, funding\n",
            "lion: skull, witch, banner, widow, swan, coat, papacy, pseudonym, handful, bread\n",
            "africa: korea, wales, dakota, pakistan, carolina, albania, africans, macedonia, asia, afghanistan\n",
            "musician: singer, comedian, guitarist, composer, journalist, novelist, actress, politician, actor, poet\n",
            "dance: jazz, blues, pop, folk, dancing, concert, musicians, music, rap, musical\n",
            "\n",
            "\n"
          ]
        },
        {
          "output_type": "stream",
          "name": "stderr",
          "text": [
            "8495it [02:05, 67.38it/s]"
          ]
        },
        {
          "output_type": "stream",
          "name": "stdout",
          "text": [
            "| epoch   3 |  8500/32580 batches | loss    1.155 \n"
          ]
        },
        {
          "output_type": "stream",
          "name": "stderr",
          "text": [
            "8508it [02:05, 41.82it/s]"
          ]
        },
        {
          "output_type": "stream",
          "name": "stdout",
          "text": [
            "money: demand, attention, thereby, taxes, sales, permission, wealth, situation, funding, decision\n",
            "lion: skull, witch, banner, widow, swan, papacy, pseudonym, handful, coat, bread\n",
            "africa: korea, wales, dakota, pakistan, albania, carolina, africans, macedonia, asia, afghanistan\n",
            "musician: singer, comedian, guitarist, composer, journalist, novelist, actress, actor, politician, pianist\n",
            "dance: jazz, blues, pop, folk, dancing, concert, musicians, rap, music, musical\n",
            "\n",
            "\n"
          ]
        },
        {
          "output_type": "stream",
          "name": "stderr",
          "text": [
            "8998it [02:12, 72.02it/s]"
          ]
        },
        {
          "output_type": "stream",
          "name": "stdout",
          "text": [
            "| epoch   3 |  9000/32580 batches | loss    1.153 \n",
            "money: demand, attention, taxes, thereby, sales, permission, wealth, situation, funding, mechanism\n",
            "lion: skull, witch, widow, swan, banner, pseudonym, papacy, cliff, coat, handful\n",
            "africa: korea, wales, dakota, albania, africans, pakistan, carolina, macedonia, asia, afghanistan\n",
            "musician: singer, comedian, guitarist, composer, journalist, novelist, actress, actor, politician, pianist\n",
            "dance: jazz, blues, pop, folk, dancing, concert, musicians, rap, musical, music\n",
            "\n",
            "\n"
          ]
        },
        {
          "output_type": "stream",
          "name": "stderr",
          "text": [
            "9500it [02:19, 73.68it/s]"
          ]
        },
        {
          "output_type": "stream",
          "name": "stdout",
          "text": [
            "| epoch   3 |  9500/32580 batches | loss    1.154 \n",
            "money: demand, attention, taxes, thereby, permission, wealth, funding, sales, mechanism, situation\n",
            "lion: skull, witch, widow, swan, banner, cliff, pseudonym, eagle, papacy, mare\n",
            "africa: korea, wales, dakota, albania, pakistan, africans, carolina, macedonia, afghanistan, asia\n",
            "musician: singer, comedian, guitarist, composer, journalist, novelist, actress, politician, actor, pianist\n",
            "dance: jazz, blues, pop, folk, dancing, concert, musicians, rap, rock, musical\n",
            "\n",
            "\n"
          ]
        },
        {
          "output_type": "stream",
          "name": "stderr",
          "text": [
            "9996it [02:27, 67.07it/s]"
          ]
        },
        {
          "output_type": "stream",
          "name": "stdout",
          "text": [
            "| epoch   3 | 10000/32580 batches | loss    1.147 \n",
            "money: demand, attention, thereby, taxes, permission, funding, mechanism, sales, wealth, situation\n",
            "lion: skull, witch, swan, widow, cliff, eagle, banner, pseudonym, coat, arch\n",
            "africa: korea, wales, dakota, albania, pakistan, carolina, macedonia, africans, afghanistan, morocco\n",
            "musician: singer, comedian, composer, guitarist, journalist, novelist, actress, politician, pianist, actor\n",
            "dance: jazz, blues, pop, folk, dancing, concert, musicians, rap, swing, musical\n",
            "\n",
            "\n"
          ]
        },
        {
          "output_type": "stream",
          "name": "stderr",
          "text": [
            "10499it [02:34, 74.03it/s]"
          ]
        },
        {
          "output_type": "stream",
          "name": "stdout",
          "text": [
            "| epoch   3 | 10500/32580 batches | loss    1.152 \n",
            "money: demand, attention, taxes, thereby, permission, funding, sales, wealth, mechanism, situation\n",
            "lion: witch, skull, swan, widow, cliff, eagle, banner, arch, pseudonym, catcher\n",
            "africa: korea, dakota, wales, albania, carolina, pakistan, macedonia, africans, afghanistan, morocco\n",
            "musician: singer, comedian, composer, guitarist, journalist, novelist, actress, pianist, politician, actor\n",
            "dance: jazz, blues, pop, folk, dancing, concert, musicians, rap, swing, musical\n",
            "\n",
            "\n"
          ]
        },
        {
          "output_type": "stream",
          "name": "stderr",
          "text": [
            "10995it [02:41, 73.34it/s]"
          ]
        },
        {
          "output_type": "stream",
          "name": "stdout",
          "text": [
            "| epoch   3 | 11000/32580 batches | loss    1.151 \n",
            "money: demand, attention, taxes, funding, permission, thereby, sales, situation, wealth, mechanism\n",
            "lion: skull, witch, swan, widow, eagle, cliff, pseudonym, banner, arch, coat\n",
            "africa: korea, wales, dakota, albania, macedonia, pakistan, carolina, afghanistan, africans, morocco\n",
            "musician: singer, comedian, guitarist, composer, journalist, novelist, pianist, actress, actor, politician\n",
            "dance: jazz, blues, pop, folk, dancing, concert, musicians, rap, swing, musical\n",
            "\n",
            "\n"
          ]
        },
        {
          "output_type": "stream",
          "name": "stderr",
          "text": [
            "11501it [02:49, 45.27it/s]"
          ]
        },
        {
          "output_type": "stream",
          "name": "stdout",
          "text": [
            "| epoch   3 | 11500/32580 batches | loss    1.149 \n",
            "money: demand, attention, taxes, funding, permission, thereby, situation, sales, wealth, mechanism\n",
            "lion: skull, witch, swan, cliff, widow, pseudonym, eagle, coat, arch, banner\n",
            "africa: korea, wales, dakota, albania, macedonia, carolina, pakistan, afghanistan, africans, morocco\n",
            "musician: singer, comedian, guitarist, composer, journalist, novelist, pianist, actress, actor, politician\n",
            "dance: jazz, blues, pop, folk, dancing, concert, musicians, rap, swing, musical\n",
            "\n",
            "\n"
          ]
        },
        {
          "output_type": "stream",
          "name": "stderr",
          "text": [
            "11997it [02:56, 73.22it/s]"
          ]
        },
        {
          "output_type": "stream",
          "name": "stdout",
          "text": [
            "| epoch   3 | 12000/32580 batches | loss    1.147 \n",
            "money: demand, attention, taxes, funding, permission, thereby, situation, wealth, sales, mechanism\n",
            "lion: witch, skull, swan, cliff, widow, pseudonym, eagle, arch, mare, banner\n",
            "africa: korea, dakota, wales, albania, carolina, macedonia, pakistan, afghanistan, africans, indonesia\n",
            "musician: singer, comedian, guitarist, composer, journalist, novelist, pianist, actress, actor, politician\n",
            "dance: jazz, blues, pop, folk, dancing, concert, musicians, rap, swing, musical\n",
            "\n",
            "\n"
          ]
        },
        {
          "output_type": "stream",
          "name": "stderr",
          "text": [
            "12497it [03:03, 68.39it/s]"
          ]
        },
        {
          "output_type": "stream",
          "name": "stdout",
          "text": [
            "| epoch   3 | 12500/32580 batches | loss    1.148 \n",
            "money: demand, attention, taxes, permission, funding, thereby, sales, situation, wealth, compensation\n",
            "lion: witch, skull, cliff, swan, widow, pseudonym, crane, mare, hook, eagle\n",
            "africa: korea, wales, dakota, albania, carolina, macedonia, pakistan, afghanistan, africans, morocco\n",
            "musician: singer, comedian, guitarist, composer, journalist, novelist, pianist, actress, songwriter, actor\n",
            "dance: jazz, blues, pop, folk, dancing, concert, musicians, rap, swing, musical\n",
            "\n",
            "\n"
          ]
        },
        {
          "output_type": "stream",
          "name": "stderr",
          "text": [
            "13001it [03:11, 42.77it/s]"
          ]
        },
        {
          "output_type": "stream",
          "name": "stdout",
          "text": [
            "| epoch   3 | 13000/32580 batches | loss    1.145 \n",
            "money: demand, attention, taxes, permission, funding, thereby, situation, sales, wealth, employment\n",
            "lion: skull, witch, cliff, swan, widow, pseudonym, mare, eagle, catcher, pepper\n",
            "africa: korea, wales, dakota, albania, carolina, pakistan, macedonia, africans, afghanistan, indonesia\n",
            "musician: singer, comedian, guitarist, composer, journalist, novelist, pianist, actress, songwriter, actor\n",
            "dance: jazz, blues, pop, folk, dancing, concert, rap, musicians, swing, musical\n",
            "\n",
            "\n"
          ]
        },
        {
          "output_type": "stream",
          "name": "stderr",
          "text": [
            "13494it [03:17, 73.80it/s]"
          ]
        },
        {
          "output_type": "stream",
          "name": "stdout",
          "text": [
            "| epoch   3 | 13500/32580 batches | loss    1.145 \n",
            "money: demand, attention, taxes, permission, thereby, funding, situation, sales, wealth, compensation\n",
            "lion: witch, skull, cliff, widow, swan, pseudonym, eagle, crane, catcher, mare\n",
            "africa: korea, dakota, wales, albania, carolina, macedonia, pakistan, africans, afghanistan, indonesia\n",
            "musician: singer, comedian, composer, guitarist, journalist, novelist, pianist, actress, actor, songwriter\n",
            "dance: jazz, blues, pop, folk, dancing, concert, musicians, swing, rap, music\n",
            "\n",
            "\n"
          ]
        },
        {
          "output_type": "stream",
          "name": "stderr",
          "text": [
            "13997it [03:25, 68.76it/s]"
          ]
        },
        {
          "output_type": "stream",
          "name": "stdout",
          "text": [
            "| epoch   3 | 14000/32580 batches | loss    1.144 \n",
            "money: demand, attention, permission, thereby, taxes, funding, situation, wealth, fear, sales\n",
            "lion: skull, witch, cliff, widow, swan, pseudonym, catcher, mare, eagle, hook\n",
            "africa: korea, dakota, wales, albania, macedonia, carolina, pakistan, africans, afghanistan, indonesia\n",
            "musician: singer, comedian, guitarist, composer, journalist, novelist, pianist, actress, songwriter, actor\n",
            "dance: jazz, blues, pop, folk, dancing, musicians, concert, swing, rap, genre\n",
            "\n",
            "\n"
          ]
        },
        {
          "output_type": "stream",
          "name": "stderr",
          "text": [
            "14494it [03:32, 73.96it/s]"
          ]
        },
        {
          "output_type": "stream",
          "name": "stdout",
          "text": [
            "| epoch   3 | 14500/32580 batches | loss    1.146 \n",
            "money: demand, attention, permission, taxes, thereby, funding, situation, payment, fear, compensation\n",
            "lion: witch, skull, cliff, widow, swan, pseudonym, eagle, hook, catcher, mare\n",
            "africa: korea, dakota, wales, albania, macedonia, carolina, pakistan, africans, afghanistan, indonesia\n",
            "musician: singer, comedian, guitarist, composer, journalist, novelist, pianist, actress, actor, songwriter\n",
            "dance: jazz, blues, pop, folk, dancing, swing, concert, musicians, rap, genre\n",
            "\n",
            "\n"
          ]
        },
        {
          "output_type": "stream",
          "name": "stderr",
          "text": [
            "14996it [03:39, 73.52it/s]"
          ]
        },
        {
          "output_type": "stream",
          "name": "stdout",
          "text": [
            "| epoch   3 | 15000/32580 batches | loss    1.145 \n",
            "money: demand, attention, permission, taxes, thereby, funding, situation, payment, fear, compensation\n",
            "lion: skull, witch, cliff, swan, widow, hook, eagle, pseudonym, mare, catcher\n",
            "africa: korea, dakota, wales, albania, macedonia, carolina, pakistan, africans, afghanistan, indonesia\n",
            "musician: singer, comedian, guitarist, composer, journalist, novelist, pianist, songwriter, actress, actor\n",
            "dance: jazz, blues, pop, folk, dancing, swing, concert, musicians, rap, genre\n",
            "\n",
            "\n"
          ]
        },
        {
          "output_type": "stream",
          "name": "stderr",
          "text": [
            "15496it [03:46, 71.35it/s]"
          ]
        },
        {
          "output_type": "stream",
          "name": "stdout",
          "text": [
            "| epoch   3 | 15500/32580 batches | loss    1.139 \n",
            "money: demand, attention, permission, taxes, funding, payment, thereby, situation, fear, mechanism\n",
            "lion: skull, witch, cliff, swan, widow, hook, eagle, catcher, pseudonym, mare\n",
            "africa: korea, dakota, wales, albania, macedonia, carolina, pakistan, africans, afghanistan, indonesia\n",
            "musician: singer, comedian, guitarist, composer, journalist, novelist, pianist, songwriter, playwright, actress\n",
            "dance: jazz, blues, pop, folk, dancing, swing, concert, rap, musicians, genre\n",
            "\n",
            "\n"
          ]
        },
        {
          "output_type": "stream",
          "name": "stderr",
          "text": [
            "15997it [03:57, 73.51it/s]"
          ]
        },
        {
          "output_type": "stream",
          "name": "stdout",
          "text": [
            "| epoch   3 | 16000/32580 batches | loss    1.141 \n",
            "money: demand, attention, permission, taxes, funding, thereby, situation, compensation, payment, mechanism\n",
            "lion: skull, witch, cliff, swan, widow, eagle, hook, mare, catcher, pseudonym\n",
            "africa: korea, dakota, wales, albania, macedonia, pakistan, africans, carolina, afghanistan, indonesia\n",
            "musician: singer, comedian, guitarist, composer, journalist, novelist, pianist, songwriter, actress, playwright\n",
            "dance: jazz, blues, pop, folk, dancing, swing, concert, rap, musicians, bluegrass\n",
            "\n",
            "\n"
          ]
        },
        {
          "output_type": "stream",
          "name": "stderr",
          "text": [
            "16494it [04:04, 68.89it/s]"
          ]
        },
        {
          "output_type": "stream",
          "name": "stdout",
          "text": [
            "| epoch   3 | 16500/32580 batches | loss    1.137 \n"
          ]
        },
        {
          "output_type": "stream",
          "name": "stderr",
          "text": [
            "16507it [04:05, 42.18it/s]"
          ]
        },
        {
          "output_type": "stream",
          "name": "stdout",
          "text": [
            "money: demand, attention, permission, taxes, funding, thereby, compensation, situation, payment, wealth\n",
            "lion: skull, witch, cliff, swan, widow, eagle, hook, mare, catcher, pseudonym\n",
            "africa: korea, dakota, wales, albania, macedonia, africans, pakistan, carolina, afghanistan, indonesia\n",
            "musician: singer, comedian, guitarist, composer, journalist, novelist, pianist, songwriter, actress, dancer\n",
            "dance: jazz, blues, pop, folk, dancing, swing, concert, rap, musicians, bluegrass\n",
            "\n",
            "\n"
          ]
        },
        {
          "output_type": "stream",
          "name": "stderr",
          "text": [
            "16999it [04:12, 72.91it/s]"
          ]
        },
        {
          "output_type": "stream",
          "name": "stdout",
          "text": [
            "| epoch   3 | 17000/32580 batches | loss    1.136 \n",
            "money: demand, attention, permission, taxes, thereby, funding, compensation, mechanism, payment, fear\n",
            "lion: skull, witch, cliff, widow, swan, eagle, catcher, pseudonym, mare, hook\n",
            "africa: korea, dakota, wales, albania, macedonia, africans, carolina, pakistan, afghanistan, indonesia\n",
            "musician: singer, comedian, guitarist, composer, journalist, novelist, pianist, songwriter, dancer, actress\n",
            "dance: jazz, blues, pop, folk, dancing, concert, swing, rap, musicians, rock\n",
            "\n",
            "\n"
          ]
        },
        {
          "output_type": "stream",
          "name": "stderr",
          "text": [
            "17495it [04:19, 72.78it/s]"
          ]
        },
        {
          "output_type": "stream",
          "name": "stdout",
          "text": [
            "| epoch   3 | 17500/32580 batches | loss    1.138 \n",
            "money: demand, attention, permission, taxes, thereby, funding, compensation, payment, wealth, mechanism\n",
            "lion: skull, witch, cliff, swan, eagle, widow, catcher, mare, pseudonym, pepper\n",
            "africa: korea, dakota, wales, albania, macedonia, africans, carolina, pakistan, afghanistan, indonesia\n",
            "musician: singer, comedian, guitarist, composer, journalist, novelist, pianist, songwriter, actress, dancer\n",
            "dance: jazz, blues, pop, folk, dancing, swing, concert, rap, musicians, bluegrass\n",
            "\n",
            "\n"
          ]
        },
        {
          "output_type": "stream",
          "name": "stderr",
          "text": [
            "17993it [04:26, 71.39it/s]"
          ]
        },
        {
          "output_type": "stream",
          "name": "stdout",
          "text": [
            "| epoch   3 | 18000/32580 batches | loss    1.139 \n"
          ]
        },
        {
          "output_type": "stream",
          "name": "stderr",
          "text": [
            "18007it [04:26, 45.67it/s]"
          ]
        },
        {
          "output_type": "stream",
          "name": "stdout",
          "text": [
            "money: demand, attention, permission, taxes, thereby, funding, compensation, wealth, buying, mechanism\n",
            "lion: skull, cliff, witch, swan, widow, eagle, catcher, mare, pseudonym, pepper\n",
            "africa: korea, dakota, wales, albania, macedonia, pakistan, africans, carolina, afghanistan, indonesia\n",
            "musician: singer, comedian, guitarist, composer, journalist, novelist, pianist, songwriter, actress, actor\n",
            "dance: jazz, blues, pop, folk, dancing, swing, concert, rap, musicians, bluegrass\n",
            "\n",
            "\n"
          ]
        },
        {
          "output_type": "stream",
          "name": "stderr",
          "text": [
            "18495it [04:33, 73.46it/s]"
          ]
        },
        {
          "output_type": "stream",
          "name": "stdout",
          "text": [
            "| epoch   3 | 18500/32580 batches | loss    1.139 \n",
            "money: demand, attention, permission, taxes, thereby, funding, compensation, buying, employment, payment\n",
            "lion: skull, cliff, swan, witch, eagle, widow, catcher, mare, pseudonym, pepper\n",
            "africa: korea, dakota, wales, albania, macedonia, africans, pakistan, carolina, afghanistan, indonesia\n",
            "musician: singer, comedian, guitarist, composer, journalist, novelist, pianist, songwriter, actress, actor\n",
            "dance: jazz, blues, pop, folk, dancing, swing, concert, rap, musicians, bluegrass\n",
            "\n",
            "\n"
          ]
        },
        {
          "output_type": "stream",
          "name": "stderr",
          "text": [
            "18997it [04:40, 73.94it/s]"
          ]
        },
        {
          "output_type": "stream",
          "name": "stdout",
          "text": [
            "| epoch   3 | 19000/32580 batches | loss    1.133 \n",
            "money: demand, attention, taxes, thereby, permission, funding, payment, compensation, buying, millions\n",
            "lion: skull, cliff, swan, witch, eagle, widow, catcher, mare, goat, banner\n",
            "africa: korea, dakota, wales, albania, macedonia, africans, pakistan, afghanistan, indonesia, carolina\n",
            "musician: singer, comedian, guitarist, composer, journalist, novelist, pianist, songwriter, actress, actor\n",
            "dance: jazz, blues, pop, folk, dancing, swing, concert, rap, musicians, bluegrass\n",
            "\n",
            "\n"
          ]
        },
        {
          "output_type": "stream",
          "name": "stderr",
          "text": [
            "19500it [04:48, 68.87it/s]"
          ]
        },
        {
          "output_type": "stream",
          "name": "stdout",
          "text": [
            "| epoch   3 | 19500/32580 batches | loss    1.133 \n",
            "money: demand, attention, taxes, permission, thereby, payment, funding, compensation, buying, millions\n",
            "lion: skull, swan, cliff, witch, eagle, widow, mare, catcher, banner, goat\n",
            "africa: korea, dakota, albania, wales, macedonia, africans, pakistan, afghanistan, indonesia, carolina\n",
            "musician: singer, comedian, guitarist, composer, journalist, novelist, pianist, songwriter, actress, actor\n",
            "dance: jazz, blues, pop, folk, dancing, swing, concert, rap, musicians, bluegrass\n",
            "\n",
            "\n"
          ]
        },
        {
          "output_type": "stream",
          "name": "stderr",
          "text": [
            "19997it [04:55, 74.21it/s]"
          ]
        },
        {
          "output_type": "stream",
          "name": "stdout",
          "text": [
            "| epoch   3 | 20000/32580 batches | loss    1.132 \n",
            "money: demand, attention, taxes, permission, thereby, payment, funding, compensation, buying, employment\n",
            "lion: skull, swan, cliff, witch, eagle, widow, mare, catcher, banner, goat\n",
            "africa: korea, dakota, albania, wales, macedonia, africans, afghanistan, pakistan, indonesia, carolina\n",
            "musician: singer, comedian, guitarist, composer, journalist, novelist, pianist, songwriter, actress, actor\n",
            "dance: jazz, blues, pop, folk, dancing, swing, concert, rap, musicians, bluegrass\n",
            "\n",
            "\n"
          ]
        },
        {
          "output_type": "stream",
          "name": "stderr",
          "text": [
            "20500it [05:02, 72.83it/s]"
          ]
        },
        {
          "output_type": "stream",
          "name": "stdout",
          "text": [
            "| epoch   3 | 20500/32580 batches | loss    1.131 \n"
          ]
        },
        {
          "output_type": "stream",
          "name": "stderr",
          "text": [
            "\r20508it [05:02, 41.55it/s]"
          ]
        },
        {
          "output_type": "stream",
          "name": "stdout",
          "text": [
            "money: demand, attention, taxes, permission, thereby, payment, compensation, funding, buying, employment\n",
            "lion: skull, swan, cliff, eagle, witch, widow, mare, catcher, goat, stripes\n",
            "africa: korea, dakota, albania, wales, macedonia, africans, afghanistan, indonesia, pakistan, carolina\n",
            "musician: singer, comedian, guitarist, composer, journalist, novelist, pianist, songwriter, actress, actor\n",
            "dance: jazz, blues, pop, folk, dancing, swing, concert, rap, bluegrass, musicians\n",
            "\n",
            "\n"
          ]
        },
        {
          "output_type": "stream",
          "name": "stderr",
          "text": [
            "21000it [05:10, 69.85it/s]"
          ]
        },
        {
          "output_type": "stream",
          "name": "stdout",
          "text": [
            "| epoch   3 | 21000/32580 batches | loss    1.131 \n",
            "money: attention, demand, taxes, thereby, permission, funding, buying, compensation, payment, employment\n",
            "lion: skull, swan, cliff, eagle, witch, widow, mare, stripes, catcher, pepper\n",
            "africa: korea, dakota, albania, wales, macedonia, africans, afghanistan, indonesia, carolina, pakistan\n",
            "musician: singer, guitarist, comedian, composer, journalist, novelist, pianist, songwriter, actress, actor\n",
            "dance: jazz, blues, pop, folk, dancing, swing, concert, rap, bluegrass, musicians\n",
            "\n",
            "\n"
          ]
        },
        {
          "output_type": "stream",
          "name": "stderr",
          "text": [
            "21494it [05:17, 73.56it/s]"
          ]
        },
        {
          "output_type": "stream",
          "name": "stdout",
          "text": [
            "| epoch   3 | 21500/32580 batches | loss    1.131 \n",
            "money: demand, attention, taxes, thereby, permission, funding, buying, payment, compensation, millions\n",
            "lion: skull, swan, cliff, eagle, witch, widow, mare, stripes, pepper, banner\n",
            "africa: korea, dakota, albania, wales, macedonia, indonesia, afghanistan, africans, pakistan, morocco\n",
            "musician: singer, comedian, guitarist, composer, journalist, pianist, novelist, songwriter, dancer, actress\n",
            "dance: jazz, blues, pop, folk, dancing, swing, concert, rap, bluegrass, musicians\n",
            "\n",
            "\n"
          ]
        },
        {
          "output_type": "stream",
          "name": "stderr",
          "text": [
            "21997it [05:24, 69.22it/s]"
          ]
        },
        {
          "output_type": "stream",
          "name": "stdout",
          "text": [
            "| epoch   3 | 22000/32580 batches | loss    1.124 \n",
            "money: demand, attention, taxes, thereby, permission, funding, compensation, payment, buying, millions\n",
            "lion: skull, swan, cliff, eagle, witch, widow, mare, stripes, banner, pepper\n",
            "africa: korea, dakota, albania, macedonia, wales, indonesia, afghanistan, africans, morocco, pakistan\n",
            "musician: singer, comedian, guitarist, composer, journalist, pianist, novelist, songwriter, actress, dancer\n",
            "dance: jazz, blues, pop, folk, dancing, swing, rap, concert, bluegrass, musicians\n",
            "\n",
            "\n"
          ]
        },
        {
          "output_type": "stream",
          "name": "stderr",
          "text": [
            "22494it [05:31, 71.20it/s]"
          ]
        },
        {
          "output_type": "stream",
          "name": "stdout",
          "text": [
            "| epoch   3 | 22500/32580 batches | loss    1.129 \n",
            "money: attention, demand, taxes, thereby, permission, funding, compensation, payment, buying, millions\n",
            "lion: skull, swan, cliff, eagle, witch, widow, mare, banner, stripes, catcher\n",
            "africa: korea, dakota, albania, macedonia, wales, indonesia, afghanistan, morocco, pakistan, africans\n",
            "musician: singer, guitarist, comedian, composer, journalist, novelist, pianist, songwriter, actress, actor\n",
            "dance: jazz, blues, pop, dancing, folk, swing, rap, concert, bluegrass, musicians\n",
            "\n",
            "\n"
          ]
        },
        {
          "output_type": "stream",
          "name": "stderr",
          "text": [
            "22996it [05:38, 73.71it/s]"
          ]
        },
        {
          "output_type": "stream",
          "name": "stdout",
          "text": [
            "| epoch   3 | 23000/32580 batches | loss    1.126 \n",
            "money: attention, demand, taxes, permission, thereby, funding, compensation, millions, payment, buying\n",
            "lion: skull, swan, eagle, witch, cliff, widow, mare, banner, catcher, lamb\n",
            "africa: korea, albania, dakota, macedonia, wales, indonesia, afghanistan, africans, pakistan, morocco\n",
            "musician: singer, guitarist, comedian, composer, journalist, pianist, novelist, songwriter, actress, actor\n",
            "dance: jazz, blues, pop, folk, dancing, swing, rap, bluegrass, concert, musicians\n",
            "\n",
            "\n"
          ]
        },
        {
          "output_type": "stream",
          "name": "stderr",
          "text": [
            "23497it [05:46, 70.26it/s]"
          ]
        },
        {
          "output_type": "stream",
          "name": "stdout",
          "text": [
            "| epoch   3 | 23500/32580 batches | loss    1.126 \n",
            "money: attention, demand, taxes, permission, thereby, funding, millions, compensation, payment, buying\n",
            "lion: skull, swan, witch, eagle, cliff, widow, mare, banner, lamb, goat\n",
            "africa: korea, albania, dakota, macedonia, wales, indonesia, africans, afghanistan, pakistan, morocco\n",
            "musician: singer, guitarist, comedian, composer, journalist, pianist, novelist, songwriter, actress, actor\n",
            "dance: jazz, blues, pop, folk, dancing, swing, rap, bluegrass, concert, musicians\n",
            "\n",
            "\n"
          ]
        },
        {
          "output_type": "stream",
          "name": "stderr",
          "text": [
            "23996it [05:53, 73.30it/s]"
          ]
        },
        {
          "output_type": "stream",
          "name": "stdout",
          "text": [
            "| epoch   3 | 24000/32580 batches | loss    1.126 \n",
            "money: attention, demand, taxes, permission, payment, compensation, millions, funding, thereby, buying\n",
            "lion: skull, swan, eagle, witch, cliff, mare, widow, banner, goat, lamb\n",
            "africa: korea, albania, dakota, macedonia, wales, indonesia, africans, afghanistan, morocco, pakistan\n",
            "musician: singer, guitarist, comedian, composer, journalist, pianist, novelist, songwriter, actress, actor\n",
            "dance: jazz, blues, pop, dancing, folk, swing, rap, bluegrass, concert, musicians\n",
            "\n",
            "\n"
          ]
        },
        {
          "output_type": "stream",
          "name": "stderr",
          "text": [
            "24498it [06:00, 73.56it/s]"
          ]
        },
        {
          "output_type": "stream",
          "name": "stdout",
          "text": [
            "| epoch   3 | 24500/32580 batches | loss    1.127 \n",
            "money: attention, demand, taxes, permission, compensation, payment, funding, millions, buying, thereby\n",
            "lion: skull, swan, eagle, witch, mare, cliff, widow, lamb, goat, stripes\n",
            "africa: korea, albania, dakota, macedonia, wales, afghanistan, africans, indonesia, morocco, pakistan\n",
            "musician: singer, guitarist, comedian, composer, journalist, pianist, novelist, songwriter, actor, actress\n",
            "dance: jazz, blues, pop, dancing, folk, swing, rap, bluegrass, concert, musicians\n",
            "\n",
            "\n"
          ]
        },
        {
          "output_type": "stream",
          "name": "stderr",
          "text": [
            "24998it [06:08, 66.74it/s]"
          ]
        },
        {
          "output_type": "stream",
          "name": "stdout",
          "text": [
            "| epoch   3 | 25000/32580 batches | loss    1.125 \n",
            "money: attention, demand, taxes, permission, compensation, payment, funding, millions, thereby, buying\n",
            "lion: skull, swan, eagle, witch, cliff, mare, widow, stripes, lamb, catcher\n",
            "africa: korea, dakota, albania, macedonia, wales, africans, indonesia, afghanistan, brazil, pakistan\n",
            "musician: singer, guitarist, comedian, composer, journalist, pianist, novelist, songwriter, actor, dancer\n",
            "dance: jazz, blues, pop, dancing, folk, swing, bluegrass, rap, concert, musicians\n",
            "\n",
            "\n"
          ]
        },
        {
          "output_type": "stream",
          "name": "stderr",
          "text": [
            "25499it [06:15, 73.98it/s]"
          ]
        },
        {
          "output_type": "stream",
          "name": "stdout",
          "text": [
            "| epoch   3 | 25500/32580 batches | loss    1.121 \n",
            "money: attention, demand, taxes, permission, compensation, thereby, millions, funding, payment, buying\n",
            "lion: skull, swan, witch, eagle, mare, cliff, widow, stripes, nile, lamb\n",
            "africa: korea, dakota, albania, macedonia, wales, africans, afghanistan, indonesia, brazil, morocco\n",
            "musician: singer, guitarist, comedian, composer, journalist, pianist, novelist, songwriter, dancer, actor\n",
            "dance: jazz, blues, pop, dancing, folk, swing, rap, bluegrass, concert, musicians\n",
            "\n",
            "\n"
          ]
        },
        {
          "output_type": "stream",
          "name": "stderr",
          "text": [
            "25995it [06:22, 72.99it/s]"
          ]
        },
        {
          "output_type": "stream",
          "name": "stdout",
          "text": [
            "| epoch   3 | 26000/32580 batches | loss    1.123 \n",
            "money: attention, demand, taxes, permission, compensation, millions, funding, thereby, payment, buying\n",
            "lion: skull, swan, eagle, witch, stripes, mare, cliff, nile, widow, jacket\n",
            "africa: korea, dakota, albania, macedonia, wales, africans, indonesia, afghanistan, morocco, brazil\n",
            "musician: singer, guitarist, comedian, composer, pianist, journalist, novelist, songwriter, dancer, playwright\n",
            "dance: jazz, blues, pop, dancing, folk, swing, rap, bluegrass, concert, musicians\n",
            "\n",
            "\n"
          ]
        },
        {
          "output_type": "stream",
          "name": "stderr",
          "text": [
            "26494it [06:30, 70.43it/s]"
          ]
        },
        {
          "output_type": "stream",
          "name": "stdout",
          "text": [
            "| epoch   3 | 26500/32580 batches | loss    1.118 \n",
            "money: attention, demand, taxes, permission, compensation, funding, millions, payment, buying, thereby\n",
            "lion: skull, swan, eagle, witch, cliff, mare, stripes, nile, widow, jacket\n",
            "africa: korea, dakota, albania, macedonia, wales, africans, asia, indonesia, brazil, pakistan\n",
            "musician: singer, guitarist, comedian, composer, pianist, journalist, novelist, dancer, songwriter, playwright\n",
            "dance: jazz, blues, pop, dancing, folk, swing, concert, rap, bluegrass, musicians\n",
            "\n",
            "\n"
          ]
        },
        {
          "output_type": "stream",
          "name": "stderr",
          "text": [
            "26995it [06:40, 72.49it/s]"
          ]
        },
        {
          "output_type": "stream",
          "name": "stdout",
          "text": [
            "| epoch   3 | 27000/32580 batches | loss    1.120 \n",
            "money: attention, demand, taxes, permission, compensation, funding, payment, millions, buying, thereby\n",
            "lion: skull, swan, eagle, witch, mare, nile, stripes, cliff, widow, jacket\n",
            "africa: korea, macedonia, albania, dakota, wales, afghanistan, brazil, africans, indonesia, asia\n",
            "musician: singer, guitarist, comedian, composer, pianist, journalist, novelist, dancer, songwriter, playwright\n",
            "dance: jazz, blues, pop, dancing, folk, swing, concert, rap, bluegrass, musicians\n",
            "\n",
            "\n"
          ]
        },
        {
          "output_type": "stream",
          "name": "stderr",
          "text": [
            "27495it [06:47, 69.31it/s]"
          ]
        },
        {
          "output_type": "stream",
          "name": "stdout",
          "text": [
            "| epoch   3 | 27500/32580 batches | loss    1.119 \n",
            "money: attention, demand, taxes, permission, funding, compensation, millions, buying, thereby, payment\n",
            "lion: swan, eagle, skull, witch, nile, cliff, mare, stripes, pink, jacket\n",
            "africa: korea, macedonia, albania, dakota, africans, wales, afghanistan, indonesia, pakistan, brazil\n",
            "musician: singer, guitarist, comedian, composer, pianist, journalist, novelist, songwriter, dancer, actress\n",
            "dance: jazz, blues, pop, dancing, folk, swing, concert, rap, bluegrass, disco\n",
            "\n",
            "\n"
          ]
        },
        {
          "output_type": "stream",
          "name": "stderr",
          "text": [
            "28000it [06:55, 73.48it/s]"
          ]
        },
        {
          "output_type": "stream",
          "name": "stdout",
          "text": [
            "| epoch   3 | 28000/32580 batches | loss    1.124 \n",
            "money: attention, demand, taxes, permission, compensation, funding, buying, payment, millions, thereby\n",
            "lion: swan, skull, eagle, witch, nile, cliff, mare, catcher, stripes, jacket\n",
            "africa: korea, albania, dakota, macedonia, wales, africans, indonesia, afghanistan, pakistan, brazil\n",
            "musician: singer, guitarist, comedian, composer, journalist, pianist, novelist, dancer, songwriter, drummer\n",
            "dance: jazz, blues, pop, dancing, folk, swing, rap, bluegrass, concert, disco\n",
            "\n",
            "\n"
          ]
        },
        {
          "output_type": "stream",
          "name": "stderr",
          "text": [
            "28495it [07:02, 73.55it/s]"
          ]
        },
        {
          "output_type": "stream",
          "name": "stdout",
          "text": [
            "| epoch   3 | 28500/32580 batches | loss    1.122 \n",
            "money: demand, attention, taxes, permission, compensation, thereby, millions, payment, funding, goods\n",
            "lion: swan, skull, eagle, witch, cliff, nile, catcher, mare, jacket, stripes\n",
            "africa: korea, dakota, albania, macedonia, wales, africans, indonesia, morocco, afghanistan, brazil\n",
            "musician: singer, guitarist, comedian, composer, pianist, novelist, journalist, dancer, songwriter, actor\n",
            "dance: jazz, blues, pop, dancing, folk, swing, rap, bluegrass, concert, disco\n",
            "\n",
            "\n"
          ]
        },
        {
          "output_type": "stream",
          "name": "stderr",
          "text": [
            "28993it [07:09, 69.54it/s]"
          ]
        },
        {
          "output_type": "stream",
          "name": "stdout",
          "text": [
            "| epoch   3 | 29000/32580 batches | loss    1.121 \n"
          ]
        },
        {
          "output_type": "stream",
          "name": "stderr",
          "text": [
            "29007it [07:10, 43.36it/s]"
          ]
        },
        {
          "output_type": "stream",
          "name": "stdout",
          "text": [
            "money: demand, attention, taxes, permission, thereby, compensation, payment, funding, millions, buying\n",
            "lion: swan, skull, eagle, witch, cliff, catcher, nile, mare, stripes, goat\n",
            "africa: korea, albania, dakota, macedonia, wales, africans, indonesia, afghanistan, morocco, brazil\n",
            "musician: singer, guitarist, comedian, composer, pianist, novelist, journalist, dancer, songwriter, playwright\n",
            "dance: jazz, blues, pop, dancing, folk, swing, concert, rap, bluegrass, disco\n",
            "\n",
            "\n"
          ]
        },
        {
          "output_type": "stream",
          "name": "stderr",
          "text": [
            "29496it [07:16, 74.16it/s]"
          ]
        },
        {
          "output_type": "stream",
          "name": "stdout",
          "text": [
            "| epoch   3 | 29500/32580 batches | loss    1.120 \n",
            "money: attention, demand, taxes, permission, compensation, payment, thereby, millions, funding, buying\n",
            "lion: swan, eagle, skull, nile, cliff, witch, catcher, stripes, goat, mare\n",
            "africa: korea, dakota, macedonia, albania, wales, africans, indonesia, morocco, ethiopia, asia\n",
            "musician: singer, guitarist, comedian, composer, pianist, novelist, journalist, dancer, songwriter, playwright\n",
            "dance: jazz, blues, dancing, pop, folk, swing, concert, bluegrass, rap, disco\n",
            "\n",
            "\n"
          ]
        },
        {
          "output_type": "stream",
          "name": "stderr",
          "text": [
            "29997it [07:24, 68.42it/s]"
          ]
        },
        {
          "output_type": "stream",
          "name": "stdout",
          "text": [
            "| epoch   3 | 30000/32580 batches | loss    1.117 \n",
            "money: attention, demand, permission, taxes, compensation, millions, thereby, payment, funding, buying\n",
            "lion: eagle, swan, skull, nile, cliff, witch, mare, catcher, stripes, goat\n",
            "africa: korea, dakota, macedonia, albania, wales, indonesia, africans, ethiopia, brazil, morocco\n",
            "musician: singer, guitarist, comedian, composer, novelist, pianist, journalist, dancer, songwriter, drummer\n",
            "dance: jazz, blues, pop, dancing, folk, swing, concert, bluegrass, rap, musicians\n",
            "\n",
            "\n"
          ]
        },
        {
          "output_type": "stream",
          "name": "stderr",
          "text": [
            "30497it [07:31, 71.10it/s]"
          ]
        },
        {
          "output_type": "stream",
          "name": "stdout",
          "text": [
            "| epoch   3 | 30500/32580 batches | loss    1.116 \n",
            "money: attention, demand, permission, taxes, payment, millions, compensation, buying, thereby, funding\n",
            "lion: eagle, swan, nile, skull, cliff, witch, stripes, jacket, catcher, goat\n",
            "africa: korea, dakota, macedonia, albania, wales, indonesia, africans, ethiopia, brazil, morocco\n",
            "musician: singer, guitarist, comedian, composer, pianist, novelist, journalist, dancer, songwriter, drummer\n",
            "dance: jazz, blues, dancing, pop, folk, swing, concert, bluegrass, rap, musicians\n",
            "\n",
            "\n"
          ]
        },
        {
          "output_type": "stream",
          "name": "stderr",
          "text": [
            "31000it [07:38, 70.78it/s]"
          ]
        },
        {
          "output_type": "stream",
          "name": "stdout",
          "text": [
            "| epoch   3 | 31000/32580 batches | loss    1.111 \n",
            "money: attention, demand, permission, taxes, compensation, payment, millions, buying, funding, thereby\n",
            "lion: eagle, swan, nile, skull, cliff, witch, jacket, stripes, mare, catcher\n",
            "africa: korea, dakota, macedonia, albania, wales, africans, indonesia, ethiopia, morocco, brazil\n",
            "musician: singer, guitarist, comedian, composer, pianist, journalist, novelist, songwriter, dancer, drummer\n",
            "dance: jazz, blues, dancing, pop, folk, swing, concert, bluegrass, rap, musicians\n",
            "\n",
            "\n"
          ]
        },
        {
          "output_type": "stream",
          "name": "stderr",
          "text": [
            "31501it [07:46, 44.26it/s]"
          ]
        },
        {
          "output_type": "stream",
          "name": "stdout",
          "text": [
            "| epoch   3 | 31500/32580 batches | loss    1.116 \n",
            "money: attention, demand, taxes, permission, compensation, millions, payment, buying, funding, thereby\n",
            "lion: eagle, swan, nile, skull, cliff, witch, stripes, sands, catcher, jacket\n",
            "africa: korea, dakota, macedonia, albania, wales, africans, indonesia, ethiopia, brazil, morocco\n",
            "musician: singer, guitarist, comedian, composer, pianist, journalist, novelist, songwriter, dancer, drummer\n",
            "dance: jazz, blues, dancing, pop, folk, swing, concert, rap, bluegrass, disco\n",
            "\n",
            "\n"
          ]
        },
        {
          "output_type": "stream",
          "name": "stderr",
          "text": [
            "32001it [07:53, 47.96it/s]"
          ]
        },
        {
          "output_type": "stream",
          "name": "stdout",
          "text": [
            "| epoch   3 | 32000/32580 batches | loss    1.110 \n",
            "money: attention, demand, permission, taxes, compensation, payment, millions, buying, funding, payments\n",
            "lion: eagle, swan, skull, nile, witch, cliff, sands, jacket, stripes, catcher\n",
            "africa: korea, macedonia, dakota, albania, wales, indonesia, africans, ethiopia, brazil, morocco\n",
            "musician: singer, guitarist, comedian, composer, journalist, pianist, novelist, dancer, songwriter, drummer\n",
            "dance: jazz, blues, dancing, pop, folk, swing, bluegrass, concert, rap, disco\n",
            "\n",
            "\n"
          ]
        },
        {
          "output_type": "stream",
          "name": "stderr",
          "text": [
            "32495it [08:00, 73.92it/s]"
          ]
        },
        {
          "output_type": "stream",
          "name": "stdout",
          "text": [
            "| epoch   3 | 32500/32580 batches | loss    1.115 \n",
            "money: attention, demand, taxes, permission, compensation, payment, buying, millions, funding, payments\n",
            "lion: eagle, swan, nile, skull, witch, cliff, sands, jacket, stripes, catcher\n",
            "africa: korea, macedonia, dakota, albania, wales, africans, indonesia, ethiopia, brazil, morocco\n",
            "musician: singer, guitarist, comedian, composer, journalist, pianist, novelist, dancer, songwriter, drummer\n",
            "dance: jazz, blues, dancing, pop, folk, swing, bluegrass, concert, rap, musicians\n",
            "\n",
            "\n"
          ]
        },
        {
          "output_type": "stream",
          "name": "stderr",
          "text": [
            "32580it [08:03, 67.34it/s]\n",
            "1it [00:02,  2.17s/it]"
          ]
        },
        {
          "output_type": "stream",
          "name": "stdout",
          "text": [
            "| epoch   4 |     0/32580 batches | loss    1.127 \n",
            "money: attention, demand, taxes, permission, compensation, payment, buying, millions, funding, payments\n",
            "lion: eagle, swan, nile, skull, witch, cliff, sands, jacket, stripes, shepherd\n",
            "africa: korea, macedonia, dakota, albania, wales, africans, indonesia, ethiopia, brazil, pakistan\n",
            "musician: singer, guitarist, comedian, composer, journalist, pianist, novelist, dancer, songwriter, drummer\n",
            "dance: jazz, blues, dancing, pop, folk, swing, bluegrass, concert, rap, musicians\n",
            "\n",
            "\n"
          ]
        },
        {
          "output_type": "stream",
          "name": "stderr",
          "text": [
            "499it [00:09, 66.84it/s]"
          ]
        },
        {
          "output_type": "stream",
          "name": "stdout",
          "text": [
            "| epoch   4 |   500/32580 batches | loss    1.076 \n",
            "money: attention, demand, taxes, permission, compensation, payment, millions, buying, funding, payments\n",
            "lion: eagle, swan, nile, skull, witch, cliff, sands, jacket, shepherd, stripes\n",
            "africa: korea, macedonia, dakota, albania, wales, africans, indonesia, ethiopia, brazil, morocco\n",
            "musician: singer, guitarist, comedian, composer, journalist, pianist, novelist, songwriter, dancer, drummer\n",
            "dance: jazz, blues, dancing, pop, folk, swing, bluegrass, concert, rap, musicians\n",
            "\n",
            "\n"
          ]
        },
        {
          "output_type": "stream",
          "name": "stderr",
          "text": [
            "995it [00:16, 72.66it/s]"
          ]
        },
        {
          "output_type": "stream",
          "name": "stdout",
          "text": [
            "| epoch   4 |  1000/32580 batches | loss    1.073 \n",
            "money: attention, demand, permission, taxes, compensation, payment, millions, buying, funding, payments\n",
            "lion: eagle, swan, nile, skull, witch, cliff, sands, jacket, stripes, shepherd\n",
            "africa: korea, macedonia, dakota, albania, wales, africans, ethiopia, indonesia, morocco, brazil\n",
            "musician: singer, guitarist, comedian, composer, journalist, pianist, novelist, songwriter, dancer, drummer\n",
            "dance: jazz, blues, dancing, pop, folk, swing, bluegrass, concert, rap, musicians\n",
            "\n",
            "\n"
          ]
        },
        {
          "output_type": "stream",
          "name": "stderr",
          "text": [
            "1499it [00:24, 70.38it/s]"
          ]
        },
        {
          "output_type": "stream",
          "name": "stdout",
          "text": [
            "| epoch   4 |  1500/32580 batches | loss    1.070 \n",
            "money: attention, demand, taxes, permission, compensation, payment, buying, millions, funding, payments\n",
            "lion: eagle, swan, nile, skull, witch, cliff, sands, jacket, stripes, shepherd\n",
            "africa: korea, macedonia, dakota, albania, wales, africans, ethiopia, indonesia, morocco, pakistan\n",
            "musician: singer, guitarist, comedian, composer, journalist, novelist, pianist, songwriter, dancer, drummer\n",
            "dance: jazz, blues, dancing, pop, folk, swing, bluegrass, concert, rap, musicians\n",
            "\n",
            "\n"
          ]
        },
        {
          "output_type": "stream",
          "name": "stderr",
          "text": [
            "1996it [00:31, 73.99it/s]"
          ]
        },
        {
          "output_type": "stream",
          "name": "stdout",
          "text": [
            "| epoch   4 |  2000/32580 batches | loss    1.072 \n",
            "money: attention, demand, taxes, permission, compensation, buying, payment, millions, funding, payments\n",
            "lion: eagle, swan, nile, skull, witch, cliff, sands, jacket, stripes, thunder\n",
            "africa: korea, macedonia, dakota, albania, wales, africans, ethiopia, indonesia, pakistan, morocco\n",
            "musician: singer, guitarist, comedian, composer, journalist, pianist, novelist, songwriter, dancer, drummer\n",
            "dance: jazz, blues, dancing, pop, folk, swing, bluegrass, concert, rap, dances\n",
            "\n",
            "\n"
          ]
        },
        {
          "output_type": "stream",
          "name": "stderr",
          "text": [
            "2499it [00:38, 73.90it/s]"
          ]
        },
        {
          "output_type": "stream",
          "name": "stdout",
          "text": [
            "| epoch   4 |  2500/32580 batches | loss    1.071 \n",
            "money: attention, demand, taxes, permission, compensation, payment, buying, millions, funding, payments\n",
            "lion: eagle, swan, nile, skull, witch, cliff, sands, jacket, stripes, mare\n",
            "africa: korea, macedonia, dakota, albania, wales, africans, indonesia, ethiopia, pakistan, morocco\n",
            "musician: singer, guitarist, comedian, composer, journalist, pianist, novelist, songwriter, dancer, drummer\n",
            "dance: jazz, blues, dancing, pop, folk, swing, concert, bluegrass, rap, dances\n",
            "\n",
            "\n"
          ]
        },
        {
          "output_type": "stream",
          "name": "stderr",
          "text": [
            "2995it [00:45, 68.58it/s]"
          ]
        },
        {
          "output_type": "stream",
          "name": "stdout",
          "text": [
            "| epoch   4 |  3000/32580 batches | loss    1.070 \n",
            "money: demand, attention, taxes, permission, buying, payment, compensation, millions, funding, payments\n",
            "lion: eagle, swan, nile, skull, witch, cliff, sands, jacket, thunder, mare\n",
            "africa: korea, macedonia, dakota, albania, wales, africans, indonesia, ethiopia, pakistan, morocco\n",
            "musician: singer, guitarist, comedian, composer, journalist, pianist, novelist, songwriter, dancer, drummer\n",
            "dance: jazz, blues, dancing, pop, folk, swing, bluegrass, concert, rap, musicians\n",
            "\n",
            "\n"
          ]
        },
        {
          "output_type": "stream",
          "name": "stderr",
          "text": [
            "3494it [00:53, 71.82it/s]"
          ]
        },
        {
          "output_type": "stream",
          "name": "stdout",
          "text": [
            "| epoch   4 |  3500/32580 batches | loss    1.074 \n",
            "money: demand, attention, taxes, permission, payment, compensation, buying, millions, funding, payments\n",
            "lion: eagle, swan, nile, skull, cliff, sands, witch, thunder, jacket, mare\n",
            "africa: korea, macedonia, dakota, albania, wales, africans, indonesia, ethiopia, pakistan, morocco\n",
            "musician: singer, guitarist, comedian, composer, journalist, pianist, novelist, songwriter, dancer, drummer\n",
            "dance: jazz, blues, dancing, pop, folk, swing, bluegrass, concert, rap, dances\n",
            "\n",
            "\n"
          ]
        },
        {
          "output_type": "stream",
          "name": "stderr",
          "text": [
            "3996it [01:00, 72.20it/s]"
          ]
        },
        {
          "output_type": "stream",
          "name": "stdout",
          "text": [
            "| epoch   4 |  4000/32580 batches | loss    1.071 \n",
            "money: demand, attention, taxes, permission, buying, payment, compensation, millions, funding, payments\n",
            "lion: swan, eagle, nile, skull, cliff, witch, sands, thunder, jacket, stripes\n",
            "africa: korea, macedonia, dakota, albania, wales, africans, indonesia, ethiopia, pakistan, mozambique\n",
            "musician: singer, guitarist, comedian, composer, journalist, pianist, novelist, songwriter, dancer, drummer\n",
            "dance: jazz, blues, dancing, pop, folk, swing, bluegrass, concert, rap, dances\n",
            "\n",
            "\n"
          ]
        },
        {
          "output_type": "stream",
          "name": "stderr",
          "text": [
            "4500it [01:07, 70.95it/s]"
          ]
        },
        {
          "output_type": "stream",
          "name": "stdout",
          "text": [
            "| epoch   4 |  4500/32580 batches | loss    1.067 \n",
            "money: attention, demand, taxes, permission, buying, compensation, payment, millions, funding, payments\n",
            "lion: swan, eagle, nile, skull, cliff, sands, witch, stripes, jacket, pink\n",
            "africa: korea, macedonia, dakota, albania, wales, africans, indonesia, ethiopia, pakistan, mozambique\n",
            "musician: singer, guitarist, comedian, composer, journalist, pianist, novelist, songwriter, drummer, dancer\n",
            "dance: jazz, blues, dancing, pop, folk, bluegrass, swing, concert, rap, dances\n",
            "\n",
            "\n"
          ]
        },
        {
          "output_type": "stream",
          "name": "stderr",
          "text": [
            "4996it [01:14, 72.57it/s]"
          ]
        },
        {
          "output_type": "stream",
          "name": "stdout",
          "text": [
            "| epoch   4 |  5000/32580 batches | loss    1.069 \n",
            "money: attention, demand, taxes, permission, buying, payment, compensation, millions, funding, payments\n",
            "lion: swan, eagle, nile, skull, cliff, sands, witch, pink, deer, jacket\n",
            "africa: korea, macedonia, dakota, albania, wales, africans, indonesia, ethiopia, mozambique, pakistan\n",
            "musician: singer, guitarist, comedian, composer, journalist, pianist, novelist, songwriter, drummer, dancer\n",
            "dance: jazz, blues, pop, dancing, folk, bluegrass, swing, concert, rap, dances\n",
            "\n",
            "\n"
          ]
        },
        {
          "output_type": "stream",
          "name": "stderr",
          "text": [
            "5495it [01:21, 68.23it/s]"
          ]
        },
        {
          "output_type": "stream",
          "name": "stdout",
          "text": [
            "| epoch   4 |  5500/32580 batches | loss    1.068 \n",
            "money: attention, demand, taxes, permission, buying, payment, compensation, millions, payments, funding\n",
            "lion: swan, eagle, nile, skull, sands, cliff, witch, pink, deer, jacket\n",
            "africa: korea, macedonia, dakota, albania, africans, wales, indonesia, ethiopia, mozambique, pakistan\n",
            "musician: singer, guitarist, comedian, composer, journalist, pianist, novelist, songwriter, dancer, drummer\n",
            "dance: jazz, blues, dancing, pop, folk, bluegrass, swing, concert, rap, dances\n",
            "\n",
            "\n"
          ]
        },
        {
          "output_type": "stream",
          "name": "stderr",
          "text": [
            "5997it [01:29, 72.79it/s]"
          ]
        },
        {
          "output_type": "stream",
          "name": "stdout",
          "text": [
            "| epoch   4 |  6000/32580 batches | loss    1.066 \n",
            "money: attention, demand, taxes, permission, buying, payment, compensation, millions, payments, funding\n",
            "lion: swan, eagle, nile, skull, sands, cliff, witch, deer, pink, thunder\n",
            "africa: korea, macedonia, dakota, albania, wales, africans, indonesia, ethiopia, mozambique, pakistan\n",
            "musician: singer, guitarist, comedian, composer, journalist, pianist, novelist, songwriter, dancer, drummer\n",
            "dance: jazz, blues, pop, dancing, folk, bluegrass, swing, concert, rap, dances\n",
            "\n",
            "\n"
          ]
        },
        {
          "output_type": "stream",
          "name": "stderr",
          "text": [
            "6499it [01:36, 73.72it/s]"
          ]
        },
        {
          "output_type": "stream",
          "name": "stdout",
          "text": [
            "| epoch   4 |  6500/32580 batches | loss    1.069 \n",
            "money: attention, demand, taxes, permission, buying, payment, compensation, millions, payments, funding\n",
            "lion: swan, eagle, nile, skull, sands, cliff, pink, witch, jacket, deer\n",
            "africa: korea, macedonia, dakota, albania, africans, wales, indonesia, ethiopia, mozambique, pakistan\n",
            "musician: singer, guitarist, comedian, composer, journalist, pianist, novelist, songwriter, dancer, drummer\n",
            "dance: jazz, blues, pop, dancing, folk, bluegrass, swing, concert, rap, dances\n",
            "\n",
            "\n"
          ]
        },
        {
          "output_type": "stream",
          "name": "stderr",
          "text": [
            "6995it [01:43, 70.18it/s]"
          ]
        },
        {
          "output_type": "stream",
          "name": "stdout",
          "text": [
            "| epoch   4 |  7000/32580 batches | loss    1.071 \n",
            "money: attention, demand, taxes, permission, buying, payment, compensation, millions, funding, payments\n",
            "lion: swan, eagle, nile, skull, sands, cliff, pink, witch, deer, stripes\n",
            "africa: korea, macedonia, dakota, albania, africans, indonesia, wales, ethiopia, mozambique, pakistan\n",
            "musician: singer, guitarist, comedian, composer, journalist, pianist, novelist, songwriter, drummer, dancer\n",
            "dance: jazz, blues, pop, dancing, folk, bluegrass, swing, concert, rap, dances\n",
            "\n",
            "\n"
          ]
        },
        {
          "output_type": "stream",
          "name": "stderr",
          "text": [
            "7496it [01:51, 71.10it/s]"
          ]
        },
        {
          "output_type": "stream",
          "name": "stdout",
          "text": [
            "| epoch   4 |  7500/32580 batches | loss    1.068 \n",
            "money: attention, demand, taxes, buying, permission, payment, compensation, millions, funding, payments\n",
            "lion: swan, eagle, nile, skull, sands, cliff, pink, witch, deer, stripes\n",
            "africa: korea, macedonia, dakota, albania, africans, indonesia, wales, ethiopia, mozambique, pakistan\n",
            "musician: singer, guitarist, comedian, composer, journalist, pianist, novelist, songwriter, drummer, dancer\n",
            "dance: jazz, blues, pop, dancing, folk, bluegrass, swing, concert, rap, dances\n",
            "\n",
            "\n"
          ]
        },
        {
          "output_type": "stream",
          "name": "stderr",
          "text": [
            "7999it [01:58, 71.55it/s]"
          ]
        },
        {
          "output_type": "stream",
          "name": "stdout",
          "text": [
            "| epoch   4 |  8000/32580 batches | loss    1.069 \n",
            "money: attention, demand, taxes, buying, permission, payment, compensation, millions, payments, funding\n",
            "lion: swan, eagle, nile, skull, cliff, sands, witch, pink, deer, stripes\n",
            "africa: korea, macedonia, dakota, albania, indonesia, africans, wales, ethiopia, mozambique, pakistan\n",
            "musician: singer, guitarist, comedian, composer, journalist, pianist, novelist, songwriter, dancer, drummer\n",
            "dance: jazz, blues, pop, dancing, folk, bluegrass, swing, rap, concert, dances\n",
            "\n",
            "\n"
          ]
        },
        {
          "output_type": "stream",
          "name": "stderr",
          "text": [
            "8495it [02:05, 67.63it/s]"
          ]
        },
        {
          "output_type": "stream",
          "name": "stdout",
          "text": [
            "| epoch   4 |  8500/32580 batches | loss    1.070 \n",
            "money: attention, demand, taxes, buying, payment, permission, compensation, millions, payments, funding\n",
            "lion: swan, eagle, nile, skull, cliff, sands, witch, pink, deer, stripes\n",
            "africa: korea, macedonia, dakota, albania, indonesia, africans, wales, ethiopia, mozambique, morocco\n",
            "musician: singer, guitarist, comedian, composer, journalist, pianist, novelist, songwriter, dancer, drummer\n",
            "dance: jazz, blues, dancing, pop, bluegrass, folk, swing, rap, concert, dances\n",
            "\n",
            "\n"
          ]
        },
        {
          "output_type": "stream",
          "name": "stderr",
          "text": [
            "8995it [02:12, 73.28it/s]"
          ]
        },
        {
          "output_type": "stream",
          "name": "stdout",
          "text": [
            "| epoch   4 |  9000/32580 batches | loss    1.063 \n",
            "money: attention, demand, taxes, buying, payment, permission, compensation, millions, payments, funding\n",
            "lion: swan, eagle, nile, skull, sands, cliff, witch, pink, deer, stripes\n",
            "africa: korea, dakota, albania, macedonia, indonesia, wales, ethiopia, africans, mozambique, pakistan\n",
            "musician: singer, guitarist, comedian, composer, pianist, journalist, novelist, songwriter, dancer, drummer\n",
            "dance: jazz, blues, pop, dancing, bluegrass, folk, swing, rap, concert, dances\n",
            "\n",
            "\n"
          ]
        },
        {
          "output_type": "stream",
          "name": "stderr",
          "text": [
            "9496it [02:19, 72.35it/s]"
          ]
        },
        {
          "output_type": "stream",
          "name": "stdout",
          "text": [
            "| epoch   4 |  9500/32580 batches | loss    1.063 \n",
            "money: attention, demand, taxes, buying, payment, permission, compensation, millions, goods, payments\n",
            "lion: swan, eagle, nile, skull, sands, cliff, witch, pink, stripes, lamb\n",
            "africa: korea, albania, macedonia, dakota, indonesia, wales, ethiopia, africans, mozambique, pakistan\n",
            "musician: singer, guitarist, comedian, composer, pianist, journalist, novelist, songwriter, dancer, drummer\n",
            "dance: jazz, blues, pop, dancing, bluegrass, folk, swing, rap, concert, dances\n",
            "\n",
            "\n"
          ]
        },
        {
          "output_type": "stream",
          "name": "stderr",
          "text": [
            "9994it [02:27, 70.17it/s]"
          ]
        },
        {
          "output_type": "stream",
          "name": "stdout",
          "text": [
            "| epoch   4 | 10000/32580 batches | loss    1.069 \n",
            "money: attention, demand, taxes, buying, payment, permission, compensation, millions, promotion, payments\n",
            "lion: swan, eagle, nile, skull, sands, cliff, witch, pink, stripes, serpent\n",
            "africa: korea, dakota, macedonia, albania, indonesia, wales, africans, ethiopia, mozambique, pakistan\n",
            "musician: singer, guitarist, comedian, composer, pianist, journalist, novelist, songwriter, dancer, drummer\n",
            "dance: jazz, blues, pop, dancing, bluegrass, folk, swing, rap, concert, dances\n",
            "\n",
            "\n"
          ]
        },
        {
          "output_type": "stream",
          "name": "stderr",
          "text": [
            "10496it [02:34, 73.52it/s]"
          ]
        },
        {
          "output_type": "stream",
          "name": "stdout",
          "text": [
            "| epoch   4 | 10500/32580 batches | loss    1.067 \n",
            "money: attention, demand, taxes, buying, payment, compensation, permission, millions, promotion, payments\n",
            "lion: swan, eagle, nile, skull, sands, cliff, witch, pink, serpent, stripes\n",
            "africa: korea, dakota, macedonia, albania, indonesia, wales, africans, ethiopia, mozambique, pakistan\n",
            "musician: singer, guitarist, comedian, composer, pianist, journalist, novelist, songwriter, dancer, drummer\n",
            "dance: jazz, blues, dancing, pop, bluegrass, swing, folk, rap, concert, dances\n",
            "\n",
            "\n"
          ]
        },
        {
          "output_type": "stream",
          "name": "stderr",
          "text": [
            "10999it [02:41, 67.49it/s]"
          ]
        },
        {
          "output_type": "stream",
          "name": "stdout",
          "text": [
            "| epoch   4 | 11000/32580 batches | loss    1.066 \n",
            "money: attention, demand, taxes, buying, payment, compensation, permission, millions, promotion, goods\n",
            "lion: swan, eagle, nile, skull, sands, cliff, witch, serpent, pink, stripes\n",
            "africa: korea, dakota, macedonia, albania, indonesia, wales, ethiopia, africans, mozambique, pakistan\n",
            "musician: singer, guitarist, comedian, composer, pianist, journalist, novelist, songwriter, dancer, drummer\n",
            "dance: jazz, blues, dancing, pop, swing, bluegrass, folk, rap, concert, dances\n",
            "\n",
            "\n"
          ]
        },
        {
          "output_type": "stream",
          "name": "stderr",
          "text": [
            "11499it [02:49, 68.57it/s]"
          ]
        },
        {
          "output_type": "stream",
          "name": "stdout",
          "text": [
            "| epoch   4 | 11500/32580 batches | loss    1.067 \n",
            "money: attention, taxes, demand, buying, payment, permission, compensation, millions, promotion, goods\n",
            "lion: swan, eagle, nile, skull, sands, cliff, witch, pink, stripes, serpent\n",
            "africa: korea, dakota, albania, macedonia, indonesia, wales, africans, ethiopia, mozambique, pakistan\n",
            "musician: singer, guitarist, comedian, composer, pianist, journalist, novelist, dancer, songwriter, drummer\n",
            "dance: jazz, blues, dancing, pop, swing, bluegrass, folk, rap, concert, dances\n",
            "\n",
            "\n"
          ]
        },
        {
          "output_type": "stream",
          "name": "stderr",
          "text": [
            "11998it [02:56, 73.73it/s]"
          ]
        },
        {
          "output_type": "stream",
          "name": "stdout",
          "text": [
            "| epoch   4 | 12000/32580 batches | loss    1.066 \n",
            "money: attention, taxes, demand, buying, payment, permission, compensation, millions, promotion, goods\n",
            "lion: swan, eagle, nile, skull, sands, cliff, witch, pink, serpent, stripes\n",
            "africa: korea, albania, macedonia, dakota, indonesia, ethiopia, wales, mozambique, africans, pakistan\n",
            "musician: singer, guitarist, comedian, composer, pianist, journalist, dancer, novelist, songwriter, drummer\n",
            "dance: jazz, blues, dancing, pop, swing, bluegrass, folk, rap, concert, dances\n",
            "\n",
            "\n"
          ]
        },
        {
          "output_type": "stream",
          "name": "stderr",
          "text": [
            "12500it [03:03, 70.09it/s]"
          ]
        },
        {
          "output_type": "stream",
          "name": "stdout",
          "text": [
            "| epoch   4 | 12500/32580 batches | loss    1.063 \n",
            "money: attention, taxes, demand, buying, payment, compensation, permission, millions, promotion, goods\n",
            "lion: swan, eagle, nile, skull, cliff, sands, witch, pink, serpent, jacket\n",
            "africa: korea, macedonia, albania, dakota, indonesia, ethiopia, mozambique, wales, africans, pakistan\n",
            "musician: singer, guitarist, comedian, composer, pianist, journalist, dancer, novelist, songwriter, drummer\n",
            "dance: jazz, blues, dancing, pop, swing, folk, bluegrass, rap, concert, dances\n",
            "\n",
            "\n"
          ]
        },
        {
          "output_type": "stream",
          "name": "stderr",
          "text": [
            "12999it [03:11, 70.19it/s]"
          ]
        },
        {
          "output_type": "stream",
          "name": "stdout",
          "text": [
            "| epoch   4 | 13000/32580 batches | loss    1.067 \n"
          ]
        },
        {
          "output_type": "stream",
          "name": "stderr",
          "text": [
            "\r13007it [03:11, 40.49it/s]"
          ]
        },
        {
          "output_type": "stream",
          "name": "stdout",
          "text": [
            "money: attention, taxes, demand, buying, payment, compensation, permission, millions, goods, promotion\n",
            "lion: swan, eagle, nile, skull, cliff, sands, witch, pink, jacket, stripes\n",
            "africa: korea, macedonia, albania, dakota, indonesia, ethiopia, wales, mozambique, africans, pakistan\n",
            "musician: singer, guitarist, comedian, composer, pianist, journalist, dancer, novelist, songwriter, drummer\n",
            "dance: jazz, blues, dancing, pop, swing, folk, bluegrass, rap, concert, dances\n",
            "\n",
            "\n"
          ]
        },
        {
          "output_type": "stream",
          "name": "stderr",
          "text": [
            "13500it [03:18, 73.45it/s]"
          ]
        },
        {
          "output_type": "stream",
          "name": "stdout",
          "text": [
            "| epoch   4 | 13500/32580 batches | loss    1.066 \n",
            "money: attention, taxes, demand, buying, payment, compensation, permission, millions, goods, promotion\n",
            "lion: swan, eagle, skull, nile, sands, cliff, witch, jacket, pink, serpent\n",
            "africa: korea, macedonia, albania, dakota, indonesia, ethiopia, mozambique, wales, africans, morocco\n",
            "musician: singer, guitarist, comedian, composer, pianist, journalist, dancer, novelist, songwriter, drummer\n",
            "dance: jazz, blues, dancing, pop, swing, folk, bluegrass, rap, concert, dances\n",
            "\n",
            "\n"
          ]
        },
        {
          "output_type": "stream",
          "name": "stderr",
          "text": [
            "13997it [03:25, 69.75it/s]"
          ]
        },
        {
          "output_type": "stream",
          "name": "stdout",
          "text": [
            "| epoch   4 | 14000/32580 batches | loss    1.066 \n"
          ]
        },
        {
          "output_type": "stream",
          "name": "stderr",
          "text": [
            "\r14004it [03:26, 39.46it/s]"
          ]
        },
        {
          "output_type": "stream",
          "name": "stdout",
          "text": [
            "money: attention, demand, taxes, buying, payment, permission, millions, compensation, goods, promotion\n",
            "lion: swan, eagle, skull, nile, sands, cliff, witch, jacket, pink, serpent\n",
            "africa: korea, macedonia, albania, dakota, indonesia, ethiopia, mozambique, wales, africans, pakistan\n",
            "musician: singer, guitarist, comedian, composer, pianist, journalist, novelist, dancer, songwriter, drummer\n",
            "dance: jazz, blues, dancing, pop, swing, folk, bluegrass, rap, concert, dances\n",
            "\n",
            "\n"
          ]
        },
        {
          "output_type": "stream",
          "name": "stderr",
          "text": [
            "14499it [03:32, 72.12it/s]"
          ]
        },
        {
          "output_type": "stream",
          "name": "stdout",
          "text": [
            "| epoch   4 | 14500/32580 batches | loss    1.068 \n",
            "money: attention, demand, taxes, buying, payment, millions, permission, compensation, goods, promotion\n",
            "lion: swan, eagle, skull, nile, sands, cliff, witch, pink, jacket, serpent\n",
            "africa: korea, albania, macedonia, dakota, indonesia, ethiopia, mozambique, wales, africans, pakistan\n",
            "musician: singer, guitarist, comedian, composer, pianist, journalist, novelist, dancer, songwriter, drummer\n",
            "dance: jazz, blues, dancing, pop, swing, folk, bluegrass, rap, concert, dances\n",
            "\n",
            "\n"
          ]
        },
        {
          "output_type": "stream",
          "name": "stderr",
          "text": [
            "14993it [03:40, 71.34it/s]"
          ]
        },
        {
          "output_type": "stream",
          "name": "stdout",
          "text": [
            "| epoch   4 | 15000/32580 batches | loss    1.065 \n"
          ]
        },
        {
          "output_type": "stream",
          "name": "stderr",
          "text": [
            "15007it [03:40, 45.95it/s]"
          ]
        },
        {
          "output_type": "stream",
          "name": "stdout",
          "text": [
            "money: attention, demand, taxes, buying, payment, millions, permission, compensation, goods, promotion\n",
            "lion: swan, eagle, skull, nile, sands, cliff, witch, pink, jacket, goat\n",
            "africa: korea, albania, macedonia, dakota, indonesia, ethiopia, mozambique, africans, wales, pakistan\n",
            "musician: singer, guitarist, comedian, composer, pianist, journalist, dancer, novelist, songwriter, drummer\n",
            "dance: jazz, blues, dancing, pop, swing, folk, bluegrass, rap, concert, dances\n",
            "\n",
            "\n"
          ]
        },
        {
          "output_type": "stream",
          "name": "stderr",
          "text": [
            "15498it [03:47, 68.99it/s]"
          ]
        },
        {
          "output_type": "stream",
          "name": "stdout",
          "text": [
            "| epoch   4 | 15500/32580 batches | loss    1.064 \n",
            "money: attention, demand, taxes, buying, payment, millions, permission, compensation, goods, promotion\n",
            "lion: swan, eagle, nile, skull, cliff, sands, witch, pink, jacket, serpent\n",
            "africa: korea, albania, macedonia, dakota, ethiopia, indonesia, mozambique, africans, wales, morocco\n",
            "musician: singer, guitarist, comedian, pianist, composer, journalist, dancer, novelist, songwriter, drummer\n",
            "dance: jazz, blues, dancing, pop, swing, bluegrass, folk, rap, concert, dances\n",
            "\n",
            "\n"
          ]
        },
        {
          "output_type": "stream",
          "name": "stderr",
          "text": [
            "15999it [03:54, 72.08it/s]"
          ]
        },
        {
          "output_type": "stream",
          "name": "stdout",
          "text": [
            "| epoch   4 | 16000/32580 batches | loss    1.065 \n",
            "money: attention, demand, taxes, buying, payment, millions, permission, compensation, goods, promotion\n",
            "lion: swan, eagle, nile, skull, cliff, sands, witch, pink, jacket, goat\n",
            "africa: korea, albania, macedonia, dakota, ethiopia, mozambique, indonesia, africans, wales, morocco\n",
            "musician: singer, guitarist, comedian, pianist, composer, journalist, dancer, novelist, songwriter, drummer\n",
            "dance: jazz, blues, dancing, pop, swing, bluegrass, folk, rap, concert, dances\n",
            "\n",
            "\n"
          ]
        },
        {
          "output_type": "stream",
          "name": "stderr",
          "text": [
            "16495it [04:01, 70.99it/s]"
          ]
        },
        {
          "output_type": "stream",
          "name": "stdout",
          "text": [
            "| epoch   4 | 16500/32580 batches | loss    1.061 \n",
            "money: attention, demand, taxes, payment, buying, millions, compensation, permission, goods, promotion\n",
            "lion: swan, eagle, skull, nile, cliff, sands, pink, witch, goat, serpent\n",
            "africa: korea, albania, macedonia, dakota, ethiopia, indonesia, mozambique, africans, wales, morocco\n",
            "musician: singer, guitarist, comedian, pianist, composer, dancer, journalist, novelist, songwriter, drummer\n",
            "dance: jazz, blues, dancing, pop, swing, bluegrass, folk, rap, concert, dances\n",
            "\n",
            "\n"
          ]
        },
        {
          "output_type": "stream",
          "name": "stderr",
          "text": [
            "17001it [04:09, 46.66it/s]"
          ]
        },
        {
          "output_type": "stream",
          "name": "stdout",
          "text": [
            "| epoch   4 | 17000/32580 batches | loss    1.066 \n",
            "money: attention, demand, taxes, payment, buying, compensation, millions, permission, goods, payments\n",
            "lion: swan, eagle, skull, nile, sands, cliff, pink, witch, goat, jacket\n",
            "africa: korea, albania, macedonia, dakota, ethiopia, mozambique, africans, indonesia, wales, morocco\n",
            "musician: singer, guitarist, comedian, pianist, composer, dancer, journalist, novelist, drummer, songwriter\n",
            "dance: jazz, blues, dancing, pop, swing, folk, bluegrass, rap, concert, dances\n",
            "\n",
            "\n"
          ]
        },
        {
          "output_type": "stream",
          "name": "stderr",
          "text": [
            "17501it [04:20, 22.64it/s]"
          ]
        },
        {
          "output_type": "stream",
          "name": "stdout",
          "text": [
            "| epoch   4 | 17500/32580 batches | loss    1.064 \n",
            "money: attention, demand, taxes, payment, buying, compensation, millions, permission, goods, promotion\n",
            "lion: swan, eagle, skull, nile, sands, cliff, pink, witch, goat, goose\n",
            "africa: korea, macedonia, albania, dakota, ethiopia, mozambique, africans, indonesia, wales, morocco\n",
            "musician: singer, guitarist, comedian, pianist, composer, dancer, novelist, journalist, drummer, songwriter\n",
            "dance: jazz, blues, dancing, pop, swing, folk, bluegrass, rap, concert, dances\n",
            "\n",
            "\n"
          ]
        },
        {
          "output_type": "stream",
          "name": "stderr",
          "text": [
            "17998it [04:27, 68.85it/s]"
          ]
        },
        {
          "output_type": "stream",
          "name": "stdout",
          "text": [
            "| epoch   4 | 18000/32580 batches | loss    1.059 \n"
          ]
        },
        {
          "output_type": "stream",
          "name": "stderr",
          "text": [
            "\r18005it [04:27, 38.71it/s]"
          ]
        },
        {
          "output_type": "stream",
          "name": "stdout",
          "text": [
            "money: attention, demand, taxes, payment, buying, millions, compensation, permission, goods, promotion\n",
            "lion: swan, eagle, skull, nile, sands, cliff, pink, witch, goat, jacket\n",
            "africa: korea, macedonia, albania, dakota, ethiopia, mozambique, africans, indonesia, morocco, wales\n",
            "musician: singer, guitarist, comedian, pianist, composer, journalist, novelist, dancer, drummer, songwriter\n",
            "dance: jazz, blues, dancing, pop, swing, folk, bluegrass, rap, concert, dances\n",
            "\n",
            "\n"
          ]
        },
        {
          "output_type": "stream",
          "name": "stderr",
          "text": [
            "18500it [04:34, 73.19it/s]"
          ]
        },
        {
          "output_type": "stream",
          "name": "stdout",
          "text": [
            "| epoch   4 | 18500/32580 batches | loss    1.064 \n",
            "money: attention, demand, taxes, payment, buying, millions, compensation, goods, permission, promotion\n",
            "lion: swan, eagle, skull, nile, sands, cliff, pink, witch, goat, jacket\n",
            "africa: korea, macedonia, albania, dakota, ethiopia, mozambique, africans, indonesia, wales, morocco\n",
            "musician: singer, guitarist, comedian, pianist, composer, novelist, journalist, dancer, drummer, songwriter\n",
            "dance: jazz, blues, dancing, pop, swing, folk, bluegrass, rap, concert, dances\n",
            "\n",
            "\n"
          ]
        },
        {
          "output_type": "stream",
          "name": "stderr",
          "text": [
            "18996it [04:41, 70.70it/s]"
          ]
        },
        {
          "output_type": "stream",
          "name": "stdout",
          "text": [
            "| epoch   4 | 19000/32580 batches | loss    1.062 \n",
            "money: attention, demand, taxes, payment, millions, buying, goods, compensation, permission, promotion\n",
            "lion: swan, eagle, skull, nile, sands, cliff, witch, goat, pink, serpent\n",
            "africa: korea, macedonia, albania, dakota, ethiopia, mozambique, africans, indonesia, wales, morocco\n",
            "musician: singer, guitarist, comedian, pianist, composer, novelist, journalist, drummer, dancer, songwriter\n",
            "dance: jazz, blues, dancing, pop, swing, bluegrass, folk, concert, rap, dances\n",
            "\n",
            "\n"
          ]
        },
        {
          "output_type": "stream",
          "name": "stderr",
          "text": [
            "19495it [04:49, 70.10it/s]"
          ]
        },
        {
          "output_type": "stream",
          "name": "stdout",
          "text": [
            "| epoch   4 | 19500/32580 batches | loss    1.063 \n"
          ]
        },
        {
          "output_type": "stream",
          "name": "stderr",
          "text": [
            "19509it [04:49, 44.60it/s]"
          ]
        },
        {
          "output_type": "stream",
          "name": "stdout",
          "text": [
            "money: attention, demand, taxes, payment, millions, buying, goods, permission, compensation, promotion\n",
            "lion: swan, eagle, skull, sands, nile, cliff, witch, goat, pink, serpent\n",
            "africa: korea, macedonia, albania, dakota, ethiopia, mozambique, africans, indonesia, wales, morocco\n",
            "musician: singer, guitarist, comedian, pianist, composer, dancer, journalist, novelist, drummer, songwriter\n",
            "dance: jazz, blues, dancing, pop, swing, bluegrass, folk, concert, rap, dances\n",
            "\n",
            "\n"
          ]
        },
        {
          "output_type": "stream",
          "name": "stderr",
          "text": [
            "19995it [04:56, 73.12it/s]"
          ]
        },
        {
          "output_type": "stream",
          "name": "stdout",
          "text": [
            "| epoch   4 | 20000/32580 batches | loss    1.057 \n",
            "money: attention, demand, taxes, payment, buying, millions, compensation, goods, permission, promotion\n",
            "lion: swan, eagle, skull, nile, sands, cliff, goat, witch, pink, serpent\n",
            "africa: korea, macedonia, albania, dakota, ethiopia, africans, mozambique, indonesia, wales, morocco\n",
            "musician: singer, guitarist, comedian, pianist, composer, dancer, journalist, drummer, novelist, songwriter\n",
            "dance: jazz, blues, dancing, pop, swing, bluegrass, folk, concert, rap, dances\n",
            "\n",
            "\n"
          ]
        },
        {
          "output_type": "stream",
          "name": "stderr",
          "text": [
            "20496it [05:03, 69.36it/s]"
          ]
        },
        {
          "output_type": "stream",
          "name": "stdout",
          "text": [
            "| epoch   4 | 20500/32580 batches | loss    1.060 \n",
            "money: attention, demand, taxes, payment, buying, millions, compensation, permission, goods, promotion\n",
            "lion: swan, eagle, skull, sands, nile, cliff, goat, witch, serpent, pink\n",
            "africa: korea, macedonia, albania, dakota, ethiopia, africans, mozambique, indonesia, wales, morocco\n",
            "musician: singer, guitarist, comedian, pianist, composer, drummer, dancer, journalist, novelist, songwriter\n",
            "dance: jazz, blues, dancing, pop, swing, bluegrass, folk, concert, rap, dances\n",
            "\n",
            "\n"
          ]
        },
        {
          "output_type": "stream",
          "name": "stderr",
          "text": [
            "20995it [05:10, 72.92it/s]"
          ]
        },
        {
          "output_type": "stream",
          "name": "stdout",
          "text": [
            "| epoch   4 | 21000/32580 batches | loss    1.060 \n",
            "money: attention, demand, buying, taxes, payment, millions, compensation, permission, goods, promotion\n",
            "lion: swan, eagle, skull, nile, sands, cliff, goat, witch, serpent, jacket\n",
            "africa: korea, macedonia, albania, dakota, ethiopia, africans, mozambique, indonesia, wales, morocco\n",
            "musician: singer, guitarist, comedian, pianist, composer, drummer, dancer, journalist, songwriter, novelist\n",
            "dance: jazz, blues, dancing, pop, swing, bluegrass, folk, concert, rap, dances\n",
            "\n",
            "\n"
          ]
        },
        {
          "output_type": "stream",
          "name": "stderr",
          "text": [
            "21497it [05:17, 73.49it/s]"
          ]
        },
        {
          "output_type": "stream",
          "name": "stdout",
          "text": [
            "| epoch   4 | 21500/32580 batches | loss    1.059 \n",
            "money: attention, demand, taxes, payment, buying, millions, compensation, permission, goods, promotion\n",
            "lion: swan, eagle, skull, sands, nile, cliff, goat, witch, serpent, jacket\n",
            "africa: korea, macedonia, albania, dakota, ethiopia, mozambique, africans, indonesia, wales, morocco\n",
            "musician: singer, guitarist, comedian, pianist, composer, drummer, dancer, journalist, songwriter, novelist\n",
            "dance: jazz, blues, dancing, pop, swing, folk, bluegrass, concert, rap, dances\n",
            "\n",
            "\n"
          ]
        },
        {
          "output_type": "stream",
          "name": "stderr",
          "text": [
            "22001it [05:25, 45.38it/s]"
          ]
        },
        {
          "output_type": "stream",
          "name": "stdout",
          "text": [
            "| epoch   4 | 22000/32580 batches | loss    1.056 \n",
            "money: attention, demand, taxes, payment, buying, millions, compensation, permission, goods, promotion\n",
            "lion: swan, eagle, skull, sands, nile, cliff, goat, witch, serpent, pink\n",
            "africa: korea, macedonia, albania, dakota, ethiopia, mozambique, africans, indonesia, wales, morocco\n",
            "musician: singer, guitarist, comedian, pianist, composer, drummer, dancer, journalist, novelist, songwriter\n",
            "dance: jazz, blues, dancing, pop, swing, folk, bluegrass, concert, rap, dances\n",
            "\n",
            "\n"
          ]
        },
        {
          "output_type": "stream",
          "name": "stderr",
          "text": [
            "22500it [05:32, 73.51it/s]"
          ]
        },
        {
          "output_type": "stream",
          "name": "stdout",
          "text": [
            "| epoch   4 | 22500/32580 batches | loss    1.056 \n",
            "money: attention, demand, taxes, buying, payment, compensation, millions, permission, goods, promotion\n",
            "lion: swan, eagle, skull, sands, nile, goat, cliff, witch, serpent, jacket\n",
            "africa: korea, macedonia, albania, dakota, ethiopia, africans, mozambique, indonesia, morocco, wales\n",
            "musician: singer, guitarist, comedian, pianist, composer, drummer, dancer, journalist, novelist, songwriter\n",
            "dance: jazz, blues, dancing, pop, swing, folk, bluegrass, concert, rap, dances\n",
            "\n",
            "\n"
          ]
        },
        {
          "output_type": "stream",
          "name": "stderr",
          "text": [
            "22996it [05:39, 73.62it/s]"
          ]
        },
        {
          "output_type": "stream",
          "name": "stdout",
          "text": [
            "| epoch   4 | 23000/32580 batches | loss    1.059 \n",
            "money: attention, demand, taxes, buying, payment, compensation, millions, permission, goods, promotion\n",
            "lion: swan, eagle, skull, sands, nile, goat, cliff, witch, serpent, jacket\n",
            "africa: korea, macedonia, albania, dakota, africans, ethiopia, mozambique, morocco, indonesia, wales\n",
            "musician: singer, guitarist, comedian, pianist, composer, drummer, dancer, journalist, songwriter, novelist\n",
            "dance: jazz, blues, dancing, pop, swing, folk, bluegrass, concert, rap, dances\n",
            "\n",
            "\n"
          ]
        },
        {
          "output_type": "stream",
          "name": "stderr",
          "text": [
            "23500it [05:46, 66.53it/s]"
          ]
        },
        {
          "output_type": "stream",
          "name": "stdout",
          "text": [
            "| epoch   4 | 23500/32580 batches | loss    1.058 \n"
          ]
        },
        {
          "output_type": "stream",
          "name": "stderr",
          "text": [
            "\r23507it [05:47, 38.01it/s]"
          ]
        },
        {
          "output_type": "stream",
          "name": "stdout",
          "text": [
            "money: attention, demand, taxes, buying, payment, compensation, millions, permission, goods, promotion\n",
            "lion: swan, eagle, skull, sands, nile, goat, cliff, witch, serpent, jacket\n",
            "africa: korea, albania, macedonia, dakota, africans, ethiopia, mozambique, morocco, indonesia, brazil\n",
            "musician: singer, guitarist, comedian, pianist, composer, drummer, dancer, novelist, songwriter, journalist\n",
            "dance: jazz, blues, dancing, pop, swing, folk, bluegrass, concert, rap, dances\n",
            "\n",
            "\n"
          ]
        },
        {
          "output_type": "stream",
          "name": "stderr",
          "text": [
            "24001it [05:54, 48.01it/s]"
          ]
        },
        {
          "output_type": "stream",
          "name": "stdout",
          "text": [
            "| epoch   4 | 24000/32580 batches | loss    1.064 \n",
            "money: attention, demand, taxes, payment, buying, millions, compensation, permission, goods, promotion\n",
            "lion: swan, eagle, skull, sands, nile, goat, cliff, witch, serpent, jacket\n",
            "africa: korea, albania, macedonia, dakota, africans, ethiopia, mozambique, morocco, indonesia, wales\n",
            "musician: singer, guitarist, comedian, pianist, composer, drummer, dancer, novelist, songwriter, journalist\n",
            "dance: jazz, blues, dancing, pop, swing, bluegrass, folk, dances, concert, rap\n",
            "\n",
            "\n"
          ]
        },
        {
          "output_type": "stream",
          "name": "stderr",
          "text": [
            "24500it [06:01, 72.21it/s]"
          ]
        },
        {
          "output_type": "stream",
          "name": "stdout",
          "text": [
            "| epoch   4 | 24500/32580 batches | loss    1.061 \n",
            "money: attention, taxes, demand, payment, buying, millions, compensation, permission, goods, promotion\n",
            "lion: swan, eagle, skull, sands, nile, goat, cliff, witch, serpent, jacket\n",
            "africa: korea, macedonia, albania, dakota, ethiopia, mozambique, africans, morocco, indonesia, wales\n",
            "musician: singer, guitarist, comedian, pianist, composer, drummer, dancer, novelist, songwriter, journalist\n",
            "dance: jazz, blues, dancing, pop, swing, folk, bluegrass, dances, concert, rap\n",
            "\n",
            "\n"
          ]
        },
        {
          "output_type": "stream",
          "name": "stderr",
          "text": [
            "24998it [06:08, 67.72it/s]"
          ]
        },
        {
          "output_type": "stream",
          "name": "stdout",
          "text": [
            "| epoch   4 | 25000/32580 batches | loss    1.061 \n",
            "money: attention, taxes, demand, payment, buying, compensation, millions, permission, goods, promotion\n",
            "lion: swan, eagle, skull, sands, nile, goat, cliff, witch, serpent, jacket\n",
            "africa: korea, albania, macedonia, dakota, ethiopia, mozambique, africans, morocco, indonesia, wales\n",
            "musician: singer, guitarist, comedian, pianist, composer, drummer, dancer, novelist, songwriter, journalist\n",
            "dance: jazz, blues, dancing, pop, swing, folk, bluegrass, concert, dances, rap\n",
            "\n",
            "\n"
          ]
        },
        {
          "output_type": "stream",
          "name": "stderr",
          "text": [
            "25500it [06:16, 72.98it/s]"
          ]
        },
        {
          "output_type": "stream",
          "name": "stdout",
          "text": [
            "| epoch   4 | 25500/32580 batches | loss    1.054 \n",
            "money: attention, taxes, demand, payment, buying, compensation, millions, permission, goods, promotion\n",
            "lion: swan, eagle, skull, sands, nile, goat, cliff, witch, serpent, jacket\n",
            "africa: korea, albania, macedonia, dakota, africans, ethiopia, mozambique, morocco, indonesia, wales\n",
            "musician: singer, guitarist, comedian, pianist, composer, drummer, dancer, novelist, songwriter, journalist\n",
            "dance: jazz, blues, dancing, pop, swing, folk, bluegrass, concert, dances, rap\n",
            "\n",
            "\n"
          ]
        },
        {
          "output_type": "stream",
          "name": "stderr",
          "text": [
            "26001it [06:23, 44.52it/s]"
          ]
        },
        {
          "output_type": "stream",
          "name": "stdout",
          "text": [
            "| epoch   4 | 26000/32580 batches | loss    1.062 \n",
            "money: attention, taxes, demand, buying, payment, compensation, millions, goods, permission, payments\n",
            "lion: swan, eagle, skull, sands, nile, goat, cliff, witch, serpent, jacket\n",
            "africa: korea, albania, macedonia, dakota, mozambique, ethiopia, africans, morocco, indonesia, wales\n",
            "musician: singer, guitarist, comedian, pianist, composer, drummer, dancer, novelist, songwriter, journalist\n",
            "dance: jazz, blues, dancing, pop, swing, folk, bluegrass, concert, dances, rap\n",
            "\n",
            "\n"
          ]
        },
        {
          "output_type": "stream",
          "name": "stderr",
          "text": [
            "26498it [06:30, 67.97it/s]"
          ]
        },
        {
          "output_type": "stream",
          "name": "stdout",
          "text": [
            "| epoch   4 | 26500/32580 batches | loss    1.060 \n"
          ]
        },
        {
          "output_type": "stream",
          "name": "stderr",
          "text": [
            "\r26505it [06:31, 39.16it/s]"
          ]
        },
        {
          "output_type": "stream",
          "name": "stdout",
          "text": [
            "money: attention, taxes, demand, buying, payment, millions, compensation, permission, goods, payments\n",
            "lion: swan, eagle, skull, sands, nile, goat, cliff, witch, serpent, jacket\n",
            "africa: korea, macedonia, albania, dakota, mozambique, ethiopia, africans, morocco, indonesia, wales\n",
            "musician: singer, guitarist, comedian, pianist, composer, drummer, dancer, songwriter, journalist, novelist\n",
            "dance: jazz, blues, dancing, pop, swing, bluegrass, folk, concert, dances, rap\n",
            "\n",
            "\n"
          ]
        },
        {
          "output_type": "stream",
          "name": "stderr",
          "text": [
            "27000it [06:37, 72.69it/s]"
          ]
        },
        {
          "output_type": "stream",
          "name": "stdout",
          "text": [
            "| epoch   4 | 27000/32580 batches | loss    1.058 \n",
            "money: attention, taxes, demand, buying, payment, millions, compensation, permission, goods, payments\n",
            "lion: swan, eagle, skull, sands, nile, goat, cliff, witch, serpent, jacket\n",
            "africa: korea, albania, macedonia, dakota, mozambique, ethiopia, africans, morocco, indonesia, wales\n",
            "musician: singer, guitarist, comedian, pianist, composer, drummer, dancer, songwriter, novelist, journalist\n",
            "dance: jazz, blues, dancing, pop, swing, bluegrass, folk, concert, rap, dances\n",
            "\n",
            "\n"
          ]
        },
        {
          "output_type": "stream",
          "name": "stderr",
          "text": [
            "27501it [06:45, 42.88it/s]"
          ]
        },
        {
          "output_type": "stream",
          "name": "stdout",
          "text": [
            "| epoch   4 | 27500/32580 batches | loss    1.055 \n",
            "money: attention, taxes, demand, buying, payment, millions, compensation, permission, goods, promotion\n",
            "lion: swan, eagle, skull, sands, nile, goat, cliff, witch, serpent, jacket\n",
            "africa: korea, albania, macedonia, dakota, mozambique, ethiopia, africans, indonesia, morocco, wales\n",
            "musician: singer, guitarist, comedian, pianist, composer, dancer, drummer, songwriter, novelist, journalist\n",
            "dance: jazz, blues, dancing, pop, swing, bluegrass, folk, concert, rap, dances\n",
            "\n",
            "\n"
          ]
        },
        {
          "output_type": "stream",
          "name": "stderr",
          "text": [
            "27995it [06:52, 73.84it/s]"
          ]
        },
        {
          "output_type": "stream",
          "name": "stdout",
          "text": [
            "| epoch   4 | 28000/32580 batches | loss    1.060 \n",
            "money: attention, taxes, buying, demand, payment, millions, compensation, permission, goods, promotion\n",
            "lion: swan, eagle, skull, sands, nile, goat, cliff, serpent, jacket, witch\n",
            "africa: korea, albania, macedonia, dakota, mozambique, ethiopia, africans, morocco, indonesia, wales\n",
            "musician: singer, guitarist, comedian, pianist, composer, dancer, drummer, songwriter, novelist, journalist\n",
            "dance: jazz, blues, dancing, pop, swing, bluegrass, folk, concert, rap, ballroom\n",
            "\n",
            "\n"
          ]
        },
        {
          "output_type": "stream",
          "name": "stderr",
          "text": [
            "28494it [06:59, 71.55it/s]"
          ]
        },
        {
          "output_type": "stream",
          "name": "stdout",
          "text": [
            "| epoch   4 | 28500/32580 batches | loss    1.059 \n",
            "money: attention, taxes, buying, demand, payment, compensation, millions, permission, goods, payments\n",
            "lion: swan, skull, eagle, sands, nile, goat, serpent, cliff, jacket, witch\n",
            "africa: korea, albania, macedonia, dakota, africans, mozambique, ethiopia, indonesia, morocco, wales\n",
            "musician: singer, guitarist, comedian, pianist, composer, dancer, drummer, songwriter, novelist, journalist\n",
            "dance: jazz, blues, dancing, pop, swing, bluegrass, folk, concert, rap, ballroom\n",
            "\n",
            "\n"
          ]
        },
        {
          "output_type": "stream",
          "name": "stderr",
          "text": [
            "28999it [07:06, 67.63it/s]"
          ]
        },
        {
          "output_type": "stream",
          "name": "stdout",
          "text": [
            "| epoch   4 | 29000/32580 batches | loss    1.060 \n",
            "money: attention, taxes, buying, demand, payment, millions, compensation, permission, goods, promotion\n",
            "lion: swan, skull, eagle, sands, nile, goat, serpent, cliff, jacket, witch\n",
            "africa: korea, albania, macedonia, dakota, africans, mozambique, ethiopia, morocco, indonesia, wales\n",
            "musician: singer, guitarist, comedian, pianist, composer, dancer, drummer, songwriter, novelist, journalist\n",
            "dance: jazz, blues, dancing, pop, swing, bluegrass, folk, concert, rap, ballroom\n",
            "\n",
            "\n"
          ]
        },
        {
          "output_type": "stream",
          "name": "stderr",
          "text": [
            "29497it [07:14, 73.56it/s]"
          ]
        },
        {
          "output_type": "stream",
          "name": "stdout",
          "text": [
            "| epoch   4 | 29500/32580 batches | loss    1.055 \n",
            "money: attention, taxes, demand, buying, payment, millions, compensation, permission, goods, payments\n",
            "lion: swan, eagle, skull, sands, nile, goat, serpent, witch, cliff, jacket\n",
            "africa: korea, albania, macedonia, dakota, mozambique, africans, ethiopia, morocco, indonesia, wales\n",
            "musician: singer, guitarist, comedian, pianist, composer, dancer, drummer, songwriter, novelist, journalist\n",
            "dance: jazz, blues, dancing, pop, swing, bluegrass, folk, rap, concert, ballroom\n",
            "\n",
            "\n"
          ]
        },
        {
          "output_type": "stream",
          "name": "stderr",
          "text": [
            "30000it [07:21, 73.34it/s]"
          ]
        },
        {
          "output_type": "stream",
          "name": "stdout",
          "text": [
            "| epoch   4 | 30000/32580 batches | loss    1.056 \n",
            "money: attention, taxes, buying, demand, payment, millions, compensation, permission, goods, payments\n",
            "lion: swan, eagle, skull, sands, nile, goat, serpent, witch, cliff, jacket\n",
            "africa: korea, albania, macedonia, dakota, mozambique, ethiopia, morocco, africans, indonesia, brazil\n",
            "musician: singer, guitarist, comedian, pianist, composer, dancer, drummer, songwriter, novelist, journalist\n",
            "dance: jazz, blues, dancing, pop, swing, bluegrass, folk, rap, concert, ballroom\n",
            "\n",
            "\n"
          ]
        },
        {
          "output_type": "stream",
          "name": "stderr",
          "text": [
            "30501it [07:28, 44.71it/s]"
          ]
        },
        {
          "output_type": "stream",
          "name": "stdout",
          "text": [
            "| epoch   4 | 30500/32580 batches | loss    1.053 \n",
            "money: attention, taxes, buying, demand, payment, millions, compensation, permission, goods, payments\n",
            "lion: swan, eagle, skull, sands, nile, goat, witch, cliff, serpent, jacket\n",
            "africa: korea, albania, macedonia, dakota, mozambique, ethiopia, morocco, africans, indonesia, bulgaria\n",
            "musician: singer, guitarist, comedian, pianist, dancer, composer, drummer, songwriter, novelist, journalist\n",
            "dance: jazz, blues, dancing, pop, swing, bluegrass, folk, rap, concert, ballroom\n",
            "\n",
            "\n"
          ]
        },
        {
          "output_type": "stream",
          "name": "stderr",
          "text": [
            "30999it [07:35, 73.39it/s]"
          ]
        },
        {
          "output_type": "stream",
          "name": "stdout",
          "text": [
            "| epoch   4 | 31000/32580 batches | loss    1.059 \n",
            "money: attention, taxes, buying, demand, payment, millions, compensation, permission, goods, payments\n",
            "lion: swan, eagle, skull, sands, nile, goat, witch, serpent, jacket, cliff\n",
            "africa: korea, albania, macedonia, dakota, mozambique, morocco, ethiopia, africans, indonesia, bulgaria\n",
            "musician: singer, guitarist, comedian, pianist, dancer, composer, drummer, songwriter, novelist, journalist\n",
            "dance: jazz, blues, dancing, pop, swing, bluegrass, folk, rap, concert, ballroom\n",
            "\n",
            "\n"
          ]
        },
        {
          "output_type": "stream",
          "name": "stderr",
          "text": [
            "31495it [07:42, 73.20it/s]"
          ]
        },
        {
          "output_type": "stream",
          "name": "stdout",
          "text": [
            "| epoch   4 | 31500/32580 batches | loss    1.052 \n",
            "money: attention, taxes, buying, demand, payment, compensation, millions, permission, goods, payments\n",
            "lion: swan, eagle, skull, sands, nile, goat, witch, cliff, jacket, serpent\n",
            "africa: korea, macedonia, albania, dakota, mozambique, ethiopia, morocco, africans, indonesia, bulgaria\n",
            "musician: singer, guitarist, comedian, pianist, dancer, composer, songwriter, drummer, novelist, journalist\n",
            "dance: jazz, blues, dancing, pop, swing, bluegrass, folk, rap, ballroom, concert\n",
            "\n",
            "\n"
          ]
        },
        {
          "output_type": "stream",
          "name": "stderr",
          "text": [
            "31999it [07:50, 70.27it/s]"
          ]
        },
        {
          "output_type": "stream",
          "name": "stdout",
          "text": [
            "| epoch   4 | 32000/32580 batches | loss    1.057 \n",
            "money: attention, taxes, buying, demand, payment, compensation, millions, permission, goods, payments\n",
            "lion: swan, eagle, skull, sands, nile, goat, witch, cliff, bearded, jacket\n",
            "africa: korea, macedonia, albania, dakota, mozambique, ethiopia, morocco, indonesia, africans, bulgaria\n",
            "musician: singer, guitarist, comedian, pianist, dancer, composer, drummer, songwriter, novelist, journalist\n",
            "dance: jazz, blues, dancing, pop, swing, folk, bluegrass, rap, concert, ballroom\n",
            "\n",
            "\n"
          ]
        },
        {
          "output_type": "stream",
          "name": "stderr",
          "text": [
            "32495it [07:57, 73.88it/s]"
          ]
        },
        {
          "output_type": "stream",
          "name": "stdout",
          "text": [
            "| epoch   4 | 32500/32580 batches | loss    1.059 \n",
            "money: attention, taxes, buying, payment, demand, compensation, millions, permission, goods, payments\n",
            "lion: swan, eagle, skull, sands, goat, nile, witch, cliff, serpent, bearded\n",
            "africa: korea, macedonia, albania, dakota, ethiopia, mozambique, morocco, indonesia, africans, wales\n",
            "musician: singer, guitarist, comedian, pianist, dancer, composer, drummer, songwriter, novelist, journalist\n",
            "dance: jazz, blues, dancing, pop, swing, folk, bluegrass, rap, concert, ballroom\n",
            "\n",
            "\n"
          ]
        },
        {
          "output_type": "stream",
          "name": "stderr",
          "text": [
            "32580it [08:01, 67.72it/s]\n",
            "0it [00:00, ?it/s]"
          ]
        },
        {
          "output_type": "stream",
          "name": "stdout",
          "text": [
            "| epoch   5 |     0/32580 batches | loss    1.031 \n"
          ]
        },
        {
          "output_type": "stream",
          "name": "stderr",
          "text": [
            "2it [00:02,  1.04it/s]"
          ]
        },
        {
          "output_type": "stream",
          "name": "stdout",
          "text": [
            "money: attention, taxes, buying, payment, demand, compensation, millions, permission, goods, payments\n",
            "lion: swan, eagle, skull, sands, nile, goat, witch, cliff, bearded, serpent\n",
            "africa: korea, macedonia, albania, dakota, ethiopia, mozambique, morocco, indonesia, africans, pakistan\n",
            "musician: singer, guitarist, comedian, pianist, dancer, composer, drummer, songwriter, novelist, journalist\n",
            "dance: jazz, blues, dancing, pop, swing, folk, bluegrass, rap, concert, ballroom\n",
            "\n",
            "\n"
          ]
        },
        {
          "output_type": "stream",
          "name": "stderr",
          "text": [
            "500it [00:09, 71.28it/s]"
          ]
        },
        {
          "output_type": "stream",
          "name": "stdout",
          "text": [
            "| epoch   5 |   500/32580 batches | loss    1.031 \n",
            "money: attention, taxes, buying, payment, demand, compensation, millions, permission, goods, payments\n",
            "lion: swan, eagle, skull, sands, witch, goat, nile, cliff, bearded, jacket\n",
            "africa: korea, macedonia, albania, dakota, ethiopia, mozambique, morocco, indonesia, africans, bulgaria\n",
            "musician: singer, guitarist, comedian, pianist, dancer, composer, drummer, songwriter, novelist, journalist\n",
            "dance: jazz, blues, dancing, pop, swing, folk, bluegrass, rap, ballroom, concert\n",
            "\n",
            "\n"
          ]
        },
        {
          "output_type": "stream",
          "name": "stderr",
          "text": [
            "995it [00:16, 73.91it/s]"
          ]
        },
        {
          "output_type": "stream",
          "name": "stdout",
          "text": [
            "| epoch   5 |  1000/32580 batches | loss    1.035 \n",
            "money: attention, taxes, buying, demand, payment, compensation, millions, permission, goods, payments\n",
            "lion: swan, eagle, skull, sands, witch, nile, goat, cliff, bearded, jacket\n",
            "africa: korea, macedonia, albania, dakota, ethiopia, morocco, mozambique, indonesia, africans, bulgaria\n",
            "musician: singer, guitarist, comedian, pianist, dancer, composer, drummer, songwriter, novelist, journalist\n",
            "dance: jazz, blues, dancing, pop, swing, folk, bluegrass, rap, ballroom, concert\n",
            "\n",
            "\n"
          ]
        },
        {
          "output_type": "stream",
          "name": "stderr",
          "text": [
            "1495it [00:23, 68.07it/s]"
          ]
        },
        {
          "output_type": "stream",
          "name": "stdout",
          "text": [
            "| epoch   5 |  1500/32580 batches | loss    1.033 \n"
          ]
        },
        {
          "output_type": "stream",
          "name": "stderr",
          "text": [
            "1508it [00:24, 43.90it/s]"
          ]
        },
        {
          "output_type": "stream",
          "name": "stdout",
          "text": [
            "money: attention, taxes, buying, demand, payment, millions, compensation, permission, goods, payments\n",
            "lion: swan, eagle, skull, sands, witch, nile, cliff, goat, bearded, jacket\n",
            "africa: korea, macedonia, albania, dakota, ethiopia, morocco, mozambique, indonesia, africans, bulgaria\n",
            "musician: singer, guitarist, comedian, pianist, dancer, composer, drummer, songwriter, novelist, journalist\n",
            "dance: jazz, blues, dancing, pop, swing, folk, bluegrass, rap, ballroom, concert\n",
            "\n",
            "\n"
          ]
        },
        {
          "output_type": "stream",
          "name": "stderr",
          "text": [
            "1997it [00:31, 72.91it/s]"
          ]
        },
        {
          "output_type": "stream",
          "name": "stdout",
          "text": [
            "| epoch   5 |  2000/32580 batches | loss    1.037 \n",
            "money: attention, taxes, buying, demand, payment, compensation, millions, permission, goods, payments\n",
            "lion: swan, eagle, skull, sands, witch, nile, goat, cliff, bearded, jacket\n",
            "africa: korea, macedonia, albania, ethiopia, dakota, morocco, mozambique, indonesia, africans, bulgaria\n",
            "musician: singer, guitarist, comedian, pianist, dancer, composer, drummer, songwriter, novelist, journalist\n",
            "dance: jazz, blues, dancing, pop, swing, bluegrass, folk, rap, ballroom, dances\n",
            "\n",
            "\n"
          ]
        },
        {
          "output_type": "stream",
          "name": "stderr",
          "text": [
            "2500it [00:38, 73.55it/s]"
          ]
        },
        {
          "output_type": "stream",
          "name": "stdout",
          "text": [
            "| epoch   5 |  2500/32580 batches | loss    1.032 \n",
            "money: attention, taxes, buying, demand, payment, compensation, millions, permission, goods, payments\n",
            "lion: swan, eagle, sands, skull, witch, nile, bearded, cliff, goat, serpent\n",
            "africa: korea, macedonia, albania, dakota, ethiopia, morocco, mozambique, indonesia, africans, asia\n",
            "musician: singer, guitarist, comedian, pianist, dancer, drummer, composer, songwriter, novelist, journalist\n",
            "dance: jazz, blues, dancing, pop, swing, bluegrass, folk, rap, ballroom, dances\n",
            "\n",
            "\n"
          ]
        },
        {
          "output_type": "stream",
          "name": "stderr",
          "text": [
            "3001it [00:45, 46.95it/s]"
          ]
        },
        {
          "output_type": "stream",
          "name": "stdout",
          "text": [
            "| epoch   5 |  3000/32580 batches | loss    1.037 \n",
            "money: taxes, attention, buying, demand, compensation, payment, millions, permission, payments, goods\n",
            "lion: swan, eagle, sands, skull, witch, nile, cliff, goat, bearded, jacket\n",
            "africa: korea, macedonia, albania, dakota, ethiopia, morocco, mozambique, indonesia, africans, asia\n",
            "musician: singer, guitarist, comedian, pianist, dancer, drummer, composer, songwriter, novelist, journalist\n",
            "dance: jazz, blues, dancing, pop, swing, rap, bluegrass, folk, dances, ballroom\n",
            "\n",
            "\n"
          ]
        },
        {
          "output_type": "stream",
          "name": "stderr",
          "text": [
            "3498it [00:52, 74.09it/s]"
          ]
        },
        {
          "output_type": "stream",
          "name": "stdout",
          "text": [
            "| epoch   5 |  3500/32580 batches | loss    1.036 \n",
            "money: taxes, attention, buying, demand, payment, compensation, millions, permission, goods, payments\n",
            "lion: swan, eagle, sands, skull, witch, cliff, nile, goat, bearded, jacket\n",
            "africa: korea, macedonia, albania, dakota, ethiopia, morocco, indonesia, mozambique, africans, laos\n",
            "musician: singer, guitarist, comedian, pianist, dancer, drummer, songwriter, composer, novelist, journalist\n",
            "dance: jazz, blues, dancing, pop, swing, rap, folk, bluegrass, dances, ballroom\n",
            "\n",
            "\n"
          ]
        },
        {
          "output_type": "stream",
          "name": "stderr",
          "text": [
            "3996it [01:00, 69.34it/s]"
          ]
        },
        {
          "output_type": "stream",
          "name": "stdout",
          "text": [
            "| epoch   5 |  4000/32580 batches | loss    1.036 \n"
          ]
        },
        {
          "output_type": "stream",
          "name": "stderr",
          "text": [
            "4010it [01:00, 45.21it/s]"
          ]
        },
        {
          "output_type": "stream",
          "name": "stdout",
          "text": [
            "money: taxes, attention, buying, demand, compensation, payment, millions, permission, payments, goods\n",
            "lion: swan, eagle, sands, skull, witch, nile, goat, bearded, cliff, jacket\n",
            "africa: korea, macedonia, albania, dakota, ethiopia, morocco, indonesia, mozambique, africans, laos\n",
            "musician: singer, guitarist, comedian, pianist, dancer, drummer, composer, songwriter, novelist, journalist\n",
            "dance: jazz, blues, dancing, pop, swing, rap, folk, dances, bluegrass, ballroom\n",
            "\n",
            "\n"
          ]
        },
        {
          "output_type": "stream",
          "name": "stderr",
          "text": [
            "4496it [01:07, 67.66it/s]"
          ]
        },
        {
          "output_type": "stream",
          "name": "stdout",
          "text": [
            "| epoch   5 |  4500/32580 batches | loss    1.036 \n",
            "money: taxes, attention, buying, demand, payment, compensation, millions, permission, goods, payments\n",
            "lion: swan, eagle, sands, skull, witch, nile, goat, cliff, bearded, jacket\n",
            "africa: korea, macedonia, albania, dakota, ethiopia, morocco, mozambique, indonesia, africans, laos\n",
            "musician: singer, guitarist, comedian, pianist, dancer, drummer, composer, songwriter, novelist, journalist\n",
            "dance: jazz, blues, dancing, pop, swing, rap, dances, folk, bluegrass, ballroom\n",
            "\n",
            "\n"
          ]
        },
        {
          "output_type": "stream",
          "name": "stderr",
          "text": [
            "4996it [01:14, 73.53it/s]"
          ]
        },
        {
          "output_type": "stream",
          "name": "stdout",
          "text": [
            "| epoch   5 |  5000/32580 batches | loss    1.035 \n",
            "money: taxes, attention, buying, demand, compensation, payment, millions, permission, goods, payments\n",
            "lion: swan, eagle, sands, skull, witch, nile, bearded, goat, cliff, jacket\n",
            "africa: korea, macedonia, albania, ethiopia, dakota, mozambique, morocco, indonesia, africans, laos\n",
            "musician: singer, guitarist, comedian, pianist, dancer, drummer, composer, songwriter, novelist, journalist\n",
            "dance: jazz, blues, dancing, pop, swing, rap, folk, dances, bluegrass, ballroom\n",
            "\n",
            "\n"
          ]
        },
        {
          "output_type": "stream",
          "name": "stderr",
          "text": [
            "5498it [01:22, 72.47it/s]"
          ]
        },
        {
          "output_type": "stream",
          "name": "stdout",
          "text": [
            "| epoch   5 |  5500/32580 batches | loss    1.035 \n",
            "money: taxes, attention, buying, compensation, demand, payment, millions, permission, goods, payments\n",
            "lion: swan, eagle, sands, skull, witch, nile, bearded, goat, cliff, serpent\n",
            "africa: korea, macedonia, albania, dakota, ethiopia, mozambique, morocco, indonesia, africans, laos\n",
            "musician: singer, guitarist, comedian, pianist, dancer, drummer, songwriter, composer, novelist, journalist\n",
            "dance: jazz, blues, dancing, pop, swing, rap, folk, dances, bluegrass, concert\n",
            "\n",
            "\n"
          ]
        },
        {
          "output_type": "stream",
          "name": "stderr",
          "text": [
            "5998it [01:29, 70.31it/s]"
          ]
        },
        {
          "output_type": "stream",
          "name": "stdout",
          "text": [
            "| epoch   5 |  6000/32580 batches | loss    1.031 \n",
            "money: taxes, attention, buying, compensation, payment, millions, demand, permission, goods, payments\n",
            "lion: swan, eagle, sands, skull, witch, bearded, nile, goat, serpent, cliff\n",
            "africa: korea, macedonia, albania, ethiopia, mozambique, dakota, morocco, indonesia, africans, laos\n",
            "musician: singer, guitarist, comedian, pianist, dancer, drummer, songwriter, composer, novelist, journalist\n",
            "dance: jazz, blues, dancing, pop, swing, rap, dances, folk, bluegrass, concert\n",
            "\n",
            "\n"
          ]
        },
        {
          "output_type": "stream",
          "name": "stderr",
          "text": [
            "6494it [01:36, 73.58it/s]"
          ]
        },
        {
          "output_type": "stream",
          "name": "stdout",
          "text": [
            "| epoch   5 |  6500/32580 batches | loss    1.035 \n",
            "money: taxes, buying, attention, compensation, payment, demand, millions, permission, goods, payments\n",
            "lion: swan, eagle, sands, skull, witch, bearded, nile, serpent, cliff, goat\n",
            "africa: korea, macedonia, albania, ethiopia, dakota, morocco, mozambique, indonesia, africans, laos\n",
            "musician: singer, guitarist, comedian, pianist, dancer, drummer, songwriter, composer, novelist, journalist\n",
            "dance: jazz, blues, dancing, pop, swing, dances, folk, rap, bluegrass, concert\n",
            "\n",
            "\n"
          ]
        },
        {
          "output_type": "stream",
          "name": "stderr",
          "text": [
            "6996it [01:43, 68.24it/s]"
          ]
        },
        {
          "output_type": "stream",
          "name": "stdout",
          "text": [
            "| epoch   5 |  7000/32580 batches | loss    1.034 \n",
            "money: taxes, buying, attention, compensation, payment, demand, millions, permission, goods, payments\n",
            "lion: swan, sands, eagle, skull, witch, bearded, nile, goat, serpent, jacket\n",
            "africa: korea, macedonia, albania, ethiopia, dakota, morocco, mozambique, africans, indonesia, laos\n",
            "musician: singer, guitarist, comedian, pianist, dancer, drummer, songwriter, composer, novelist, journalist\n",
            "dance: jazz, blues, dancing, pop, swing, dances, folk, bluegrass, rap, concert\n",
            "\n",
            "\n"
          ]
        },
        {
          "output_type": "stream",
          "name": "stderr",
          "text": [
            "7497it [01:51, 72.40it/s]"
          ]
        },
        {
          "output_type": "stream",
          "name": "stdout",
          "text": [
            "| epoch   5 |  7500/32580 batches | loss    1.035 \n",
            "money: taxes, buying, attention, compensation, payment, millions, demand, permission, goods, payments\n",
            "lion: swan, eagle, sands, skull, bearded, witch, goat, serpent, jacket, nile\n",
            "africa: korea, macedonia, albania, ethiopia, morocco, dakota, mozambique, africans, indonesia, laos\n",
            "musician: singer, guitarist, comedian, pianist, dancer, drummer, songwriter, composer, novelist, journalist\n",
            "dance: jazz, blues, dancing, pop, swing, dances, folk, rap, bluegrass, ballroom\n",
            "\n",
            "\n"
          ]
        },
        {
          "output_type": "stream",
          "name": "stderr",
          "text": [
            "8000it [01:58, 72.32it/s]"
          ]
        },
        {
          "output_type": "stream",
          "name": "stdout",
          "text": [
            "| epoch   5 |  8000/32580 batches | loss    1.034 \n",
            "money: taxes, buying, attention, compensation, demand, millions, payment, permission, goods, payments\n",
            "lion: swan, eagle, sands, skull, bearded, witch, goat, serpent, nile, jacket\n",
            "africa: korea, macedonia, albania, morocco, ethiopia, dakota, mozambique, indonesia, africans, laos\n",
            "musician: singer, guitarist, comedian, pianist, dancer, drummer, songwriter, composer, novelist, journalist\n",
            "dance: jazz, blues, dancing, pop, swing, dances, folk, rap, bluegrass, ballroom\n",
            "\n",
            "\n"
          ]
        },
        {
          "output_type": "stream",
          "name": "stderr",
          "text": [
            "8499it [02:09, 69.19it/s]"
          ]
        },
        {
          "output_type": "stream",
          "name": "stdout",
          "text": [
            "| epoch   5 |  8500/32580 batches | loss    1.034 \n",
            "money: taxes, buying, attention, compensation, millions, demand, payment, permission, goods, payments\n",
            "lion: swan, eagle, sands, skull, bearded, witch, nile, goat, jacket, serpent\n",
            "africa: korea, macedonia, albania, ethiopia, morocco, dakota, mozambique, indonesia, africans, laos\n",
            "musician: singer, guitarist, comedian, pianist, dancer, songwriter, drummer, composer, novelist, journalist\n",
            "dance: jazz, blues, dancing, pop, swing, dances, folk, rap, ballroom, bluegrass\n",
            "\n",
            "\n"
          ]
        },
        {
          "output_type": "stream",
          "name": "stderr",
          "text": [
            "8994it [02:16, 73.95it/s]"
          ]
        },
        {
          "output_type": "stream",
          "name": "stdout",
          "text": [
            "| epoch   5 |  9000/32580 batches | loss    1.035 \n",
            "money: taxes, buying, attention, compensation, payment, demand, millions, goods, permission, payments\n",
            "lion: swan, sands, skull, eagle, bearded, witch, goat, jacket, nile, serpent\n",
            "africa: korea, albania, macedonia, morocco, ethiopia, mozambique, dakota, indonesia, africans, laos\n",
            "musician: singer, guitarist, comedian, pianist, dancer, songwriter, drummer, composer, novelist, journalist\n",
            "dance: jazz, blues, dancing, pop, swing, folk, rap, dances, ballroom, bluegrass\n",
            "\n",
            "\n"
          ]
        },
        {
          "output_type": "stream",
          "name": "stderr",
          "text": [
            "9498it [02:23, 67.01it/s]"
          ]
        },
        {
          "output_type": "stream",
          "name": "stdout",
          "text": [
            "| epoch   5 |  9500/32580 batches | loss    1.039 \n",
            "money: taxes, buying, attention, payment, compensation, millions, demand, permission, goods, payments\n",
            "lion: swan, sands, skull, eagle, bearded, witch, jacket, goat, serpent, nile\n",
            "africa: korea, albania, macedonia, morocco, ethiopia, mozambique, dakota, indonesia, africans, laos\n",
            "musician: singer, guitarist, comedian, pianist, dancer, songwriter, drummer, composer, novelist, journalist\n",
            "dance: jazz, blues, dancing, pop, swing, folk, dances, rap, ballroom, bluegrass\n",
            "\n",
            "\n"
          ]
        },
        {
          "output_type": "stream",
          "name": "stderr",
          "text": [
            "10001it [02:31, 46.52it/s]"
          ]
        },
        {
          "output_type": "stream",
          "name": "stdout",
          "text": [
            "| epoch   5 | 10000/32580 batches | loss    1.032 \n",
            "money: taxes, buying, attention, payment, compensation, millions, demand, permission, goods, payments\n",
            "lion: swan, skull, sands, eagle, bearded, witch, jacket, goat, serpent, nile\n",
            "africa: korea, albania, macedonia, morocco, ethiopia, mozambique, indonesia, dakota, africans, laos\n",
            "musician: singer, guitarist, comedian, pianist, dancer, drummer, songwriter, composer, novelist, journalist\n",
            "dance: jazz, blues, dancing, pop, swing, folk, dances, rap, ballroom, bluegrass\n",
            "\n",
            "\n"
          ]
        },
        {
          "output_type": "stream",
          "name": "stderr",
          "text": [
            "10495it [02:37, 73.06it/s]"
          ]
        },
        {
          "output_type": "stream",
          "name": "stdout",
          "text": [
            "| epoch   5 | 10500/32580 batches | loss    1.034 \n",
            "money: taxes, buying, attention, payment, compensation, demand, millions, permission, goods, payments\n",
            "lion: swan, skull, sands, eagle, bearded, witch, serpent, goat, jacket, cliff\n",
            "africa: korea, albania, macedonia, morocco, ethiopia, mozambique, indonesia, dakota, africans, laos\n",
            "musician: singer, guitarist, comedian, pianist, dancer, songwriter, drummer, composer, novelist, journalist\n",
            "dance: jazz, blues, dancing, pop, swing, folk, dances, rap, ballroom, bluegrass\n",
            "\n",
            "\n"
          ]
        },
        {
          "output_type": "stream",
          "name": "stderr",
          "text": [
            "10997it [02:45, 70.27it/s]"
          ]
        },
        {
          "output_type": "stream",
          "name": "stdout",
          "text": [
            "| epoch   5 | 11000/32580 batches | loss    1.032 \n",
            "money: taxes, buying, attention, payment, compensation, demand, millions, permission, goods, payments\n",
            "lion: swan, sands, skull, eagle, bearded, witch, serpent, jacket, goat, nile\n",
            "africa: korea, albania, macedonia, morocco, mozambique, ethiopia, indonesia, dakota, africans, laos\n",
            "musician: singer, guitarist, comedian, pianist, dancer, songwriter, drummer, composer, novelist, journalist\n",
            "dance: jazz, blues, dancing, pop, swing, folk, dances, rap, bluegrass, ballroom\n",
            "\n",
            "\n"
          ]
        },
        {
          "output_type": "stream",
          "name": "stderr",
          "text": [
            "11501it [02:52, 47.98it/s]"
          ]
        },
        {
          "output_type": "stream",
          "name": "stdout",
          "text": [
            "| epoch   5 | 11500/32580 batches | loss    1.034 \n",
            "money: buying, taxes, attention, payment, compensation, demand, millions, permission, goods, payments\n",
            "lion: swan, sands, skull, eagle, bearded, witch, goat, serpent, jacket, cliff\n",
            "africa: korea, albania, macedonia, morocco, mozambique, ethiopia, indonesia, dakota, africans, laos\n",
            "musician: singer, guitarist, comedian, pianist, dancer, drummer, songwriter, composer, novelist, journalist\n",
            "dance: jazz, blues, dancing, pop, swing, dances, folk, rap, bluegrass, ballroom\n",
            "\n",
            "\n"
          ]
        },
        {
          "output_type": "stream",
          "name": "stderr",
          "text": [
            "11995it [02:59, 73.08it/s]"
          ]
        },
        {
          "output_type": "stream",
          "name": "stdout",
          "text": [
            "| epoch   5 | 12000/32580 batches | loss    1.034 \n",
            "money: taxes, buying, attention, payment, compensation, demand, millions, goods, permission, payments\n",
            "lion: swan, sands, skull, eagle, bearded, serpent, goat, witch, jacket, cliff\n",
            "africa: korea, albania, macedonia, morocco, mozambique, ethiopia, indonesia, dakota, africans, laos\n",
            "musician: singer, guitarist, comedian, pianist, dancer, drummer, songwriter, composer, novelist, journalist\n",
            "dance: jazz, blues, dancing, pop, swing, dances, folk, rap, bluegrass, ballroom\n",
            "\n",
            "\n"
          ]
        },
        {
          "output_type": "stream",
          "name": "stderr",
          "text": [
            "12497it [03:06, 71.01it/s]"
          ]
        },
        {
          "output_type": "stream",
          "name": "stdout",
          "text": [
            "| epoch   5 | 12500/32580 batches | loss    1.029 \n",
            "money: taxes, buying, attention, payment, compensation, demand, millions, goods, permission, payments\n",
            "lion: swan, sands, eagle, skull, bearded, witch, serpent, jacket, goat, cliff\n",
            "africa: korea, albania, macedonia, morocco, ethiopia, mozambique, indonesia, dakota, africans, laos\n",
            "musician: singer, guitarist, comedian, pianist, dancer, drummer, songwriter, composer, novelist, journalist\n",
            "dance: jazz, blues, dancing, pop, swing, dances, rap, ballroom, folk, bluegrass\n",
            "\n",
            "\n"
          ]
        },
        {
          "output_type": "stream",
          "name": "stderr",
          "text": [
            "12995it [03:14, 73.77it/s]"
          ]
        },
        {
          "output_type": "stream",
          "name": "stdout",
          "text": [
            "| epoch   5 | 13000/32580 batches | loss    1.034 \n",
            "money: taxes, buying, attention, payment, compensation, demand, millions, goods, permission, payments\n",
            "lion: swan, sands, eagle, skull, bearded, witch, serpent, goat, jacket, cliff\n",
            "africa: korea, albania, macedonia, morocco, mozambique, ethiopia, indonesia, dakota, laos, africans\n",
            "musician: singer, guitarist, comedian, pianist, dancer, drummer, songwriter, composer, novelist, songwriters\n",
            "dance: jazz, blues, dancing, pop, swing, dances, ballroom, bluegrass, rap, folk\n",
            "\n",
            "\n"
          ]
        },
        {
          "output_type": "stream",
          "name": "stderr",
          "text": [
            "13497it [03:21, 74.26it/s]"
          ]
        },
        {
          "output_type": "stream",
          "name": "stdout",
          "text": [
            "| epoch   5 | 13500/32580 batches | loss    1.033 \n",
            "money: taxes, attention, buying, millions, compensation, payment, demand, goods, permission, payments\n",
            "lion: swan, sands, eagle, skull, bearded, witch, serpent, jacket, nile, cliff\n",
            "africa: korea, albania, macedonia, morocco, ethiopia, mozambique, indonesia, dakota, laos, africans\n",
            "musician: singer, guitarist, comedian, pianist, dancer, drummer, songwriter, composer, novelist, journalist\n",
            "dance: jazz, blues, dancing, pop, swing, dances, ballroom, bluegrass, rap, folk\n",
            "\n",
            "\n"
          ]
        },
        {
          "output_type": "stream",
          "name": "stderr",
          "text": [
            "13997it [03:28, 68.62it/s]"
          ]
        },
        {
          "output_type": "stream",
          "name": "stdout",
          "text": [
            "| epoch   5 | 14000/32580 batches | loss    1.032 \n",
            "money: taxes, attention, buying, millions, compensation, payment, goods, demand, permission, payments\n",
            "lion: swan, sands, eagle, skull, bearded, witch, jacket, serpent, cliff, nile\n",
            "africa: korea, albania, macedonia, morocco, mozambique, ethiopia, indonesia, dakota, laos, africans\n",
            "musician: singer, guitarist, comedian, pianist, dancer, drummer, songwriter, composer, novelist, songwriters\n",
            "dance: jazz, blues, dancing, pop, swing, dances, ballroom, bluegrass, rap, folk\n",
            "\n",
            "\n"
          ]
        },
        {
          "output_type": "stream",
          "name": "stderr",
          "text": [
            "14499it [03:35, 69.30it/s]"
          ]
        },
        {
          "output_type": "stream",
          "name": "stdout",
          "text": [
            "| epoch   5 | 14500/32580 batches | loss    1.038 \n",
            "money: taxes, attention, buying, compensation, millions, payment, goods, demand, permission, payments\n",
            "lion: swan, sands, eagle, skull, bearded, serpent, jacket, nile, witch, goat\n",
            "africa: korea, albania, macedonia, morocco, ethiopia, mozambique, indonesia, dakota, laos, africans\n",
            "musician: singer, guitarist, comedian, pianist, dancer, drummer, songwriter, composer, novelist, songwriters\n",
            "dance: jazz, blues, dancing, pop, swing, dances, bluegrass, ballroom, rap, folk\n",
            "\n",
            "\n"
          ]
        },
        {
          "output_type": "stream",
          "name": "stderr",
          "text": [
            "14994it [03:42, 72.14it/s]"
          ]
        },
        {
          "output_type": "stream",
          "name": "stdout",
          "text": [
            "| epoch   5 | 15000/32580 batches | loss    1.031 \n",
            "money: taxes, attention, buying, compensation, millions, payment, goods, demand, permission, payments\n",
            "lion: swan, sands, eagle, skull, bearded, goat, serpent, jacket, nile, witch\n",
            "africa: korea, albania, macedonia, morocco, ethiopia, mozambique, indonesia, dakota, africans, laos\n",
            "musician: singer, guitarist, comedian, pianist, dancer, drummer, songwriter, composer, novelist, songwriters\n",
            "dance: jazz, blues, dancing, pop, swing, dances, ballroom, bluegrass, rap, folk\n",
            "\n",
            "\n"
          ]
        },
        {
          "output_type": "stream",
          "name": "stderr",
          "text": [
            "15500it [03:50, 70.96it/s]"
          ]
        },
        {
          "output_type": "stream",
          "name": "stdout",
          "text": [
            "| epoch   5 | 15500/32580 batches | loss    1.032 \n",
            "money: taxes, attention, buying, compensation, payment, millions, goods, demand, permission, payments\n",
            "lion: swan, sands, eagle, skull, bearded, goat, witch, serpent, nile, jacket\n",
            "africa: korea, albania, macedonia, ethiopia, mozambique, morocco, indonesia, dakota, laos, africans\n",
            "musician: singer, guitarist, comedian, pianist, dancer, drummer, songwriter, composer, novelist, songwriters\n",
            "dance: jazz, blues, dancing, pop, swing, dances, ballroom, bluegrass, rap, concert\n",
            "\n",
            "\n"
          ]
        },
        {
          "output_type": "stream",
          "name": "stderr",
          "text": [
            "16001it [03:58, 42.63it/s]"
          ]
        },
        {
          "output_type": "stream",
          "name": "stdout",
          "text": [
            "| epoch   5 | 16000/32580 batches | loss    1.036 \n",
            "money: taxes, attention, buying, compensation, payment, millions, goods, demand, permission, payments\n",
            "lion: swan, sands, eagle, skull, bearded, goat, serpent, witch, nile, jacket\n",
            "africa: korea, albania, macedonia, ethiopia, mozambique, morocco, indonesia, dakota, laos, africans\n",
            "musician: singer, guitarist, comedian, pianist, dancer, drummer, songwriter, composer, novelist, songwriters\n",
            "dance: jazz, blues, dancing, pop, swing, dances, ballroom, bluegrass, rap, concert\n",
            "\n",
            "\n"
          ]
        },
        {
          "output_type": "stream",
          "name": "stderr",
          "text": [
            "16495it [04:05, 69.67it/s]"
          ]
        },
        {
          "output_type": "stream",
          "name": "stdout",
          "text": [
            "| epoch   5 | 16500/32580 batches | loss    1.033 \n",
            "money: taxes, attention, buying, compensation, payment, millions, goods, demand, permission, payments\n",
            "lion: swan, eagle, sands, skull, bearded, goat, serpent, witch, nile, cliff\n",
            "africa: korea, albania, macedonia, ethiopia, mozambique, morocco, indonesia, dakota, laos, africans\n",
            "musician: singer, guitarist, comedian, pianist, dancer, drummer, songwriter, composer, novelist, songwriters\n",
            "dance: jazz, dancing, blues, pop, swing, dances, ballroom, bluegrass, rap, concert\n",
            "\n",
            "\n"
          ]
        },
        {
          "output_type": "stream",
          "name": "stderr",
          "text": [
            "16997it [04:12, 70.85it/s]"
          ]
        },
        {
          "output_type": "stream",
          "name": "stdout",
          "text": [
            "| epoch   5 | 17000/32580 batches | loss    1.035 \n",
            "money: taxes, attention, buying, compensation, payment, millions, demand, goods, permission, payments\n",
            "lion: swan, sands, skull, eagle, bearded, goat, serpent, witch, nile, jacket\n",
            "africa: korea, albania, macedonia, mozambique, ethiopia, morocco, indonesia, dakota, laos, africans\n",
            "musician: singer, guitarist, comedian, pianist, dancer, drummer, songwriter, composer, novelist, songwriters\n",
            "dance: jazz, dancing, blues, pop, swing, dances, ballroom, bluegrass, rap, folk\n",
            "\n",
            "\n"
          ]
        },
        {
          "output_type": "stream",
          "name": "stderr",
          "text": [
            "17499it [04:20, 73.39it/s]"
          ]
        },
        {
          "output_type": "stream",
          "name": "stdout",
          "text": [
            "| epoch   5 | 17500/32580 batches | loss    1.032 \n",
            "money: taxes, buying, attention, compensation, payment, millions, demand, goods, permission, payments\n",
            "lion: swan, sands, eagle, skull, bearded, goat, serpent, jacket, nile, witch\n",
            "africa: korea, albania, macedonia, mozambique, morocco, ethiopia, indonesia, dakota, laos, africans\n",
            "musician: singer, guitarist, comedian, pianist, dancer, drummer, songwriter, composer, novelist, songwriters\n",
            "dance: jazz, dancing, blues, pop, swing, dances, ballroom, bluegrass, rap, folk\n",
            "\n",
            "\n"
          ]
        },
        {
          "output_type": "stream",
          "name": "stderr",
          "text": [
            "18001it [04:27, 46.42it/s]"
          ]
        },
        {
          "output_type": "stream",
          "name": "stdout",
          "text": [
            "| epoch   5 | 18000/32580 batches | loss    1.033 \n",
            "money: taxes, attention, buying, payment, compensation, millions, demand, goods, permission, payments\n",
            "lion: swan, eagle, skull, sands, goat, bearded, serpent, jacket, nile, cliff\n",
            "africa: korea, albania, macedonia, mozambique, ethiopia, morocco, indonesia, dakota, laos, africans\n",
            "musician: singer, guitarist, comedian, pianist, dancer, drummer, songwriter, composer, novelist, songwriters\n",
            "dance: jazz, dancing, blues, pop, swing, dances, ballroom, bluegrass, rap, concert\n",
            "\n",
            "\n"
          ]
        },
        {
          "output_type": "stream",
          "name": "stderr",
          "text": [
            "18501it [04:34, 48.07it/s]"
          ]
        },
        {
          "output_type": "stream",
          "name": "stdout",
          "text": [
            "| epoch   5 | 18500/32580 batches | loss    1.033 \n",
            "money: taxes, attention, buying, compensation, payment, millions, demand, goods, permission, payments\n",
            "lion: swan, eagle, skull, sands, bearded, goat, serpent, jacket, witch, cliff\n",
            "africa: korea, albania, macedonia, mozambique, ethiopia, morocco, indonesia, dakota, laos, africans\n",
            "musician: singer, guitarist, comedian, pianist, dancer, drummer, songwriter, composer, novelist, songwriters\n",
            "dance: jazz, dancing, blues, pop, swing, dances, ballroom, bluegrass, rap, concert\n",
            "\n",
            "\n"
          ]
        },
        {
          "output_type": "stream",
          "name": "stderr",
          "text": [
            "18995it [04:41, 73.82it/s]"
          ]
        },
        {
          "output_type": "stream",
          "name": "stdout",
          "text": [
            "| epoch   5 | 19000/32580 batches | loss    1.033 \n",
            "money: taxes, attention, buying, compensation, payment, millions, demand, goods, payments, permission\n",
            "lion: swan, eagle, skull, sands, bearded, goat, serpent, jacket, witch, cliff\n",
            "africa: korea, albania, macedonia, mozambique, ethiopia, indonesia, morocco, dakota, laos, africans\n",
            "musician: singer, guitarist, comedian, pianist, dancer, drummer, songwriter, composer, novelist, songwriters\n",
            "dance: jazz, dancing, blues, pop, swing, dances, ballroom, bluegrass, rap, concert\n",
            "\n",
            "\n"
          ]
        },
        {
          "output_type": "stream",
          "name": "stderr",
          "text": [
            "19498it [04:52, 73.18it/s]"
          ]
        },
        {
          "output_type": "stream",
          "name": "stdout",
          "text": [
            "| epoch   5 | 19500/32580 batches | loss    1.032 \n",
            "money: taxes, buying, attention, payment, compensation, millions, demand, goods, payments, permission\n",
            "lion: swan, eagle, skull, sands, goat, bearded, serpent, jacket, cliff, witch\n",
            "africa: korea, albania, macedonia, mozambique, ethiopia, indonesia, morocco, dakota, laos, cuba\n",
            "musician: singer, guitarist, comedian, pianist, dancer, drummer, songwriter, composer, novelist, songwriters\n",
            "dance: jazz, dancing, blues, pop, swing, dances, ballroom, bluegrass, rap, concert\n",
            "\n",
            "\n"
          ]
        },
        {
          "output_type": "stream",
          "name": "stderr",
          "text": [
            "20000it [04:59, 73.61it/s]"
          ]
        },
        {
          "output_type": "stream",
          "name": "stdout",
          "text": [
            "| epoch   5 | 20000/32580 batches | loss    1.030 \n",
            "money: taxes, buying, attention, payment, compensation, millions, demand, goods, payments, permission\n",
            "lion: swan, eagle, skull, sands, bearded, goat, jacket, serpent, cliff, witch\n",
            "africa: korea, albania, macedonia, mozambique, morocco, ethiopia, indonesia, dakota, laos, cuba\n",
            "musician: singer, guitarist, comedian, pianist, dancer, drummer, songwriter, composer, novelist, songwriters\n",
            "dance: jazz, dancing, blues, pop, swing, dances, ballroom, bluegrass, rap, concert\n",
            "\n",
            "\n"
          ]
        },
        {
          "output_type": "stream",
          "name": "stderr",
          "text": [
            "20493it [05:06, 70.85it/s]"
          ]
        },
        {
          "output_type": "stream",
          "name": "stdout",
          "text": [
            "| epoch   5 | 20500/32580 batches | loss    1.030 \n"
          ]
        },
        {
          "output_type": "stream",
          "name": "stderr",
          "text": [
            "20507it [05:07, 44.56it/s]"
          ]
        },
        {
          "output_type": "stream",
          "name": "stdout",
          "text": [
            "money: taxes, buying, attention, payment, compensation, millions, demand, goods, payments, permission\n",
            "lion: swan, eagle, skull, sands, goat, bearded, jacket, serpent, nile, cliff\n",
            "africa: korea, albania, macedonia, mozambique, morocco, ethiopia, indonesia, dakota, laos, africans\n",
            "musician: singer, guitarist, comedian, pianist, dancer, drummer, songwriter, composer, novelist, songwriters\n",
            "dance: jazz, dancing, blues, pop, swing, dances, ballroom, bluegrass, rap, concert\n",
            "\n",
            "\n"
          ]
        },
        {
          "output_type": "stream",
          "name": "stderr",
          "text": [
            "20995it [05:14, 73.81it/s]"
          ]
        },
        {
          "output_type": "stream",
          "name": "stdout",
          "text": [
            "| epoch   5 | 21000/32580 batches | loss    1.032 \n",
            "money: taxes, attention, buying, payment, compensation, millions, demand, goods, payments, permission\n",
            "lion: swan, eagle, skull, sands, goat, bearded, jacket, serpent, nile, cliff\n",
            "africa: korea, albania, macedonia, mozambique, dakota, morocco, ethiopia, indonesia, laos, africans\n",
            "musician: singer, guitarist, comedian, pianist, dancer, drummer, songwriter, composer, novelist, songwriters\n",
            "dance: jazz, dancing, blues, pop, swing, dances, ballroom, bluegrass, rap, concert\n",
            "\n",
            "\n"
          ]
        },
        {
          "output_type": "stream",
          "name": "stderr",
          "text": [
            "21498it [05:21, 73.34it/s]"
          ]
        },
        {
          "output_type": "stream",
          "name": "stdout",
          "text": [
            "| epoch   5 | 21500/32580 batches | loss    1.035 \n",
            "money: taxes, buying, payment, attention, compensation, millions, demand, goods, payments, permission\n",
            "lion: swan, eagle, skull, sands, goat, bearded, jacket, serpent, nile, cliff\n",
            "africa: korea, albania, macedonia, mozambique, dakota, morocco, indonesia, ethiopia, laos, africans\n",
            "musician: singer, guitarist, comedian, pianist, dancer, drummer, songwriter, composer, songwriters, novelist\n",
            "dance: jazz, dancing, blues, pop, swing, dances, ballroom, bluegrass, rap, concert\n",
            "\n",
            "\n"
          ]
        },
        {
          "output_type": "stream",
          "name": "stderr",
          "text": [
            "22000it [05:28, 66.66it/s]"
          ]
        },
        {
          "output_type": "stream",
          "name": "stdout",
          "text": [
            "| epoch   5 | 22000/32580 batches | loss    1.031 \n",
            "money: taxes, buying, payment, compensation, attention, millions, demand, goods, payments, permission\n",
            "lion: swan, eagle, skull, sands, bearded, goat, jacket, serpent, cliff, nile\n",
            "africa: korea, albania, macedonia, mozambique, dakota, ethiopia, morocco, indonesia, laos, africans\n",
            "musician: singer, guitarist, comedian, pianist, dancer, drummer, songwriter, songwriters, composer, novelist\n",
            "dance: jazz, dancing, blues, pop, swing, dances, ballroom, bluegrass, rap, concert\n",
            "\n",
            "\n"
          ]
        },
        {
          "output_type": "stream",
          "name": "stderr",
          "text": [
            "22499it [05:35, 69.61it/s]"
          ]
        },
        {
          "output_type": "stream",
          "name": "stdout",
          "text": [
            "| epoch   5 | 22500/32580 batches | loss    1.031 \n",
            "money: taxes, buying, payment, compensation, attention, millions, demand, goods, permission, payments\n",
            "lion: swan, eagle, skull, sands, bearded, goat, jacket, serpent, cliff, nile\n",
            "africa: korea, albania, macedonia, mozambique, dakota, ethiopia, morocco, indonesia, laos, africans\n",
            "musician: singer, guitarist, comedian, pianist, dancer, drummer, songwriter, songwriters, composer, novelist\n",
            "dance: jazz, dancing, blues, pop, swing, dances, ballroom, bluegrass, rap, concert\n",
            "\n",
            "\n"
          ]
        },
        {
          "output_type": "stream",
          "name": "stderr",
          "text": [
            "23000it [05:43, 72.42it/s]"
          ]
        },
        {
          "output_type": "stream",
          "name": "stdout",
          "text": [
            "| epoch   5 | 23000/32580 batches | loss    1.029 \n",
            "money: taxes, buying, payment, millions, attention, compensation, demand, goods, permission, payments\n",
            "lion: swan, skull, eagle, sands, goat, bearded, serpent, jacket, cliff, nile\n",
            "africa: korea, albania, macedonia, mozambique, ethiopia, dakota, morocco, indonesia, laos, africans\n",
            "musician: singer, guitarist, comedian, pianist, dancer, drummer, songwriter, songwriters, novelist, composer\n",
            "dance: jazz, dancing, blues, pop, swing, dances, ballroom, bluegrass, rap, concert\n",
            "\n",
            "\n"
          ]
        },
        {
          "output_type": "stream",
          "name": "stderr",
          "text": [
            "23495it [05:50, 69.92it/s]"
          ]
        },
        {
          "output_type": "stream",
          "name": "stdout",
          "text": [
            "| epoch   5 | 23500/32580 batches | loss    1.028 \n"
          ]
        },
        {
          "output_type": "stream",
          "name": "stderr",
          "text": [
            "23508it [05:50, 43.76it/s]"
          ]
        },
        {
          "output_type": "stream",
          "name": "stdout",
          "text": [
            "money: taxes, buying, payment, millions, compensation, attention, demand, goods, permission, payments\n",
            "lion: swan, skull, eagle, sands, goat, bearded, jacket, serpent, cliff, alder\n",
            "africa: korea, albania, macedonia, mozambique, dakota, ethiopia, morocco, indonesia, africans, laos\n",
            "musician: singer, guitarist, comedian, pianist, dancer, drummer, songwriter, songwriters, novelist, composer\n",
            "dance: jazz, dancing, blues, pop, swing, ballroom, dances, bluegrass, rap, concert\n",
            "\n",
            "\n"
          ]
        },
        {
          "output_type": "stream",
          "name": "stderr",
          "text": [
            "23995it [05:57, 73.77it/s]"
          ]
        },
        {
          "output_type": "stream",
          "name": "stdout",
          "text": [
            "| epoch   5 | 24000/32580 batches | loss    1.029 \n",
            "money: taxes, buying, payment, millions, compensation, attention, demand, goods, permission, payments\n",
            "lion: swan, eagle, skull, sands, goat, bearded, jacket, serpent, cliff, nile\n",
            "africa: korea, albania, macedonia, mozambique, ethiopia, dakota, morocco, indonesia, laos, africans\n",
            "musician: singer, guitarist, comedian, pianist, drummer, dancer, songwriter, songwriters, novelist, composer\n",
            "dance: jazz, dancing, blues, pop, swing, dances, ballroom, bluegrass, rap, concert\n",
            "\n",
            "\n"
          ]
        },
        {
          "output_type": "stream",
          "name": "stderr",
          "text": [
            "24499it [06:04, 65.76it/s]"
          ]
        },
        {
          "output_type": "stream",
          "name": "stdout",
          "text": [
            "| epoch   5 | 24500/32580 batches | loss    1.033 \n"
          ]
        },
        {
          "output_type": "stream",
          "name": "stderr",
          "text": [
            "\r24506it [06:05, 38.56it/s]"
          ]
        },
        {
          "output_type": "stream",
          "name": "stdout",
          "text": [
            "money: taxes, buying, millions, payment, compensation, attention, demand, goods, permission, payments\n",
            "lion: swan, eagle, skull, sands, goat, bearded, jacket, serpent, cliff, nile\n",
            "africa: korea, albania, macedonia, mozambique, dakota, ethiopia, morocco, indonesia, laos, africans\n",
            "musician: singer, guitarist, comedian, pianist, dancer, drummer, songwriter, songwriters, novelist, composer\n",
            "dance: jazz, dancing, blues, pop, swing, dances, ballroom, bluegrass, concert, rap\n",
            "\n",
            "\n"
          ]
        },
        {
          "output_type": "stream",
          "name": "stderr",
          "text": [
            "25000it [06:12, 71.67it/s]"
          ]
        },
        {
          "output_type": "stream",
          "name": "stdout",
          "text": [
            "| epoch   5 | 25000/32580 batches | loss    1.031 \n",
            "money: taxes, buying, payment, millions, compensation, attention, demand, goods, payments, permission\n",
            "lion: swan, eagle, skull, sands, goat, bearded, serpent, jacket, alder, cliff\n",
            "africa: korea, albania, macedonia, mozambique, indonesia, ethiopia, dakota, morocco, laos, africans\n",
            "musician: singer, guitarist, comedian, pianist, dancer, drummer, songwriter, composer, novelist, songwriters\n",
            "dance: jazz, dancing, blues, pop, swing, dances, ballroom, bluegrass, rap, concert\n",
            "\n",
            "\n"
          ]
        },
        {
          "output_type": "stream",
          "name": "stderr",
          "text": [
            "25496it [06:19, 73.44it/s]"
          ]
        },
        {
          "output_type": "stream",
          "name": "stdout",
          "text": [
            "| epoch   5 | 25500/32580 batches | loss    1.031 \n",
            "money: taxes, buying, millions, payment, compensation, attention, demand, goods, permission, prices\n",
            "lion: swan, skull, eagle, sands, goat, bearded, serpent, jacket, cliff, alder\n",
            "africa: korea, albania, macedonia, mozambique, ethiopia, dakota, morocco, indonesia, laos, africans\n",
            "musician: singer, guitarist, comedian, pianist, dancer, drummer, songwriter, composer, novelist, songwriters\n",
            "dance: jazz, dancing, blues, pop, swing, dances, ballroom, bluegrass, rap, concert\n",
            "\n",
            "\n"
          ]
        },
        {
          "output_type": "stream",
          "name": "stderr",
          "text": [
            "25999it [06:26, 68.91it/s]"
          ]
        },
        {
          "output_type": "stream",
          "name": "stdout",
          "text": [
            "| epoch   5 | 26000/32580 batches | loss    1.029 \n",
            "money: taxes, buying, millions, payment, compensation, attention, demand, goods, permission, prices\n",
            "lion: swan, skull, sands, eagle, goat, bearded, serpent, jacket, cliff, alder\n",
            "africa: korea, albania, macedonia, mozambique, ethiopia, morocco, indonesia, dakota, laos, africans\n",
            "musician: singer, guitarist, comedian, pianist, dancer, drummer, songwriter, composer, songwriters, novelist\n",
            "dance: jazz, dancing, blues, pop, swing, dances, ballroom, bluegrass, rap, concert\n",
            "\n",
            "\n"
          ]
        },
        {
          "output_type": "stream",
          "name": "stderr",
          "text": [
            "26499it [06:34, 69.87it/s]"
          ]
        },
        {
          "output_type": "stream",
          "name": "stdout",
          "text": [
            "| epoch   5 | 26500/32580 batches | loss    1.030 \n",
            "money: taxes, buying, millions, payment, attention, compensation, demand, goods, permission, prices\n",
            "lion: swan, skull, sands, eagle, goat, bearded, serpent, jacket, cliff, alder\n",
            "africa: korea, albania, macedonia, mozambique, morocco, ethiopia, indonesia, dakota, laos, borneo\n",
            "musician: singer, guitarist, comedian, pianist, dancer, drummer, songwriter, composer, novelist, songwriters\n",
            "dance: jazz, dancing, blues, pop, swing, dances, ballroom, rap, bluegrass, concert\n",
            "\n",
            "\n"
          ]
        },
        {
          "output_type": "stream",
          "name": "stderr",
          "text": [
            "26995it [06:41, 73.39it/s]"
          ]
        },
        {
          "output_type": "stream",
          "name": "stdout",
          "text": [
            "| epoch   5 | 27000/32580 batches | loss    1.030 \n",
            "money: taxes, buying, millions, payment, compensation, attention, demand, goods, permission, prices\n",
            "lion: swan, skull, sands, eagle, bearded, goat, serpent, jacket, cliff, alder\n",
            "africa: korea, albania, macedonia, mozambique, ethiopia, morocco, indonesia, dakota, laos, africans\n",
            "musician: singer, guitarist, comedian, pianist, dancer, drummer, songwriter, composer, novelist, songwriters\n",
            "dance: jazz, dancing, blues, pop, swing, dances, ballroom, rap, bluegrass, concert\n",
            "\n",
            "\n"
          ]
        },
        {
          "output_type": "stream",
          "name": "stderr",
          "text": [
            "27497it [06:48, 66.76it/s]"
          ]
        },
        {
          "output_type": "stream",
          "name": "stdout",
          "text": [
            "| epoch   5 | 27500/32580 batches | loss    1.027 \n",
            "money: taxes, buying, millions, payment, compensation, demand, attention, goods, permission, prices\n",
            "lion: swan, skull, sands, eagle, bearded, goat, serpent, jacket, cliff, alder\n",
            "africa: korea, albania, macedonia, mozambique, ethiopia, indonesia, morocco, dakota, laos, borneo\n",
            "musician: singer, guitarist, comedian, pianist, dancer, drummer, songwriter, novelist, composer, songwriters\n",
            "dance: jazz, dancing, blues, pop, swing, dances, ballroom, rap, bluegrass, concert\n",
            "\n",
            "\n"
          ]
        },
        {
          "output_type": "stream",
          "name": "stderr",
          "text": [
            "27994it [06:55, 70.88it/s]"
          ]
        },
        {
          "output_type": "stream",
          "name": "stdout",
          "text": [
            "| epoch   5 | 28000/32580 batches | loss    1.031 \n",
            "money: taxes, buying, millions, payment, compensation, attention, goods, demand, permission, payments\n",
            "lion: swan, sands, skull, eagle, bearded, goat, jacket, serpent, alder, cliff\n",
            "africa: korea, albania, macedonia, mozambique, indonesia, ethiopia, morocco, dakota, laos, borneo\n",
            "musician: singer, guitarist, pianist, comedian, dancer, drummer, songwriter, composer, novelist, songwriters\n",
            "dance: jazz, dancing, blues, pop, swing, dances, ballroom, rap, bluegrass, concert\n",
            "\n",
            "\n"
          ]
        },
        {
          "output_type": "stream",
          "name": "stderr",
          "text": [
            "28496it [07:03, 72.56it/s]"
          ]
        },
        {
          "output_type": "stream",
          "name": "stdout",
          "text": [
            "| epoch   5 | 28500/32580 batches | loss    1.032 \n",
            "money: taxes, buying, millions, payment, compensation, attention, goods, demand, permission, payments\n",
            "lion: swan, sands, skull, eagle, bearded, goat, serpent, jacket, alder, cliff\n",
            "africa: korea, albania, macedonia, mozambique, ethiopia, indonesia, morocco, dakota, laos, africans\n",
            "musician: singer, guitarist, pianist, comedian, dancer, drummer, songwriter, composer, novelist, songwriters\n",
            "dance: jazz, dancing, blues, pop, swing, dances, ballroom, rap, bluegrass, concert\n",
            "\n",
            "\n"
          ]
        },
        {
          "output_type": "stream",
          "name": "stderr",
          "text": [
            "28996it [07:10, 65.67it/s]"
          ]
        },
        {
          "output_type": "stream",
          "name": "stdout",
          "text": [
            "| epoch   5 | 29000/32580 batches | loss    1.026 \n",
            "money: taxes, buying, millions, payment, compensation, attention, demand, goods, permission, payments\n",
            "lion: swan, sands, skull, eagle, bearded, goat, jacket, serpent, alder, saguinus\n",
            "africa: korea, albania, macedonia, mozambique, indonesia, ethiopia, morocco, dakota, africans, laos\n",
            "musician: singer, guitarist, pianist, comedian, dancer, drummer, songwriter, composer, novelist, songwriters\n",
            "dance: jazz, dancing, blues, pop, swing, dances, ballroom, rap, bluegrass, concert\n",
            "\n",
            "\n"
          ]
        },
        {
          "output_type": "stream",
          "name": "stderr",
          "text": [
            "29500it [07:17, 73.03it/s]"
          ]
        },
        {
          "output_type": "stream",
          "name": "stdout",
          "text": [
            "| epoch   5 | 29500/32580 batches | loss    1.025 \n",
            "money: taxes, buying, millions, payment, compensation, attention, goods, permission, demand, payments\n",
            "lion: swan, sands, skull, eagle, bearded, goat, jacket, serpent, alder, cliff\n",
            "africa: korea, albania, macedonia, mozambique, ethiopia, indonesia, morocco, dakota, laos, africans\n",
            "musician: singer, guitarist, pianist, comedian, dancer, drummer, songwriter, composer, novelist, songwriters\n",
            "dance: jazz, dancing, blues, pop, swing, ballroom, dances, rap, bluegrass, concert\n",
            "\n",
            "\n"
          ]
        },
        {
          "output_type": "stream",
          "name": "stderr",
          "text": [
            "30001it [07:25, 43.75it/s]"
          ]
        },
        {
          "output_type": "stream",
          "name": "stdout",
          "text": [
            "| epoch   5 | 30000/32580 batches | loss    1.025 \n",
            "money: buying, taxes, millions, payment, compensation, attention, goods, demand, permission, payments\n",
            "lion: swan, sands, skull, eagle, bearded, goat, jacket, serpent, alder, cliff\n",
            "africa: korea, albania, macedonia, mozambique, ethiopia, indonesia, morocco, dakota, laos, africans\n",
            "musician: singer, guitarist, pianist, comedian, dancer, drummer, songwriter, composer, novelist, songwriters\n",
            "dance: jazz, dancing, blues, pop, swing, dances, ballroom, rap, bluegrass, concert\n",
            "\n",
            "\n"
          ]
        },
        {
          "output_type": "stream",
          "name": "stderr",
          "text": [
            "30501it [07:32, 45.59it/s]"
          ]
        },
        {
          "output_type": "stream",
          "name": "stdout",
          "text": [
            "| epoch   5 | 30500/32580 batches | loss    1.026 \n",
            "money: buying, taxes, millions, payment, compensation, attention, goods, permission, demand, payments\n",
            "lion: swan, sands, skull, eagle, bearded, goat, jacket, serpent, alder, cliff\n",
            "africa: korea, albania, macedonia, mozambique, ethiopia, indonesia, morocco, dakota, laos, africans\n",
            "musician: singer, guitarist, pianist, comedian, dancer, drummer, songwriter, composer, songwriters, novelist\n",
            "dance: jazz, dancing, blues, pop, swing, ballroom, dances, rap, bluegrass, concert\n",
            "\n",
            "\n"
          ]
        },
        {
          "output_type": "stream",
          "name": "stderr",
          "text": [
            "30994it [07:39, 73.76it/s]"
          ]
        },
        {
          "output_type": "stream",
          "name": "stdout",
          "text": [
            "| epoch   5 | 31000/32580 batches | loss    1.029 \n",
            "money: taxes, buying, millions, payment, compensation, attention, goods, demand, permission, payments\n",
            "lion: swan, sands, skull, eagle, bearded, goat, jacket, serpent, alder, saguinus\n",
            "africa: korea, albania, macedonia, mozambique, ethiopia, indonesia, dakota, morocco, laos, africans\n",
            "musician: singer, guitarist, pianist, comedian, dancer, drummer, songwriter, composer, songwriters, novelist\n",
            "dance: jazz, dancing, blues, pop, swing, ballroom, dances, rap, bluegrass, concert\n",
            "\n",
            "\n"
          ]
        },
        {
          "output_type": "stream",
          "name": "stderr",
          "text": [
            "31501it [07:47, 45.00it/s]"
          ]
        },
        {
          "output_type": "stream",
          "name": "stdout",
          "text": [
            "| epoch   5 | 31500/32580 batches | loss    1.028 \n",
            "money: buying, taxes, millions, payment, compensation, attention, goods, demand, payments, permission\n",
            "lion: swan, sands, skull, eagle, bearded, goat, jacket, serpent, alder, saguinus\n",
            "africa: korea, albania, macedonia, mozambique, ethiopia, indonesia, morocco, dakota, laos, borneo\n",
            "musician: singer, guitarist, pianist, comedian, dancer, drummer, songwriter, composer, songwriters, novelist\n",
            "dance: jazz, dancing, blues, pop, swing, ballroom, dances, rap, bluegrass, concert\n",
            "\n",
            "\n"
          ]
        },
        {
          "output_type": "stream",
          "name": "stderr",
          "text": [
            "32001it [07:54, 47.50it/s]"
          ]
        },
        {
          "output_type": "stream",
          "name": "stdout",
          "text": [
            "| epoch   5 | 32000/32580 batches | loss    1.029 \n",
            "money: buying, taxes, payment, millions, compensation, attention, goods, demand, payments, permission\n",
            "lion: swan, sands, skull, eagle, goat, bearded, jacket, serpent, alder, saguinus\n",
            "africa: korea, albania, macedonia, mozambique, ethiopia, morocco, indonesia, dakota, laos, borneo\n",
            "musician: singer, guitarist, pianist, comedian, dancer, drummer, songwriter, composer, songwriters, novelist\n",
            "dance: jazz, dancing, blues, pop, swing, dances, ballroom, rap, bluegrass, folk\n",
            "\n",
            "\n"
          ]
        },
        {
          "output_type": "stream",
          "name": "stderr",
          "text": [
            "32495it [08:01, 73.40it/s]"
          ]
        },
        {
          "output_type": "stream",
          "name": "stdout",
          "text": [
            "| epoch   5 | 32500/32580 batches | loss    1.031 \n",
            "money: buying, taxes, millions, payment, compensation, attention, goods, demand, permission, payments\n",
            "lion: swan, sands, skull, eagle, goat, bearded, jacket, serpent, alder, saguinus\n",
            "africa: korea, albania, macedonia, mozambique, ethiopia, indonesia, morocco, dakota, laos, africans\n",
            "musician: singer, guitarist, pianist, comedian, dancer, drummer, songwriter, songwriters, composer, novelist\n",
            "dance: jazz, dancing, blues, pop, swing, dances, ballroom, rap, bluegrass, folk\n",
            "\n",
            "\n"
          ]
        },
        {
          "output_type": "stream",
          "name": "stderr",
          "text": [
            "32580it [08:04, 67.18it/s]\n",
            "0it [00:00, ?it/s]"
          ]
        },
        {
          "output_type": "stream",
          "name": "stdout",
          "text": [
            "| epoch   6 |     0/32580 batches | loss    0.956 \n"
          ]
        },
        {
          "output_type": "stream",
          "name": "stderr",
          "text": [
            "\r1it [00:02,  2.32s/it]"
          ]
        },
        {
          "output_type": "stream",
          "name": "stdout",
          "text": [
            "money: buying, taxes, millions, payment, attention, compensation, goods, demand, permission, payments\n",
            "lion: swan, sands, skull, eagle, goat, bearded, jacket, serpent, alder, saguinus\n",
            "africa: korea, albania, macedonia, mozambique, ethiopia, indonesia, morocco, dakota, laos, africans\n",
            "musician: singer, guitarist, pianist, comedian, dancer, drummer, songwriter, songwriters, composer, novelist\n",
            "dance: jazz, dancing, blues, pop, dances, swing, ballroom, rap, bluegrass, folk\n",
            "\n",
            "\n"
          ]
        },
        {
          "output_type": "stream",
          "name": "stderr",
          "text": [
            "494it [00:09, 74.03it/s]"
          ]
        },
        {
          "output_type": "stream",
          "name": "stdout",
          "text": [
            "| epoch   6 |   500/32580 batches | loss    1.008 \n",
            "money: buying, taxes, payment, millions, compensation, attention, goods, demand, payments, permission\n",
            "lion: swan, sands, skull, eagle, goat, bearded, jacket, serpent, alder, saguinus\n",
            "africa: korea, albania, macedonia, mozambique, ethiopia, morocco, indonesia, dakota, laos, africans\n",
            "musician: singer, guitarist, pianist, comedian, dancer, drummer, songwriter, songwriters, composer, novelist\n",
            "dance: jazz, dancing, blues, pop, ballroom, dances, swing, rap, bluegrass, folk\n",
            "\n",
            "\n"
          ]
        },
        {
          "output_type": "stream",
          "name": "stderr",
          "text": [
            "996it [00:16, 71.57it/s]"
          ]
        },
        {
          "output_type": "stream",
          "name": "stdout",
          "text": [
            "| epoch   6 |  1000/32580 batches | loss    1.004 \n",
            "money: buying, taxes, millions, payment, compensation, attention, goods, demand, payments, prices\n",
            "lion: swan, sands, skull, eagle, goat, bearded, jacket, serpent, alder, saguinus\n",
            "africa: korea, albania, macedonia, mozambique, ethiopia, morocco, indonesia, dakota, laos, africans\n",
            "musician: singer, guitarist, pianist, comedian, drummer, dancer, songwriter, composer, songwriters, novelist\n",
            "dance: jazz, dancing, blues, pop, ballroom, dances, swing, rap, bluegrass, folk\n",
            "\n",
            "\n"
          ]
        },
        {
          "output_type": "stream",
          "name": "stderr",
          "text": [
            "1499it [00:23, 69.99it/s]"
          ]
        },
        {
          "output_type": "stream",
          "name": "stdout",
          "text": [
            "| epoch   6 |  1500/32580 batches | loss    1.005 \n",
            "money: taxes, buying, millions, payment, compensation, attention, goods, demand, payments, prices\n",
            "lion: swan, sands, skull, eagle, bearded, goat, jacket, serpent, alder, cliff\n",
            "africa: korea, albania, macedonia, mozambique, ethiopia, morocco, indonesia, dakota, laos, africans\n",
            "musician: singer, guitarist, pianist, comedian, dancer, drummer, songwriter, songwriters, composer, novelist\n",
            "dance: jazz, dancing, blues, pop, dances, ballroom, swing, rap, bluegrass, folk\n",
            "\n",
            "\n"
          ]
        },
        {
          "output_type": "stream",
          "name": "stderr",
          "text": [
            "1999it [00:31, 73.02it/s]"
          ]
        },
        {
          "output_type": "stream",
          "name": "stdout",
          "text": [
            "| epoch   6 |  2000/32580 batches | loss    1.005 \n",
            "money: buying, taxes, millions, payment, compensation, goods, attention, demand, payments, prices\n",
            "lion: swan, sands, skull, eagle, goat, bearded, jacket, serpent, alder, saguinus\n",
            "africa: korea, albania, macedonia, mozambique, ethiopia, morocco, dakota, indonesia, laos, borneo\n",
            "musician: singer, guitarist, pianist, comedian, dancer, drummer, songwriter, songwriters, composer, novelist\n",
            "dance: jazz, dancing, blues, pop, dances, ballroom, swing, rap, bluegrass, folk\n",
            "\n",
            "\n"
          ]
        },
        {
          "output_type": "stream",
          "name": "stderr",
          "text": [
            "2495it [00:38, 73.48it/s]"
          ]
        },
        {
          "output_type": "stream",
          "name": "stdout",
          "text": [
            "| epoch   6 |  2500/32580 batches | loss    1.011 \n",
            "money: buying, taxes, millions, payment, compensation, attention, goods, demand, payments, prices\n",
            "lion: swan, sands, skull, eagle, goat, jacket, bearded, serpent, alder, saguinus\n",
            "africa: korea, albania, macedonia, mozambique, ethiopia, morocco, dakota, indonesia, laos, borneo\n",
            "musician: singer, guitarist, pianist, comedian, drummer, dancer, songwriter, composer, songwriters, novelist\n",
            "dance: jazz, dancing, blues, pop, dances, ballroom, swing, rap, bluegrass, folk\n",
            "\n",
            "\n"
          ]
        },
        {
          "output_type": "stream",
          "name": "stderr",
          "text": [
            "2997it [00:45, 68.71it/s]"
          ]
        },
        {
          "output_type": "stream",
          "name": "stdout",
          "text": [
            "| epoch   6 |  3000/32580 batches | loss    1.007 \n",
            "money: taxes, buying, millions, payment, compensation, attention, goods, demand, payments, prices\n",
            "lion: swan, sands, eagle, skull, goat, bearded, jacket, serpent, alder, saguinus\n",
            "africa: korea, albania, macedonia, mozambique, ethiopia, morocco, dakota, indonesia, borneo, laos\n",
            "musician: singer, guitarist, pianist, comedian, drummer, dancer, songwriter, composer, songwriters, novelist\n",
            "dance: jazz, dancing, blues, pop, dances, ballroom, swing, rap, bluegrass, folk\n",
            "\n",
            "\n"
          ]
        },
        {
          "output_type": "stream",
          "name": "stderr",
          "text": [
            "3494it [00:52, 70.79it/s]"
          ]
        },
        {
          "output_type": "stream",
          "name": "stdout",
          "text": [
            "| epoch   6 |  3500/32580 batches | loss    1.007 \n",
            "money: taxes, buying, millions, payment, compensation, attention, goods, demand, payments, prices\n",
            "lion: swan, sands, skull, eagle, goat, jacket, bearded, serpent, alder, saguinus\n",
            "africa: korea, albania, macedonia, mozambique, ethiopia, morocco, dakota, indonesia, borneo, laos\n",
            "musician: singer, guitarist, pianist, comedian, drummer, dancer, songwriter, songwriters, composer, novelist\n",
            "dance: jazz, dancing, blues, pop, dances, ballroom, swing, rap, bluegrass, folk\n",
            "\n",
            "\n"
          ]
        },
        {
          "output_type": "stream",
          "name": "stderr",
          "text": [
            "3996it [01:00, 72.71it/s]"
          ]
        },
        {
          "output_type": "stream",
          "name": "stdout",
          "text": [
            "| epoch   6 |  4000/32580 batches | loss    1.008 \n",
            "money: taxes, buying, millions, payment, compensation, attention, goods, demand, payments, prices\n",
            "lion: swan, sands, skull, eagle, goat, jacket, bearded, alder, serpent, saguinus\n",
            "africa: korea, albania, macedonia, mozambique, ethiopia, dakota, morocco, indonesia, borneo, yemen\n",
            "musician: singer, guitarist, pianist, comedian, dancer, drummer, songwriter, songwriters, composer, novelist\n",
            "dance: jazz, dancing, blues, pop, dances, ballroom, swing, rap, bluegrass, folk\n",
            "\n",
            "\n"
          ]
        },
        {
          "output_type": "stream",
          "name": "stderr",
          "text": [
            "4495it [01:07, 70.25it/s]"
          ]
        },
        {
          "output_type": "stream",
          "name": "stdout",
          "text": [
            "| epoch   6 |  4500/32580 batches | loss    1.003 \n",
            "money: buying, taxes, millions, payment, compensation, attention, goods, demand, payments, prices\n",
            "lion: swan, sands, skull, eagle, goat, bearded, jacket, serpent, alder, saguinus\n",
            "africa: korea, albania, macedonia, mozambique, ethiopia, dakota, morocco, indonesia, borneo, yemen\n",
            "musician: singer, guitarist, pianist, comedian, drummer, dancer, songwriter, songwriters, composer, novelist\n",
            "dance: jazz, dancing, blues, pop, ballroom, dances, swing, rap, bluegrass, folk\n",
            "\n",
            "\n"
          ]
        },
        {
          "output_type": "stream",
          "name": "stderr",
          "text": [
            "4997it [01:14, 74.00it/s]"
          ]
        },
        {
          "output_type": "stream",
          "name": "stdout",
          "text": [
            "| epoch   6 |  5000/32580 batches | loss    1.006 \n",
            "money: taxes, buying, millions, payment, attention, goods, compensation, demand, payments, prices\n",
            "lion: swan, sands, eagle, skull, goat, bearded, jacket, serpent, alder, saguinus\n",
            "africa: korea, albania, mozambique, macedonia, ethiopia, morocco, dakota, indonesia, borneo, yemen\n",
            "musician: singer, guitarist, pianist, comedian, drummer, dancer, songwriter, songwriters, composer, novelist\n",
            "dance: jazz, dancing, blues, pop, dances, ballroom, swing, rap, bluegrass, folk\n",
            "\n",
            "\n"
          ]
        },
        {
          "output_type": "stream",
          "name": "stderr",
          "text": [
            "5495it [01:21, 69.15it/s]"
          ]
        },
        {
          "output_type": "stream",
          "name": "stdout",
          "text": [
            "| epoch   6 |  5500/32580 batches | loss    1.006 \n",
            "money: taxes, buying, millions, payment, attention, goods, compensation, demand, payments, prices\n",
            "lion: swan, sands, eagle, skull, goat, bearded, jacket, alder, serpent, saguinus\n",
            "africa: korea, albania, macedonia, mozambique, ethiopia, morocco, dakota, indonesia, borneo, africans\n",
            "musician: singer, guitarist, pianist, comedian, drummer, dancer, songwriter, songwriters, composer, novelist\n",
            "dance: jazz, dancing, blues, pop, dances, ballroom, swing, rap, bluegrass, folk\n",
            "\n",
            "\n"
          ]
        },
        {
          "output_type": "stream",
          "name": "stderr",
          "text": [
            "5996it [01:29, 71.87it/s]"
          ]
        },
        {
          "output_type": "stream",
          "name": "stdout",
          "text": [
            "| epoch   6 |  6000/32580 batches | loss    1.005 \n",
            "money: buying, taxes, millions, payment, attention, goods, compensation, payments, demand, gift\n",
            "lion: swan, sands, eagle, skull, goat, bearded, jacket, alder, serpent, saguinus\n",
            "africa: korea, albania, macedonia, mozambique, ethiopia, morocco, dakota, indonesia, borneo, africans\n",
            "musician: singer, guitarist, pianist, comedian, drummer, songwriter, dancer, songwriters, composer, novelist\n",
            "dance: jazz, dancing, blues, pop, dances, ballroom, swing, rap, bluegrass, folk\n",
            "\n",
            "\n"
          ]
        },
        {
          "output_type": "stream",
          "name": "stderr",
          "text": [
            "6499it [01:36, 72.63it/s]"
          ]
        },
        {
          "output_type": "stream",
          "name": "stdout",
          "text": [
            "| epoch   6 |  6500/32580 batches | loss    1.007 \n",
            "money: taxes, buying, millions, payment, goods, attention, compensation, payments, demand, prices\n",
            "lion: swan, sands, eagle, skull, goat, bearded, jacket, serpent, alder, saguinus\n",
            "africa: korea, albania, mozambique, macedonia, ethiopia, morocco, dakota, indonesia, borneo, africans\n",
            "musician: singer, guitarist, pianist, comedian, drummer, songwriter, dancer, songwriters, composer, novelist\n",
            "dance: jazz, dancing, blues, pop, dances, ballroom, swing, rap, bluegrass, concert\n",
            "\n",
            "\n"
          ]
        },
        {
          "output_type": "stream",
          "name": "stderr",
          "text": [
            "6998it [01:43, 68.12it/s]"
          ]
        },
        {
          "output_type": "stream",
          "name": "stdout",
          "text": [
            "| epoch   6 |  7000/32580 batches | loss    1.009 \n"
          ]
        },
        {
          "output_type": "stream",
          "name": "stderr",
          "text": [
            "\r7005it [01:44, 37.49it/s]"
          ]
        },
        {
          "output_type": "stream",
          "name": "stdout",
          "text": [
            "money: buying, taxes, millions, payment, goods, attention, compensation, payments, demand, prices\n",
            "lion: swan, sands, eagle, skull, goat, jacket, bearded, serpent, alder, saguinus\n",
            "africa: korea, albania, macedonia, mozambique, ethiopia, morocco, dakota, indonesia, borneo, laos\n",
            "musician: singer, guitarist, pianist, comedian, drummer, songwriter, dancer, songwriters, composer, novelist\n",
            "dance: jazz, dancing, blues, pop, dances, ballroom, swing, rap, bluegrass, folk\n",
            "\n",
            "\n"
          ]
        },
        {
          "output_type": "stream",
          "name": "stderr",
          "text": [
            "7498it [01:51, 74.45it/s]"
          ]
        },
        {
          "output_type": "stream",
          "name": "stdout",
          "text": [
            "| epoch   6 |  7500/32580 batches | loss    1.002 \n",
            "money: buying, taxes, millions, payment, goods, attention, compensation, prices, payments, demand\n",
            "lion: swan, sands, eagle, skull, goat, jacket, bearded, serpent, saguinus, alder\n",
            "africa: korea, albania, mozambique, macedonia, ethiopia, morocco, dakota, indonesia, borneo, africans\n",
            "musician: singer, guitarist, pianist, comedian, drummer, songwriter, dancer, songwriters, composer, novelist\n",
            "dance: jazz, dancing, blues, pop, dances, ballroom, swing, rap, bluegrass, concert\n",
            "\n",
            "\n"
          ]
        },
        {
          "output_type": "stream",
          "name": "stderr",
          "text": [
            "8001it [01:58, 47.08it/s]"
          ]
        },
        {
          "output_type": "stream",
          "name": "stdout",
          "text": [
            "| epoch   6 |  8000/32580 batches | loss    1.005 \n",
            "money: buying, taxes, millions, payment, goods, attention, compensation, payments, prices, demand\n",
            "lion: swan, sands, eagle, skull, goat, bearded, jacket, serpent, alder, saguinus\n",
            "africa: korea, albania, mozambique, macedonia, ethiopia, morocco, dakota, indonesia, borneo, laos\n",
            "musician: singer, guitarist, pianist, comedian, drummer, dancer, songwriter, songwriters, composer, novelist\n",
            "dance: jazz, dancing, blues, pop, ballroom, dances, swing, rap, bluegrass, concert\n",
            "\n",
            "\n"
          ]
        },
        {
          "output_type": "stream",
          "name": "stderr",
          "text": [
            "8497it [02:05, 68.48it/s]"
          ]
        },
        {
          "output_type": "stream",
          "name": "stdout",
          "text": [
            "| epoch   6 |  8500/32580 batches | loss    1.006 \n",
            "money: buying, taxes, millions, payment, goods, attention, compensation, payments, prices, demand\n",
            "lion: swan, sands, eagle, skull, goat, bearded, jacket, serpent, alder, saguinus\n",
            "africa: korea, albania, mozambique, macedonia, ethiopia, morocco, indonesia, dakota, borneo, laos\n",
            "musician: singer, guitarist, pianist, comedian, drummer, dancer, songwriter, songwriters, composer, novelist\n",
            "dance: jazz, dancing, blues, pop, ballroom, dances, swing, rap, bluegrass, folk\n",
            "\n",
            "\n"
          ]
        },
        {
          "output_type": "stream",
          "name": "stderr",
          "text": [
            "9001it [02:13, 47.67it/s]"
          ]
        },
        {
          "output_type": "stream",
          "name": "stdout",
          "text": [
            "| epoch   6 |  9000/32580 batches | loss    1.009 \n",
            "money: buying, taxes, millions, payment, compensation, goods, attention, payments, prices, demand\n",
            "lion: swan, sands, eagle, skull, goat, bearded, jacket, serpent, alder, saguinus\n",
            "africa: korea, albania, mozambique, macedonia, ethiopia, morocco, indonesia, dakota, borneo, laos\n",
            "musician: singer, guitarist, pianist, comedian, drummer, dancer, songwriter, songwriters, composer, novelist\n",
            "dance: jazz, dancing, blues, pop, ballroom, dances, swing, rap, bluegrass, concert\n",
            "\n",
            "\n"
          ]
        },
        {
          "output_type": "stream",
          "name": "stderr",
          "text": [
            "9494it [02:20, 72.36it/s]"
          ]
        },
        {
          "output_type": "stream",
          "name": "stdout",
          "text": [
            "| epoch   6 |  9500/32580 batches | loss    1.009 \n",
            "money: buying, taxes, millions, payment, goods, compensation, attention, prices, payments, demand\n",
            "lion: swan, sands, eagle, skull, goat, bearded, jacket, serpent, saguinus, alder\n",
            "africa: korea, albania, mozambique, macedonia, ethiopia, morocco, indonesia, dakota, borneo, laos\n",
            "musician: singer, guitarist, pianist, comedian, drummer, dancer, songwriter, songwriters, composer, novelist\n",
            "dance: jazz, dancing, blues, pop, ballroom, dances, swing, rap, bluegrass, folk\n",
            "\n",
            "\n"
          ]
        },
        {
          "output_type": "stream",
          "name": "stderr",
          "text": [
            "9996it [02:27, 68.55it/s]"
          ]
        },
        {
          "output_type": "stream",
          "name": "stdout",
          "text": [
            "| epoch   6 | 10000/32580 batches | loss    1.009 \n",
            "money: buying, taxes, millions, payment, goods, compensation, attention, prices, payments, demand\n",
            "lion: swan, sands, eagle, skull, goat, bearded, jacket, serpent, saguinus, alder\n",
            "africa: korea, albania, mozambique, macedonia, ethiopia, morocco, dakota, indonesia, borneo, laos\n",
            "musician: singer, guitarist, pianist, comedian, drummer, dancer, songwriter, songwriters, composer, novelist\n",
            "dance: jazz, dancing, blues, pop, dances, ballroom, swing, rap, bluegrass, folk\n",
            "\n",
            "\n"
          ]
        },
        {
          "output_type": "stream",
          "name": "stderr",
          "text": [
            "10497it [02:38, 73.61it/s]"
          ]
        },
        {
          "output_type": "stream",
          "name": "stdout",
          "text": [
            "| epoch   6 | 10500/32580 batches | loss    1.009 \n",
            "money: buying, taxes, millions, payment, goods, compensation, attention, prices, demand, payments\n",
            "lion: swan, sands, eagle, skull, goat, bearded, jacket, serpent, saguinus, alder\n",
            "africa: korea, albania, mozambique, macedonia, ethiopia, morocco, indonesia, dakota, laos, borneo\n",
            "musician: singer, guitarist, pianist, comedian, drummer, dancer, songwriter, songwriters, composer, novelist\n",
            "dance: jazz, dancing, blues, pop, dances, ballroom, swing, rap, bluegrass, folk\n",
            "\n",
            "\n"
          ]
        },
        {
          "output_type": "stream",
          "name": "stderr",
          "text": [
            "10994it [02:45, 68.05it/s]"
          ]
        },
        {
          "output_type": "stream",
          "name": "stdout",
          "text": [
            "| epoch   6 | 11000/32580 batches | loss    1.006 \n"
          ]
        },
        {
          "output_type": "stream",
          "name": "stderr",
          "text": [
            "11007it [02:46, 41.17it/s]"
          ]
        },
        {
          "output_type": "stream",
          "name": "stdout",
          "text": [
            "money: buying, taxes, millions, payment, goods, compensation, attention, prices, demand, payments\n",
            "lion: swan, sands, eagle, skull, goat, bearded, jacket, saguinus, serpent, alder\n",
            "africa: korea, albania, mozambique, macedonia, ethiopia, morocco, indonesia, dakota, borneo, laos\n",
            "musician: singer, guitarist, pianist, comedian, drummer, dancer, songwriter, songwriters, composer, novelist\n",
            "dance: jazz, dancing, blues, pop, dances, ballroom, swing, rap, bluegrass, folk\n",
            "\n",
            "\n"
          ]
        },
        {
          "output_type": "stream",
          "name": "stderr",
          "text": [
            "11501it [02:53, 48.24it/s]"
          ]
        },
        {
          "output_type": "stream",
          "name": "stdout",
          "text": [
            "| epoch   6 | 11500/32580 batches | loss    1.008 \n",
            "money: buying, millions, taxes, goods, payment, attention, compensation, prices, demand, payments\n",
            "lion: swan, sands, eagle, skull, goat, bearded, jacket, saguinus, serpent, alder\n",
            "africa: korea, albania, mozambique, macedonia, morocco, ethiopia, indonesia, dakota, borneo, laos\n",
            "musician: singer, guitarist, pianist, comedian, drummer, dancer, songwriter, songwriters, composer, novelist\n",
            "dance: jazz, dancing, blues, pop, dances, ballroom, swing, rap, bluegrass, folk\n",
            "\n",
            "\n"
          ]
        },
        {
          "output_type": "stream",
          "name": "stderr",
          "text": [
            "12000it [03:00, 72.51it/s]"
          ]
        },
        {
          "output_type": "stream",
          "name": "stdout",
          "text": [
            "| epoch   6 | 12000/32580 batches | loss    1.006 \n",
            "money: buying, taxes, millions, goods, payment, attention, prices, compensation, demand, payments\n",
            "lion: swan, sands, eagle, skull, goat, bearded, jacket, saguinus, serpent, alder\n",
            "africa: korea, albania, macedonia, mozambique, morocco, ethiopia, indonesia, borneo, dakota, africans\n",
            "musician: singer, guitarist, pianist, comedian, drummer, dancer, songwriter, songwriters, composer, rapper\n",
            "dance: jazz, dancing, blues, pop, dances, ballroom, swing, rap, bluegrass, folk\n",
            "\n",
            "\n"
          ]
        },
        {
          "output_type": "stream",
          "name": "stderr",
          "text": [
            "12496it [03:08, 64.60it/s]"
          ]
        },
        {
          "output_type": "stream",
          "name": "stdout",
          "text": [
            "| epoch   6 | 12500/32580 batches | loss    1.009 \n",
            "money: buying, taxes, millions, goods, payment, attention, compensation, prices, demand, payments\n",
            "lion: swan, sands, eagle, skull, goat, bearded, jacket, saguinus, serpent, alder\n",
            "africa: korea, albania, mozambique, macedonia, morocco, ethiopia, indonesia, borneo, dakota, yemen\n",
            "musician: singer, guitarist, pianist, comedian, drummer, dancer, songwriter, songwriters, composer, bassist\n",
            "dance: jazz, dancing, blues, pop, dances, ballroom, rap, swing, bluegrass, folk\n",
            "\n",
            "\n"
          ]
        },
        {
          "output_type": "stream",
          "name": "stderr",
          "text": [
            "12994it [03:15, 72.46it/s]"
          ]
        },
        {
          "output_type": "stream",
          "name": "stdout",
          "text": [
            "| epoch   6 | 13000/32580 batches | loss    1.006 \n",
            "money: buying, millions, taxes, goods, payment, attention, prices, compensation, demand, payments\n",
            "lion: swan, sands, eagle, skull, goat, bearded, jacket, serpent, saguinus, alder\n",
            "africa: korea, albania, mozambique, macedonia, morocco, ethiopia, indonesia, dakota, borneo, laos\n",
            "musician: singer, guitarist, pianist, comedian, drummer, dancer, songwriter, songwriters, composer, rapper\n",
            "dance: jazz, dancing, blues, pop, dances, ballroom, rap, swing, bluegrass, folk\n",
            "\n",
            "\n"
          ]
        },
        {
          "output_type": "stream",
          "name": "stderr",
          "text": [
            "13495it [03:22, 69.15it/s]"
          ]
        },
        {
          "output_type": "stream",
          "name": "stdout",
          "text": [
            "| epoch   6 | 13500/32580 batches | loss    1.007 \n",
            "money: buying, millions, taxes, goods, payment, attention, compensation, prices, demand, payments\n",
            "lion: swan, sands, eagle, skull, goat, bearded, jacket, serpent, saguinus, alder\n",
            "africa: korea, albania, mozambique, macedonia, morocco, ethiopia, indonesia, borneo, dakota, laos\n",
            "musician: singer, guitarist, pianist, comedian, drummer, dancer, songwriter, songwriters, composer, rapper\n",
            "dance: jazz, dancing, blues, pop, dances, ballroom, rap, swing, bluegrass, folk\n",
            "\n",
            "\n"
          ]
        },
        {
          "output_type": "stream",
          "name": "stderr",
          "text": [
            "13995it [03:29, 70.45it/s]"
          ]
        },
        {
          "output_type": "stream",
          "name": "stdout",
          "text": [
            "| epoch   6 | 14000/32580 batches | loss    1.008 \n"
          ]
        },
        {
          "output_type": "stream",
          "name": "stderr",
          "text": [
            "14010it [03:30, 46.43it/s]"
          ]
        },
        {
          "output_type": "stream",
          "name": "stdout",
          "text": [
            "money: buying, millions, taxes, goods, payment, attention, compensation, prices, demand, payments\n",
            "lion: swan, sands, skull, eagle, goat, bearded, alder, jacket, serpent, saguinus\n",
            "africa: korea, albania, macedonia, mozambique, morocco, ethiopia, indonesia, borneo, laos, dakota\n",
            "musician: singer, guitarist, pianist, comedian, drummer, dancer, songwriter, songwriters, composer, rapper\n",
            "dance: jazz, dancing, blues, pop, dances, ballroom, rap, swing, bluegrass, folk\n",
            "\n",
            "\n"
          ]
        },
        {
          "output_type": "stream",
          "name": "stderr",
          "text": [
            "14495it [03:36, 73.20it/s]"
          ]
        },
        {
          "output_type": "stream",
          "name": "stdout",
          "text": [
            "| epoch   6 | 14500/32580 batches | loss    1.006 \n",
            "money: buying, millions, taxes, goods, payment, attention, prices, compensation, demand, payments\n",
            "lion: swan, sands, skull, eagle, goat, bearded, alder, jacket, serpent, saguinus\n",
            "africa: korea, albania, macedonia, mozambique, morocco, ethiopia, borneo, indonesia, laos, yemen\n",
            "musician: singer, guitarist, pianist, comedian, drummer, dancer, songwriter, songwriters, composer, rapper\n",
            "dance: jazz, dancing, blues, pop, dances, ballroom, rap, swing, bluegrass, folk\n",
            "\n",
            "\n"
          ]
        },
        {
          "output_type": "stream",
          "name": "stderr",
          "text": [
            "14999it [03:44, 68.45it/s]"
          ]
        },
        {
          "output_type": "stream",
          "name": "stdout",
          "text": [
            "| epoch   6 | 15000/32580 batches | loss    1.006 \n",
            "money: buying, millions, taxes, payment, goods, compensation, prices, attention, demand, gift\n",
            "lion: swan, sands, skull, goat, eagle, bearded, alder, jacket, serpent, saguinus\n",
            "africa: korea, albania, mozambique, macedonia, morocco, ethiopia, borneo, indonesia, laos, dakota\n",
            "musician: singer, guitarist, pianist, comedian, drummer, dancer, songwriter, songwriters, composer, rapper\n",
            "dance: jazz, dancing, blues, pop, dances, ballroom, rap, swing, bluegrass, folk\n",
            "\n",
            "\n"
          ]
        },
        {
          "output_type": "stream",
          "name": "stderr",
          "text": [
            "15496it [03:51, 73.09it/s]"
          ]
        },
        {
          "output_type": "stream",
          "name": "stdout",
          "text": [
            "| epoch   6 | 15500/32580 batches | loss    1.011 \n",
            "money: buying, millions, taxes, goods, payment, compensation, attention, prices, demand, gift\n",
            "lion: swan, sands, goat, skull, bearded, eagle, jacket, serpent, alder, saguinus\n",
            "africa: korea, albania, mozambique, macedonia, morocco, borneo, ethiopia, indonesia, laos, dakota\n",
            "musician: singer, guitarist, pianist, comedian, drummer, dancer, songwriter, songwriters, composer, rapper\n",
            "dance: jazz, dancing, blues, pop, dances, ballroom, rap, swing, bluegrass, folk\n",
            "\n",
            "\n"
          ]
        },
        {
          "output_type": "stream",
          "name": "stderr",
          "text": [
            "15998it [03:58, 73.75it/s]"
          ]
        },
        {
          "output_type": "stream",
          "name": "stdout",
          "text": [
            "| epoch   6 | 16000/32580 batches | loss    1.006 \n",
            "money: buying, millions, taxes, goods, payment, compensation, attention, prices, demand, gift\n",
            "lion: swan, sands, skull, goat, bearded, eagle, jacket, serpent, alder, saguinus\n",
            "africa: korea, albania, macedonia, mozambique, morocco, ethiopia, borneo, indonesia, laos, dakota\n",
            "musician: singer, guitarist, pianist, comedian, drummer, dancer, songwriter, songwriters, composer, rapper\n",
            "dance: jazz, dancing, blues, pop, dances, ballroom, rap, swing, bluegrass, folk\n",
            "\n",
            "\n"
          ]
        },
        {
          "output_type": "stream",
          "name": "stderr",
          "text": [
            "16494it [04:06, 70.78it/s]"
          ]
        },
        {
          "output_type": "stream",
          "name": "stdout",
          "text": [
            "| epoch   6 | 16500/32580 batches | loss    1.007 \n"
          ]
        },
        {
          "output_type": "stream",
          "name": "stderr",
          "text": [
            "16508it [04:06, 45.17it/s]"
          ]
        },
        {
          "output_type": "stream",
          "name": "stdout",
          "text": [
            "money: buying, millions, taxes, payment, goods, compensation, prices, attention, demand, gift\n",
            "lion: swan, sands, skull, goat, bearded, jacket, eagle, serpent, alder, saguinus\n",
            "africa: korea, albania, macedonia, mozambique, morocco, ethiopia, borneo, indonesia, laos, dakota\n",
            "musician: singer, guitarist, pianist, comedian, drummer, dancer, songwriter, songwriters, composer, rapper\n",
            "dance: jazz, dancing, blues, pop, dances, ballroom, rap, swing, bluegrass, folk\n",
            "\n",
            "\n"
          ]
        },
        {
          "output_type": "stream",
          "name": "stderr",
          "text": [
            "17001it [04:13, 47.72it/s]"
          ]
        },
        {
          "output_type": "stream",
          "name": "stdout",
          "text": [
            "| epoch   6 | 17000/32580 batches | loss    1.008 \n",
            "money: buying, millions, taxes, payment, goods, compensation, prices, attention, demand, gift\n",
            "lion: swan, sands, skull, goat, bearded, eagle, serpent, saguinus, jacket, alder\n",
            "africa: korea, albania, macedonia, mozambique, morocco, borneo, ethiopia, indonesia, laos, dakota\n",
            "musician: singer, guitarist, pianist, comedian, drummer, dancer, songwriter, songwriters, composer, rapper\n",
            "dance: jazz, dancing, blues, pop, dances, ballroom, rap, swing, bluegrass, folk\n",
            "\n",
            "\n"
          ]
        },
        {
          "output_type": "stream",
          "name": "stderr",
          "text": [
            "17494it [04:20, 72.69it/s]"
          ]
        },
        {
          "output_type": "stream",
          "name": "stdout",
          "text": [
            "| epoch   6 | 17500/32580 batches | loss    1.004 \n",
            "money: buying, taxes, millions, payment, goods, compensation, attention, prices, demand, gift\n",
            "lion: swan, sands, skull, goat, bearded, eagle, serpent, saguinus, jacket, alder\n",
            "africa: korea, albania, macedonia, mozambique, morocco, borneo, ethiopia, indonesia, africans, laos\n",
            "musician: singer, guitarist, pianist, comedian, drummer, dancer, songwriter, songwriters, composer, rapper\n",
            "dance: jazz, dancing, blues, pop, dances, ballroom, swing, rap, bluegrass, folk\n",
            "\n",
            "\n"
          ]
        },
        {
          "output_type": "stream",
          "name": "stderr",
          "text": [
            "18000it [04:27, 67.47it/s]"
          ]
        },
        {
          "output_type": "stream",
          "name": "stdout",
          "text": [
            "| epoch   6 | 18000/32580 batches | loss    1.006 \n",
            "money: buying, taxes, millions, payment, goods, compensation, prices, attention, demand, gift\n",
            "lion: swan, sands, skull, bearded, goat, serpent, eagle, saguinus, jacket, alder\n",
            "africa: korea, albania, macedonia, morocco, mozambique, borneo, ethiopia, indonesia, africans, laos\n",
            "musician: singer, guitarist, pianist, comedian, drummer, dancer, songwriter, songwriters, composer, rapper\n",
            "dance: jazz, dancing, blues, pop, ballroom, dances, rap, swing, bluegrass, folk\n",
            "\n",
            "\n"
          ]
        },
        {
          "output_type": "stream",
          "name": "stderr",
          "text": [
            "18498it [04:35, 70.62it/s]"
          ]
        },
        {
          "output_type": "stream",
          "name": "stdout",
          "text": [
            "| epoch   6 | 18500/32580 batches | loss    1.007 \n",
            "money: buying, taxes, millions, payment, goods, prices, compensation, attention, demand, gift\n",
            "lion: swan, sands, skull, goat, bearded, serpent, eagle, saguinus, jacket, alder\n",
            "africa: korea, albania, macedonia, mozambique, morocco, borneo, ethiopia, indonesia, africans, laos\n",
            "musician: singer, guitarist, pianist, comedian, drummer, dancer, songwriter, songwriters, composer, rapper\n",
            "dance: jazz, dancing, blues, pop, ballroom, dances, rap, swing, bluegrass, folk\n",
            "\n",
            "\n"
          ]
        },
        {
          "output_type": "stream",
          "name": "stderr",
          "text": [
            "18999it [04:42, 71.76it/s]"
          ]
        },
        {
          "output_type": "stream",
          "name": "stdout",
          "text": [
            "| epoch   6 | 19000/32580 batches | loss    1.004 \n",
            "money: buying, taxes, millions, payment, goods, compensation, prices, attention, demand, gift\n",
            "lion: swan, sands, skull, goat, bearded, serpent, eagle, alder, saguinus, jacket\n",
            "africa: korea, albania, macedonia, mozambique, morocco, borneo, ethiopia, indonesia, dakota, africans\n",
            "musician: singer, guitarist, pianist, comedian, drummer, dancer, songwriter, songwriters, composer, rapper\n",
            "dance: jazz, dancing, blues, pop, ballroom, dances, rap, swing, bluegrass, folk\n",
            "\n",
            "\n"
          ]
        },
        {
          "output_type": "stream",
          "name": "stderr",
          "text": [
            "19495it [04:50, 70.62it/s]"
          ]
        },
        {
          "output_type": "stream",
          "name": "stdout",
          "text": [
            "| epoch   6 | 19500/32580 batches | loss    1.006 \n",
            "money: taxes, buying, millions, payment, goods, compensation, prices, attention, demand, gift\n",
            "lion: swan, sands, skull, goat, bearded, serpent, alder, eagle, saguinus, jacket\n",
            "africa: korea, albania, macedonia, mozambique, borneo, morocco, ethiopia, indonesia, dakota, laos\n",
            "musician: singer, guitarist, pianist, comedian, drummer, dancer, songwriter, songwriters, composer, rapper\n",
            "dance: jazz, dancing, blues, pop, ballroom, dances, swing, rap, bluegrass, folk\n",
            "\n",
            "\n"
          ]
        },
        {
          "output_type": "stream",
          "name": "stderr",
          "text": [
            "19996it [04:57, 73.02it/s]"
          ]
        },
        {
          "output_type": "stream",
          "name": "stdout",
          "text": [
            "| epoch   6 | 20000/32580 batches | loss    1.005 \n",
            "money: taxes, buying, millions, payment, goods, compensation, prices, attention, gift, demand\n",
            "lion: swan, sands, skull, bearded, goat, serpent, alder, eagle, saguinus, jacket\n",
            "africa: korea, albania, mozambique, macedonia, morocco, borneo, ethiopia, indonesia, laos, dakota\n",
            "musician: singer, guitarist, pianist, comedian, drummer, dancer, songwriter, songwriters, composer, rapper\n",
            "dance: jazz, dancing, blues, pop, ballroom, dances, swing, rap, bluegrass, folk\n",
            "\n",
            "\n"
          ]
        },
        {
          "output_type": "stream",
          "name": "stderr",
          "text": [
            "20498it [05:04, 68.22it/s]"
          ]
        },
        {
          "output_type": "stream",
          "name": "stdout",
          "text": [
            "| epoch   6 | 20500/32580 batches | loss    1.005 \n",
            "money: taxes, buying, millions, goods, payment, compensation, prices, gift, attention, demand\n",
            "lion: swan, sands, skull, goat, bearded, eagle, alder, serpent, saguinus, jacket\n",
            "africa: korea, albania, mozambique, macedonia, borneo, morocco, ethiopia, indonesia, dakota, laos\n",
            "musician: singer, guitarist, pianist, comedian, drummer, dancer, songwriter, songwriters, composer, rapper\n",
            "dance: jazz, dancing, blues, pop, ballroom, dances, rap, swing, bluegrass, folk\n",
            "\n",
            "\n"
          ]
        },
        {
          "output_type": "stream",
          "name": "stderr",
          "text": [
            "20999it [05:11, 73.37it/s]"
          ]
        },
        {
          "output_type": "stream",
          "name": "stdout",
          "text": [
            "| epoch   6 | 21000/32580 batches | loss    1.004 \n",
            "money: taxes, buying, millions, payment, goods, compensation, prices, gift, demand, attention\n",
            "lion: swan, sands, skull, goat, bearded, alder, eagle, serpent, jacket, saguinus\n",
            "africa: korea, albania, macedonia, mozambique, borneo, morocco, ethiopia, indonesia, dakota, laos\n",
            "musician: singer, guitarist, pianist, comedian, drummer, dancer, songwriter, songwriters, composer, rapper\n",
            "dance: jazz, dancing, blues, pop, ballroom, dances, swing, rap, bluegrass, folk\n",
            "\n",
            "\n"
          ]
        },
        {
          "output_type": "stream",
          "name": "stderr",
          "text": [
            "21495it [05:18, 73.88it/s]"
          ]
        },
        {
          "output_type": "stream",
          "name": "stdout",
          "text": [
            "| epoch   6 | 21500/32580 batches | loss    1.007 \n",
            "money: taxes, buying, millions, payment, goods, compensation, prices, gift, demand, attention\n",
            "lion: swan, sands, goat, skull, bearded, eagle, alder, serpent, jacket, saguinus\n",
            "africa: korea, albania, macedonia, mozambique, borneo, morocco, ethiopia, dakota, indonesia, laos\n",
            "musician: singer, guitarist, pianist, comedian, drummer, dancer, songwriter, songwriters, composer, rapper\n",
            "dance: jazz, dancing, blues, pop, ballroom, dances, swing, rap, bluegrass, folk\n",
            "\n",
            "\n"
          ]
        },
        {
          "output_type": "stream",
          "name": "stderr",
          "text": [
            "21998it [05:26, 68.42it/s]"
          ]
        },
        {
          "output_type": "stream",
          "name": "stdout",
          "text": [
            "| epoch   6 | 22000/32580 batches | loss    1.005 \n",
            "money: taxes, buying, millions, payment, goods, prices, compensation, gift, demand, attention\n",
            "lion: swan, sands, goat, skull, bearded, eagle, alder, serpent, jacket, saguinus\n",
            "africa: korea, albania, macedonia, borneo, mozambique, morocco, ethiopia, africans, dakota, indonesia\n",
            "musician: singer, guitarist, pianist, comedian, drummer, dancer, songwriter, songwriters, composer, rapper\n",
            "dance: jazz, dancing, blues, pop, ballroom, dances, swing, rap, bluegrass, folk\n",
            "\n",
            "\n"
          ]
        },
        {
          "output_type": "stream",
          "name": "stderr",
          "text": [
            "22501it [05:34, 46.52it/s]"
          ]
        },
        {
          "output_type": "stream",
          "name": "stdout",
          "text": [
            "| epoch   6 | 22500/32580 batches | loss    1.009 \n",
            "money: taxes, buying, millions, payment, goods, prices, compensation, gift, demand, attention\n",
            "lion: swan, sands, goat, skull, bearded, alder, eagle, serpent, saguinus, jacket\n",
            "africa: korea, albania, macedonia, borneo, mozambique, morocco, ethiopia, africans, dakota, indonesia\n",
            "musician: singer, guitarist, pianist, comedian, drummer, dancer, songwriter, songwriters, composer, rapper\n",
            "dance: jazz, dancing, blues, pop, dances, ballroom, swing, rap, bluegrass, folk\n",
            "\n",
            "\n"
          ]
        },
        {
          "output_type": "stream",
          "name": "stderr",
          "text": [
            "23000it [05:41, 70.78it/s]"
          ]
        },
        {
          "output_type": "stream",
          "name": "stdout",
          "text": [
            "| epoch   6 | 23000/32580 batches | loss    1.003 \n",
            "money: taxes, buying, millions, payment, goods, prices, compensation, gift, demand, attention\n",
            "lion: swan, sands, goat, skull, bearded, alder, eagle, serpent, saguinus, jacket\n",
            "africa: korea, albania, borneo, macedonia, mozambique, morocco, ethiopia, dakota, africans, indonesia\n",
            "musician: singer, guitarist, pianist, comedian, drummer, dancer, songwriter, songwriters, composer, bassist\n",
            "dance: jazz, dancing, blues, pop, dances, ballroom, rap, swing, bluegrass, folk\n",
            "\n",
            "\n"
          ]
        },
        {
          "output_type": "stream",
          "name": "stderr",
          "text": [
            "23496it [05:48, 66.57it/s]"
          ]
        },
        {
          "output_type": "stream",
          "name": "stdout",
          "text": [
            "| epoch   6 | 23500/32580 batches | loss    1.010 \n"
          ]
        },
        {
          "output_type": "stream",
          "name": "stderr",
          "text": [
            "23509it [05:49, 42.37it/s]"
          ]
        },
        {
          "output_type": "stream",
          "name": "stdout",
          "text": [
            "money: taxes, buying, millions, payment, goods, prices, compensation, gift, demand, attention\n",
            "lion: swan, sands, goat, skull, bearded, alder, serpent, eagle, saguinus, jacket\n",
            "africa: korea, albania, borneo, macedonia, mozambique, morocco, ethiopia, dakota, africans, indonesia\n",
            "musician: singer, guitarist, pianist, drummer, comedian, dancer, songwriter, songwriters, composer, bassist\n",
            "dance: jazz, dancing, blues, pop, dances, ballroom, rap, swing, bluegrass, folk\n",
            "\n",
            "\n"
          ]
        },
        {
          "output_type": "stream",
          "name": "stderr",
          "text": [
            "23997it [05:56, 72.24it/s]"
          ]
        },
        {
          "output_type": "stream",
          "name": "stdout",
          "text": [
            "| epoch   6 | 24000/32580 batches | loss    1.007 \n",
            "money: taxes, buying, millions, payment, goods, prices, compensation, gift, attention, demand\n",
            "lion: swan, sands, skull, goat, bearded, alder, eagle, saguinus, serpent, jacket\n",
            "africa: korea, albania, borneo, macedonia, mozambique, morocco, ethiopia, dakota, africans, yemen\n",
            "musician: singer, guitarist, pianist, drummer, comedian, dancer, songwriter, songwriters, composer, rapper\n",
            "dance: jazz, dancing, blues, pop, dances, ballroom, swing, rap, bluegrass, folk\n",
            "\n",
            "\n"
          ]
        },
        {
          "output_type": "stream",
          "name": "stderr",
          "text": [
            "24500it [06:03, 70.66it/s]"
          ]
        },
        {
          "output_type": "stream",
          "name": "stdout",
          "text": [
            "| epoch   6 | 24500/32580 batches | loss    1.001 \n",
            "money: taxes, buying, millions, goods, payment, prices, compensation, gift, demand, attention\n",
            "lion: swan, sands, goat, skull, bearded, alder, eagle, saguinus, serpent, jacket\n",
            "africa: korea, albania, borneo, macedonia, mozambique, morocco, ethiopia, dakota, africans, yemen\n",
            "musician: singer, guitarist, pianist, comedian, drummer, songwriter, dancer, songwriters, composer, rapper\n",
            "dance: jazz, dancing, blues, pop, ballroom, dances, swing, rap, bluegrass, folk\n",
            "\n",
            "\n"
          ]
        },
        {
          "output_type": "stream",
          "name": "stderr",
          "text": [
            "24999it [06:10, 67.71it/s]"
          ]
        },
        {
          "output_type": "stream",
          "name": "stdout",
          "text": [
            "| epoch   6 | 25000/32580 batches | loss    1.006 \n"
          ]
        },
        {
          "output_type": "stream",
          "name": "stderr",
          "text": [
            "\r25006it [06:11, 38.08it/s]"
          ]
        },
        {
          "output_type": "stream",
          "name": "stdout",
          "text": [
            "money: taxes, buying, millions, goods, payment, prices, compensation, gift, attention, funds\n",
            "lion: sands, swan, goat, skull, bearded, alder, saguinus, eagle, serpent, jacket\n",
            "africa: korea, albania, borneo, macedonia, mozambique, morocco, ethiopia, dakota, africans, yemen\n",
            "musician: singer, guitarist, pianist, drummer, comedian, dancer, songwriter, songwriters, composer, rapper\n",
            "dance: jazz, dancing, blues, pop, ballroom, dances, swing, rap, bluegrass, folk\n",
            "\n",
            "\n"
          ]
        },
        {
          "output_type": "stream",
          "name": "stderr",
          "text": [
            "25497it [06:17, 73.93it/s]"
          ]
        },
        {
          "output_type": "stream",
          "name": "stdout",
          "text": [
            "| epoch   6 | 25500/32580 batches | loss    1.010 \n",
            "money: taxes, buying, millions, goods, payment, prices, compensation, gift, funds, attention\n",
            "lion: sands, swan, goat, skull, bearded, alder, eagle, saguinus, serpent, jacket\n",
            "africa: korea, albania, borneo, macedonia, mozambique, morocco, ethiopia, dakota, africans, yemen\n",
            "musician: singer, guitarist, pianist, drummer, comedian, dancer, songwriter, songwriters, bassist, composer\n",
            "dance: jazz, dancing, blues, pop, ballroom, dances, swing, rap, bluegrass, folk\n",
            "\n",
            "\n"
          ]
        },
        {
          "output_type": "stream",
          "name": "stderr",
          "text": [
            "25997it [06:25, 67.56it/s]"
          ]
        },
        {
          "output_type": "stream",
          "name": "stdout",
          "text": [
            "| epoch   6 | 26000/32580 batches | loss    1.001 \n",
            "money: taxes, buying, millions, goods, payment, prices, compensation, gift, funds, attention\n",
            "lion: sands, swan, goat, skull, alder, bearded, saguinus, eagle, serpent, jacket\n",
            "africa: korea, albania, borneo, macedonia, mozambique, morocco, ethiopia, dakota, africans, yemen\n",
            "musician: singer, guitarist, pianist, drummer, comedian, dancer, songwriter, songwriters, bassist, rapper\n",
            "dance: jazz, dancing, blues, pop, ballroom, dances, swing, rap, bluegrass, folk\n",
            "\n",
            "\n"
          ]
        },
        {
          "output_type": "stream",
          "name": "stderr",
          "text": [
            "26493it [06:32, 70.12it/s]"
          ]
        },
        {
          "output_type": "stream",
          "name": "stdout",
          "text": [
            "| epoch   6 | 26500/32580 batches | loss    1.007 \n"
          ]
        },
        {
          "output_type": "stream",
          "name": "stderr",
          "text": [
            "26507it [06:32, 45.04it/s]"
          ]
        },
        {
          "output_type": "stream",
          "name": "stdout",
          "text": [
            "money: taxes, buying, millions, goods, payment, prices, compensation, gift, funds, attention\n",
            "lion: sands, swan, goat, skull, alder, bearded, saguinus, serpent, eagle, jacket\n",
            "africa: korea, albania, borneo, mozambique, macedonia, morocco, ethiopia, dakota, yemen, africans\n",
            "musician: singer, guitarist, pianist, drummer, comedian, dancer, songwriter, songwriters, bassist, rapper\n",
            "dance: jazz, dancing, blues, pop, ballroom, dances, swing, rap, bluegrass, folk\n",
            "\n",
            "\n"
          ]
        },
        {
          "output_type": "stream",
          "name": "stderr",
          "text": [
            "26995it [06:39, 72.74it/s]"
          ]
        },
        {
          "output_type": "stream",
          "name": "stdout",
          "text": [
            "| epoch   6 | 27000/32580 batches | loss    1.000 \n",
            "money: taxes, buying, millions, goods, payment, prices, compensation, gift, funds, payments\n",
            "lion: sands, swan, goat, skull, alder, bearded, eagle, saguinus, serpent, jacket\n",
            "africa: korea, albania, borneo, mozambique, macedonia, morocco, dakota, ethiopia, africans, yemen\n",
            "musician: singer, guitarist, pianist, drummer, comedian, dancer, songwriter, songwriters, bassist, rapper\n",
            "dance: jazz, dancing, blues, pop, ballroom, dances, swing, rap, bluegrass, folk\n",
            "\n",
            "\n"
          ]
        },
        {
          "output_type": "stream",
          "name": "stderr",
          "text": [
            "27496it [06:47, 69.30it/s]"
          ]
        },
        {
          "output_type": "stream",
          "name": "stdout",
          "text": [
            "| epoch   6 | 27500/32580 batches | loss    1.010 \n",
            "money: taxes, buying, millions, goods, payment, prices, compensation, gift, funds, payments\n",
            "lion: sands, swan, goat, skull, bearded, eagle, alder, saguinus, serpent, jacket\n",
            "africa: korea, albania, borneo, mozambique, macedonia, morocco, ethiopia, dakota, yemen, africans\n",
            "musician: singer, guitarist, pianist, drummer, comedian, dancer, songwriter, songwriters, bassist, rapper\n",
            "dance: jazz, dancing, blues, pop, ballroom, dances, swing, rap, bluegrass, folk\n",
            "\n",
            "\n"
          ]
        },
        {
          "output_type": "stream",
          "name": "stderr",
          "text": [
            "27996it [06:54, 73.54it/s]"
          ]
        },
        {
          "output_type": "stream",
          "name": "stdout",
          "text": [
            "| epoch   6 | 28000/32580 batches | loss    1.007 \n",
            "money: taxes, millions, buying, goods, payment, prices, compensation, gift, funds, permission\n",
            "lion: sands, swan, goat, skull, eagle, bearded, alder, saguinus, serpent, jacket\n",
            "africa: korea, albania, borneo, mozambique, macedonia, morocco, ethiopia, dakota, yemen, africans\n",
            "musician: singer, guitarist, pianist, drummer, comedian, dancer, songwriter, songwriters, bassist, rapper\n",
            "dance: jazz, dancing, blues, pop, ballroom, dances, swing, rap, bluegrass, folk\n",
            "\n",
            "\n"
          ]
        },
        {
          "output_type": "stream",
          "name": "stderr",
          "text": [
            "28498it [07:01, 73.56it/s]"
          ]
        },
        {
          "output_type": "stream",
          "name": "stdout",
          "text": [
            "| epoch   6 | 28500/32580 batches | loss    1.003 \n",
            "money: taxes, millions, buying, goods, payment, prices, compensation, gift, funds, permission\n",
            "lion: sands, swan, goat, eagle, bearded, skull, alder, saguinus, serpent, jacket\n",
            "africa: korea, albania, borneo, mozambique, macedonia, morocco, ethiopia, africans, dakota, yemen\n",
            "musician: singer, guitarist, pianist, drummer, comedian, dancer, songwriter, songwriters, bassist, rapper\n",
            "dance: jazz, dancing, blues, pop, ballroom, dances, swing, rap, bluegrass, techno\n",
            "\n",
            "\n"
          ]
        },
        {
          "output_type": "stream",
          "name": "stderr",
          "text": [
            "29001it [07:09, 46.21it/s]"
          ]
        },
        {
          "output_type": "stream",
          "name": "stdout",
          "text": [
            "| epoch   6 | 29000/32580 batches | loss    1.007 \n",
            "money: taxes, millions, buying, goods, payment, prices, compensation, gift, funds, permission\n",
            "lion: sands, swan, goat, eagle, bearded, skull, alder, saguinus, serpent, jacket\n",
            "africa: korea, albania, borneo, mozambique, macedonia, morocco, ethiopia, africans, yemen, dakota\n",
            "musician: singer, guitarist, pianist, drummer, comedian, dancer, songwriter, songwriters, bassist, rapper\n",
            "dance: jazz, dancing, blues, pop, ballroom, dances, swing, rap, bluegrass, techno\n",
            "\n",
            "\n"
          ]
        },
        {
          "output_type": "stream",
          "name": "stderr",
          "text": [
            "29500it [07:16, 73.24it/s]"
          ]
        },
        {
          "output_type": "stream",
          "name": "stdout",
          "text": [
            "| epoch   6 | 29500/32580 batches | loss    1.004 \n",
            "money: taxes, buying, millions, goods, payment, prices, compensation, gift, funds, permission\n",
            "lion: sands, swan, goat, eagle, bearded, alder, skull, saguinus, serpent, jacket\n",
            "africa: korea, albania, borneo, macedonia, mozambique, morocco, africans, ethiopia, yemen, eurasia\n",
            "musician: singer, guitarist, pianist, drummer, comedian, dancer, songwriter, songwriters, bassist, rapper\n",
            "dance: jazz, dancing, blues, pop, dances, ballroom, swing, rap, bluegrass, techno\n",
            "\n",
            "\n"
          ]
        },
        {
          "output_type": "stream",
          "name": "stderr",
          "text": [
            "29995it [07:23, 72.27it/s]"
          ]
        },
        {
          "output_type": "stream",
          "name": "stdout",
          "text": [
            "| epoch   6 | 30000/32580 batches | loss    1.005 \n"
          ]
        },
        {
          "output_type": "stream",
          "name": "stderr",
          "text": [
            "30009it [07:23, 45.79it/s]"
          ]
        },
        {
          "output_type": "stream",
          "name": "stdout",
          "text": [
            "money: taxes, millions, buying, goods, payment, prices, compensation, gift, funds, permission\n",
            "lion: sands, swan, goat, eagle, bearded, alder, skull, saguinus, serpent, jacket\n",
            "africa: korea, albania, borneo, mozambique, macedonia, morocco, africans, ethiopia, dakota, eurasia\n",
            "musician: singer, guitarist, pianist, drummer, comedian, dancer, songwriter, songwriters, bassist, rapper\n",
            "dance: jazz, dancing, blues, pop, dances, ballroom, swing, rap, bluegrass, techno\n",
            "\n",
            "\n"
          ]
        },
        {
          "output_type": "stream",
          "name": "stderr",
          "text": [
            "30499it [07:30, 64.50it/s]"
          ]
        },
        {
          "output_type": "stream",
          "name": "stdout",
          "text": [
            "| epoch   6 | 30500/32580 batches | loss    1.004 \n",
            "money: taxes, millions, buying, payment, goods, prices, compensation, gift, funds, permission\n",
            "lion: sands, swan, goat, bearded, eagle, skull, alder, saguinus, serpent, jacket\n",
            "africa: korea, albania, borneo, mozambique, macedonia, morocco, ethiopia, eurasia, dakota, yemen\n",
            "musician: singer, guitarist, pianist, drummer, comedian, dancer, songwriter, songwriters, rapper, bassist\n",
            "dance: jazz, dancing, blues, pop, dances, ballroom, swing, rap, bluegrass, folk\n",
            "\n",
            "\n"
          ]
        },
        {
          "output_type": "stream",
          "name": "stderr",
          "text": [
            "30997it [07:38, 72.00it/s]"
          ]
        },
        {
          "output_type": "stream",
          "name": "stdout",
          "text": [
            "| epoch   6 | 31000/32580 batches | loss    1.008 \n",
            "money: taxes, millions, buying, payment, goods, prices, compensation, gift, funds, permission\n",
            "lion: sands, swan, goat, eagle, bearded, alder, skull, saguinus, serpent, jacket\n",
            "africa: korea, albania, borneo, mozambique, macedonia, morocco, eurasia, ethiopia, dakota, yemen\n",
            "musician: singer, guitarist, pianist, comedian, drummer, dancer, songwriter, songwriters, rapper, bassist\n",
            "dance: jazz, dancing, blues, pop, dances, ballroom, swing, bluegrass, rap, folk\n",
            "\n",
            "\n"
          ]
        },
        {
          "output_type": "stream",
          "name": "stderr",
          "text": [
            "31499it [07:45, 72.72it/s]"
          ]
        },
        {
          "output_type": "stream",
          "name": "stdout",
          "text": [
            "| epoch   6 | 31500/32580 batches | loss    1.002 \n",
            "money: taxes, millions, buying, goods, payment, prices, compensation, gift, funds, permission\n",
            "lion: sands, swan, goat, bearded, eagle, saguinus, skull, alder, serpent, jacket\n",
            "africa: korea, albania, borneo, mozambique, macedonia, morocco, eurasia, ethiopia, yemen, dakota\n",
            "musician: singer, guitarist, pianist, comedian, drummer, dancer, songwriter, songwriters, rapper, bassist\n",
            "dance: jazz, dancing, blues, pop, dances, ballroom, swing, bluegrass, rap, folk\n",
            "\n",
            "\n"
          ]
        },
        {
          "output_type": "stream",
          "name": "stderr",
          "text": [
            "32000it [07:52, 69.77it/s]"
          ]
        },
        {
          "output_type": "stream",
          "name": "stdout",
          "text": [
            "| epoch   6 | 32000/32580 batches | loss    1.005 \n",
            "money: taxes, millions, buying, goods, payment, prices, compensation, gift, funds, permission\n",
            "lion: sands, swan, eagle, bearded, goat, skull, saguinus, alder, serpent, calf\n",
            "africa: korea, albania, borneo, mozambique, macedonia, morocco, eurasia, ethiopia, yemen, dakota\n",
            "musician: singer, guitarist, pianist, comedian, drummer, dancer, songwriter, songwriters, rapper, bassist\n",
            "dance: dancing, jazz, blues, pop, dances, ballroom, swing, bluegrass, rap, folk\n",
            "\n",
            "\n"
          ]
        },
        {
          "output_type": "stream",
          "name": "stderr",
          "text": [
            "32501it [08:00, 48.13it/s]"
          ]
        },
        {
          "output_type": "stream",
          "name": "stdout",
          "text": [
            "| epoch   6 | 32500/32580 batches | loss    1.006 \n",
            "money: taxes, millions, buying, goods, payment, prices, compensation, gift, funds, permission\n",
            "lion: sands, swan, bearded, eagle, goat, skull, alder, saguinus, serpent, calf\n",
            "africa: korea, albania, borneo, mozambique, macedonia, morocco, eurasia, dakota, ethiopia, yemen\n",
            "musician: singer, guitarist, pianist, comedian, drummer, dancer, songwriter, songwriters, rapper, bassist\n",
            "dance: dancing, jazz, blues, pop, dances, ballroom, swing, bluegrass, rap, folk\n",
            "\n",
            "\n"
          ]
        },
        {
          "output_type": "stream",
          "name": "stderr",
          "text": [
            "32580it [08:03, 67.36it/s]\n",
            "1it [00:02,  2.08s/it]"
          ]
        },
        {
          "output_type": "stream",
          "name": "stdout",
          "text": [
            "| epoch   7 |     0/32580 batches | loss    1.029 \n",
            "money: taxes, millions, buying, goods, payment, prices, compensation, gift, funds, demand\n",
            "lion: sands, swan, bearded, goat, eagle, skull, alder, saguinus, serpent, calf\n",
            "africa: korea, albania, borneo, mozambique, macedonia, morocco, eurasia, dakota, ethiopia, yemen\n",
            "musician: singer, guitarist, pianist, comedian, drummer, dancer, songwriter, songwriters, rapper, bassist\n",
            "dance: dancing, jazz, blues, pop, dances, ballroom, swing, bluegrass, rap, folk\n",
            "\n",
            "\n"
          ]
        },
        {
          "output_type": "stream",
          "name": "stderr",
          "text": [
            "501it [00:09, 45.65it/s]"
          ]
        },
        {
          "output_type": "stream",
          "name": "stdout",
          "text": [
            "| epoch   7 |   500/32580 batches | loss    0.980 \n",
            "money: taxes, millions, buying, goods, payment, prices, compensation, gift, funds, demand\n",
            "lion: sands, swan, bearded, eagle, goat, skull, alder, saguinus, serpent, calf\n",
            "africa: korea, albania, borneo, mozambique, macedonia, morocco, eurasia, dakota, yemen, ethiopia\n",
            "musician: singer, guitarist, pianist, comedian, drummer, dancer, songwriter, songwriters, rapper, bassist\n",
            "dance: dancing, jazz, blues, pop, dances, ballroom, swing, bluegrass, rap, folk\n",
            "\n",
            "\n"
          ]
        },
        {
          "output_type": "stream",
          "name": "stderr",
          "text": [
            "995it [00:16, 72.41it/s]"
          ]
        },
        {
          "output_type": "stream",
          "name": "stdout",
          "text": [
            "| epoch   7 |  1000/32580 batches | loss    0.978 \n",
            "money: taxes, millions, buying, goods, payment, prices, compensation, gift, funds, demand\n",
            "lion: sands, swan, bearded, eagle, goat, alder, skull, saguinus, serpent, calf\n",
            "africa: korea, albania, borneo, mozambique, macedonia, morocco, eurasia, dakota, ethiopia, yemen\n",
            "musician: singer, guitarist, pianist, drummer, comedian, dancer, songwriter, songwriters, rapper, bassist\n",
            "dance: dancing, jazz, blues, pop, dances, ballroom, swing, bluegrass, rap, folk\n",
            "\n",
            "\n"
          ]
        },
        {
          "output_type": "stream",
          "name": "stderr",
          "text": [
            "1501it [00:27, 45.78it/s]"
          ]
        },
        {
          "output_type": "stream",
          "name": "stdout",
          "text": [
            "| epoch   7 |  1500/32580 batches | loss    0.979 \n",
            "money: taxes, millions, buying, goods, payment, prices, compensation, gift, funds, demand\n",
            "lion: sands, swan, bearded, goat, eagle, alder, skull, saguinus, serpent, calf\n",
            "africa: korea, albania, borneo, mozambique, macedonia, morocco, eurasia, dakota, ethiopia, yemen\n",
            "musician: singer, guitarist, pianist, drummer, comedian, dancer, songwriter, songwriters, rapper, bassist\n",
            "dance: dancing, jazz, blues, pop, dances, ballroom, swing, bluegrass, rap, folk\n",
            "\n",
            "\n"
          ]
        },
        {
          "output_type": "stream",
          "name": "stderr",
          "text": [
            "1995it [00:34, 71.37it/s]"
          ]
        },
        {
          "output_type": "stream",
          "name": "stdout",
          "text": [
            "| epoch   7 |  2000/32580 batches | loss    0.978 \n",
            "money: taxes, millions, buying, goods, payment, prices, compensation, gift, funds, demand\n",
            "lion: sands, swan, bearded, goat, eagle, alder, skull, saguinus, serpent, calf\n",
            "africa: korea, albania, borneo, mozambique, macedonia, morocco, eurasia, dakota, ethiopia, yemen\n",
            "musician: singer, guitarist, pianist, drummer, comedian, dancer, songwriter, songwriters, rapper, bassist\n",
            "dance: dancing, jazz, blues, pop, dances, ballroom, swing, bluegrass, rap, folk\n",
            "\n",
            "\n"
          ]
        },
        {
          "output_type": "stream",
          "name": "stderr",
          "text": [
            "2496it [00:41, 71.53it/s]"
          ]
        },
        {
          "output_type": "stream",
          "name": "stdout",
          "text": [
            "| epoch   7 |  2500/32580 batches | loss    0.977 \n",
            "money: taxes, millions, buying, goods, payment, prices, compensation, gift, funds, demand\n",
            "lion: sands, swan, bearded, goat, eagle, alder, skull, saguinus, serpent, calf\n",
            "africa: korea, albania, borneo, mozambique, morocco, macedonia, eurasia, dakota, ethiopia, yemen\n",
            "musician: singer, guitarist, pianist, drummer, comedian, dancer, songwriter, songwriters, rapper, bassist\n",
            "dance: dancing, jazz, blues, pop, dances, ballroom, swing, bluegrass, rap, folk\n",
            "\n",
            "\n"
          ]
        },
        {
          "output_type": "stream",
          "name": "stderr",
          "text": [
            "2995it [00:49, 66.81it/s]"
          ]
        },
        {
          "output_type": "stream",
          "name": "stdout",
          "text": [
            "| epoch   7 |  3000/32580 batches | loss    0.979 \n",
            "money: taxes, millions, buying, goods, payment, prices, compensation, gift, funds, demand\n",
            "lion: sands, swan, bearded, goat, eagle, alder, skull, saguinus, serpent, calf\n",
            "africa: korea, albania, borneo, mozambique, macedonia, morocco, eurasia, dakota, ethiopia, yemen\n",
            "musician: singer, guitarist, pianist, drummer, comedian, dancer, songwriter, songwriters, rapper, bassist\n",
            "dance: dancing, jazz, blues, pop, dances, ballroom, swing, bluegrass, rap, folk\n",
            "\n",
            "\n"
          ]
        },
        {
          "output_type": "stream",
          "name": "stderr",
          "text": [
            "3497it [00:56, 73.44it/s]"
          ]
        },
        {
          "output_type": "stream",
          "name": "stdout",
          "text": [
            "| epoch   7 |  3500/32580 batches | loss    0.980 \n",
            "money: taxes, millions, buying, goods, payment, prices, compensation, gift, funds, demand\n",
            "lion: sands, swan, bearded, eagle, goat, alder, skull, saguinus, serpent, calf\n",
            "africa: korea, albania, borneo, mozambique, morocco, macedonia, eurasia, dakota, ethiopia, yemen\n",
            "musician: singer, guitarist, pianist, drummer, comedian, dancer, songwriter, songwriters, rapper, bassist\n",
            "dance: dancing, jazz, blues, pop, dances, ballroom, swing, bluegrass, rap, folk\n",
            "\n",
            "\n"
          ]
        },
        {
          "output_type": "stream",
          "name": "stderr",
          "text": [
            "3999it [01:03, 70.99it/s]"
          ]
        },
        {
          "output_type": "stream",
          "name": "stdout",
          "text": [
            "| epoch   7 |  4000/32580 batches | loss    0.981 \n",
            "money: taxes, millions, buying, goods, payment, prices, compensation, gift, funds, demand\n",
            "lion: sands, swan, bearded, eagle, alder, goat, skull, saguinus, serpent, calf\n",
            "africa: korea, albania, borneo, mozambique, macedonia, morocco, eurasia, dakota, ethiopia, yemen\n",
            "musician: singer, guitarist, pianist, drummer, comedian, dancer, songwriter, songwriters, rapper, bassist\n",
            "dance: dancing, jazz, blues, pop, dances, ballroom, swing, bluegrass, rap, folk\n",
            "\n",
            "\n"
          ]
        },
        {
          "output_type": "stream",
          "name": "stderr",
          "text": [
            "4497it [01:11, 68.45it/s]"
          ]
        },
        {
          "output_type": "stream",
          "name": "stdout",
          "text": [
            "| epoch   7 |  4500/32580 batches | loss    0.978 \n"
          ]
        },
        {
          "output_type": "stream",
          "name": "stderr",
          "text": [
            "\r4504it [01:11, 37.76it/s]"
          ]
        },
        {
          "output_type": "stream",
          "name": "stdout",
          "text": [
            "money: taxes, millions, buying, goods, payment, prices, compensation, gift, funds, demand\n",
            "lion: sands, swan, bearded, goat, alder, eagle, saguinus, skull, serpent, calf\n",
            "africa: korea, albania, borneo, mozambique, macedonia, morocco, eurasia, dakota, ethiopia, yemen\n",
            "musician: singer, guitarist, pianist, drummer, comedian, dancer, songwriter, songwriters, rapper, bassist\n",
            "dance: dancing, jazz, blues, pop, dances, ballroom, swing, bluegrass, rap, folk\n",
            "\n",
            "\n"
          ]
        },
        {
          "output_type": "stream",
          "name": "stderr",
          "text": [
            "5000it [01:18, 68.81it/s]"
          ]
        },
        {
          "output_type": "stream",
          "name": "stdout",
          "text": [
            "| epoch   7 |  5000/32580 batches | loss    0.980 \n",
            "money: taxes, millions, buying, payment, goods, prices, compensation, gift, funds, demand\n",
            "lion: sands, swan, bearded, goat, alder, eagle, saguinus, skull, serpent, calf\n",
            "africa: korea, albania, borneo, mozambique, morocco, macedonia, eurasia, dakota, ethiopia, yemen\n",
            "musician: singer, guitarist, pianist, drummer, comedian, dancer, songwriter, songwriters, rapper, bassist\n",
            "dance: dancing, jazz, blues, pop, dances, ballroom, swing, bluegrass, rap, folk\n",
            "\n",
            "\n"
          ]
        },
        {
          "output_type": "stream",
          "name": "stderr",
          "text": [
            "5498it [01:26, 66.90it/s]"
          ]
        },
        {
          "output_type": "stream",
          "name": "stdout",
          "text": [
            "| epoch   7 |  5500/32580 batches | loss    0.979 \n",
            "money: taxes, millions, buying, goods, payment, prices, compensation, gift, funds, demand\n",
            "lion: sands, swan, bearded, alder, goat, eagle, saguinus, skull, serpent, calf\n",
            "africa: korea, albania, borneo, mozambique, morocco, macedonia, eurasia, dakota, ethiopia, yemen\n",
            "musician: singer, guitarist, pianist, drummer, comedian, dancer, songwriter, songwriters, rapper, bassist\n",
            "dance: dancing, jazz, blues, pop, dances, ballroom, swing, bluegrass, rap, folk\n",
            "\n",
            "\n"
          ]
        },
        {
          "output_type": "stream",
          "name": "stderr",
          "text": [
            "5996it [01:33, 72.93it/s]"
          ]
        },
        {
          "output_type": "stream",
          "name": "stdout",
          "text": [
            "| epoch   7 |  6000/32580 batches | loss    0.982 \n",
            "money: taxes, millions, payment, buying, goods, prices, compensation, gift, funds, demand\n",
            "lion: sands, swan, bearded, alder, goat, eagle, saguinus, skull, serpent, calf\n",
            "africa: korea, albania, borneo, mozambique, macedonia, morocco, eurasia, dakota, ethiopia, yemen\n",
            "musician: singer, guitarist, pianist, drummer, comedian, dancer, songwriter, songwriters, rapper, bassist\n",
            "dance: dancing, jazz, blues, pop, dances, ballroom, swing, bluegrass, rap, folk\n",
            "\n",
            "\n"
          ]
        },
        {
          "output_type": "stream",
          "name": "stderr",
          "text": [
            "6499it [01:40, 72.82it/s]"
          ]
        },
        {
          "output_type": "stream",
          "name": "stdout",
          "text": [
            "| epoch   7 |  6500/32580 batches | loss    0.981 \n",
            "money: taxes, millions, buying, payment, goods, prices, compensation, gift, funds, demand\n",
            "lion: sands, swan, bearded, alder, goat, eagle, saguinus, skull, serpent, calf\n",
            "africa: korea, albania, borneo, mozambique, macedonia, morocco, eurasia, dakota, ethiopia, sumatra\n",
            "musician: singer, guitarist, pianist, drummer, dancer, comedian, songwriter, songwriters, rapper, bassist\n",
            "dance: dancing, jazz, blues, pop, dances, ballroom, swing, bluegrass, rap, folk\n",
            "\n",
            "\n"
          ]
        },
        {
          "output_type": "stream",
          "name": "stderr",
          "text": [
            "7001it [01:48, 46.45it/s]"
          ]
        },
        {
          "output_type": "stream",
          "name": "stdout",
          "text": [
            "| epoch   7 |  7000/32580 batches | loss    0.981 \n",
            "money: taxes, millions, buying, payment, goods, prices, compensation, gift, funds, demand\n",
            "lion: sands, swan, bearded, alder, goat, eagle, saguinus, skull, serpent, calf\n",
            "africa: korea, albania, borneo, mozambique, macedonia, morocco, eurasia, dakota, ethiopia, sumatra\n",
            "musician: singer, guitarist, pianist, drummer, dancer, comedian, songwriter, songwriters, rapper, bassist\n",
            "dance: dancing, jazz, blues, pop, dances, ballroom, swing, bluegrass, rap, folk\n",
            "\n",
            "\n"
          ]
        },
        {
          "output_type": "stream",
          "name": "stderr",
          "text": [
            "7497it [01:55, 73.89it/s]"
          ]
        },
        {
          "output_type": "stream",
          "name": "stdout",
          "text": [
            "| epoch   7 |  7500/32580 batches | loss    0.976 \n",
            "money: taxes, millions, goods, buying, payment, prices, compensation, gift, funds, demand\n",
            "lion: sands, swan, bearded, goat, alder, eagle, saguinus, skull, serpent, calf\n",
            "africa: korea, albania, borneo, mozambique, macedonia, morocco, eurasia, dakota, ethiopia, sumatra\n",
            "musician: singer, guitarist, pianist, drummer, dancer, comedian, songwriter, songwriters, rapper, bassist\n",
            "dance: dancing, jazz, blues, pop, dances, ballroom, swing, bluegrass, rap, folk\n",
            "\n",
            "\n"
          ]
        },
        {
          "output_type": "stream",
          "name": "stderr",
          "text": [
            "7998it [02:02, 73.90it/s]"
          ]
        },
        {
          "output_type": "stream",
          "name": "stdout",
          "text": [
            "| epoch   7 |  8000/32580 batches | loss    0.977 \n",
            "money: taxes, millions, payment, goods, buying, prices, compensation, gift, funds, demand\n",
            "lion: sands, swan, bearded, goat, alder, eagle, saguinus, skull, serpent, calf\n",
            "africa: korea, albania, borneo, mozambique, macedonia, morocco, eurasia, dakota, ethiopia, africans\n",
            "musician: singer, guitarist, pianist, drummer, dancer, comedian, songwriter, songwriters, rapper, bassist\n",
            "dance: dancing, jazz, blues, pop, dances, ballroom, swing, bluegrass, rap, folk\n",
            "\n",
            "\n"
          ]
        },
        {
          "output_type": "stream",
          "name": "stderr",
          "text": [
            "8497it [02:10, 65.94it/s]"
          ]
        },
        {
          "output_type": "stream",
          "name": "stdout",
          "text": [
            "| epoch   7 |  8500/32580 batches | loss    0.982 \n",
            "money: taxes, millions, goods, payment, buying, prices, compensation, gift, funds, demand\n",
            "lion: sands, swan, bearded, goat, alder, eagle, saguinus, skull, serpent, calf\n",
            "africa: korea, albania, borneo, mozambique, macedonia, morocco, eurasia, dakota, ethiopia, yemen\n",
            "musician: singer, guitarist, pianist, drummer, dancer, comedian, songwriter, songwriters, rapper, bassist\n",
            "dance: dancing, jazz, blues, pop, dances, ballroom, swing, bluegrass, rap, folk\n",
            "\n",
            "\n"
          ]
        },
        {
          "output_type": "stream",
          "name": "stderr",
          "text": [
            "9000it [02:17, 70.27it/s]"
          ]
        },
        {
          "output_type": "stream",
          "name": "stdout",
          "text": [
            "| epoch   7 |  9000/32580 batches | loss    0.978 \n",
            "money: taxes, millions, payment, goods, buying, prices, compensation, gift, funds, demand\n",
            "lion: sands, swan, bearded, goat, eagle, alder, saguinus, skull, serpent, calf\n",
            "africa: korea, albania, borneo, mozambique, macedonia, morocco, eurasia, dakota, ethiopia, africans\n",
            "musician: singer, guitarist, pianist, drummer, dancer, comedian, songwriter, songwriters, rapper, bassist\n",
            "dance: dancing, jazz, blues, pop, dances, ballroom, swing, bluegrass, rap, folk\n",
            "\n",
            "\n"
          ]
        },
        {
          "output_type": "stream",
          "name": "stderr",
          "text": [
            "9494it [02:24, 70.22it/s]"
          ]
        },
        {
          "output_type": "stream",
          "name": "stdout",
          "text": [
            "| epoch   7 |  9500/32580 batches | loss    0.975 \n",
            "money: taxes, millions, payment, buying, goods, prices, compensation, gift, funds, demand\n",
            "lion: sands, swan, bearded, goat, eagle, alder, saguinus, skull, serpent, calf\n",
            "africa: korea, albania, borneo, mozambique, macedonia, morocco, eurasia, dakota, ethiopia, africans\n",
            "musician: singer, guitarist, pianist, drummer, dancer, comedian, songwriter, songwriters, rapper, bassist\n",
            "dance: dancing, jazz, blues, pop, dances, ballroom, swing, bluegrass, rap, folk\n",
            "\n",
            "\n"
          ]
        },
        {
          "output_type": "stream",
          "name": "stderr",
          "text": [
            "10000it [02:32, 70.80it/s]"
          ]
        },
        {
          "output_type": "stream",
          "name": "stdout",
          "text": [
            "| epoch   7 | 10000/32580 batches | loss    0.978 \n",
            "money: taxes, millions, payment, goods, buying, prices, compensation, gift, funds, demand\n",
            "lion: sands, swan, bearded, goat, alder, eagle, saguinus, skull, serpent, calf\n",
            "africa: korea, albania, borneo, mozambique, macedonia, morocco, eurasia, dakota, ethiopia, africans\n",
            "musician: singer, guitarist, pianist, drummer, comedian, dancer, songwriter, songwriters, rapper, bassist\n",
            "dance: dancing, jazz, blues, pop, dances, ballroom, swing, bluegrass, rap, folk\n",
            "\n",
            "\n"
          ]
        },
        {
          "output_type": "stream",
          "name": "stderr",
          "text": [
            "10494it [02:39, 73.49it/s]"
          ]
        },
        {
          "output_type": "stream",
          "name": "stdout",
          "text": [
            "| epoch   7 | 10500/32580 batches | loss    0.979 \n",
            "money: taxes, millions, payment, buying, goods, prices, compensation, gift, funds, demand\n",
            "lion: sands, swan, bearded, goat, eagle, alder, saguinus, skull, serpent, calf\n",
            "africa: korea, albania, borneo, mozambique, macedonia, morocco, eurasia, dakota, ethiopia, africans\n",
            "musician: singer, guitarist, pianist, drummer, comedian, dancer, songwriter, songwriters, rapper, bassist\n",
            "dance: dancing, jazz, blues, pop, dances, ballroom, swing, bluegrass, rap, folk\n",
            "\n",
            "\n"
          ]
        },
        {
          "output_type": "stream",
          "name": "stderr",
          "text": [
            "11000it [02:46, 68.84it/s]"
          ]
        },
        {
          "output_type": "stream",
          "name": "stdout",
          "text": [
            "| epoch   7 | 11000/32580 batches | loss    0.977 \n",
            "money: taxes, millions, payment, buying, goods, prices, compensation, gift, funds, demand\n",
            "lion: sands, swan, bearded, goat, eagle, alder, saguinus, skull, serpent, calf\n",
            "africa: korea, albania, borneo, mozambique, macedonia, morocco, eurasia, ethiopia, dakota, africans\n",
            "musician: singer, guitarist, pianist, drummer, dancer, comedian, songwriter, songwriters, rapper, bassist\n",
            "dance: dancing, jazz, blues, pop, dances, ballroom, swing, bluegrass, rap, folk\n",
            "\n",
            "\n"
          ]
        },
        {
          "output_type": "stream",
          "name": "stderr",
          "text": [
            "11499it [02:54, 72.45it/s]"
          ]
        },
        {
          "output_type": "stream",
          "name": "stdout",
          "text": [
            "| epoch   7 | 11500/32580 batches | loss    0.977 \n",
            "money: taxes, millions, payment, buying, goods, prices, compensation, gift, funds, demand\n",
            "lion: sands, swan, bearded, goat, eagle, alder, skull, saguinus, serpent, calf\n",
            "africa: korea, albania, borneo, mozambique, macedonia, morocco, eurasia, ethiopia, dakota, africans\n",
            "musician: singer, guitarist, pianist, drummer, dancer, comedian, songwriter, songwriters, rapper, bassist\n",
            "dance: dancing, jazz, blues, pop, dances, ballroom, swing, bluegrass, rap, folk\n",
            "\n",
            "\n"
          ]
        },
        {
          "output_type": "stream",
          "name": "stderr",
          "text": [
            "11995it [03:04, 22.22it/s]"
          ]
        },
        {
          "output_type": "stream",
          "name": "stdout",
          "text": [
            "| epoch   7 | 12000/32580 batches | loss    0.979 \n",
            "money: taxes, millions, payment, buying, goods, prices, compensation, gift, funds, demand\n",
            "lion: sands, swan, bearded, goat, eagle, alder, skull, saguinus, serpent, calf\n",
            "africa: korea, albania, borneo, mozambique, macedonia, morocco, eurasia, dakota, ethiopia, africans\n",
            "musician: singer, guitarist, pianist, drummer, dancer, comedian, songwriter, songwriters, rapper, bassist\n",
            "dance: dancing, jazz, blues, pop, dances, ballroom, swing, bluegrass, rap, folk\n",
            "\n",
            "\n"
          ]
        },
        {
          "output_type": "stream",
          "name": "stderr",
          "text": [
            "12495it [03:12, 69.57it/s]"
          ]
        },
        {
          "output_type": "stream",
          "name": "stdout",
          "text": [
            "| epoch   7 | 12500/32580 batches | loss    0.979 \n"
          ]
        },
        {
          "output_type": "stream",
          "name": "stderr",
          "text": [
            "12508it [03:12, 43.87it/s]"
          ]
        },
        {
          "output_type": "stream",
          "name": "stdout",
          "text": [
            "money: taxes, payment, millions, buying, goods, prices, compensation, gift, funds, demand\n",
            "lion: sands, swan, bearded, goat, eagle, alder, saguinus, skull, serpent, crab\n",
            "africa: korea, albania, borneo, mozambique, macedonia, morocco, eurasia, dakota, ethiopia, africans\n",
            "musician: singer, guitarist, pianist, drummer, dancer, comedian, songwriter, songwriters, rapper, bassist\n",
            "dance: dancing, jazz, blues, dances, pop, ballroom, swing, bluegrass, rap, folk\n",
            "\n",
            "\n"
          ]
        },
        {
          "output_type": "stream",
          "name": "stderr",
          "text": [
            "12999it [03:19, 72.86it/s]"
          ]
        },
        {
          "output_type": "stream",
          "name": "stdout",
          "text": [
            "| epoch   7 | 13000/32580 batches | loss    0.976 \n",
            "money: taxes, payment, millions, buying, goods, prices, compensation, gift, funds, demand\n",
            "lion: sands, swan, bearded, goat, eagle, alder, saguinus, skull, serpent, calf\n",
            "africa: korea, albania, borneo, mozambique, macedonia, morocco, eurasia, dakota, africans, ethiopia\n",
            "musician: singer, guitarist, pianist, drummer, dancer, comedian, songwriter, songwriters, rapper, bassist\n",
            "dance: dancing, jazz, blues, dances, pop, ballroom, swing, bluegrass, rap, folk\n",
            "\n",
            "\n"
          ]
        },
        {
          "output_type": "stream",
          "name": "stderr",
          "text": [
            "13495it [03:26, 69.40it/s]"
          ]
        },
        {
          "output_type": "stream",
          "name": "stdout",
          "text": [
            "| epoch   7 | 13500/32580 batches | loss    0.980 \n",
            "money: taxes, millions, buying, payment, goods, prices, compensation, funds, gift, demand\n",
            "lion: sands, swan, bearded, goat, eagle, alder, saguinus, skull, serpent, calf\n",
            "africa: korea, albania, borneo, mozambique, macedonia, morocco, eurasia, dakota, ethiopia, africans\n",
            "musician: singer, guitarist, pianist, drummer, dancer, comedian, songwriter, songwriters, rapper, bassist\n",
            "dance: dancing, jazz, blues, pop, dances, ballroom, swing, bluegrass, rap, folk\n",
            "\n",
            "\n"
          ]
        },
        {
          "output_type": "stream",
          "name": "stderr",
          "text": [
            "14000it [03:34, 72.63it/s]"
          ]
        },
        {
          "output_type": "stream",
          "name": "stdout",
          "text": [
            "| epoch   7 | 14000/32580 batches | loss    0.978 \n",
            "money: taxes, payment, buying, millions, goods, prices, compensation, gift, funds, demand\n",
            "lion: sands, swan, bearded, goat, eagle, alder, saguinus, skull, serpent, calf\n",
            "africa: korea, albania, borneo, mozambique, macedonia, morocco, eurasia, dakota, ethiopia, yemen\n",
            "musician: singer, guitarist, pianist, drummer, comedian, dancer, songwriter, songwriters, rapper, bassist\n",
            "dance: dancing, jazz, blues, pop, dances, ballroom, swing, bluegrass, rap, folk\n",
            "\n",
            "\n"
          ]
        },
        {
          "output_type": "stream",
          "name": "stderr",
          "text": [
            "14496it [03:41, 72.67it/s]"
          ]
        },
        {
          "output_type": "stream",
          "name": "stdout",
          "text": [
            "| epoch   7 | 14500/32580 batches | loss    0.980 \n",
            "money: taxes, payment, buying, millions, goods, prices, compensation, gift, funds, demand\n",
            "lion: sands, swan, bearded, goat, eagle, alder, saguinus, skull, serpent, calf\n",
            "africa: korea, albania, borneo, mozambique, macedonia, morocco, eurasia, dakota, yemen, ethiopia\n",
            "musician: singer, guitarist, pianist, drummer, comedian, dancer, songwriter, songwriters, rapper, bassist\n",
            "dance: dancing, jazz, blues, pop, dances, ballroom, swing, bluegrass, rap, folk\n",
            "\n",
            "\n"
          ]
        },
        {
          "output_type": "stream",
          "name": "stderr",
          "text": [
            "14999it [03:48, 70.51it/s]"
          ]
        },
        {
          "output_type": "stream",
          "name": "stdout",
          "text": [
            "| epoch   7 | 15000/32580 batches | loss    0.981 \n",
            "money: taxes, payment, buying, millions, goods, prices, compensation, gift, funds, demand\n",
            "lion: sands, swan, bearded, goat, eagle, alder, saguinus, skull, serpent, crab\n",
            "africa: korea, albania, borneo, mozambique, macedonia, morocco, eurasia, dakota, ethiopia, yemen\n",
            "musician: singer, guitarist, pianist, drummer, dancer, comedian, songwriter, songwriters, rapper, bassist\n",
            "dance: dancing, jazz, blues, dances, pop, ballroom, swing, bluegrass, rap, folk\n",
            "\n",
            "\n"
          ]
        },
        {
          "output_type": "stream",
          "name": "stderr",
          "text": [
            "15499it [03:55, 73.09it/s]"
          ]
        },
        {
          "output_type": "stream",
          "name": "stdout",
          "text": [
            "| epoch   7 | 15500/32580 batches | loss    0.980 \n",
            "money: taxes, payment, buying, millions, goods, prices, compensation, gift, funds, demand\n",
            "lion: sands, swan, bearded, eagle, goat, alder, saguinus, skull, serpent, crab\n",
            "africa: korea, albania, borneo, mozambique, macedonia, morocco, eurasia, dakota, ethiopia, yemen\n",
            "musician: singer, guitarist, pianist, drummer, dancer, comedian, songwriter, songwriters, rapper, bassist\n",
            "dance: dancing, jazz, blues, dances, pop, ballroom, swing, bluegrass, rap, folk\n",
            "\n",
            "\n"
          ]
        },
        {
          "output_type": "stream",
          "name": "stderr",
          "text": [
            "15995it [04:02, 73.38it/s]"
          ]
        },
        {
          "output_type": "stream",
          "name": "stdout",
          "text": [
            "| epoch   7 | 16000/32580 batches | loss    0.980 \n",
            "money: taxes, payment, buying, millions, goods, prices, compensation, gift, funds, demand\n",
            "lion: sands, swan, bearded, eagle, goat, alder, saguinus, skull, serpent, crab\n",
            "africa: korea, albania, borneo, mozambique, macedonia, morocco, eurasia, dakota, ethiopia, yemen\n",
            "musician: singer, guitarist, pianist, drummer, dancer, comedian, songwriter, songwriters, rapper, bassist\n",
            "dance: dancing, jazz, blues, dances, pop, ballroom, swing, bluegrass, rap, techno\n",
            "\n",
            "\n"
          ]
        },
        {
          "output_type": "stream",
          "name": "stderr",
          "text": [
            "16496it [04:10, 68.39it/s]"
          ]
        },
        {
          "output_type": "stream",
          "name": "stdout",
          "text": [
            "| epoch   7 | 16500/32580 batches | loss    0.977 \n",
            "money: taxes, payment, buying, millions, goods, prices, compensation, gift, funds, demand\n",
            "lion: swan, sands, bearded, goat, eagle, alder, saguinus, skull, serpent, calf\n",
            "africa: korea, albania, borneo, mozambique, morocco, macedonia, eurasia, dakota, yemen, ethiopia\n",
            "musician: singer, guitarist, pianist, drummer, dancer, comedian, songwriter, songwriters, rapper, bassist\n",
            "dance: dancing, jazz, blues, dances, pop, ballroom, swing, bluegrass, rap, folk\n",
            "\n",
            "\n"
          ]
        },
        {
          "output_type": "stream",
          "name": "stderr",
          "text": [
            "17001it [04:17, 48.26it/s]"
          ]
        },
        {
          "output_type": "stream",
          "name": "stdout",
          "text": [
            "| epoch   7 | 17000/32580 batches | loss    0.977 \n",
            "money: taxes, buying, payment, millions, goods, prices, compensation, gift, funds, demand\n",
            "lion: sands, swan, bearded, eagle, goat, alder, saguinus, skull, serpent, calf\n",
            "africa: korea, albania, borneo, mozambique, macedonia, morocco, eurasia, dakota, yemen, ethiopia\n",
            "musician: singer, guitarist, pianist, drummer, comedian, dancer, songwriter, songwriters, rapper, bassist\n",
            "dance: dancing, jazz, blues, dances, pop, ballroom, swing, bluegrass, rap, techno\n",
            "\n",
            "\n"
          ]
        },
        {
          "output_type": "stream",
          "name": "stderr",
          "text": [
            "17495it [04:24, 72.63it/s]"
          ]
        },
        {
          "output_type": "stream",
          "name": "stdout",
          "text": [
            "| epoch   7 | 17500/32580 batches | loss    0.979 \n",
            "money: taxes, buying, payment, millions, goods, prices, compensation, gift, funds, demand\n",
            "lion: sands, swan, bearded, eagle, goat, alder, saguinus, skull, serpent, calf\n",
            "africa: korea, albania, borneo, mozambique, macedonia, morocco, eurasia, dakota, yemen, africans\n",
            "musician: singer, guitarist, pianist, drummer, comedian, dancer, songwriter, songwriters, rapper, bassist\n",
            "dance: dancing, jazz, blues, dances, pop, ballroom, swing, bluegrass, rap, techno\n",
            "\n",
            "\n"
          ]
        },
        {
          "output_type": "stream",
          "name": "stderr",
          "text": [
            "18001it [04:32, 43.55it/s]"
          ]
        },
        {
          "output_type": "stream",
          "name": "stdout",
          "text": [
            "| epoch   7 | 18000/32580 batches | loss    0.978 \n",
            "money: taxes, buying, payment, millions, goods, prices, compensation, gift, funds, demand\n",
            "lion: sands, swan, bearded, goat, eagle, alder, saguinus, skull, serpent, calf\n",
            "africa: korea, albania, borneo, mozambique, macedonia, morocco, eurasia, dakota, yemen, africans\n",
            "musician: singer, guitarist, pianist, drummer, dancer, comedian, songwriter, songwriters, rapper, bassist\n",
            "dance: dancing, jazz, blues, dances, pop, ballroom, swing, rap, bluegrass, techno\n",
            "\n",
            "\n"
          ]
        },
        {
          "output_type": "stream",
          "name": "stderr",
          "text": [
            "18494it [04:39, 73.53it/s]"
          ]
        },
        {
          "output_type": "stream",
          "name": "stdout",
          "text": [
            "| epoch   7 | 18500/32580 batches | loss    0.978 \n",
            "money: taxes, payment, buying, millions, goods, prices, compensation, gift, funds, demand\n",
            "lion: sands, swan, bearded, goat, eagle, alder, saguinus, skull, serpent, calf\n",
            "africa: korea, albania, borneo, mozambique, macedonia, morocco, eurasia, dakota, yemen, africans\n",
            "musician: singer, guitarist, pianist, drummer, dancer, comedian, songwriter, songwriters, rapper, bassist\n",
            "dance: dancing, jazz, blues, dances, pop, ballroom, swing, rap, bluegrass, techno\n",
            "\n",
            "\n"
          ]
        },
        {
          "output_type": "stream",
          "name": "stderr",
          "text": [
            "18999it [04:46, 67.11it/s]"
          ]
        },
        {
          "output_type": "stream",
          "name": "stdout",
          "text": [
            "| epoch   7 | 19000/32580 batches | loss    0.980 \n",
            "money: taxes, payment, buying, millions, goods, prices, compensation, gift, funds, demand\n",
            "lion: sands, swan, bearded, goat, alder, eagle, saguinus, skull, serpent, calf\n",
            "africa: korea, albania, borneo, mozambique, macedonia, morocco, eurasia, dakota, yemen, ethiopia\n",
            "musician: singer, guitarist, pianist, drummer, dancer, comedian, songwriter, songwriters, rapper, bassist\n",
            "dance: dancing, jazz, blues, dances, pop, ballroom, swing, rap, bluegrass, techno\n",
            "\n",
            "\n"
          ]
        },
        {
          "output_type": "stream",
          "name": "stderr",
          "text": [
            "19497it [04:54, 70.01it/s]"
          ]
        },
        {
          "output_type": "stream",
          "name": "stdout",
          "text": [
            "| epoch   7 | 19500/32580 batches | loss    0.980 \n"
          ]
        },
        {
          "output_type": "stream",
          "name": "stderr",
          "text": [
            "\r19505it [04:54, 40.90it/s]"
          ]
        },
        {
          "output_type": "stream",
          "name": "stdout",
          "text": [
            "money: taxes, payment, buying, millions, goods, prices, compensation, gift, funds, demand\n",
            "lion: sands, swan, bearded, goat, alder, eagle, saguinus, skull, serpent, calf\n",
            "africa: korea, albania, borneo, mozambique, macedonia, morocco, eurasia, dakota, yemen, africans\n",
            "musician: singer, guitarist, pianist, drummer, dancer, comedian, songwriter, songwriters, rapper, bassist\n",
            "dance: dancing, jazz, blues, dances, pop, ballroom, swing, rap, bluegrass, techno\n",
            "\n",
            "\n"
          ]
        },
        {
          "output_type": "stream",
          "name": "stderr",
          "text": [
            "19998it [05:01, 71.33it/s]"
          ]
        },
        {
          "output_type": "stream",
          "name": "stdout",
          "text": [
            "| epoch   7 | 20000/32580 batches | loss    0.977 \n",
            "money: taxes, payment, buying, millions, goods, prices, compensation, gift, funds, demand\n",
            "lion: sands, swan, bearded, goat, eagle, alder, saguinus, skull, serpent, calf\n",
            "africa: korea, albania, borneo, mozambique, macedonia, morocco, eurasia, dakota, yemen, ethiopia\n",
            "musician: singer, guitarist, pianist, drummer, dancer, comedian, songwriter, songwriters, rapper, bassist\n",
            "dance: dancing, jazz, blues, dances, pop, ballroom, swing, rap, bluegrass, techno\n",
            "\n",
            "\n"
          ]
        },
        {
          "output_type": "stream",
          "name": "stderr",
          "text": [
            "20494it [05:08, 68.49it/s]"
          ]
        },
        {
          "output_type": "stream",
          "name": "stdout",
          "text": [
            "| epoch   7 | 20500/32580 batches | loss    0.978 \n"
          ]
        },
        {
          "output_type": "stream",
          "name": "stderr",
          "text": [
            "20507it [05:08, 41.93it/s]"
          ]
        },
        {
          "output_type": "stream",
          "name": "stdout",
          "text": [
            "money: taxes, payment, buying, millions, goods, prices, compensation, gift, funds, demand\n",
            "lion: sands, swan, bearded, goat, eagle, alder, saguinus, skull, serpent, calf\n",
            "africa: korea, albania, borneo, mozambique, macedonia, morocco, eurasia, dakota, yemen, ethiopia\n",
            "musician: singer, guitarist, pianist, drummer, dancer, comedian, songwriter, songwriters, rapper, bassist\n",
            "dance: dancing, jazz, blues, dances, pop, ballroom, swing, rap, bluegrass, techno\n",
            "\n",
            "\n"
          ]
        },
        {
          "output_type": "stream",
          "name": "stderr",
          "text": [
            "21000it [05:16, 71.57it/s]"
          ]
        },
        {
          "output_type": "stream",
          "name": "stdout",
          "text": [
            "| epoch   7 | 21000/32580 batches | loss    0.981 \n",
            "money: taxes, payment, buying, millions, goods, prices, compensation, gift, funds, demand\n",
            "lion: sands, swan, bearded, eagle, goat, alder, saguinus, skull, serpent, calf\n",
            "africa: korea, albania, borneo, mozambique, macedonia, eurasia, morocco, dakota, africans, ethiopia\n",
            "musician: singer, guitarist, pianist, drummer, dancer, comedian, songwriter, songwriters, rapper, bassist\n",
            "dance: dancing, jazz, blues, dances, pop, ballroom, swing, rap, bluegrass, techno\n",
            "\n",
            "\n"
          ]
        },
        {
          "output_type": "stream",
          "name": "stderr",
          "text": [
            "21496it [05:23, 71.16it/s]"
          ]
        },
        {
          "output_type": "stream",
          "name": "stdout",
          "text": [
            "| epoch   7 | 21500/32580 batches | loss    0.982 \n",
            "money: taxes, payment, buying, millions, goods, prices, compensation, gift, funds, demand\n",
            "lion: sands, swan, bearded, eagle, goat, alder, saguinus, skull, serpent, calf\n",
            "africa: korea, albania, borneo, mozambique, macedonia, morocco, eurasia, dakota, africans, yemen\n",
            "musician: singer, guitarist, pianist, drummer, dancer, comedian, songwriter, songwriters, rapper, bassist\n",
            "dance: dancing, jazz, blues, dances, pop, ballroom, swing, rap, bluegrass, techno\n",
            "\n",
            "\n"
          ]
        },
        {
          "output_type": "stream",
          "name": "stderr",
          "text": [
            "21994it [05:30, 70.70it/s]"
          ]
        },
        {
          "output_type": "stream",
          "name": "stdout",
          "text": [
            "| epoch   7 | 22000/32580 batches | loss    0.982 \n",
            "money: taxes, payment, buying, millions, goods, prices, compensation, gift, funds, demand\n",
            "lion: sands, swan, bearded, eagle, goat, alder, saguinus, skull, serpent, calf\n",
            "africa: korea, albania, borneo, mozambique, macedonia, morocco, eurasia, dakota, africans, ethiopia\n",
            "musician: singer, guitarist, pianist, drummer, dancer, comedian, songwriter, songwriters, rapper, bassist\n",
            "dance: dancing, jazz, blues, dances, pop, ballroom, swing, rap, bluegrass, techno\n",
            "\n",
            "\n"
          ]
        },
        {
          "output_type": "stream",
          "name": "stderr",
          "text": [
            "22498it [05:37, 73.76it/s]"
          ]
        },
        {
          "output_type": "stream",
          "name": "stdout",
          "text": [
            "| epoch   7 | 22500/32580 batches | loss    0.978 \n",
            "money: taxes, payment, buying, millions, goods, prices, compensation, gift, funds, demand\n",
            "lion: sands, swan, bearded, eagle, goat, alder, saguinus, skull, serpent, calf\n",
            "africa: korea, albania, borneo, mozambique, macedonia, morocco, eurasia, dakota, africans, yemen\n",
            "musician: singer, guitarist, pianist, drummer, dancer, comedian, songwriter, songwriters, rapper, bassist\n",
            "dance: dancing, jazz, blues, dances, pop, ballroom, swing, rap, bluegrass, techno\n",
            "\n",
            "\n"
          ]
        },
        {
          "output_type": "stream",
          "name": "stderr",
          "text": [
            "22994it [05:45, 72.50it/s]"
          ]
        },
        {
          "output_type": "stream",
          "name": "stdout",
          "text": [
            "| epoch   7 | 23000/32580 batches | loss    0.977 \n",
            "money: taxes, payment, buying, millions, goods, prices, compensation, gift, funds, demand\n",
            "lion: sands, swan, bearded, eagle, goat, alder, saguinus, skull, serpent, calf\n",
            "africa: korea, albania, borneo, mozambique, morocco, macedonia, eurasia, dakota, ethiopia, yemen\n",
            "musician: singer, guitarist, pianist, drummer, dancer, comedian, songwriter, songwriters, bassist, rapper\n",
            "dance: dancing, jazz, blues, dances, pop, ballroom, swing, rap, bluegrass, techno\n",
            "\n",
            "\n"
          ]
        },
        {
          "output_type": "stream",
          "name": "stderr",
          "text": [
            "23501it [05:52, 42.47it/s]"
          ]
        },
        {
          "output_type": "stream",
          "name": "stdout",
          "text": [
            "| epoch   7 | 23500/32580 batches | loss    0.977 \n",
            "money: taxes, payment, millions, buying, goods, prices, compensation, gift, funds, demand\n",
            "lion: sands, swan, bearded, eagle, goat, alder, saguinus, skull, serpent, calf\n",
            "africa: korea, albania, borneo, mozambique, morocco, macedonia, eurasia, dakota, yemen, ethiopia\n",
            "musician: singer, guitarist, pianist, drummer, comedian, dancer, songwriter, songwriters, bassist, rapper\n",
            "dance: dancing, jazz, blues, dances, pop, ballroom, swing, rap, bluegrass, techno\n",
            "\n",
            "\n"
          ]
        },
        {
          "output_type": "stream",
          "name": "stderr",
          "text": [
            "24000it [05:59, 73.75it/s]"
          ]
        },
        {
          "output_type": "stream",
          "name": "stdout",
          "text": [
            "| epoch   7 | 24000/32580 batches | loss    0.981 \n",
            "money: taxes, payment, millions, buying, goods, prices, compensation, gift, funds, demand\n",
            "lion: sands, swan, bearded, eagle, goat, saguinus, alder, skull, serpent, calf\n",
            "africa: korea, albania, borneo, mozambique, morocco, macedonia, eurasia, dakota, yemen, ethiopia\n",
            "musician: singer, guitarist, pianist, drummer, comedian, dancer, songwriter, songwriters, bassist, rapper\n",
            "dance: dancing, jazz, blues, dances, pop, ballroom, swing, rap, bluegrass, techno\n",
            "\n",
            "\n"
          ]
        },
        {
          "output_type": "stream",
          "name": "stderr",
          "text": [
            "24496it [06:06, 72.42it/s]"
          ]
        },
        {
          "output_type": "stream",
          "name": "stdout",
          "text": [
            "| epoch   7 | 24500/32580 batches | loss    0.979 \n",
            "money: taxes, payment, buying, millions, goods, prices, compensation, gift, funds, demand\n",
            "lion: sands, swan, bearded, eagle, goat, saguinus, alder, skull, serpent, calf\n",
            "africa: korea, albania, borneo, mozambique, morocco, macedonia, eurasia, dakota, yemen, ethiopia\n",
            "musician: singer, guitarist, pianist, drummer, comedian, dancer, songwriter, songwriters, bassist, rapper\n",
            "dance: dancing, jazz, blues, dances, pop, ballroom, swing, rap, bluegrass, techno\n",
            "\n",
            "\n"
          ]
        },
        {
          "output_type": "stream",
          "name": "stderr",
          "text": [
            "25001it [06:14, 45.29it/s]"
          ]
        },
        {
          "output_type": "stream",
          "name": "stdout",
          "text": [
            "| epoch   7 | 25000/32580 batches | loss    0.977 \n",
            "money: taxes, payment, buying, millions, goods, prices, compensation, gift, funds, demand\n",
            "lion: sands, swan, bearded, eagle, goat, alder, saguinus, skull, serpent, calf\n",
            "africa: korea, albania, borneo, mozambique, macedonia, morocco, eurasia, dakota, yemen, ethiopia\n",
            "musician: singer, guitarist, pianist, drummer, comedian, dancer, songwriter, songwriters, bassist, rapper\n",
            "dance: dancing, jazz, blues, dances, pop, ballroom, swing, rap, bluegrass, folk\n",
            "\n",
            "\n"
          ]
        },
        {
          "output_type": "stream",
          "name": "stderr",
          "text": [
            "25500it [06:21, 73.70it/s]"
          ]
        },
        {
          "output_type": "stream",
          "name": "stdout",
          "text": [
            "| epoch   7 | 25500/32580 batches | loss    0.977 \n",
            "money: taxes, payment, buying, millions, goods, prices, compensation, gift, funds, demand\n",
            "lion: sands, swan, bearded, eagle, goat, alder, saguinus, skull, serpent, calf\n",
            "africa: korea, albania, borneo, mozambique, macedonia, morocco, eurasia, dakota, yemen, ethiopia\n",
            "musician: singer, guitarist, pianist, drummer, comedian, dancer, songwriter, songwriters, bassist, rapper\n",
            "dance: dancing, jazz, blues, dances, pop, ballroom, swing, rap, bluegrass, folk\n",
            "\n",
            "\n"
          ]
        },
        {
          "output_type": "stream",
          "name": "stderr",
          "text": [
            "25996it [06:28, 68.41it/s]"
          ]
        },
        {
          "output_type": "stream",
          "name": "stdout",
          "text": [
            "| epoch   7 | 26000/32580 batches | loss    0.977 \n",
            "money: taxes, buying, payment, millions, goods, prices, compensation, gift, funds, demand\n",
            "lion: sands, swan, bearded, eagle, alder, goat, saguinus, skull, serpent, calf\n",
            "africa: korea, albania, borneo, mozambique, morocco, macedonia, eurasia, ethiopia, yemen, dakota\n",
            "musician: singer, guitarist, pianist, drummer, comedian, dancer, songwriter, songwriters, bassist, rapper\n",
            "dance: dancing, jazz, blues, dances, pop, ballroom, swing, rap, bluegrass, folk\n",
            "\n",
            "\n"
          ]
        },
        {
          "output_type": "stream",
          "name": "stderr",
          "text": [
            "26497it [06:35, 71.50it/s]"
          ]
        },
        {
          "output_type": "stream",
          "name": "stdout",
          "text": [
            "| epoch   7 | 26500/32580 batches | loss    0.978 \n",
            "money: taxes, buying, payment, goods, millions, prices, compensation, gift, funds, demand\n",
            "lion: sands, swan, bearded, eagle, goat, alder, saguinus, skull, serpent, calf\n",
            "africa: korea, albania, borneo, mozambique, morocco, macedonia, eurasia, yemen, ethiopia, dakota\n",
            "musician: singer, guitarist, pianist, drummer, comedian, dancer, songwriter, songwriters, bassist, rapper\n",
            "dance: dancing, jazz, blues, dances, pop, ballroom, swing, rap, bluegrass, folk\n",
            "\n",
            "\n"
          ]
        },
        {
          "output_type": "stream",
          "name": "stderr",
          "text": [
            "27000it [06:43, 72.11it/s]"
          ]
        },
        {
          "output_type": "stream",
          "name": "stdout",
          "text": [
            "| epoch   7 | 27000/32580 batches | loss    0.975 \n",
            "money: taxes, buying, payment, goods, millions, prices, compensation, gift, funds, demand\n",
            "lion: sands, swan, bearded, eagle, alder, goat, saguinus, skull, serpent, calf\n",
            "africa: korea, albania, borneo, mozambique, morocco, macedonia, eurasia, yemen, dakota, ethiopia\n",
            "musician: singer, guitarist, pianist, drummer, comedian, dancer, songwriter, songwriters, bassist, rapper\n",
            "dance: dancing, jazz, blues, dances, pop, ballroom, swing, rap, bluegrass, folk\n",
            "\n",
            "\n"
          ]
        },
        {
          "output_type": "stream",
          "name": "stderr",
          "text": [
            "27498it [06:50, 67.67it/s]"
          ]
        },
        {
          "output_type": "stream",
          "name": "stdout",
          "text": [
            "| epoch   7 | 27500/32580 batches | loss    0.975 \n",
            "money: taxes, buying, payment, millions, goods, prices, compensation, gift, funds, payments\n",
            "lion: sands, swan, bearded, eagle, alder, goat, saguinus, skull, serpent, calf\n",
            "africa: korea, albania, borneo, mozambique, morocco, macedonia, eurasia, yemen, dakota, ethiopia\n",
            "musician: singer, guitarist, pianist, drummer, comedian, dancer, songwriter, songwriters, bassist, rapper\n",
            "dance: dancing, jazz, blues, dances, pop, ballroom, swing, rap, bluegrass, folk\n",
            "\n",
            "\n"
          ]
        },
        {
          "output_type": "stream",
          "name": "stderr",
          "text": [
            "27998it [06:57, 73.59it/s]"
          ]
        },
        {
          "output_type": "stream",
          "name": "stdout",
          "text": [
            "| epoch   7 | 28000/32580 batches | loss    0.979 \n",
            "money: taxes, buying, millions, payment, goods, prices, compensation, gift, funds, payments\n",
            "lion: sands, swan, bearded, eagle, goat, alder, saguinus, skull, serpent, calf\n",
            "africa: korea, albania, borneo, mozambique, morocco, macedonia, eurasia, yemen, ethiopia, dakota\n",
            "musician: singer, guitarist, pianist, drummer, comedian, dancer, songwriter, songwriters, bassist, rapper\n",
            "dance: dancing, jazz, blues, dances, pop, ballroom, swing, rap, bluegrass, folk\n",
            "\n",
            "\n"
          ]
        },
        {
          "output_type": "stream",
          "name": "stderr",
          "text": [
            "28494it [07:04, 70.73it/s]"
          ]
        },
        {
          "output_type": "stream",
          "name": "stdout",
          "text": [
            "| epoch   7 | 28500/32580 batches | loss    0.978 \n",
            "money: taxes, buying, millions, payment, goods, prices, compensation, gift, funds, payments\n",
            "lion: sands, swan, bearded, goat, alder, eagle, saguinus, skull, serpent, calf\n",
            "africa: korea, albania, borneo, mozambique, morocco, macedonia, eurasia, yemen, ethiopia, dakota\n",
            "musician: singer, guitarist, pianist, drummer, comedian, dancer, songwriter, songwriters, bassist, rapper\n",
            "dance: dancing, jazz, blues, dances, pop, ballroom, swing, rap, bluegrass, folk\n",
            "\n",
            "\n"
          ]
        },
        {
          "output_type": "stream",
          "name": "stderr",
          "text": [
            "29001it [07:12, 43.95it/s]"
          ]
        },
        {
          "output_type": "stream",
          "name": "stdout",
          "text": [
            "| epoch   7 | 29000/32580 batches | loss    0.980 \n",
            "money: taxes, buying, millions, goods, payment, prices, compensation, gift, funds, payments\n",
            "lion: sands, swan, bearded, goat, saguinus, alder, eagle, skull, serpent, calf\n",
            "africa: korea, albania, borneo, mozambique, morocco, macedonia, eurasia, yemen, ethiopia, dakota\n",
            "musician: singer, guitarist, pianist, drummer, comedian, dancer, songwriter, songwriters, bassist, rapper\n",
            "dance: dancing, jazz, blues, dances, pop, ballroom, swing, rap, bluegrass, folk\n",
            "\n",
            "\n"
          ]
        },
        {
          "output_type": "stream",
          "name": "stderr",
          "text": [
            "29494it [07:19, 72.01it/s]"
          ]
        },
        {
          "output_type": "stream",
          "name": "stdout",
          "text": [
            "| epoch   7 | 29500/32580 batches | loss    0.978 \n",
            "money: taxes, buying, millions, goods, payment, prices, compensation, gift, funds, demand\n",
            "lion: sands, swan, bearded, alder, goat, saguinus, eagle, skull, serpent, calf\n",
            "africa: korea, albania, borneo, mozambique, morocco, macedonia, eurasia, yemen, ethiopia, dakota\n",
            "musician: singer, guitarist, pianist, drummer, comedian, dancer, songwriter, songwriters, bassist, rapper\n",
            "dance: dancing, jazz, blues, dances, pop, ballroom, swing, rap, bluegrass, folk\n",
            "\n",
            "\n"
          ]
        },
        {
          "output_type": "stream",
          "name": "stderr",
          "text": [
            "29995it [07:26, 71.92it/s]"
          ]
        },
        {
          "output_type": "stream",
          "name": "stdout",
          "text": [
            "| epoch   7 | 30000/32580 batches | loss    0.977 \n",
            "money: taxes, buying, millions, goods, payment, prices, compensation, gift, funds, demand\n",
            "lion: sands, swan, bearded, saguinus, goat, alder, eagle, skull, serpent, calf\n",
            "africa: korea, albania, borneo, mozambique, morocco, macedonia, eurasia, yemen, ethiopia, dakota\n",
            "musician: singer, guitarist, pianist, drummer, comedian, dancer, songwriter, songwriters, bassist, rapper\n",
            "dance: dancing, jazz, blues, dances, pop, ballroom, swing, rap, bluegrass, folk\n",
            "\n",
            "\n"
          ]
        },
        {
          "output_type": "stream",
          "name": "stderr",
          "text": [
            "30498it [07:34, 69.75it/s]"
          ]
        },
        {
          "output_type": "stream",
          "name": "stdout",
          "text": [
            "| epoch   7 | 30500/32580 batches | loss    0.976 \n",
            "money: taxes, buying, millions, goods, payment, prices, compensation, gift, funds, demand\n",
            "lion: sands, swan, bearded, saguinus, goat, alder, eagle, skull, serpent, calf\n",
            "africa: korea, borneo, albania, mozambique, morocco, macedonia, eurasia, yemen, ethiopia, africans\n",
            "musician: singer, guitarist, pianist, drummer, comedian, dancer, songwriter, songwriters, bassist, rapper\n",
            "dance: dancing, jazz, blues, dances, pop, ballroom, swing, rap, bluegrass, techno\n",
            "\n",
            "\n"
          ]
        },
        {
          "output_type": "stream",
          "name": "stderr",
          "text": [
            "30999it [07:41, 70.74it/s]"
          ]
        },
        {
          "output_type": "stream",
          "name": "stdout",
          "text": [
            "| epoch   7 | 31000/32580 batches | loss    0.977 \n",
            "money: taxes, buying, millions, goods, payment, prices, compensation, gift, funds, payments\n",
            "lion: sands, swan, bearded, goat, saguinus, alder, eagle, skull, serpent, calf\n",
            "africa: korea, borneo, albania, mozambique, morocco, macedonia, eurasia, yemen, ethiopia, africans\n",
            "musician: singer, guitarist, pianist, drummer, comedian, dancer, songwriter, songwriters, bassist, rapper\n",
            "dance: dancing, jazz, blues, dances, pop, ballroom, swing, bluegrass, rap, techno\n",
            "\n",
            "\n"
          ]
        },
        {
          "output_type": "stream",
          "name": "stderr",
          "text": [
            "31500it [07:48, 68.18it/s]"
          ]
        },
        {
          "output_type": "stream",
          "name": "stdout",
          "text": [
            "| epoch   7 | 31500/32580 batches | loss    0.982 \n",
            "money: taxes, buying, millions, goods, payment, prices, compensation, gift, funds, payments\n",
            "lion: sands, swan, bearded, goat, saguinus, alder, eagle, skull, serpent, calf\n",
            "africa: korea, borneo, albania, mozambique, morocco, macedonia, eurasia, yemen, ethiopia, africans\n",
            "musician: singer, guitarist, pianist, drummer, comedian, dancer, songwriter, songwriters, bassist, rapper\n",
            "dance: dancing, jazz, blues, dances, pop, ballroom, swing, bluegrass, rap, techno\n",
            "\n",
            "\n"
          ]
        },
        {
          "output_type": "stream",
          "name": "stderr",
          "text": [
            "31997it [07:56, 67.24it/s]"
          ]
        },
        {
          "output_type": "stream",
          "name": "stdout",
          "text": [
            "| epoch   7 | 32000/32580 batches | loss    0.977 \n",
            "money: taxes, buying, goods, millions, payment, prices, compensation, gift, funds, payments\n",
            "lion: sands, swan, bearded, goat, saguinus, alder, eagle, skull, serpent, calf\n",
            "africa: korea, borneo, albania, mozambique, morocco, macedonia, eurasia, yemen, ethiopia, africans\n",
            "musician: singer, guitarist, pianist, drummer, comedian, dancer, songwriter, songwriters, bassist, rapper\n",
            "dance: dancing, jazz, blues, dances, pop, ballroom, swing, bluegrass, rap, techno\n",
            "\n",
            "\n"
          ]
        },
        {
          "output_type": "stream",
          "name": "stderr",
          "text": [
            "32501it [08:03, 47.42it/s]"
          ]
        },
        {
          "output_type": "stream",
          "name": "stdout",
          "text": [
            "| epoch   7 | 32500/32580 batches | loss    0.979 \n",
            "money: taxes, buying, goods, millions, payment, prices, compensation, gift, funds, payments\n",
            "lion: sands, swan, bearded, goat, saguinus, alder, eagle, skull, serpent, calf\n",
            "africa: korea, borneo, albania, mozambique, morocco, eurasia, macedonia, yemen, ethiopia, africans\n",
            "musician: singer, guitarist, pianist, drummer, comedian, songwriter, dancer, songwriters, bassist, rapper\n",
            "dance: dancing, jazz, blues, dances, pop, ballroom, swing, bluegrass, rap, techno\n",
            "\n",
            "\n"
          ]
        },
        {
          "output_type": "stream",
          "name": "stderr",
          "text": [
            "32580it [08:07, 66.87it/s]\n",
            "0it [00:00, ?it/s]"
          ]
        },
        {
          "output_type": "stream",
          "name": "stdout",
          "text": [
            "| epoch   8 |     0/32580 batches | loss    0.925 \n"
          ]
        },
        {
          "output_type": "stream",
          "name": "stderr",
          "text": [
            "2it [00:02,  1.01it/s]"
          ]
        },
        {
          "output_type": "stream",
          "name": "stdout",
          "text": [
            "money: taxes, buying, goods, millions, payment, prices, compensation, gift, funds, payments\n",
            "lion: sands, swan, bearded, goat, alder, saguinus, eagle, skull, serpent, calf\n",
            "africa: korea, borneo, albania, mozambique, morocco, eurasia, macedonia, yemen, africans, ethiopia\n",
            "musician: singer, guitarist, pianist, drummer, comedian, songwriter, dancer, songwriters, bassist, rapper\n",
            "dance: dancing, jazz, blues, dances, pop, ballroom, swing, bluegrass, rap, techno\n",
            "\n",
            "\n"
          ]
        },
        {
          "output_type": "stream",
          "name": "stderr",
          "text": [
            "501it [00:09, 46.44it/s]"
          ]
        },
        {
          "output_type": "stream",
          "name": "stdout",
          "text": [
            "| epoch   8 |   500/32580 batches | loss    0.966 \n",
            "money: taxes, buying, goods, millions, payment, prices, compensation, gift, funds, payments\n",
            "lion: sands, swan, bearded, goat, saguinus, alder, eagle, skull, serpent, calf\n",
            "africa: korea, borneo, albania, mozambique, morocco, eurasia, macedonia, yemen, ethiopia, africans\n",
            "musician: singer, guitarist, pianist, drummer, comedian, songwriter, dancer, songwriters, bassist, rapper\n",
            "dance: dancing, jazz, blues, dances, pop, ballroom, swing, bluegrass, rap, techno\n",
            "\n",
            "\n"
          ]
        },
        {
          "output_type": "stream",
          "name": "stderr",
          "text": [
            "994it [00:16, 74.08it/s]"
          ]
        },
        {
          "output_type": "stream",
          "name": "stdout",
          "text": [
            "| epoch   8 |  1000/32580 batches | loss    0.965 \n",
            "money: taxes, buying, goods, payment, millions, prices, compensation, gift, funds, payments\n",
            "lion: sands, swan, bearded, goat, alder, saguinus, eagle, serpent, skull, calf\n",
            "africa: korea, borneo, albania, mozambique, eurasia, morocco, yemen, macedonia, africans, dakota\n",
            "musician: singer, guitarist, pianist, drummer, comedian, songwriter, dancer, songwriters, bassist, rapper\n",
            "dance: dancing, jazz, blues, dances, pop, ballroom, swing, bluegrass, rap, techno\n",
            "\n",
            "\n"
          ]
        },
        {
          "output_type": "stream",
          "name": "stderr",
          "text": [
            "1501it [00:24, 43.68it/s]"
          ]
        },
        {
          "output_type": "stream",
          "name": "stdout",
          "text": [
            "| epoch   8 |  1500/32580 batches | loss    0.967 \n",
            "money: taxes, buying, goods, payment, millions, prices, compensation, gift, funds, payments\n",
            "lion: sands, swan, bearded, eagle, alder, goat, saguinus, skull, serpent, calf\n",
            "africa: korea, borneo, albania, mozambique, eurasia, morocco, yemen, macedonia, africans, ethiopia\n",
            "musician: singer, guitarist, pianist, drummer, comedian, songwriter, dancer, songwriters, bassist, rapper\n",
            "dance: dancing, jazz, blues, dances, pop, ballroom, swing, bluegrass, rap, techno\n",
            "\n",
            "\n"
          ]
        },
        {
          "output_type": "stream",
          "name": "stderr",
          "text": [
            "1998it [00:31, 72.84it/s]"
          ]
        },
        {
          "output_type": "stream",
          "name": "stdout",
          "text": [
            "| epoch   8 |  2000/32580 batches | loss    0.965 \n",
            "money: taxes, buying, goods, payment, millions, prices, compensation, gift, funds, payments\n",
            "lion: sands, swan, bearded, goat, alder, saguinus, eagle, serpent, skull, calf\n",
            "africa: korea, borneo, albania, mozambique, eurasia, morocco, yemen, macedonia, africans, sumatra\n",
            "musician: singer, guitarist, pianist, drummer, comedian, songwriter, dancer, songwriters, bassist, rapper\n",
            "dance: dancing, jazz, blues, dances, pop, ballroom, swing, bluegrass, rap, techno\n",
            "\n",
            "\n"
          ]
        },
        {
          "output_type": "stream",
          "name": "stderr",
          "text": [
            "2494it [00:38, 73.02it/s]"
          ]
        },
        {
          "output_type": "stream",
          "name": "stdout",
          "text": [
            "| epoch   8 |  2500/32580 batches | loss    0.967 \n",
            "money: taxes, buying, goods, payment, millions, prices, compensation, gift, funds, payments\n",
            "lion: sands, swan, bearded, goat, eagle, alder, saguinus, serpent, skull, calf\n",
            "africa: korea, borneo, albania, mozambique, eurasia, morocco, yemen, macedonia, africans, sumatra\n",
            "musician: singer, guitarist, pianist, drummer, comedian, songwriter, dancer, songwriters, bassist, rapper\n",
            "dance: dancing, jazz, blues, dances, pop, ballroom, swing, bluegrass, rap, techno\n",
            "\n",
            "\n"
          ]
        },
        {
          "output_type": "stream",
          "name": "stderr",
          "text": [
            "2996it [00:49, 37.51it/s]"
          ]
        },
        {
          "output_type": "stream",
          "name": "stdout",
          "text": [
            "| epoch   8 |  3000/32580 batches | loss    0.967 \n",
            "money: taxes, buying, goods, payment, millions, prices, compensation, gift, funds, payments\n",
            "lion: sands, swan, bearded, goat, alder, saguinus, eagle, skull, serpent, calf\n",
            "africa: korea, borneo, albania, mozambique, eurasia, morocco, yemen, macedonia, africans, sumatra\n",
            "musician: singer, guitarist, pianist, drummer, comedian, songwriter, dancer, songwriters, bassist, rapper\n",
            "dance: dancing, jazz, blues, dances, pop, ballroom, swing, bluegrass, rap, techno\n",
            "\n",
            "\n"
          ]
        },
        {
          "output_type": "stream",
          "name": "stderr",
          "text": [
            "3495it [00:56, 73.54it/s]"
          ]
        },
        {
          "output_type": "stream",
          "name": "stdout",
          "text": [
            "| epoch   8 |  3500/32580 batches | loss    0.964 \n",
            "money: taxes, buying, goods, payment, millions, prices, compensation, gift, funds, payments\n",
            "lion: sands, swan, bearded, alder, goat, saguinus, eagle, serpent, skull, calf\n",
            "africa: korea, borneo, albania, mozambique, eurasia, morocco, yemen, macedonia, africans, sumatra\n",
            "musician: singer, guitarist, pianist, drummer, comedian, songwriter, dancer, songwriters, bassist, rapper\n",
            "dance: dancing, jazz, blues, dances, pop, ballroom, swing, bluegrass, rap, techno\n",
            "\n",
            "\n"
          ]
        },
        {
          "output_type": "stream",
          "name": "stderr",
          "text": [
            "3999it [01:03, 69.79it/s]"
          ]
        },
        {
          "output_type": "stream",
          "name": "stdout",
          "text": [
            "| epoch   8 |  4000/32580 batches | loss    0.966 \n"
          ]
        },
        {
          "output_type": "stream",
          "name": "stderr",
          "text": [
            "\r4006it [01:03, 39.46it/s]"
          ]
        },
        {
          "output_type": "stream",
          "name": "stdout",
          "text": [
            "money: taxes, buying, goods, payment, millions, prices, compensation, gift, funds, payments\n",
            "lion: sands, swan, bearded, alder, saguinus, goat, eagle, serpent, skull, crab\n",
            "africa: korea, borneo, albania, mozambique, eurasia, morocco, yemen, macedonia, africans, dakota\n",
            "musician: singer, guitarist, pianist, drummer, comedian, songwriter, dancer, songwriters, bassist, rapper\n",
            "dance: dancing, jazz, blues, dances, pop, ballroom, swing, bluegrass, rap, techno\n",
            "\n",
            "\n"
          ]
        },
        {
          "output_type": "stream",
          "name": "stderr",
          "text": [
            "4499it [01:11, 72.05it/s]"
          ]
        },
        {
          "output_type": "stream",
          "name": "stdout",
          "text": [
            "| epoch   8 |  4500/32580 batches | loss    0.962 \n",
            "money: taxes, buying, goods, payment, millions, prices, compensation, gift, funds, payments\n",
            "lion: sands, swan, bearded, alder, saguinus, goat, eagle, skull, serpent, calf\n",
            "africa: korea, borneo, albania, mozambique, eurasia, morocco, yemen, macedonia, africans, dakota\n",
            "musician: singer, guitarist, pianist, drummer, comedian, songwriter, dancer, songwriters, bassist, rapper\n",
            "dance: dancing, jazz, blues, dances, pop, ballroom, swing, bluegrass, rap, techno\n",
            "\n",
            "\n"
          ]
        },
        {
          "output_type": "stream",
          "name": "stderr",
          "text": [
            "4995it [01:18, 72.99it/s]"
          ]
        },
        {
          "output_type": "stream",
          "name": "stdout",
          "text": [
            "| epoch   8 |  5000/32580 batches | loss    0.963 \n",
            "money: taxes, buying, goods, payment, millions, prices, compensation, gift, funds, payments\n",
            "lion: sands, swan, bearded, alder, saguinus, goat, eagle, serpent, skull, calf\n",
            "africa: korea, borneo, albania, mozambique, eurasia, morocco, yemen, macedonia, africans, sumatra\n",
            "musician: singer, guitarist, pianist, drummer, comedian, songwriter, dancer, songwriters, bassist, rapper\n",
            "dance: dancing, jazz, blues, dances, pop, ballroom, swing, bluegrass, rap, techno\n",
            "\n",
            "\n"
          ]
        },
        {
          "output_type": "stream",
          "name": "stderr",
          "text": [
            "5498it [01:25, 68.68it/s]"
          ]
        },
        {
          "output_type": "stream",
          "name": "stdout",
          "text": [
            "| epoch   8 |  5500/32580 batches | loss    0.969 \n",
            "money: taxes, buying, goods, payment, millions, prices, compensation, gift, funds, payments\n",
            "lion: sands, swan, bearded, alder, goat, saguinus, eagle, serpent, skull, calf\n",
            "africa: korea, borneo, albania, mozambique, eurasia, morocco, yemen, macedonia, africans, sumatra\n",
            "musician: singer, guitarist, pianist, drummer, comedian, songwriter, dancer, songwriters, bassist, rapper\n",
            "dance: dancing, jazz, blues, dances, pop, ballroom, swing, bluegrass, rap, techno\n",
            "\n",
            "\n"
          ]
        },
        {
          "output_type": "stream",
          "name": "stderr",
          "text": [
            "5995it [01:32, 73.50it/s]"
          ]
        },
        {
          "output_type": "stream",
          "name": "stdout",
          "text": [
            "| epoch   8 |  6000/32580 batches | loss    0.966 \n",
            "money: taxes, buying, goods, payment, millions, prices, compensation, gift, funds, payments\n",
            "lion: sands, swan, bearded, alder, goat, saguinus, eagle, serpent, skull, crab\n",
            "africa: korea, borneo, albania, mozambique, eurasia, morocco, yemen, macedonia, africans, sumatra\n",
            "musician: singer, guitarist, pianist, drummer, comedian, songwriter, dancer, songwriters, bassist, rapper\n",
            "dance: dancing, jazz, blues, dances, pop, ballroom, swing, rap, bluegrass, techno\n",
            "\n",
            "\n"
          ]
        },
        {
          "output_type": "stream",
          "name": "stderr",
          "text": [
            "6497it [01:39, 72.71it/s]"
          ]
        },
        {
          "output_type": "stream",
          "name": "stdout",
          "text": [
            "| epoch   8 |  6500/32580 batches | loss    0.973 \n",
            "money: taxes, buying, payment, goods, millions, prices, compensation, gift, funds, payments\n",
            "lion: sands, swan, bearded, alder, goat, saguinus, eagle, serpent, skull, crab\n",
            "africa: korea, borneo, albania, mozambique, eurasia, morocco, yemen, macedonia, africans, sumatra\n",
            "musician: singer, guitarist, pianist, drummer, comedian, songwriter, dancer, songwriters, bassist, rapper\n",
            "dance: dancing, jazz, blues, dances, pop, ballroom, swing, bluegrass, rap, techno\n",
            "\n",
            "\n"
          ]
        },
        {
          "output_type": "stream",
          "name": "stderr",
          "text": [
            "6998it [01:47, 63.83it/s]"
          ]
        },
        {
          "output_type": "stream",
          "name": "stdout",
          "text": [
            "| epoch   8 |  7000/32580 batches | loss    0.968 \n",
            "money: taxes, payment, buying, goods, millions, prices, compensation, gift, funds, payments\n",
            "lion: sands, swan, bearded, alder, saguinus, goat, eagle, serpent, skull, crab\n",
            "africa: korea, borneo, albania, mozambique, eurasia, morocco, yemen, africans, macedonia, sumatra\n",
            "musician: singer, guitarist, pianist, drummer, comedian, songwriter, dancer, songwriters, bassist, rapper\n",
            "dance: dancing, jazz, blues, dances, pop, ballroom, swing, bluegrass, rap, techno\n",
            "\n",
            "\n"
          ]
        },
        {
          "output_type": "stream",
          "name": "stderr",
          "text": [
            "7494it [01:54, 73.78it/s]"
          ]
        },
        {
          "output_type": "stream",
          "name": "stdout",
          "text": [
            "| epoch   8 |  7500/32580 batches | loss    0.969 \n",
            "money: taxes, goods, buying, payment, millions, prices, compensation, gift, funds, payments\n",
            "lion: sands, swan, bearded, goat, alder, saguinus, eagle, serpent, skull, crab\n",
            "africa: korea, borneo, albania, mozambique, eurasia, morocco, yemen, macedonia, africans, sumatra\n",
            "musician: singer, guitarist, pianist, drummer, comedian, songwriter, dancer, songwriters, bassist, rapper\n",
            "dance: dancing, jazz, blues, dances, pop, ballroom, swing, rap, bluegrass, techno\n",
            "\n",
            "\n"
          ]
        },
        {
          "output_type": "stream",
          "name": "stderr",
          "text": [
            "7995it [02:01, 71.89it/s]"
          ]
        },
        {
          "output_type": "stream",
          "name": "stdout",
          "text": [
            "| epoch   8 |  8000/32580 batches | loss    0.969 \n",
            "money: taxes, goods, buying, payment, millions, prices, compensation, gift, funds, payments\n",
            "lion: sands, swan, bearded, goat, alder, saguinus, eagle, serpent, skull, crab\n",
            "africa: korea, borneo, albania, mozambique, eurasia, morocco, yemen, macedonia, africans, ethiopia\n",
            "musician: singer, guitarist, pianist, drummer, comedian, songwriter, dancer, songwriters, bassist, rapper\n",
            "dance: dancing, jazz, blues, dances, pop, ballroom, swing, rap, bluegrass, techno\n",
            "\n",
            "\n"
          ]
        },
        {
          "output_type": "stream",
          "name": "stderr",
          "text": [
            "8499it [02:09, 69.03it/s]"
          ]
        },
        {
          "output_type": "stream",
          "name": "stdout",
          "text": [
            "| epoch   8 |  8500/32580 batches | loss    0.970 \n",
            "money: taxes, goods, buying, payment, prices, millions, compensation, gift, funds, payments\n",
            "lion: sands, swan, bearded, goat, alder, saguinus, eagle, serpent, skull, crab\n",
            "africa: korea, borneo, albania, mozambique, eurasia, morocco, yemen, macedonia, africans, sumatra\n",
            "musician: singer, guitarist, pianist, drummer, comedian, songwriter, dancer, songwriters, bassist, rapper\n",
            "dance: dancing, jazz, blues, dances, pop, ballroom, swing, bluegrass, rap, techno\n",
            "\n",
            "\n"
          ]
        },
        {
          "output_type": "stream",
          "name": "stderr",
          "text": [
            "9000it [02:16, 73.14it/s]"
          ]
        },
        {
          "output_type": "stream",
          "name": "stdout",
          "text": [
            "| epoch   8 |  9000/32580 batches | loss    0.971 \n",
            "money: taxes, goods, buying, payment, prices, millions, compensation, gift, funds, payments\n",
            "lion: sands, swan, bearded, goat, alder, saguinus, eagle, serpent, skull, crab\n",
            "africa: korea, borneo, albania, mozambique, eurasia, morocco, yemen, macedonia, africans, ethiopia\n",
            "musician: singer, guitarist, pianist, drummer, comedian, songwriter, dancer, songwriters, bassist, rapper\n",
            "dance: dancing, jazz, blues, dances, pop, ballroom, swing, rap, bluegrass, techno\n",
            "\n",
            "\n"
          ]
        },
        {
          "output_type": "stream",
          "name": "stderr",
          "text": [
            "9495it [02:23, 69.88it/s]"
          ]
        },
        {
          "output_type": "stream",
          "name": "stdout",
          "text": [
            "| epoch   8 |  9500/32580 batches | loss    0.966 \n",
            "money: taxes, goods, payment, buying, prices, millions, compensation, gift, funds, payments\n",
            "lion: sands, swan, bearded, goat, alder, saguinus, eagle, serpent, skull, crab\n",
            "africa: korea, borneo, albania, mozambique, eurasia, morocco, yemen, macedonia, africans, ethiopia\n",
            "musician: singer, guitarist, pianist, drummer, comedian, songwriter, dancer, songwriters, bassist, rapper\n",
            "dance: dancing, jazz, blues, dances, pop, ballroom, swing, rap, bluegrass, techno\n",
            "\n",
            "\n"
          ]
        },
        {
          "output_type": "stream",
          "name": "stderr",
          "text": [
            "10001it [02:31, 45.09it/s]"
          ]
        },
        {
          "output_type": "stream",
          "name": "stdout",
          "text": [
            "| epoch   8 | 10000/32580 batches | loss    0.971 \n",
            "money: taxes, goods, payment, buying, prices, millions, compensation, gift, funds, payments\n",
            "lion: sands, swan, bearded, goat, alder, saguinus, eagle, serpent, skull, crab\n",
            "africa: korea, borneo, albania, mozambique, eurasia, morocco, yemen, macedonia, africans, ethiopia\n",
            "musician: singer, guitarist, pianist, drummer, comedian, songwriter, dancer, songwriters, bassist, rapper\n",
            "dance: dancing, jazz, blues, dances, pop, ballroom, swing, rap, bluegrass, techno\n",
            "\n",
            "\n"
          ]
        },
        {
          "output_type": "stream",
          "name": "stderr",
          "text": [
            "10495it [02:38, 67.37it/s]"
          ]
        },
        {
          "output_type": "stream",
          "name": "stdout",
          "text": [
            "| epoch   8 | 10500/32580 batches | loss    0.967 \n",
            "money: taxes, goods, payment, buying, prices, millions, compensation, gift, funds, payments\n",
            "lion: sands, swan, bearded, goat, alder, saguinus, eagle, serpent, skull, crab\n",
            "africa: korea, borneo, albania, mozambique, eurasia, morocco, yemen, africans, macedonia, sumatra\n",
            "musician: singer, guitarist, pianist, drummer, comedian, songwriter, dancer, songwriters, bassist, rapper\n",
            "dance: dancing, jazz, blues, dances, pop, ballroom, swing, bluegrass, rap, techno\n",
            "\n",
            "\n"
          ]
        },
        {
          "output_type": "stream",
          "name": "stderr",
          "text": [
            "10999it [02:45, 69.17it/s]"
          ]
        },
        {
          "output_type": "stream",
          "name": "stdout",
          "text": [
            "| epoch   8 | 11000/32580 batches | loss    0.969 \n",
            "money: taxes, payment, goods, buying, prices, millions, compensation, gift, funds, payments\n",
            "lion: sands, swan, bearded, goat, alder, saguinus, eagle, serpent, skull, crab\n",
            "africa: korea, borneo, albania, mozambique, eurasia, yemen, morocco, africans, macedonia, dakota\n",
            "musician: singer, guitarist, pianist, drummer, comedian, songwriter, dancer, songwriters, bassist, rapper\n",
            "dance: dancing, jazz, blues, dances, pop, ballroom, swing, bluegrass, rap, techno\n",
            "\n",
            "\n"
          ]
        },
        {
          "output_type": "stream",
          "name": "stderr",
          "text": [
            "11498it [02:53, 73.72it/s]"
          ]
        },
        {
          "output_type": "stream",
          "name": "stdout",
          "text": [
            "| epoch   8 | 11500/32580 batches | loss    0.970 \n",
            "money: taxes, goods, payment, buying, prices, millions, compensation, gift, funds, payments\n",
            "lion: sands, swan, bearded, goat, alder, eagle, saguinus, serpent, skull, crab\n",
            "africa: korea, borneo, albania, mozambique, eurasia, yemen, morocco, africans, macedonia, dakota\n",
            "musician: singer, guitarist, pianist, drummer, comedian, songwriter, dancer, songwriters, bassist, rapper\n",
            "dance: dancing, jazz, blues, dances, ballroom, pop, swing, bluegrass, rap, techno\n",
            "\n",
            "\n"
          ]
        },
        {
          "output_type": "stream",
          "name": "stderr",
          "text": [
            "12001it [03:00, 47.28it/s]"
          ]
        },
        {
          "output_type": "stream",
          "name": "stdout",
          "text": [
            "| epoch   8 | 12000/32580 batches | loss    0.968 \n",
            "money: taxes, goods, payment, buying, prices, millions, compensation, gift, funds, payments\n",
            "lion: sands, swan, bearded, goat, alder, eagle, saguinus, serpent, skull, crab\n",
            "africa: korea, borneo, albania, mozambique, eurasia, yemen, morocco, africans, macedonia, sumatra\n",
            "musician: singer, guitarist, pianist, drummer, comedian, songwriter, dancer, songwriters, bassist, rapper\n",
            "dance: dancing, jazz, blues, dances, ballroom, pop, swing, bluegrass, rap, techno\n",
            "\n",
            "\n"
          ]
        },
        {
          "output_type": "stream",
          "name": "stderr",
          "text": [
            "12495it [03:07, 70.61it/s]"
          ]
        },
        {
          "output_type": "stream",
          "name": "stdout",
          "text": [
            "| epoch   8 | 12500/32580 batches | loss    0.969 \n",
            "money: taxes, goods, payment, buying, prices, millions, compensation, gift, funds, payments\n",
            "lion: sands, swan, bearded, goat, alder, eagle, saguinus, serpent, skull, crab\n",
            "africa: korea, borneo, albania, mozambique, eurasia, yemen, morocco, africans, macedonia, sumatra\n",
            "musician: singer, guitarist, pianist, drummer, comedian, songwriter, dancer, songwriters, bassist, rapper\n",
            "dance: dancing, jazz, blues, dances, ballroom, pop, swing, bluegrass, rap, techno\n",
            "\n",
            "\n"
          ]
        },
        {
          "output_type": "stream",
          "name": "stderr",
          "text": [
            "13001it [03:15, 47.94it/s]"
          ]
        },
        {
          "output_type": "stream",
          "name": "stdout",
          "text": [
            "| epoch   8 | 13000/32580 batches | loss    0.966 \n",
            "money: taxes, payment, goods, buying, prices, millions, compensation, gift, funds, payments\n",
            "lion: sands, swan, bearded, goat, alder, eagle, saguinus, serpent, crab, skull\n",
            "africa: korea, borneo, albania, mozambique, eurasia, morocco, yemen, africans, macedonia, sumatra\n",
            "musician: singer, guitarist, pianist, drummer, comedian, dancer, songwriter, songwriters, bassist, rapper\n",
            "dance: dancing, jazz, blues, dances, ballroom, pop, bluegrass, swing, rap, techno\n",
            "\n",
            "\n"
          ]
        },
        {
          "output_type": "stream",
          "name": "stderr",
          "text": [
            "13495it [03:21, 73.65it/s]"
          ]
        },
        {
          "output_type": "stream",
          "name": "stdout",
          "text": [
            "| epoch   8 | 13500/32580 batches | loss    0.968 \n",
            "money: taxes, buying, goods, payment, prices, millions, compensation, gift, funds, payments\n",
            "lion: sands, swan, bearded, goat, alder, eagle, saguinus, serpent, crab, skull\n",
            "africa: korea, borneo, albania, mozambique, eurasia, morocco, yemen, africans, macedonia, sumatra\n",
            "musician: singer, guitarist, pianist, drummer, comedian, dancer, songwriter, songwriters, bassist, rapper\n",
            "dance: dancing, jazz, blues, dances, ballroom, pop, swing, bluegrass, rap, techno\n",
            "\n",
            "\n"
          ]
        },
        {
          "output_type": "stream",
          "name": "stderr",
          "text": [
            "13995it [03:29, 69.50it/s]"
          ]
        },
        {
          "output_type": "stream",
          "name": "stdout",
          "text": [
            "| epoch   8 | 14000/32580 batches | loss    0.965 \n",
            "money: taxes, buying, goods, payment, prices, millions, compensation, gift, funds, payments\n",
            "lion: sands, swan, bearded, goat, alder, eagle, saguinus, serpent, skull, crab\n",
            "africa: korea, borneo, albania, eurasia, mozambique, yemen, morocco, africans, macedonia, sumatra\n",
            "musician: singer, guitarist, pianist, drummer, comedian, dancer, songwriter, songwriters, bassist, rapper\n",
            "dance: dancing, jazz, blues, dances, ballroom, pop, swing, bluegrass, rap, techno\n",
            "\n",
            "\n"
          ]
        },
        {
          "output_type": "stream",
          "name": "stderr",
          "text": [
            "14494it [03:36, 73.46it/s]"
          ]
        },
        {
          "output_type": "stream",
          "name": "stdout",
          "text": [
            "| epoch   8 | 14500/32580 batches | loss    0.969 \n",
            "money: taxes, buying, payment, goods, prices, millions, compensation, gift, funds, payments\n",
            "lion: sands, swan, bearded, goat, eagle, alder, saguinus, serpent, skull, crab\n",
            "africa: korea, borneo, albania, eurasia, mozambique, yemen, morocco, africans, macedonia, sumatra\n",
            "musician: singer, guitarist, pianist, drummer, comedian, dancer, songwriter, songwriters, bassist, rapper\n",
            "dance: dancing, jazz, blues, dances, ballroom, pop, swing, bluegrass, rap, techno\n",
            "\n",
            "\n"
          ]
        },
        {
          "output_type": "stream",
          "name": "stderr",
          "text": [
            "14995it [03:43, 72.12it/s]"
          ]
        },
        {
          "output_type": "stream",
          "name": "stdout",
          "text": [
            "| epoch   8 | 15000/32580 batches | loss    0.967 \n"
          ]
        },
        {
          "output_type": "stream",
          "name": "stderr",
          "text": [
            "15010it [03:44, 46.03it/s]"
          ]
        },
        {
          "output_type": "stream",
          "name": "stdout",
          "text": [
            "money: taxes, buying, payment, goods, prices, millions, compensation, gift, funds, payments\n",
            "lion: sands, swan, bearded, goat, eagle, saguinus, alder, serpent, skull, crab\n",
            "africa: korea, borneo, albania, mozambique, eurasia, morocco, yemen, africans, macedonia, sumatra\n",
            "musician: singer, guitarist, pianist, drummer, comedian, dancer, songwriter, songwriters, bassist, rapper\n",
            "dance: dancing, jazz, blues, dances, ballroom, pop, swing, bluegrass, rap, techno\n",
            "\n",
            "\n"
          ]
        },
        {
          "output_type": "stream",
          "name": "stderr",
          "text": [
            "15496it [03:51, 70.06it/s]"
          ]
        },
        {
          "output_type": "stream",
          "name": "stdout",
          "text": [
            "| epoch   8 | 15500/32580 batches | loss    0.967 \n",
            "money: taxes, buying, goods, payment, prices, millions, compensation, gift, funds, payments\n",
            "lion: sands, swan, bearded, goat, eagle, saguinus, alder, serpent, skull, crab\n",
            "africa: korea, borneo, albania, mozambique, eurasia, morocco, yemen, macedonia, africans, sumatra\n",
            "musician: singer, guitarist, pianist, drummer, comedian, dancer, songwriter, songwriters, bassist, rapper\n",
            "dance: dancing, jazz, blues, dances, ballroom, pop, swing, bluegrass, rap, techno\n",
            "\n",
            "\n"
          ]
        },
        {
          "output_type": "stream",
          "name": "stderr",
          "text": [
            "15999it [03:58, 73.20it/s]"
          ]
        },
        {
          "output_type": "stream",
          "name": "stdout",
          "text": [
            "| epoch   8 | 16000/32580 batches | loss    0.966 \n",
            "money: taxes, goods, buying, payment, prices, millions, compensation, gift, funds, payments\n",
            "lion: sands, swan, bearded, goat, eagle, saguinus, alder, serpent, skull, crab\n",
            "africa: korea, borneo, albania, mozambique, eurasia, morocco, yemen, africans, macedonia, sumatra\n",
            "musician: singer, guitarist, pianist, drummer, comedian, dancer, songwriter, songwriters, bassist, rapper\n",
            "dance: dancing, jazz, blues, dances, ballroom, pop, swing, bluegrass, rap, techno\n",
            "\n",
            "\n"
          ]
        },
        {
          "output_type": "stream",
          "name": "stderr",
          "text": [
            "16497it [04:05, 68.94it/s]"
          ]
        },
        {
          "output_type": "stream",
          "name": "stdout",
          "text": [
            "| epoch   8 | 16500/32580 batches | loss    0.969 \n",
            "money: taxes, goods, buying, payment, prices, millions, compensation, gift, funds, payments\n",
            "lion: sands, swan, bearded, goat, eagle, saguinus, alder, skull, serpent, crab\n",
            "africa: korea, borneo, albania, mozambique, eurasia, yemen, morocco, macedonia, africans, sumatra\n",
            "musician: singer, guitarist, pianist, drummer, comedian, dancer, songwriter, songwriters, bassist, rapper\n",
            "dance: dancing, jazz, blues, dances, ballroom, pop, swing, bluegrass, rap, techno\n",
            "\n",
            "\n"
          ]
        },
        {
          "output_type": "stream",
          "name": "stderr",
          "text": [
            "17000it [04:12, 73.75it/s]"
          ]
        },
        {
          "output_type": "stream",
          "name": "stdout",
          "text": [
            "| epoch   8 | 17000/32580 batches | loss    0.966 \n",
            "money: taxes, goods, buying, payment, prices, millions, compensation, funds, gift, payments\n",
            "lion: sands, swan, bearded, goat, eagle, saguinus, alder, serpent, skull, crab\n",
            "africa: korea, borneo, albania, mozambique, eurasia, yemen, morocco, macedonia, africans, sumatra\n",
            "musician: singer, guitarist, pianist, drummer, comedian, dancer, songwriter, songwriters, bassist, rapper\n",
            "dance: dancing, jazz, blues, dances, ballroom, pop, swing, bluegrass, rap, techno\n",
            "\n",
            "\n"
          ]
        },
        {
          "output_type": "stream",
          "name": "stderr",
          "text": [
            "17496it [04:19, 73.19it/s]"
          ]
        },
        {
          "output_type": "stream",
          "name": "stdout",
          "text": [
            "| epoch   8 | 17500/32580 batches | loss    0.967 \n",
            "money: taxes, goods, buying, payment, prices, millions, compensation, funds, gift, payments\n",
            "lion: sands, swan, bearded, eagle, goat, saguinus, alder, skull, serpent, crab\n",
            "africa: korea, borneo, albania, mozambique, eurasia, yemen, morocco, macedonia, africans, sumatra\n",
            "musician: singer, guitarist, pianist, drummer, comedian, dancer, songwriter, songwriters, bassist, rapper\n",
            "dance: dancing, jazz, blues, dances, ballroom, pop, swing, bluegrass, rap, techno\n",
            "\n",
            "\n"
          ]
        },
        {
          "output_type": "stream",
          "name": "stderr",
          "text": [
            "17994it [04:27, 70.62it/s]"
          ]
        },
        {
          "output_type": "stream",
          "name": "stdout",
          "text": [
            "| epoch   8 | 18000/32580 batches | loss    0.966 \n",
            "money: taxes, goods, buying, payment, prices, millions, compensation, gift, funds, payments\n",
            "lion: sands, swan, bearded, eagle, goat, saguinus, alder, skull, serpent, crab\n",
            "africa: korea, borneo, albania, mozambique, eurasia, yemen, morocco, macedonia, africans, sumatra\n",
            "musician: singer, guitarist, pianist, drummer, comedian, dancer, songwriter, songwriters, bassist, rapper\n",
            "dance: dancing, jazz, blues, dances, ballroom, pop, swing, bluegrass, rap, techno\n",
            "\n",
            "\n"
          ]
        },
        {
          "output_type": "stream",
          "name": "stderr",
          "text": [
            "18494it [04:34, 73.43it/s]"
          ]
        },
        {
          "output_type": "stream",
          "name": "stdout",
          "text": [
            "| epoch   8 | 18500/32580 batches | loss    0.966 \n",
            "money: taxes, goods, buying, payment, prices, millions, compensation, gift, funds, payments\n",
            "lion: sands, swan, bearded, eagle, goat, alder, saguinus, skull, serpent, crab\n",
            "africa: korea, borneo, albania, mozambique, eurasia, yemen, morocco, macedonia, africans, sumatra\n",
            "musician: singer, guitarist, pianist, drummer, comedian, dancer, songwriter, songwriters, bassist, rapper\n",
            "dance: dancing, jazz, blues, dances, ballroom, pop, swing, bluegrass, rap, techno\n",
            "\n",
            "\n"
          ]
        },
        {
          "output_type": "stream",
          "name": "stderr",
          "text": [
            "18994it [04:41, 72.85it/s]"
          ]
        },
        {
          "output_type": "stream",
          "name": "stdout",
          "text": [
            "| epoch   8 | 19000/32580 batches | loss    0.964 \n",
            "money: taxes, goods, buying, payment, prices, millions, compensation, funds, gift, payments\n",
            "lion: sands, swan, bearded, eagle, goat, saguinus, alder, skull, serpent, crab\n",
            "africa: korea, borneo, albania, eurasia, mozambique, yemen, morocco, macedonia, africans, sumatra\n",
            "musician: singer, guitarist, pianist, drummer, comedian, dancer, songwriter, songwriters, bassist, rapper\n",
            "dance: dancing, jazz, blues, dances, ballroom, pop, bluegrass, swing, rap, techno\n",
            "\n",
            "\n"
          ]
        },
        {
          "output_type": "stream",
          "name": "stderr",
          "text": [
            "19499it [04:48, 67.16it/s]"
          ]
        },
        {
          "output_type": "stream",
          "name": "stdout",
          "text": [
            "| epoch   8 | 19500/32580 batches | loss    0.963 \n",
            "money: taxes, goods, buying, payment, prices, millions, compensation, funds, gift, payments\n",
            "lion: sands, swan, bearded, eagle, alder, saguinus, goat, skull, serpent, crab\n",
            "africa: korea, borneo, albania, mozambique, eurasia, yemen, morocco, macedonia, africans, sumatra\n",
            "musician: singer, guitarist, pianist, drummer, comedian, dancer, songwriter, songwriters, bassist, rapper\n",
            "dance: dancing, jazz, blues, dances, ballroom, pop, bluegrass, swing, rap, techno\n",
            "\n",
            "\n"
          ]
        },
        {
          "output_type": "stream",
          "name": "stderr",
          "text": [
            "19994it [04:56, 74.18it/s]"
          ]
        },
        {
          "output_type": "stream",
          "name": "stdout",
          "text": [
            "| epoch   8 | 20000/32580 batches | loss    0.971 \n",
            "money: taxes, goods, buying, payment, prices, millions, compensation, funds, gift, payments\n",
            "lion: sands, swan, bearded, eagle, saguinus, alder, goat, skull, serpent, crab\n",
            "africa: korea, borneo, albania, mozambique, eurasia, morocco, yemen, macedonia, africans, sumatra\n",
            "musician: singer, guitarist, pianist, drummer, comedian, dancer, songwriter, songwriters, bassist, rapper\n",
            "dance: dancing, jazz, blues, dances, ballroom, pop, bluegrass, swing, rap, techno\n",
            "\n",
            "\n"
          ]
        },
        {
          "output_type": "stream",
          "name": "stderr",
          "text": [
            "20496it [05:03, 70.48it/s]"
          ]
        },
        {
          "output_type": "stream",
          "name": "stdout",
          "text": [
            "| epoch   8 | 20500/32580 batches | loss    0.968 \n",
            "money: taxes, goods, buying, payment, prices, millions, compensation, funds, gift, payments\n",
            "lion: sands, swan, bearded, eagle, saguinus, alder, goat, serpent, skull, crab\n",
            "africa: korea, borneo, albania, mozambique, eurasia, yemen, morocco, macedonia, africans, sumatra\n",
            "musician: singer, guitarist, pianist, drummer, comedian, dancer, songwriter, songwriters, bassist, rapper\n",
            "dance: dancing, jazz, blues, dances, ballroom, pop, bluegrass, swing, rap, folk\n",
            "\n",
            "\n"
          ]
        },
        {
          "output_type": "stream",
          "name": "stderr",
          "text": [
            "20995it [05:10, 68.26it/s]"
          ]
        },
        {
          "output_type": "stream",
          "name": "stdout",
          "text": [
            "| epoch   8 | 21000/32580 batches | loss    0.964 \n",
            "money: taxes, goods, buying, payment, millions, prices, compensation, funds, gift, payments\n",
            "lion: sands, swan, bearded, eagle, saguinus, alder, goat, serpent, skull, crab\n",
            "africa: korea, borneo, albania, mozambique, eurasia, yemen, morocco, macedonia, africans, sumatra\n",
            "musician: singer, guitarist, pianist, drummer, comedian, dancer, songwriter, songwriters, bassist, rapper\n",
            "dance: dancing, jazz, blues, dances, ballroom, pop, bluegrass, swing, rap, techno\n",
            "\n",
            "\n"
          ]
        },
        {
          "output_type": "stream",
          "name": "stderr",
          "text": [
            "21498it [05:18, 71.51it/s]"
          ]
        },
        {
          "output_type": "stream",
          "name": "stdout",
          "text": [
            "| epoch   8 | 21500/32580 batches | loss    0.968 \n",
            "money: taxes, goods, buying, payment, prices, millions, compensation, funds, gift, payments\n",
            "lion: sands, swan, bearded, eagle, saguinus, alder, goat, serpent, skull, crab\n",
            "africa: korea, borneo, albania, mozambique, eurasia, yemen, morocco, macedonia, africans, sumatra\n",
            "musician: singer, guitarist, pianist, drummer, comedian, dancer, songwriter, songwriters, bassist, rapper\n",
            "dance: dancing, jazz, blues, dances, ballroom, pop, bluegrass, swing, rap, techno\n",
            "\n",
            "\n"
          ]
        },
        {
          "output_type": "stream",
          "name": "stderr",
          "text": [
            "22000it [05:25, 67.47it/s]"
          ]
        },
        {
          "output_type": "stream",
          "name": "stdout",
          "text": [
            "| epoch   8 | 22000/32580 batches | loss    0.967 \n",
            "money: taxes, goods, buying, payment, millions, prices, compensation, funds, gift, payments\n",
            "lion: sands, swan, bearded, eagle, saguinus, goat, alder, serpent, skull, crab\n",
            "africa: korea, borneo, albania, mozambique, eurasia, yemen, morocco, macedonia, africans, ethiopia\n",
            "musician: singer, guitarist, pianist, drummer, comedian, dancer, songwriter, songwriters, bassist, rapper\n",
            "dance: dancing, jazz, blues, dances, ballroom, pop, bluegrass, swing, rap, techno\n",
            "\n",
            "\n"
          ]
        },
        {
          "output_type": "stream",
          "name": "stderr",
          "text": [
            "22495it [05:32, 66.44it/s]"
          ]
        },
        {
          "output_type": "stream",
          "name": "stdout",
          "text": [
            "| epoch   8 | 22500/32580 batches | loss    0.970 \n",
            "money: taxes, goods, buying, payment, prices, millions, compensation, funds, gift, payments\n",
            "lion: sands, swan, bearded, eagle, saguinus, alder, goat, serpent, crab, skull\n",
            "africa: korea, borneo, albania, mozambique, eurasia, yemen, macedonia, morocco, africans, sumatra\n",
            "musician: singer, guitarist, pianist, drummer, comedian, dancer, songwriter, songwriters, bassist, rapper\n",
            "dance: dancing, jazz, blues, dances, ballroom, pop, bluegrass, swing, rap, techno\n",
            "\n",
            "\n"
          ]
        },
        {
          "output_type": "stream",
          "name": "stderr",
          "text": [
            "22997it [05:40, 73.98it/s]"
          ]
        },
        {
          "output_type": "stream",
          "name": "stdout",
          "text": [
            "| epoch   8 | 23000/32580 batches | loss    0.967 \n",
            "money: taxes, goods, buying, payment, millions, prices, compensation, funds, gift, payments\n",
            "lion: sands, swan, bearded, eagle, saguinus, goat, alder, serpent, skull, crab\n",
            "africa: korea, borneo, albania, eurasia, mozambique, yemen, macedonia, morocco, africans, sumatra\n",
            "musician: singer, guitarist, pianist, drummer, comedian, dancer, songwriter, songwriters, bassist, rapper\n",
            "dance: dancing, jazz, blues, dances, ballroom, pop, bluegrass, swing, rap, folk\n",
            "\n",
            "\n"
          ]
        },
        {
          "output_type": "stream",
          "name": "stderr",
          "text": [
            "23501it [05:47, 44.65it/s]"
          ]
        },
        {
          "output_type": "stream",
          "name": "stdout",
          "text": [
            "| epoch   8 | 23500/32580 batches | loss    0.966 \n",
            "money: taxes, goods, buying, payment, millions, prices, compensation, funds, gift, payments\n",
            "lion: sands, swan, bearded, eagle, goat, saguinus, alder, serpent, skull, crab\n",
            "africa: korea, borneo, albania, eurasia, mozambique, yemen, macedonia, morocco, africans, sumatra\n",
            "musician: singer, guitarist, pianist, drummer, comedian, dancer, songwriter, songwriters, bassist, rapper\n",
            "dance: dancing, jazz, blues, dances, ballroom, pop, bluegrass, swing, rap, techno\n",
            "\n",
            "\n"
          ]
        },
        {
          "output_type": "stream",
          "name": "stderr",
          "text": [
            "23999it [05:54, 73.24it/s]"
          ]
        },
        {
          "output_type": "stream",
          "name": "stdout",
          "text": [
            "| epoch   8 | 24000/32580 batches | loss    0.965 \n",
            "money: taxes, goods, buying, payment, millions, prices, compensation, funds, gift, payments\n",
            "lion: sands, swan, bearded, eagle, goat, saguinus, alder, crab, skull, serpent\n",
            "africa: korea, borneo, albania, eurasia, mozambique, yemen, macedonia, morocco, africans, sumatra\n",
            "musician: singer, guitarist, pianist, drummer, comedian, dancer, songwriter, songwriters, bassist, rapper\n",
            "dance: dancing, jazz, blues, dances, ballroom, pop, bluegrass, swing, rap, techno\n",
            "\n",
            "\n"
          ]
        },
        {
          "output_type": "stream",
          "name": "stderr",
          "text": [
            "24495it [06:01, 73.94it/s]"
          ]
        },
        {
          "output_type": "stream",
          "name": "stdout",
          "text": [
            "| epoch   8 | 24500/32580 batches | loss    0.969 \n",
            "money: taxes, goods, buying, payment, millions, prices, compensation, funds, gift, payments\n",
            "lion: sands, swan, bearded, eagle, saguinus, goat, alder, skull, crab, serpent\n",
            "africa: korea, borneo, albania, mozambique, eurasia, macedonia, yemen, morocco, africans, sumatra\n",
            "musician: singer, guitarist, pianist, drummer, comedian, dancer, songwriter, songwriters, bassist, rapper\n",
            "dance: dancing, jazz, blues, dances, ballroom, pop, bluegrass, swing, rap, techno\n",
            "\n",
            "\n"
          ]
        },
        {
          "output_type": "stream",
          "name": "stderr",
          "text": [
            "25000it [06:09, 69.24it/s]"
          ]
        },
        {
          "output_type": "stream",
          "name": "stdout",
          "text": [
            "| epoch   8 | 25000/32580 batches | loss    0.973 \n",
            "money: taxes, goods, payment, buying, millions, prices, compensation, funds, gift, payments\n",
            "lion: sands, swan, bearded, eagle, saguinus, goat, alder, skull, crab, serpent\n",
            "africa: korea, borneo, albania, eurasia, mozambique, macedonia, yemen, morocco, africans, sumatra\n",
            "musician: singer, guitarist, pianist, drummer, comedian, dancer, songwriter, songwriters, bassist, rapper\n",
            "dance: dancing, jazz, blues, dances, ballroom, pop, bluegrass, swing, rap, techno\n",
            "\n",
            "\n"
          ]
        },
        {
          "output_type": "stream",
          "name": "stderr",
          "text": [
            "25499it [06:16, 72.82it/s]"
          ]
        },
        {
          "output_type": "stream",
          "name": "stdout",
          "text": [
            "| epoch   8 | 25500/32580 batches | loss    0.966 \n",
            "money: taxes, goods, buying, payment, millions, prices, compensation, funds, gift, payments\n",
            "lion: sands, swan, bearded, saguinus, eagle, goat, alder, serpent, skull, crab\n",
            "africa: korea, borneo, albania, eurasia, mozambique, macedonia, yemen, morocco, africans, sumatra\n",
            "musician: singer, guitarist, pianist, drummer, comedian, dancer, songwriter, songwriters, bassist, rapper\n",
            "dance: dancing, jazz, blues, dances, ballroom, pop, bluegrass, swing, rap, techno\n",
            "\n",
            "\n"
          ]
        },
        {
          "output_type": "stream",
          "name": "stderr",
          "text": [
            "26001it [06:23, 47.43it/s]"
          ]
        },
        {
          "output_type": "stream",
          "name": "stdout",
          "text": [
            "| epoch   8 | 26000/32580 batches | loss    0.970 \n",
            "money: taxes, goods, buying, payment, millions, prices, compensation, funds, gift, payments\n",
            "lion: sands, swan, bearded, saguinus, eagle, goat, alder, serpent, skull, crab\n",
            "africa: korea, borneo, albania, eurasia, mozambique, yemen, macedonia, morocco, africans, americas\n",
            "musician: singer, guitarist, pianist, drummer, comedian, dancer, songwriter, songwriters, bassist, rapper\n",
            "dance: dancing, jazz, blues, dances, ballroom, pop, bluegrass, swing, rap, folk\n",
            "\n",
            "\n"
          ]
        },
        {
          "output_type": "stream",
          "name": "stderr",
          "text": [
            "26496it [06:34, 64.03it/s]"
          ]
        },
        {
          "output_type": "stream",
          "name": "stdout",
          "text": [
            "| epoch   8 | 26500/32580 batches | loss    0.967 \n",
            "money: taxes, goods, buying, payment, millions, prices, compensation, funds, gift, payments\n",
            "lion: sands, swan, bearded, saguinus, eagle, goat, alder, serpent, crab, skull\n",
            "africa: korea, borneo, albania, eurasia, mozambique, yemen, macedonia, morocco, africans, americas\n",
            "musician: singer, guitarist, pianist, drummer, comedian, dancer, songwriter, songwriters, bassist, rapper\n",
            "dance: dancing, jazz, blues, dances, ballroom, pop, bluegrass, swing, rap, folk\n",
            "\n",
            "\n"
          ]
        },
        {
          "output_type": "stream",
          "name": "stderr",
          "text": [
            "26998it [06:41, 72.68it/s]"
          ]
        },
        {
          "output_type": "stream",
          "name": "stdout",
          "text": [
            "| epoch   8 | 27000/32580 batches | loss    0.967 \n",
            "money: taxes, goods, buying, payment, millions, prices, compensation, funds, gift, payments\n",
            "lion: sands, swan, bearded, saguinus, goat, eagle, alder, serpent, crab, skull\n",
            "africa: korea, borneo, albania, mozambique, eurasia, yemen, macedonia, morocco, africans, americas\n",
            "musician: singer, guitarist, pianist, drummer, comedian, dancer, songwriter, songwriters, bassist, rapper\n",
            "dance: dancing, jazz, blues, dances, ballroom, pop, bluegrass, swing, rap, folk\n",
            "\n",
            "\n"
          ]
        },
        {
          "output_type": "stream",
          "name": "stderr",
          "text": [
            "27498it [06:48, 70.30it/s]"
          ]
        },
        {
          "output_type": "stream",
          "name": "stdout",
          "text": [
            "| epoch   8 | 27500/32580 batches | loss    0.966 \n",
            "money: taxes, goods, buying, millions, payment, prices, compensation, funds, gift, payments\n",
            "lion: sands, swan, bearded, saguinus, goat, eagle, alder, serpent, crab, skull\n",
            "africa: korea, borneo, albania, mozambique, eurasia, macedonia, morocco, yemen, africans, americas\n",
            "musician: singer, guitarist, pianist, drummer, comedian, dancer, songwriter, songwriters, bassist, rapper\n",
            "dance: dancing, jazz, blues, dances, ballroom, pop, bluegrass, swing, rap, folk\n",
            "\n",
            "\n"
          ]
        },
        {
          "output_type": "stream",
          "name": "stderr",
          "text": [
            "27996it [06:56, 73.10it/s]"
          ]
        },
        {
          "output_type": "stream",
          "name": "stdout",
          "text": [
            "| epoch   8 | 28000/32580 batches | loss    0.968 \n",
            "money: taxes, goods, buying, millions, payment, prices, compensation, funds, gift, payments\n",
            "lion: sands, swan, bearded, saguinus, goat, eagle, alder, serpent, crab, skull\n",
            "africa: korea, borneo, albania, mozambique, eurasia, macedonia, morocco, yemen, africans, americas\n",
            "musician: singer, guitarist, pianist, drummer, comedian, songwriter, dancer, songwriters, bassist, rapper\n",
            "dance: dancing, jazz, blues, dances, ballroom, pop, bluegrass, swing, rap, folk\n",
            "\n",
            "\n"
          ]
        },
        {
          "output_type": "stream",
          "name": "stderr",
          "text": [
            "28498it [07:03, 72.95it/s]"
          ]
        },
        {
          "output_type": "stream",
          "name": "stdout",
          "text": [
            "| epoch   8 | 28500/32580 batches | loss    0.966 \n",
            "money: taxes, goods, millions, buying, payment, prices, compensation, funds, gift, payments\n",
            "lion: sands, swan, bearded, saguinus, goat, eagle, alder, serpent, crab, skull\n",
            "africa: korea, borneo, albania, mozambique, eurasia, morocco, macedonia, yemen, africans, americas\n",
            "musician: singer, guitarist, pianist, drummer, comedian, songwriter, dancer, songwriters, bassist, rapper\n",
            "dance: dancing, jazz, blues, dances, ballroom, pop, bluegrass, swing, rap, techno\n",
            "\n",
            "\n"
          ]
        },
        {
          "output_type": "stream",
          "name": "stderr",
          "text": [
            "28998it [07:10, 68.53it/s]"
          ]
        },
        {
          "output_type": "stream",
          "name": "stdout",
          "text": [
            "| epoch   8 | 29000/32580 batches | loss    0.966 \n",
            "money: taxes, goods, millions, buying, payment, prices, compensation, funds, gift, payments\n",
            "lion: sands, swan, bearded, saguinus, goat, eagle, alder, serpent, crab, skull\n",
            "africa: korea, borneo, albania, mozambique, eurasia, yemen, morocco, macedonia, africans, sumatra\n",
            "musician: singer, guitarist, pianist, drummer, comedian, songwriter, dancer, songwriters, bassist, rapper\n",
            "dance: dancing, jazz, blues, dances, ballroom, pop, bluegrass, swing, rap, techno\n",
            "\n",
            "\n"
          ]
        },
        {
          "output_type": "stream",
          "name": "stderr",
          "text": [
            "29494it [07:18, 72.92it/s]"
          ]
        },
        {
          "output_type": "stream",
          "name": "stdout",
          "text": [
            "| epoch   8 | 29500/32580 batches | loss    0.971 \n",
            "money: taxes, goods, buying, millions, payment, prices, compensation, funds, gift, payments\n",
            "lion: sands, swan, bearded, saguinus, goat, eagle, alder, serpent, crab, skull\n",
            "africa: korea, borneo, albania, mozambique, eurasia, morocco, yemen, macedonia, africans, americas\n",
            "musician: singer, guitarist, pianist, drummer, comedian, songwriter, dancer, songwriters, bassist, rapper\n",
            "dance: dancing, jazz, blues, dances, ballroom, pop, bluegrass, swing, rap, techno\n",
            "\n",
            "\n"
          ]
        },
        {
          "output_type": "stream",
          "name": "stderr",
          "text": [
            "29994it [07:25, 71.18it/s]"
          ]
        },
        {
          "output_type": "stream",
          "name": "stdout",
          "text": [
            "| epoch   8 | 30000/32580 batches | loss    0.970 \n",
            "money: taxes, goods, buying, millions, payment, prices, compensation, funds, gift, payments\n",
            "lion: sands, swan, bearded, saguinus, goat, eagle, alder, serpent, crab, skull\n",
            "africa: korea, borneo, albania, mozambique, eurasia, morocco, yemen, macedonia, africans, americas\n",
            "musician: singer, guitarist, pianist, drummer, comedian, songwriter, dancer, songwriters, bassist, rapper\n",
            "dance: dancing, jazz, blues, dances, ballroom, pop, bluegrass, swing, rap, techno\n",
            "\n",
            "\n"
          ]
        },
        {
          "output_type": "stream",
          "name": "stderr",
          "text": [
            "30497it [07:32, 70.52it/s]"
          ]
        },
        {
          "output_type": "stream",
          "name": "stdout",
          "text": [
            "| epoch   8 | 30500/32580 batches | loss    0.967 \n",
            "money: taxes, goods, buying, millions, payment, prices, compensation, funds, gift, payments\n",
            "lion: sands, swan, bearded, saguinus, goat, eagle, alder, serpent, crab, skull\n",
            "africa: korea, borneo, albania, mozambique, eurasia, morocco, yemen, macedonia, africans, americas\n",
            "musician: singer, guitarist, pianist, drummer, comedian, songwriter, dancer, songwriters, bassist, rapper\n",
            "dance: dancing, jazz, blues, dances, ballroom, pop, bluegrass, swing, rap, techno\n",
            "\n",
            "\n"
          ]
        },
        {
          "output_type": "stream",
          "name": "stderr",
          "text": [
            "30998it [07:40, 68.89it/s]"
          ]
        },
        {
          "output_type": "stream",
          "name": "stdout",
          "text": [
            "| epoch   8 | 31000/32580 batches | loss    0.965 \n",
            "money: taxes, goods, buying, payment, millions, prices, compensation, funds, gift, payments\n",
            "lion: sands, swan, bearded, saguinus, goat, eagle, alder, serpent, crab, skull\n",
            "africa: korea, borneo, albania, eurasia, mozambique, yemen, macedonia, morocco, africans, americas\n",
            "musician: singer, guitarist, pianist, drummer, comedian, songwriter, dancer, songwriters, bassist, rapper\n",
            "dance: dancing, jazz, blues, dances, ballroom, pop, bluegrass, rap, swing, techno\n",
            "\n",
            "\n"
          ]
        },
        {
          "output_type": "stream",
          "name": "stderr",
          "text": [
            "31499it [07:47, 68.18it/s]"
          ]
        },
        {
          "output_type": "stream",
          "name": "stdout",
          "text": [
            "| epoch   8 | 31500/32580 batches | loss    0.969 \n",
            "money: taxes, goods, buying, payment, millions, prices, compensation, funds, gift, payments\n",
            "lion: sands, swan, bearded, saguinus, goat, eagle, alder, serpent, crab, skull\n",
            "africa: korea, borneo, albania, eurasia, mozambique, yemen, macedonia, morocco, africans, americas\n",
            "musician: singer, guitarist, pianist, drummer, comedian, songwriter, dancer, songwriters, bassist, rapper\n",
            "dance: dancing, jazz, blues, dances, ballroom, pop, bluegrass, rap, swing, techno\n",
            "\n",
            "\n"
          ]
        },
        {
          "output_type": "stream",
          "name": "stderr",
          "text": [
            "32001it [07:55, 47.26it/s]"
          ]
        },
        {
          "output_type": "stream",
          "name": "stdout",
          "text": [
            "| epoch   8 | 32000/32580 batches | loss    0.969 \n",
            "money: taxes, goods, buying, payment, millions, prices, compensation, funds, gift, payments\n",
            "lion: sands, swan, bearded, saguinus, goat, eagle, alder, serpent, crab, skull\n",
            "africa: korea, borneo, albania, eurasia, mozambique, yemen, macedonia, morocco, africans, americas\n",
            "musician: singer, guitarist, pianist, drummer, comedian, songwriter, dancer, songwriters, bassist, rapper\n",
            "dance: dancing, jazz, blues, dances, ballroom, pop, bluegrass, swing, rap, techno\n",
            "\n",
            "\n"
          ]
        },
        {
          "output_type": "stream",
          "name": "stderr",
          "text": [
            "32494it [08:01, 73.46it/s]"
          ]
        },
        {
          "output_type": "stream",
          "name": "stdout",
          "text": [
            "| epoch   8 | 32500/32580 batches | loss    0.967 \n",
            "money: taxes, goods, buying, payment, millions, prices, compensation, funds, gift, payments\n",
            "lion: sands, swan, bearded, saguinus, goat, eagle, alder, serpent, crab, skull\n",
            "africa: korea, borneo, albania, eurasia, mozambique, yemen, morocco, macedonia, africans, americas\n",
            "musician: singer, guitarist, pianist, drummer, comedian, songwriter, dancer, songwriters, bassist, rapper\n",
            "dance: dancing, jazz, blues, dances, ballroom, pop, bluegrass, swing, rap, techno\n",
            "\n",
            "\n"
          ]
        },
        {
          "output_type": "stream",
          "name": "stderr",
          "text": [
            "32580it [08:05, 67.10it/s]\n",
            "1it [00:02,  2.21s/it]"
          ]
        },
        {
          "output_type": "stream",
          "name": "stdout",
          "text": [
            "| epoch   9 |     0/32580 batches | loss    0.911 \n",
            "money: taxes, goods, buying, payment, millions, prices, compensation, funds, gift, payments\n",
            "lion: sands, swan, bearded, saguinus, goat, eagle, alder, serpent, crab, skull\n",
            "africa: korea, borneo, albania, eurasia, mozambique, yemen, morocco, macedonia, africans, americas\n",
            "musician: singer, guitarist, pianist, drummer, comedian, songwriter, dancer, songwriters, bassist, rapper\n",
            "dance: dancing, jazz, blues, dances, ballroom, pop, bluegrass, rap, swing, techno\n",
            "\n",
            "\n"
          ]
        },
        {
          "output_type": "stream",
          "name": "stderr",
          "text": [
            "494it [00:09, 72.61it/s]"
          ]
        },
        {
          "output_type": "stream",
          "name": "stdout",
          "text": [
            "| epoch   9 |   500/32580 batches | loss    0.957 \n",
            "money: taxes, goods, buying, payment, prices, millions, compensation, funds, gift, cash\n",
            "lion: sands, swan, bearded, saguinus, goat, eagle, alder, serpent, crab, skull\n",
            "africa: korea, borneo, albania, eurasia, mozambique, yemen, morocco, macedonia, africans, americas\n",
            "musician: singer, guitarist, pianist, drummer, comedian, songwriter, dancer, songwriters, bassist, rapper\n",
            "dance: dancing, jazz, blues, dances, ballroom, pop, bluegrass, rap, swing, techno\n",
            "\n",
            "\n"
          ]
        },
        {
          "output_type": "stream",
          "name": "stderr",
          "text": [
            "995it [00:17, 69.14it/s]"
          ]
        },
        {
          "output_type": "stream",
          "name": "stdout",
          "text": [
            "| epoch   9 |  1000/32580 batches | loss    0.955 \n",
            "money: taxes, goods, buying, payment, millions, prices, compensation, funds, gift, payments\n",
            "lion: sands, swan, bearded, saguinus, goat, eagle, alder, serpent, crab, skull\n",
            "africa: korea, borneo, albania, eurasia, mozambique, yemen, morocco, macedonia, africans, americas\n",
            "musician: singer, guitarist, pianist, drummer, comedian, songwriter, dancer, songwriters, bassist, rapper\n",
            "dance: dancing, jazz, blues, dances, ballroom, pop, bluegrass, rap, swing, techno\n",
            "\n",
            "\n"
          ]
        },
        {
          "output_type": "stream",
          "name": "stderr",
          "text": [
            "1495it [00:24, 68.57it/s]"
          ]
        },
        {
          "output_type": "stream",
          "name": "stdout",
          "text": [
            "| epoch   9 |  1500/32580 batches | loss    0.951 \n",
            "money: taxes, goods, buying, payment, millions, prices, compensation, funds, gift, payments\n",
            "lion: sands, swan, bearded, saguinus, eagle, goat, alder, serpent, crab, skull\n",
            "africa: korea, borneo, albania, eurasia, mozambique, yemen, morocco, macedonia, africans, americas\n",
            "musician: singer, guitarist, pianist, drummer, comedian, songwriter, dancer, songwriters, bassist, rapper\n",
            "dance: dancing, jazz, blues, dances, ballroom, pop, bluegrass, swing, rap, techno\n",
            "\n",
            "\n"
          ]
        },
        {
          "output_type": "stream",
          "name": "stderr",
          "text": [
            "2000it [00:32, 72.12it/s]"
          ]
        },
        {
          "output_type": "stream",
          "name": "stdout",
          "text": [
            "| epoch   9 |  2000/32580 batches | loss    0.956 \n",
            "money: taxes, goods, buying, payment, millions, prices, compensation, funds, gift, payments\n",
            "lion: sands, swan, bearded, saguinus, eagle, goat, alder, serpent, crab, skull\n",
            "africa: korea, borneo, albania, eurasia, mozambique, yemen, morocco, macedonia, africans, americas\n",
            "musician: singer, guitarist, pianist, drummer, comedian, songwriter, dancer, songwriters, bassist, rapper\n",
            "dance: dancing, jazz, blues, dances, ballroom, pop, bluegrass, swing, rap, techno\n",
            "\n",
            "\n"
          ]
        },
        {
          "output_type": "stream",
          "name": "stderr",
          "text": [
            "2496it [00:39, 73.84it/s]"
          ]
        },
        {
          "output_type": "stream",
          "name": "stdout",
          "text": [
            "| epoch   9 |  2500/32580 batches | loss    0.954 \n"
          ]
        },
        {
          "output_type": "stream",
          "name": "stderr",
          "text": [
            "2511it [00:39, 47.85it/s]"
          ]
        },
        {
          "output_type": "stream",
          "name": "stdout",
          "text": [
            "money: taxes, goods, buying, payment, millions, prices, compensation, funds, gift, payments\n",
            "lion: sands, swan, bearded, saguinus, eagle, goat, alder, serpent, crab, skull\n",
            "africa: korea, borneo, albania, eurasia, mozambique, yemen, morocco, macedonia, africans, americas\n",
            "musician: singer, guitarist, pianist, drummer, comedian, songwriter, dancer, songwriters, bassist, rapper\n",
            "dance: dancing, jazz, blues, dances, ballroom, pop, bluegrass, swing, rap, techno\n",
            "\n",
            "\n"
          ]
        },
        {
          "output_type": "stream",
          "name": "stderr",
          "text": [
            "2995it [00:46, 68.57it/s]"
          ]
        },
        {
          "output_type": "stream",
          "name": "stdout",
          "text": [
            "| epoch   9 |  3000/32580 batches | loss    0.958 \n",
            "money: taxes, goods, buying, payment, millions, prices, compensation, funds, gift, payments\n",
            "lion: sands, swan, bearded, saguinus, eagle, goat, alder, serpent, crab, skull\n",
            "africa: korea, borneo, albania, mozambique, eurasia, yemen, morocco, macedonia, africans, americas\n",
            "musician: singer, guitarist, pianist, drummer, comedian, songwriter, dancer, songwriters, bassist, rapper\n",
            "dance: dancing, jazz, blues, dances, ballroom, pop, bluegrass, swing, rap, techno\n",
            "\n",
            "\n"
          ]
        },
        {
          "output_type": "stream",
          "name": "stderr",
          "text": [
            "3501it [00:54, 47.48it/s]"
          ]
        },
        {
          "output_type": "stream",
          "name": "stdout",
          "text": [
            "| epoch   9 |  3500/32580 batches | loss    0.952 \n",
            "money: taxes, goods, buying, payment, millions, prices, compensation, funds, gift, payments\n",
            "lion: sands, swan, bearded, saguinus, goat, eagle, alder, serpent, crab, skull\n",
            "africa: korea, borneo, albania, mozambique, eurasia, yemen, morocco, africans, macedonia, americas\n",
            "musician: singer, guitarist, pianist, drummer, comedian, songwriter, dancer, songwriters, bassist, rapper\n",
            "dance: dancing, jazz, blues, dances, ballroom, pop, bluegrass, swing, rap, techno\n",
            "\n",
            "\n"
          ]
        },
        {
          "output_type": "stream",
          "name": "stderr",
          "text": [
            "3995it [01:00, 72.08it/s]"
          ]
        },
        {
          "output_type": "stream",
          "name": "stdout",
          "text": [
            "| epoch   9 |  4000/32580 batches | loss    0.954 \n",
            "money: taxes, goods, buying, payment, millions, prices, compensation, funds, gift, payments\n",
            "lion: sands, bearded, swan, saguinus, goat, eagle, alder, serpent, crab, skull\n",
            "africa: korea, borneo, albania, eurasia, mozambique, yemen, morocco, africans, macedonia, americas\n",
            "musician: singer, guitarist, pianist, drummer, comedian, songwriter, dancer, songwriters, bassist, rapper\n",
            "dance: dancing, jazz, blues, dances, ballroom, pop, bluegrass, rap, swing, techno\n",
            "\n",
            "\n"
          ]
        },
        {
          "output_type": "stream",
          "name": "stderr",
          "text": [
            "4495it [01:08, 68.15it/s]"
          ]
        },
        {
          "output_type": "stream",
          "name": "stdout",
          "text": [
            "| epoch   9 |  4500/32580 batches | loss    0.957 \n",
            "money: taxes, goods, buying, payment, millions, prices, compensation, funds, gift, payments\n",
            "lion: sands, bearded, swan, saguinus, goat, eagle, alder, serpent, crab, skull\n",
            "africa: korea, borneo, albania, eurasia, mozambique, yemen, africans, morocco, macedonia, americas\n",
            "musician: singer, guitarist, pianist, drummer, comedian, songwriter, dancer, songwriters, bassist, rapper\n",
            "dance: dancing, jazz, blues, dances, ballroom, pop, bluegrass, rap, swing, techno\n",
            "\n",
            "\n"
          ]
        },
        {
          "output_type": "stream",
          "name": "stderr",
          "text": [
            "4995it [01:18, 74.01it/s]"
          ]
        },
        {
          "output_type": "stream",
          "name": "stdout",
          "text": [
            "| epoch   9 |  5000/32580 batches | loss    0.953 \n",
            "money: taxes, goods, buying, payment, millions, prices, compensation, funds, gift, payments\n",
            "lion: sands, swan, bearded, saguinus, goat, eagle, alder, serpent, crab, skull\n",
            "africa: korea, borneo, albania, eurasia, mozambique, yemen, africans, morocco, americas, macedonia\n",
            "musician: singer, guitarist, pianist, drummer, comedian, songwriter, dancer, songwriters, bassist, rapper\n",
            "dance: dancing, jazz, blues, dances, ballroom, pop, bluegrass, rap, swing, techno\n",
            "\n",
            "\n"
          ]
        },
        {
          "output_type": "stream",
          "name": "stderr",
          "text": [
            "5501it [01:26, 44.18it/s]"
          ]
        },
        {
          "output_type": "stream",
          "name": "stdout",
          "text": [
            "| epoch   9 |  5500/32580 batches | loss    0.958 \n",
            "money: taxes, goods, buying, payment, millions, prices, compensation, funds, gift, payments\n",
            "lion: sands, swan, bearded, saguinus, goat, eagle, alder, serpent, crab, skull\n",
            "africa: korea, borneo, albania, eurasia, mozambique, yemen, africans, morocco, macedonia, sumatra\n",
            "musician: singer, guitarist, pianist, drummer, comedian, songwriter, dancer, songwriters, bassist, rapper\n",
            "dance: dancing, jazz, blues, dances, ballroom, pop, bluegrass, swing, rap, techno\n",
            "\n",
            "\n"
          ]
        },
        {
          "output_type": "stream",
          "name": "stderr",
          "text": [
            "5995it [01:33, 70.88it/s]"
          ]
        },
        {
          "output_type": "stream",
          "name": "stdout",
          "text": [
            "| epoch   9 |  6000/32580 batches | loss    0.954 \n",
            "money: taxes, goods, buying, payment, millions, prices, compensation, funds, gift, payments\n",
            "lion: sands, swan, bearded, saguinus, eagle, goat, alder, serpent, crab, skull\n",
            "africa: korea, borneo, albania, eurasia, mozambique, yemen, africans, morocco, sumatra, macedonia\n",
            "musician: singer, guitarist, pianist, drummer, songwriter, comedian, dancer, songwriters, bassist, rapper\n",
            "dance: dancing, jazz, blues, dances, ballroom, pop, bluegrass, swing, rap, techno\n",
            "\n",
            "\n"
          ]
        },
        {
          "output_type": "stream",
          "name": "stderr",
          "text": [
            "6498it [01:40, 72.63it/s]"
          ]
        },
        {
          "output_type": "stream",
          "name": "stdout",
          "text": [
            "| epoch   9 |  6500/32580 batches | loss    0.956 \n",
            "money: taxes, goods, buying, payment, millions, prices, compensation, funds, gift, payments\n",
            "lion: sands, swan, bearded, saguinus, goat, alder, eagle, serpent, crab, skull\n",
            "africa: korea, borneo, albania, eurasia, mozambique, yemen, africans, morocco, sumatra, macedonia\n",
            "musician: singer, guitarist, pianist, drummer, songwriter, comedian, dancer, songwriters, bassist, rapper\n",
            "dance: dancing, jazz, blues, dances, ballroom, pop, bluegrass, swing, rap, techno\n",
            "\n",
            "\n"
          ]
        },
        {
          "output_type": "stream",
          "name": "stderr",
          "text": [
            "6998it [01:48, 66.76it/s]"
          ]
        },
        {
          "output_type": "stream",
          "name": "stdout",
          "text": [
            "| epoch   9 |  7000/32580 batches | loss    0.955 \n",
            "money: taxes, goods, buying, payment, millions, prices, compensation, funds, gift, payments\n",
            "lion: sands, bearded, swan, saguinus, goat, alder, eagle, serpent, crab, skull\n",
            "africa: korea, borneo, albania, eurasia, mozambique, yemen, africans, morocco, macedonia, sumatra\n",
            "musician: singer, guitarist, pianist, drummer, comedian, songwriter, dancer, songwriters, bassist, rapper\n",
            "dance: dancing, jazz, blues, dances, ballroom, pop, bluegrass, swing, rap, techno\n",
            "\n",
            "\n"
          ]
        },
        {
          "output_type": "stream",
          "name": "stderr",
          "text": [
            "7494it [01:55, 72.40it/s]"
          ]
        },
        {
          "output_type": "stream",
          "name": "stdout",
          "text": [
            "| epoch   9 |  7500/32580 batches | loss    0.957 \n",
            "money: taxes, goods, buying, payment, millions, prices, compensation, funds, gift, payments\n",
            "lion: sands, bearded, swan, saguinus, alder, goat, eagle, serpent, crab, skull\n",
            "africa: korea, borneo, albania, eurasia, mozambique, yemen, africans, morocco, macedonia, sumatra\n",
            "musician: singer, guitarist, pianist, drummer, comedian, songwriter, dancer, songwriters, bassist, singers\n",
            "dance: dancing, jazz, blues, dances, ballroom, pop, bluegrass, swing, rap, techno\n",
            "\n",
            "\n"
          ]
        },
        {
          "output_type": "stream",
          "name": "stderr",
          "text": [
            "7997it [02:02, 68.33it/s]"
          ]
        },
        {
          "output_type": "stream",
          "name": "stdout",
          "text": [
            "| epoch   9 |  8000/32580 batches | loss    0.955 \n",
            "money: taxes, goods, buying, payment, millions, prices, compensation, funds, gift, payments\n",
            "lion: sands, swan, bearded, saguinus, goat, alder, eagle, serpent, crab, skull\n",
            "africa: korea, borneo, albania, eurasia, mozambique, yemen, africans, morocco, macedonia, sumatra\n",
            "musician: singer, guitarist, pianist, drummer, comedian, songwriter, dancer, songwriters, bassist, rapper\n",
            "dance: dancing, jazz, blues, dances, ballroom, pop, bluegrass, swing, rap, techno\n",
            "\n",
            "\n"
          ]
        },
        {
          "output_type": "stream",
          "name": "stderr",
          "text": [
            "8495it [02:10, 71.65it/s]"
          ]
        },
        {
          "output_type": "stream",
          "name": "stdout",
          "text": [
            "| epoch   9 |  8500/32580 batches | loss    0.954 \n",
            "money: taxes, goods, buying, payment, millions, prices, compensation, funds, gift, payments\n",
            "lion: sands, bearded, swan, saguinus, goat, alder, eagle, serpent, crab, skull\n",
            "africa: korea, borneo, albania, mozambique, eurasia, yemen, africans, morocco, macedonia, sumatra\n",
            "musician: singer, guitarist, pianist, drummer, comedian, songwriter, dancer, songwriters, bassist, rapper\n",
            "dance: dancing, jazz, blues, dances, ballroom, pop, bluegrass, swing, rap, techno\n",
            "\n",
            "\n"
          ]
        },
        {
          "output_type": "stream",
          "name": "stderr",
          "text": [
            "8997it [02:17, 73.68it/s]"
          ]
        },
        {
          "output_type": "stream",
          "name": "stdout",
          "text": [
            "| epoch   9 |  9000/32580 batches | loss    0.958 \n",
            "money: taxes, goods, buying, payment, millions, prices, compensation, funds, gift, payments\n",
            "lion: sands, swan, bearded, saguinus, goat, alder, eagle, serpent, crab, skull\n",
            "africa: korea, borneo, albania, mozambique, eurasia, yemen, africans, morocco, macedonia, sumatra\n",
            "musician: singer, guitarist, pianist, drummer, comedian, songwriter, dancer, songwriters, bassist, rapper\n",
            "dance: dancing, jazz, blues, dances, ballroom, pop, bluegrass, swing, rap, techno\n",
            "\n",
            "\n"
          ]
        },
        {
          "output_type": "stream",
          "name": "stderr",
          "text": [
            "9494it [02:24, 70.69it/s]"
          ]
        },
        {
          "output_type": "stream",
          "name": "stdout",
          "text": [
            "| epoch   9 |  9500/32580 batches | loss    0.958 \n",
            "money: taxes, goods, buying, payment, millions, prices, compensation, funds, gift, payments\n",
            "lion: sands, swan, bearded, saguinus, goat, alder, eagle, serpent, crab, skull\n",
            "africa: korea, borneo, albania, mozambique, eurasia, yemen, africans, macedonia, morocco, sumatra\n",
            "musician: singer, guitarist, pianist, drummer, comedian, songwriter, dancer, songwriters, bassist, rapper\n",
            "dance: dancing, jazz, blues, dances, ballroom, pop, swing, bluegrass, rap, techno\n",
            "\n",
            "\n"
          ]
        },
        {
          "output_type": "stream",
          "name": "stderr",
          "text": [
            "9997it [02:32, 74.02it/s]"
          ]
        },
        {
          "output_type": "stream",
          "name": "stdout",
          "text": [
            "| epoch   9 | 10000/32580 batches | loss    0.953 \n",
            "money: taxes, goods, payment, buying, millions, prices, compensation, funds, gift, payments\n",
            "lion: sands, bearded, swan, saguinus, goat, alder, eagle, serpent, crab, skull\n",
            "africa: korea, borneo, albania, mozambique, eurasia, yemen, africans, macedonia, morocco, sumatra\n",
            "musician: singer, guitarist, pianist, drummer, comedian, songwriter, dancer, songwriters, bassist, rapper\n",
            "dance: dancing, jazz, blues, dances, ballroom, pop, swing, bluegrass, rap, techno\n",
            "\n",
            "\n"
          ]
        },
        {
          "output_type": "stream",
          "name": "stderr",
          "text": [
            "10499it [02:39, 73.39it/s]"
          ]
        },
        {
          "output_type": "stream",
          "name": "stdout",
          "text": [
            "| epoch   9 | 10500/32580 batches | loss    0.955 \n",
            "money: taxes, goods, payment, buying, millions, prices, compensation, funds, gift, payments\n",
            "lion: sands, swan, bearded, saguinus, goat, alder, eagle, serpent, crab, skull\n",
            "africa: korea, borneo, albania, mozambique, eurasia, yemen, africans, morocco, sumatra, macedonia\n",
            "musician: singer, guitarist, pianist, drummer, comedian, songwriter, dancer, songwriters, bassist, rapper\n",
            "dance: dancing, jazz, blues, dances, ballroom, pop, swing, bluegrass, rap, techno\n",
            "\n",
            "\n"
          ]
        },
        {
          "output_type": "stream",
          "name": "stderr",
          "text": [
            "11001it [02:46, 43.22it/s]"
          ]
        },
        {
          "output_type": "stream",
          "name": "stdout",
          "text": [
            "| epoch   9 | 11000/32580 batches | loss    0.958 \n",
            "money: taxes, goods, payment, buying, millions, prices, compensation, funds, gift, payments\n",
            "lion: sands, bearded, swan, saguinus, goat, alder, eagle, serpent, crab, skull\n",
            "africa: korea, borneo, albania, mozambique, eurasia, yemen, africans, morocco, macedonia, sumatra\n",
            "musician: singer, guitarist, pianist, drummer, comedian, songwriter, dancer, songwriters, bassist, rapper\n",
            "dance: dancing, jazz, blues, dances, ballroom, pop, swing, bluegrass, rap, techno\n",
            "\n",
            "\n"
          ]
        },
        {
          "output_type": "stream",
          "name": "stderr",
          "text": [
            "11498it [02:53, 73.15it/s]"
          ]
        },
        {
          "output_type": "stream",
          "name": "stdout",
          "text": [
            "| epoch   9 | 11500/32580 batches | loss    0.958 \n",
            "money: taxes, goods, payment, buying, millions, prices, compensation, funds, gift, payments\n",
            "lion: sands, bearded, swan, saguinus, goat, alder, eagle, serpent, crab, skull\n",
            "africa: korea, borneo, albania, mozambique, eurasia, yemen, africans, morocco, macedonia, sumatra\n",
            "musician: singer, guitarist, pianist, drummer, comedian, songwriter, dancer, songwriters, bassist, rapper\n",
            "dance: dancing, jazz, blues, dances, ballroom, pop, swing, bluegrass, rap, techno\n",
            "\n",
            "\n"
          ]
        },
        {
          "output_type": "stream",
          "name": "stderr",
          "text": [
            "12000it [03:01, 67.62it/s]"
          ]
        },
        {
          "output_type": "stream",
          "name": "stdout",
          "text": [
            "| epoch   9 | 12000/32580 batches | loss    0.956 \n",
            "money: taxes, goods, buying, payment, prices, millions, compensation, funds, gift, payments\n",
            "lion: sands, bearded, swan, saguinus, goat, alder, eagle, serpent, crab, skull\n",
            "africa: korea, borneo, albania, mozambique, eurasia, yemen, africans, morocco, macedonia, sumatra\n",
            "musician: singer, guitarist, pianist, drummer, comedian, songwriter, dancer, songwriters, bassist, rapper\n",
            "dance: dancing, jazz, blues, dances, ballroom, pop, swing, bluegrass, rap, techno\n",
            "\n",
            "\n"
          ]
        },
        {
          "output_type": "stream",
          "name": "stderr",
          "text": [
            "12495it [03:08, 69.38it/s]"
          ]
        },
        {
          "output_type": "stream",
          "name": "stdout",
          "text": [
            "| epoch   9 | 12500/32580 batches | loss    0.957 \n",
            "money: taxes, goods, buying, payment, prices, millions, compensation, funds, gift, payments\n",
            "lion: sands, bearded, swan, saguinus, goat, alder, serpent, eagle, crab, skull\n",
            "africa: korea, borneo, albania, mozambique, eurasia, yemen, morocco, africans, sumatra, macedonia\n",
            "musician: singer, guitarist, pianist, drummer, comedian, songwriter, dancer, songwriters, bassist, rapper\n",
            "dance: dancing, jazz, blues, dances, ballroom, pop, swing, bluegrass, rap, techno\n",
            "\n",
            "\n"
          ]
        },
        {
          "output_type": "stream",
          "name": "stderr",
          "text": [
            "13000it [03:15, 72.40it/s]"
          ]
        },
        {
          "output_type": "stream",
          "name": "stdout",
          "text": [
            "| epoch   9 | 13000/32580 batches | loss    0.958 \n",
            "money: taxes, goods, buying, payment, millions, prices, compensation, funds, gift, payments\n",
            "lion: sands, bearded, swan, saguinus, goat, alder, serpent, eagle, crab, skull\n",
            "africa: korea, borneo, albania, mozambique, eurasia, yemen, africans, morocco, sumatra, macedonia\n",
            "musician: singer, guitarist, pianist, drummer, comedian, songwriter, dancer, songwriters, bassist, rapper\n",
            "dance: dancing, jazz, blues, dances, ballroom, pop, swing, bluegrass, rap, techno\n",
            "\n",
            "\n"
          ]
        },
        {
          "output_type": "stream",
          "name": "stderr",
          "text": [
            "13501it [03:23, 43.57it/s]"
          ]
        },
        {
          "output_type": "stream",
          "name": "stdout",
          "text": [
            "| epoch   9 | 13500/32580 batches | loss    0.956 \n",
            "money: taxes, goods, buying, payment, prices, millions, compensation, funds, gift, payments\n",
            "lion: sands, swan, bearded, saguinus, goat, alder, serpent, eagle, crab, skull\n",
            "africa: korea, borneo, albania, mozambique, eurasia, yemen, africans, sumatra, morocco, americas\n",
            "musician: singer, guitarist, pianist, drummer, comedian, songwriter, dancer, songwriters, bassist, rapper\n",
            "dance: dancing, jazz, blues, dances, ballroom, pop, swing, bluegrass, rap, techno\n",
            "\n",
            "\n"
          ]
        },
        {
          "output_type": "stream",
          "name": "stderr",
          "text": [
            "13995it [03:30, 69.22it/s]"
          ]
        },
        {
          "output_type": "stream",
          "name": "stdout",
          "text": [
            "| epoch   9 | 14000/32580 batches | loss    0.957 \n",
            "money: taxes, goods, buying, payment, millions, prices, compensation, funds, gift, payments\n",
            "lion: sands, bearded, swan, saguinus, goat, alder, serpent, eagle, crab, skull\n",
            "africa: korea, borneo, albania, mozambique, eurasia, yemen, sumatra, africans, morocco, americas\n",
            "musician: singer, guitarist, pianist, drummer, comedian, songwriter, dancer, songwriters, bassist, rapper\n",
            "dance: dancing, jazz, blues, dances, ballroom, pop, swing, bluegrass, rap, techno\n",
            "\n",
            "\n"
          ]
        },
        {
          "output_type": "stream",
          "name": "stderr",
          "text": [
            "14495it [03:37, 73.20it/s]"
          ]
        },
        {
          "output_type": "stream",
          "name": "stdout",
          "text": [
            "| epoch   9 | 14500/32580 batches | loss    0.959 \n",
            "money: taxes, goods, payment, buying, millions, prices, compensation, funds, gift, payments\n",
            "lion: sands, bearded, swan, saguinus, goat, alder, serpent, eagle, crab, skull\n",
            "africa: korea, borneo, albania, mozambique, eurasia, yemen, sumatra, africans, morocco, americas\n",
            "musician: singer, guitarist, pianist, drummer, comedian, songwriter, dancer, songwriters, bassist, rapper\n",
            "dance: dancing, jazz, blues, dances, ballroom, pop, swing, bluegrass, rap, techno\n",
            "\n",
            "\n"
          ]
        },
        {
          "output_type": "stream",
          "name": "stderr",
          "text": [
            "14999it [03:45, 69.87it/s]"
          ]
        },
        {
          "output_type": "stream",
          "name": "stdout",
          "text": [
            "| epoch   9 | 15000/32580 batches | loss    0.959 \n",
            "money: taxes, goods, buying, payment, prices, millions, compensation, funds, gift, payments\n",
            "lion: sands, bearded, swan, saguinus, goat, alder, serpent, crab, eagle, skull\n",
            "africa: korea, borneo, albania, mozambique, eurasia, yemen, sumatra, morocco, americas, africans\n",
            "musician: singer, guitarist, pianist, drummer, comedian, songwriter, dancer, songwriters, bassist, rapper\n",
            "dance: dancing, jazz, blues, dances, ballroom, pop, swing, bluegrass, rap, techno\n",
            "\n",
            "\n"
          ]
        },
        {
          "output_type": "stream",
          "name": "stderr",
          "text": [
            "15498it [03:52, 71.92it/s]"
          ]
        },
        {
          "output_type": "stream",
          "name": "stdout",
          "text": [
            "| epoch   9 | 15500/32580 batches | loss    0.955 \n",
            "money: taxes, goods, buying, payment, prices, millions, compensation, funds, gift, payments\n",
            "lion: sands, bearded, swan, saguinus, goat, alder, serpent, eagle, crab, skull\n",
            "africa: korea, borneo, albania, mozambique, eurasia, yemen, sumatra, africans, americas, morocco\n",
            "musician: singer, guitarist, pianist, drummer, comedian, songwriter, dancer, songwriters, bassist, singers\n",
            "dance: dancing, jazz, blues, dances, ballroom, pop, bluegrass, swing, rap, techno\n",
            "\n",
            "\n"
          ]
        },
        {
          "output_type": "stream",
          "name": "stderr",
          "text": [
            "16001it [03:59, 48.04it/s]"
          ]
        },
        {
          "output_type": "stream",
          "name": "stdout",
          "text": [
            "| epoch   9 | 16000/32580 batches | loss    0.960 \n",
            "money: taxes, goods, buying, payment, millions, prices, compensation, funds, gift, payments\n",
            "lion: sands, bearded, swan, saguinus, goat, alder, serpent, eagle, crab, skull\n",
            "africa: korea, borneo, albania, mozambique, eurasia, yemen, sumatra, africans, americas, morocco\n",
            "musician: singer, guitarist, pianist, drummer, comedian, songwriter, dancer, songwriters, bassist, singers\n",
            "dance: dancing, jazz, blues, dances, ballroom, pop, bluegrass, swing, rap, techno\n",
            "\n",
            "\n"
          ]
        },
        {
          "output_type": "stream",
          "name": "stderr",
          "text": [
            "16501it [04:07, 46.47it/s]"
          ]
        },
        {
          "output_type": "stream",
          "name": "stdout",
          "text": [
            "| epoch   9 | 16500/32580 batches | loss    0.957 \n",
            "money: taxes, goods, buying, payment, prices, millions, compensation, funds, gift, payments\n",
            "lion: sands, bearded, swan, saguinus, goat, alder, serpent, crab, eagle, skull\n",
            "africa: korea, borneo, albania, mozambique, eurasia, yemen, sumatra, africans, americas, morocco\n",
            "musician: singer, guitarist, pianist, drummer, comedian, songwriter, dancer, songwriters, bassist, singers\n",
            "dance: dancing, jazz, blues, dances, ballroom, pop, bluegrass, swing, rap, techno\n",
            "\n",
            "\n"
          ]
        },
        {
          "output_type": "stream",
          "name": "stderr",
          "text": [
            "16995it [04:14, 73.05it/s]"
          ]
        },
        {
          "output_type": "stream",
          "name": "stdout",
          "text": [
            "| epoch   9 | 17000/32580 batches | loss    0.955 \n",
            "money: taxes, goods, buying, payment, millions, prices, compensation, funds, gift, payments\n",
            "lion: sands, bearded, swan, saguinus, goat, alder, crab, serpent, eagle, skull\n",
            "africa: korea, borneo, albania, mozambique, eurasia, yemen, sumatra, africans, americas, morocco\n",
            "musician: singer, guitarist, pianist, drummer, comedian, songwriter, dancer, songwriters, bassist, rapper\n",
            "dance: dancing, jazz, blues, dances, ballroom, pop, bluegrass, swing, rap, techno\n",
            "\n",
            "\n"
          ]
        },
        {
          "output_type": "stream",
          "name": "stderr",
          "text": [
            "17497it [04:21, 69.41it/s]"
          ]
        },
        {
          "output_type": "stream",
          "name": "stdout",
          "text": [
            "| epoch   9 | 17500/32580 batches | loss    0.956 \n",
            "money: goods, taxes, buying, payment, millions, prices, compensation, funds, gift, payments\n",
            "lion: sands, bearded, swan, saguinus, goat, alder, crab, eagle, serpent, skull\n",
            "africa: korea, borneo, albania, mozambique, eurasia, yemen, africans, sumatra, americas, morocco\n",
            "musician: singer, guitarist, pianist, drummer, comedian, songwriter, dancer, songwriters, bassist, rapper\n",
            "dance: dancing, jazz, blues, dances, ballroom, pop, bluegrass, swing, rap, techno\n",
            "\n",
            "\n"
          ]
        },
        {
          "output_type": "stream",
          "name": "stderr",
          "text": [
            "18001it [04:29, 42.68it/s]"
          ]
        },
        {
          "output_type": "stream",
          "name": "stdout",
          "text": [
            "| epoch   9 | 18000/32580 batches | loss    0.960 \n",
            "money: goods, taxes, payment, buying, millions, prices, compensation, funds, gift, payments\n",
            "lion: sands, bearded, swan, saguinus, goat, alder, crab, eagle, serpent, skull\n",
            "africa: korea, borneo, albania, mozambique, eurasia, yemen, sumatra, africans, americas, morocco\n",
            "musician: singer, guitarist, pianist, drummer, comedian, songwriter, dancer, songwriters, bassist, rapper\n",
            "dance: dancing, jazz, blues, dances, ballroom, pop, swing, bluegrass, rap, techno\n",
            "\n",
            "\n"
          ]
        },
        {
          "output_type": "stream",
          "name": "stderr",
          "text": [
            "18499it [04:36, 72.72it/s]"
          ]
        },
        {
          "output_type": "stream",
          "name": "stdout",
          "text": [
            "| epoch   9 | 18500/32580 batches | loss    0.956 \n",
            "money: taxes, goods, payment, buying, prices, millions, funds, compensation, gift, payments\n",
            "lion: sands, bearded, swan, saguinus, goat, alder, eagle, crab, serpent, skull\n",
            "africa: korea, borneo, albania, mozambique, eurasia, yemen, sumatra, africans, americas, morocco\n",
            "musician: singer, guitarist, pianist, drummer, comedian, songwriter, dancer, songwriters, bassist, singers\n",
            "dance: dancing, jazz, blues, dances, ballroom, pop, swing, bluegrass, rap, techno\n",
            "\n",
            "\n"
          ]
        },
        {
          "output_type": "stream",
          "name": "stderr",
          "text": [
            "18995it [04:43, 70.82it/s]"
          ]
        },
        {
          "output_type": "stream",
          "name": "stdout",
          "text": [
            "| epoch   9 | 19000/32580 batches | loss    0.951 \n",
            "money: taxes, goods, buying, payment, prices, millions, compensation, funds, gift, payments\n",
            "lion: sands, bearded, swan, saguinus, goat, alder, eagle, crab, serpent, skull\n",
            "africa: korea, borneo, albania, mozambique, eurasia, yemen, sumatra, africans, americas, morocco\n",
            "musician: singer, guitarist, pianist, drummer, comedian, songwriter, dancer, songwriters, bassist, singers\n",
            "dance: dancing, jazz, blues, dances, ballroom, pop, bluegrass, swing, rap, techno\n",
            "\n",
            "\n"
          ]
        },
        {
          "output_type": "stream",
          "name": "stderr",
          "text": [
            "19498it [04:50, 70.54it/s]"
          ]
        },
        {
          "output_type": "stream",
          "name": "stdout",
          "text": [
            "| epoch   9 | 19500/32580 batches | loss    0.958 \n",
            "money: taxes, goods, buying, payment, prices, millions, compensation, funds, gift, payments\n",
            "lion: sands, bearded, swan, saguinus, goat, alder, eagle, crab, serpent, skull\n",
            "africa: korea, borneo, albania, mozambique, eurasia, yemen, africans, sumatra, morocco, americas\n",
            "musician: singer, guitarist, pianist, drummer, comedian, songwriter, dancer, songwriters, bassist, singers\n",
            "dance: dancing, jazz, blues, dances, ballroom, pop, bluegrass, swing, rap, techno\n",
            "\n",
            "\n"
          ]
        },
        {
          "output_type": "stream",
          "name": "stderr",
          "text": [
            "20001it [04:58, 47.85it/s]"
          ]
        },
        {
          "output_type": "stream",
          "name": "stdout",
          "text": [
            "| epoch   9 | 20000/32580 batches | loss    0.957 \n",
            "money: taxes, goods, buying, payment, prices, millions, compensation, funds, gift, payments\n",
            "lion: sands, bearded, swan, saguinus, goat, alder, eagle, crab, serpent, skull\n",
            "africa: korea, borneo, albania, mozambique, eurasia, yemen, sumatra, africans, morocco, americas\n",
            "musician: singer, guitarist, pianist, drummer, comedian, songwriter, dancer, songwriters, bassist, singers\n",
            "dance: dancing, jazz, blues, dances, ballroom, pop, bluegrass, swing, rap, techno\n",
            "\n",
            "\n"
          ]
        },
        {
          "output_type": "stream",
          "name": "stderr",
          "text": [
            "20495it [05:05, 69.26it/s]"
          ]
        },
        {
          "output_type": "stream",
          "name": "stdout",
          "text": [
            "| epoch   9 | 20500/32580 batches | loss    0.957 \n",
            "money: goods, taxes, buying, payment, prices, millions, compensation, funds, gift, payments\n",
            "lion: sands, bearded, swan, saguinus, goat, alder, eagle, crab, serpent, skull\n",
            "africa: korea, borneo, albania, mozambique, eurasia, yemen, sumatra, africans, morocco, americas\n",
            "musician: singer, guitarist, pianist, drummer, comedian, songwriter, dancer, songwriters, bassist, singers\n",
            "dance: dancing, jazz, blues, dances, ballroom, pop, bluegrass, swing, rap, techno\n",
            "\n",
            "\n"
          ]
        },
        {
          "output_type": "stream",
          "name": "stderr",
          "text": [
            "20994it [05:12, 71.99it/s]"
          ]
        },
        {
          "output_type": "stream",
          "name": "stdout",
          "text": [
            "| epoch   9 | 21000/32580 batches | loss    0.960 \n",
            "money: goods, taxes, payment, buying, prices, millions, funds, compensation, gift, payments\n",
            "lion: sands, bearded, swan, saguinus, goat, eagle, alder, crab, serpent, skull\n",
            "africa: korea, borneo, albania, mozambique, eurasia, yemen, sumatra, morocco, americas, africans\n",
            "musician: singer, guitarist, pianist, drummer, comedian, songwriter, dancer, songwriters, bassist, singers\n",
            "dance: dancing, jazz, blues, dances, ballroom, pop, bluegrass, swing, rap, techno\n",
            "\n",
            "\n"
          ]
        },
        {
          "output_type": "stream",
          "name": "stderr",
          "text": [
            "21495it [05:19, 72.38it/s]"
          ]
        },
        {
          "output_type": "stream",
          "name": "stdout",
          "text": [
            "| epoch   9 | 21500/32580 batches | loss    0.957 \n",
            "money: taxes, goods, payment, buying, prices, millions, funds, compensation, gift, payments\n",
            "lion: sands, bearded, swan, saguinus, goat, eagle, alder, crab, serpent, skull\n",
            "africa: korea, borneo, albania, mozambique, eurasia, yemen, sumatra, morocco, africans, americas\n",
            "musician: singer, guitarist, pianist, drummer, comedian, songwriter, dancer, songwriters, bassist, singers\n",
            "dance: dancing, jazz, blues, dances, ballroom, pop, bluegrass, swing, rap, techno\n",
            "\n",
            "\n"
          ]
        },
        {
          "output_type": "stream",
          "name": "stderr",
          "text": [
            "21995it [05:27, 69.26it/s]"
          ]
        },
        {
          "output_type": "stream",
          "name": "stdout",
          "text": [
            "| epoch   9 | 22000/32580 batches | loss    0.954 \n",
            "money: goods, taxes, payment, prices, buying, millions, funds, compensation, gift, payments\n",
            "lion: sands, bearded, swan, saguinus, goat, alder, eagle, crab, serpent, skull\n",
            "africa: korea, borneo, albania, mozambique, eurasia, yemen, sumatra, africans, morocco, americas\n",
            "musician: singer, guitarist, pianist, drummer, comedian, songwriter, dancer, songwriters, bassist, singers\n",
            "dance: dancing, jazz, blues, dances, ballroom, pop, bluegrass, swing, rap, techno\n",
            "\n",
            "\n"
          ]
        },
        {
          "output_type": "stream",
          "name": "stderr",
          "text": [
            "22495it [05:34, 73.66it/s]"
          ]
        },
        {
          "output_type": "stream",
          "name": "stdout",
          "text": [
            "| epoch   9 | 22500/32580 batches | loss    0.954 \n",
            "money: goods, taxes, payment, buying, prices, millions, funds, compensation, gift, payments\n",
            "lion: sands, bearded, swan, saguinus, goat, alder, eagle, crab, serpent, skull\n",
            "africa: korea, borneo, albania, mozambique, eurasia, yemen, africans, sumatra, americas, morocco\n",
            "musician: singer, guitarist, pianist, drummer, comedian, songwriter, dancer, songwriters, bassist, singers\n",
            "dance: dancing, jazz, blues, dances, ballroom, pop, bluegrass, swing, rap, techno\n",
            "\n",
            "\n"
          ]
        },
        {
          "output_type": "stream",
          "name": "stderr",
          "text": [
            "22997it [05:41, 72.60it/s]"
          ]
        },
        {
          "output_type": "stream",
          "name": "stdout",
          "text": [
            "| epoch   9 | 23000/32580 batches | loss    0.961 \n",
            "money: goods, taxes, payment, buying, prices, millions, compensation, funds, gift, payments\n",
            "lion: sands, bearded, swan, saguinus, goat, alder, crab, eagle, serpent, skull\n",
            "africa: korea, borneo, albania, mozambique, eurasia, yemen, africans, americas, sumatra, morocco\n",
            "musician: singer, guitarist, pianist, drummer, comedian, songwriter, dancer, songwriters, bassist, singers\n",
            "dance: dancing, jazz, blues, dances, ballroom, pop, bluegrass, swing, rap, techno\n",
            "\n",
            "\n"
          ]
        },
        {
          "output_type": "stream",
          "name": "stderr",
          "text": [
            "23496it [05:49, 65.47it/s]"
          ]
        },
        {
          "output_type": "stream",
          "name": "stdout",
          "text": [
            "| epoch   9 | 23500/32580 batches | loss    0.957 \n"
          ]
        },
        {
          "output_type": "stream",
          "name": "stderr",
          "text": [
            "23510it [05:49, 42.95it/s]"
          ]
        },
        {
          "output_type": "stream",
          "name": "stdout",
          "text": [
            "money: goods, taxes, prices, payment, buying, millions, compensation, funds, gift, cash\n",
            "lion: sands, bearded, swan, saguinus, goat, alder, crab, eagle, serpent, skull\n",
            "africa: korea, borneo, albania, mozambique, eurasia, yemen, africans, sumatra, americas, morocco\n",
            "musician: singer, guitarist, pianist, drummer, comedian, songwriter, dancer, songwriters, bassist, singers\n",
            "dance: dancing, jazz, blues, dances, ballroom, pop, bluegrass, swing, rap, techno\n",
            "\n",
            "\n"
          ]
        },
        {
          "output_type": "stream",
          "name": "stderr",
          "text": [
            "24000it [05:56, 72.30it/s]"
          ]
        },
        {
          "output_type": "stream",
          "name": "stdout",
          "text": [
            "| epoch   9 | 24000/32580 batches | loss    0.957 \n",
            "money: goods, taxes, prices, payment, buying, millions, compensation, funds, gift, cash\n",
            "lion: sands, bearded, swan, saguinus, goat, crab, alder, eagle, serpent, skull\n",
            "africa: korea, borneo, albania, mozambique, eurasia, yemen, africans, americas, sumatra, morocco\n",
            "musician: singer, guitarist, pianist, drummer, comedian, songwriter, dancer, songwriters, bassist, singers\n",
            "dance: dancing, jazz, blues, dances, ballroom, pop, bluegrass, swing, rap, techno\n",
            "\n",
            "\n"
          ]
        },
        {
          "output_type": "stream",
          "name": "stderr",
          "text": [
            "24496it [06:03, 72.67it/s]"
          ]
        },
        {
          "output_type": "stream",
          "name": "stdout",
          "text": [
            "| epoch   9 | 24500/32580 batches | loss    0.953 \n",
            "money: goods, taxes, prices, payment, buying, millions, compensation, funds, gift, cash\n",
            "lion: sands, bearded, swan, saguinus, goat, alder, crab, eagle, serpent, skull\n",
            "africa: korea, borneo, albania, mozambique, eurasia, yemen, sumatra, africans, americas, morocco\n",
            "musician: singer, guitarist, pianist, drummer, comedian, songwriter, dancer, songwriters, bassist, rapper\n",
            "dance: dancing, jazz, blues, dances, ballroom, pop, bluegrass, swing, rap, techno\n",
            "\n",
            "\n"
          ]
        },
        {
          "output_type": "stream",
          "name": "stderr",
          "text": [
            "25000it [06:11, 66.27it/s]"
          ]
        },
        {
          "output_type": "stream",
          "name": "stdout",
          "text": [
            "| epoch   9 | 25000/32580 batches | loss    0.956 \n",
            "money: goods, taxes, prices, buying, payment, millions, compensation, funds, gift, cash\n",
            "lion: sands, bearded, swan, saguinus, goat, crab, alder, serpent, eagle, calf\n",
            "africa: korea, borneo, albania, mozambique, eurasia, yemen, sumatra, morocco, africans, americas\n",
            "musician: singer, guitarist, pianist, drummer, comedian, songwriter, dancer, songwriters, bassist, rapper\n",
            "dance: dancing, jazz, blues, dances, ballroom, pop, bluegrass, swing, rap, techno\n",
            "\n",
            "\n"
          ]
        },
        {
          "output_type": "stream",
          "name": "stderr",
          "text": [
            "25499it [06:18, 73.95it/s]"
          ]
        },
        {
          "output_type": "stream",
          "name": "stdout",
          "text": [
            "| epoch   9 | 25500/32580 batches | loss    0.957 \n",
            "money: goods, taxes, buying, prices, payment, millions, compensation, funds, gift, cash\n",
            "lion: sands, bearded, swan, saguinus, goat, alder, crab, serpent, eagle, calf\n",
            "africa: korea, borneo, albania, mozambique, eurasia, yemen, sumatra, morocco, africans, americas\n",
            "musician: singer, guitarist, pianist, drummer, comedian, songwriter, dancer, songwriters, bassist, singers\n",
            "dance: dancing, jazz, blues, dances, ballroom, pop, bluegrass, swing, rap, techno\n",
            "\n",
            "\n"
          ]
        },
        {
          "output_type": "stream",
          "name": "stderr",
          "text": [
            "26000it [06:25, 68.54it/s]"
          ]
        },
        {
          "output_type": "stream",
          "name": "stdout",
          "text": [
            "| epoch   9 | 26000/32580 batches | loss    0.956 \n",
            "money: goods, taxes, buying, prices, payment, millions, compensation, funds, gift, cash\n",
            "lion: sands, bearded, swan, saguinus, goat, crab, eagle, alder, serpent, calf\n",
            "africa: korea, borneo, albania, mozambique, eurasia, yemen, morocco, sumatra, africans, macedonia\n",
            "musician: singer, guitarist, pianist, drummer, comedian, songwriter, dancer, songwriters, bassist, rapper\n",
            "dance: dancing, jazz, blues, dances, ballroom, pop, bluegrass, swing, rap, techno\n",
            "\n",
            "\n"
          ]
        },
        {
          "output_type": "stream",
          "name": "stderr",
          "text": [
            "26497it [06:33, 66.79it/s]"
          ]
        },
        {
          "output_type": "stream",
          "name": "stdout",
          "text": [
            "| epoch   9 | 26500/32580 batches | loss    0.961 \n",
            "money: goods, taxes, buying, prices, payment, millions, compensation, funds, gift, cash\n",
            "lion: sands, bearded, saguinus, swan, goat, crab, alder, eagle, serpent, calf\n",
            "africa: korea, borneo, albania, mozambique, eurasia, yemen, sumatra, africans, morocco, macedonia\n",
            "musician: singer, guitarist, pianist, drummer, comedian, songwriter, dancer, songwriters, bassist, rapper\n",
            "dance: dancing, jazz, blues, dances, ballroom, pop, bluegrass, swing, rap, techno\n",
            "\n",
            "\n"
          ]
        },
        {
          "output_type": "stream",
          "name": "stderr",
          "text": [
            "26999it [06:40, 73.74it/s]"
          ]
        },
        {
          "output_type": "stream",
          "name": "stdout",
          "text": [
            "| epoch   9 | 27000/32580 batches | loss    0.954 \n",
            "money: goods, taxes, buying, prices, payment, millions, compensation, funds, gift, cash\n",
            "lion: sands, bearded, saguinus, swan, goat, eagle, alder, crab, serpent, calf\n",
            "africa: korea, borneo, albania, mozambique, eurasia, yemen, sumatra, morocco, africans, americas\n",
            "musician: singer, guitarist, pianist, drummer, comedian, songwriter, dancer, songwriters, bassist, rapper\n",
            "dance: dancing, jazz, blues, dances, ballroom, pop, bluegrass, swing, rap, techno\n",
            "\n",
            "\n"
          ]
        },
        {
          "output_type": "stream",
          "name": "stderr",
          "text": [
            "27499it [06:47, 69.29it/s]"
          ]
        },
        {
          "output_type": "stream",
          "name": "stdout",
          "text": [
            "| epoch   9 | 27500/32580 batches | loss    0.961 \n",
            "money: goods, taxes, buying, prices, payment, millions, compensation, funds, gift, cash\n",
            "lion: sands, bearded, saguinus, swan, goat, crab, eagle, alder, serpent, calf\n",
            "africa: korea, borneo, albania, eurasia, mozambique, yemen, sumatra, morocco, americas, africans\n",
            "musician: singer, guitarist, pianist, drummer, comedian, songwriter, dancer, songwriters, bassist, rapper\n",
            "dance: dancing, jazz, blues, dances, ballroom, pop, bluegrass, swing, rap, techno\n",
            "\n",
            "\n"
          ]
        },
        {
          "output_type": "stream",
          "name": "stderr",
          "text": [
            "27999it [06:55, 72.53it/s]"
          ]
        },
        {
          "output_type": "stream",
          "name": "stdout",
          "text": [
            "| epoch   9 | 28000/32580 batches | loss    0.960 \n",
            "money: goods, taxes, buying, prices, payment, millions, funds, compensation, gift, cash\n",
            "lion: sands, bearded, saguinus, swan, goat, crab, eagle, alder, serpent, calf\n",
            "africa: korea, borneo, albania, mozambique, eurasia, yemen, morocco, sumatra, americas, africans\n",
            "musician: singer, guitarist, pianist, drummer, comedian, songwriter, dancer, songwriters, bassist, rapper\n",
            "dance: dancing, jazz, blues, dances, ballroom, pop, bluegrass, swing, rap, techno\n",
            "\n",
            "\n"
          ]
        },
        {
          "output_type": "stream",
          "name": "stderr",
          "text": [
            "28501it [07:06, 43.12it/s]"
          ]
        },
        {
          "output_type": "stream",
          "name": "stdout",
          "text": [
            "| epoch   9 | 28500/32580 batches | loss    0.962 \n",
            "money: goods, taxes, buying, prices, payment, millions, funds, compensation, gift, cash\n",
            "lion: sands, bearded, saguinus, swan, goat, alder, crab, eagle, serpent, calf\n",
            "africa: korea, borneo, albania, mozambique, eurasia, yemen, morocco, americas, sumatra, africans\n",
            "musician: singer, guitarist, pianist, drummer, comedian, songwriter, dancer, songwriters, bassist, rapper\n",
            "dance: dancing, jazz, blues, dances, ballroom, pop, bluegrass, swing, rap, techno\n",
            "\n",
            "\n"
          ]
        },
        {
          "output_type": "stream",
          "name": "stderr",
          "text": [
            "28995it [07:13, 68.87it/s]"
          ]
        },
        {
          "output_type": "stream",
          "name": "stdout",
          "text": [
            "| epoch   9 | 29000/32580 batches | loss    0.957 \n",
            "money: goods, taxes, buying, prices, payment, millions, funds, compensation, gift, cash\n",
            "lion: sands, bearded, saguinus, swan, goat, crab, eagle, alder, serpent, calf\n",
            "africa: korea, borneo, albania, mozambique, eurasia, yemen, morocco, sumatra, africans, americas\n",
            "musician: singer, guitarist, pianist, drummer, comedian, songwriter, dancer, songwriters, bassist, rapper\n",
            "dance: dancing, jazz, blues, dances, ballroom, pop, bluegrass, swing, rap, techno\n",
            "\n",
            "\n"
          ]
        },
        {
          "output_type": "stream",
          "name": "stderr",
          "text": [
            "29495it [07:20, 73.15it/s]"
          ]
        },
        {
          "output_type": "stream",
          "name": "stdout",
          "text": [
            "| epoch   9 | 29500/32580 batches | loss    0.959 \n",
            "money: goods, taxes, buying, prices, payment, millions, funds, compensation, gift, cash\n",
            "lion: sands, bearded, saguinus, swan, goat, crab, eagle, alder, serpent, calf\n",
            "africa: korea, borneo, albania, mozambique, eurasia, yemen, morocco, sumatra, americas, africans\n",
            "musician: singer, guitarist, pianist, drummer, comedian, songwriter, dancer, songwriters, bassist, rapper\n",
            "dance: dancing, jazz, blues, dances, ballroom, pop, bluegrass, swing, rap, techno\n",
            "\n",
            "\n"
          ]
        },
        {
          "output_type": "stream",
          "name": "stderr",
          "text": [
            "30001it [07:28, 46.14it/s]"
          ]
        },
        {
          "output_type": "stream",
          "name": "stdout",
          "text": [
            "| epoch   9 | 30000/32580 batches | loss    0.958 \n",
            "money: goods, taxes, buying, prices, payment, millions, funds, compensation, gift, cash\n",
            "lion: sands, bearded, saguinus, swan, goat, crab, eagle, serpent, alder, calf\n",
            "africa: korea, borneo, albania, mozambique, eurasia, yemen, morocco, africans, sumatra, americas\n",
            "musician: singer, guitarist, pianist, drummer, comedian, songwriter, dancer, songwriters, bassist, rapper\n",
            "dance: dancing, jazz, blues, dances, ballroom, pop, bluegrass, swing, rap, techno\n",
            "\n",
            "\n"
          ]
        },
        {
          "output_type": "stream",
          "name": "stderr",
          "text": [
            "30498it [07:35, 73.19it/s]"
          ]
        },
        {
          "output_type": "stream",
          "name": "stdout",
          "text": [
            "| epoch   9 | 30500/32580 batches | loss    0.958 \n",
            "money: goods, taxes, buying, prices, payment, millions, funds, compensation, gift, cash\n",
            "lion: sands, bearded, saguinus, swan, goat, crab, eagle, serpent, alder, calf\n",
            "africa: korea, borneo, albania, mozambique, eurasia, yemen, morocco, africans, sumatra, americas\n",
            "musician: singer, guitarist, pianist, drummer, comedian, songwriter, dancer, songwriters, bassist, rapper\n",
            "dance: dancing, jazz, blues, dances, ballroom, pop, bluegrass, rap, swing, techno\n",
            "\n",
            "\n"
          ]
        },
        {
          "output_type": "stream",
          "name": "stderr",
          "text": [
            "31000it [07:42, 72.45it/s]"
          ]
        },
        {
          "output_type": "stream",
          "name": "stdout",
          "text": [
            "| epoch   9 | 31000/32580 batches | loss    0.960 \n",
            "money: goods, taxes, buying, payment, prices, millions, funds, compensation, gift, cash\n",
            "lion: sands, bearded, saguinus, swan, crab, goat, eagle, serpent, alder, calf\n",
            "africa: korea, borneo, albania, mozambique, eurasia, yemen, morocco, africans, americas, sumatra\n",
            "musician: singer, guitarist, pianist, drummer, comedian, songwriter, dancer, songwriters, bassist, rapper\n",
            "dance: dancing, jazz, blues, dances, ballroom, pop, bluegrass, rap, swing, techno\n",
            "\n",
            "\n"
          ]
        },
        {
          "output_type": "stream",
          "name": "stderr",
          "text": [
            "31499it [07:49, 67.84it/s]"
          ]
        },
        {
          "output_type": "stream",
          "name": "stdout",
          "text": [
            "| epoch   9 | 31500/32580 batches | loss    0.960 \n",
            "money: goods, taxes, buying, payment, prices, millions, funds, compensation, gift, cash\n",
            "lion: sands, bearded, saguinus, swan, crab, goat, eagle, serpent, alder, calf\n",
            "africa: korea, borneo, albania, mozambique, eurasia, yemen, morocco, africans, americas, macedonia\n",
            "musician: singer, guitarist, pianist, drummer, comedian, songwriter, dancer, songwriters, bassist, rapper\n",
            "dance: dancing, jazz, blues, dances, ballroom, pop, bluegrass, rap, swing, techno\n",
            "\n",
            "\n"
          ]
        },
        {
          "output_type": "stream",
          "name": "stderr",
          "text": [
            "32000it [07:56, 73.48it/s]"
          ]
        },
        {
          "output_type": "stream",
          "name": "stdout",
          "text": [
            "| epoch   9 | 32000/32580 batches | loss    0.956 \n",
            "money: goods, taxes, payment, prices, buying, millions, funds, compensation, gift, cash\n",
            "lion: sands, bearded, saguinus, swan, crab, goat, eagle, alder, serpent, calf\n",
            "africa: korea, borneo, albania, mozambique, eurasia, yemen, morocco, africans, macedonia, americas\n",
            "musician: singer, guitarist, pianist, drummer, comedian, songwriter, dancer, songwriters, bassist, singers\n",
            "dance: dancing, jazz, blues, dances, ballroom, pop, bluegrass, rap, swing, techno\n",
            "\n",
            "\n"
          ]
        },
        {
          "output_type": "stream",
          "name": "stderr",
          "text": [
            "32496it [08:03, 71.85it/s]"
          ]
        },
        {
          "output_type": "stream",
          "name": "stdout",
          "text": [
            "| epoch   9 | 32500/32580 batches | loss    0.961 \n",
            "money: goods, taxes, payment, prices, buying, millions, funds, compensation, gift, cash\n",
            "lion: sands, bearded, saguinus, swan, crab, goat, eagle, alder, serpent, calf\n",
            "africa: korea, borneo, albania, mozambique, eurasia, yemen, morocco, africans, americas, macedonia\n",
            "musician: singer, guitarist, pianist, drummer, comedian, songwriter, dancer, songwriters, bassist, singers\n",
            "dance: dancing, jazz, blues, dances, ballroom, pop, bluegrass, rap, swing, techno\n",
            "\n",
            "\n"
          ]
        },
        {
          "output_type": "stream",
          "name": "stderr",
          "text": [
            "32580it [08:07, 66.79it/s]\n",
            "0it [00:00, ?it/s]"
          ]
        },
        {
          "output_type": "stream",
          "name": "stdout",
          "text": [
            "| epoch  10 |     0/32580 batches | loss    0.877 \n"
          ]
        },
        {
          "output_type": "stream",
          "name": "stderr",
          "text": [
            "\r1it [00:02,  2.17s/it]"
          ]
        },
        {
          "output_type": "stream",
          "name": "stdout",
          "text": [
            "money: goods, taxes, payment, prices, buying, millions, funds, compensation, gift, cash\n",
            "lion: sands, bearded, saguinus, swan, crab, goat, eagle, alder, serpent, calf\n",
            "africa: korea, borneo, albania, mozambique, eurasia, yemen, morocco, americas, africans, macedonia\n",
            "musician: singer, guitarist, pianist, drummer, comedian, songwriter, dancer, songwriters, bassist, singers\n",
            "dance: dancing, jazz, blues, dances, ballroom, pop, bluegrass, rap, swing, techno\n",
            "\n",
            "\n"
          ]
        },
        {
          "output_type": "stream",
          "name": "stderr",
          "text": [
            "494it [00:09, 73.44it/s]"
          ]
        },
        {
          "output_type": "stream",
          "name": "stdout",
          "text": [
            "| epoch  10 |   500/32580 batches | loss    0.942 \n",
            "money: goods, taxes, payment, buying, prices, millions, funds, compensation, gift, cash\n",
            "lion: sands, bearded, saguinus, swan, crab, goat, eagle, alder, serpent, calf\n",
            "africa: korea, borneo, albania, mozambique, eurasia, yemen, morocco, americas, africans, macedonia\n",
            "musician: singer, guitarist, pianist, drummer, comedian, songwriter, dancer, songwriters, bassist, singers\n",
            "dance: dancing, jazz, blues, dances, ballroom, pop, bluegrass, rap, swing, techno\n",
            "\n",
            "\n"
          ]
        },
        {
          "output_type": "stream",
          "name": "stderr",
          "text": [
            "996it [00:16, 72.22it/s]"
          ]
        },
        {
          "output_type": "stream",
          "name": "stdout",
          "text": [
            "| epoch  10 |  1000/32580 batches | loss    0.946 \n",
            "money: goods, taxes, payment, buying, prices, millions, funds, compensation, gift, cash\n",
            "lion: sands, bearded, saguinus, swan, crab, goat, eagle, alder, serpent, calf\n",
            "africa: korea, borneo, albania, mozambique, eurasia, yemen, morocco, americas, africans, macedonia\n",
            "musician: singer, guitarist, pianist, drummer, comedian, songwriter, dancer, songwriters, bassist, rapper\n",
            "dance: dancing, jazz, blues, dances, ballroom, pop, bluegrass, rap, swing, techno\n",
            "\n",
            "\n"
          ]
        },
        {
          "output_type": "stream",
          "name": "stderr",
          "text": [
            "1496it [00:23, 68.36it/s]"
          ]
        },
        {
          "output_type": "stream",
          "name": "stdout",
          "text": [
            "| epoch  10 |  1500/32580 batches | loss    0.944 \n",
            "money: goods, taxes, payment, buying, prices, millions, funds, compensation, gift, cash\n",
            "lion: sands, bearded, saguinus, swan, crab, goat, eagle, serpent, alder, calf\n",
            "africa: korea, borneo, albania, mozambique, eurasia, yemen, morocco, americas, africans, macedonia\n",
            "musician: singer, guitarist, pianist, drummer, comedian, songwriter, dancer, songwriters, bassist, rapper\n",
            "dance: dancing, jazz, blues, dances, ballroom, pop, bluegrass, rap, swing, techno\n",
            "\n",
            "\n"
          ]
        },
        {
          "output_type": "stream",
          "name": "stderr",
          "text": [
            "2000it [00:31, 66.95it/s]"
          ]
        },
        {
          "output_type": "stream",
          "name": "stdout",
          "text": [
            "| epoch  10 |  2000/32580 batches | loss    0.945 \n",
            "money: goods, taxes, payment, prices, buying, millions, funds, compensation, gift, cash\n",
            "lion: sands, bearded, saguinus, swan, crab, goat, eagle, alder, serpent, calf\n",
            "africa: korea, borneo, albania, mozambique, eurasia, yemen, morocco, americas, africans, macedonia\n",
            "musician: singer, guitarist, pianist, drummer, comedian, songwriter, dancer, songwriters, bassist, singers\n",
            "dance: dancing, jazz, blues, dances, ballroom, pop, bluegrass, rap, swing, techno\n",
            "\n",
            "\n"
          ]
        },
        {
          "output_type": "stream",
          "name": "stderr",
          "text": [
            "2497it [00:38, 67.58it/s]"
          ]
        },
        {
          "output_type": "stream",
          "name": "stdout",
          "text": [
            "| epoch  10 |  2500/32580 batches | loss    0.946 \n",
            "money: goods, taxes, payment, prices, buying, millions, funds, compensation, gift, cash\n",
            "lion: sands, bearded, saguinus, swan, crab, goat, eagle, alder, serpent, calf\n",
            "africa: korea, borneo, albania, mozambique, eurasia, yemen, morocco, americas, africans, macedonia\n",
            "musician: singer, guitarist, pianist, drummer, comedian, songwriter, dancer, songwriters, bassist, singers\n",
            "dance: dancing, jazz, blues, dances, ballroom, pop, bluegrass, rap, swing, techno\n",
            "\n",
            "\n"
          ]
        },
        {
          "output_type": "stream",
          "name": "stderr",
          "text": [
            "2994it [00:46, 70.51it/s]"
          ]
        },
        {
          "output_type": "stream",
          "name": "stdout",
          "text": [
            "| epoch  10 |  3000/32580 batches | loss    0.941 \n",
            "money: goods, taxes, payment, buying, prices, millions, funds, compensation, gift, cash\n",
            "lion: sands, bearded, saguinus, swan, crab, goat, eagle, alder, serpent, calf\n",
            "africa: korea, borneo, albania, mozambique, eurasia, yemen, morocco, americas, africans, macedonia\n",
            "musician: singer, guitarist, pianist, drummer, comedian, songwriter, dancer, songwriters, bassist, singers\n",
            "dance: dancing, jazz, blues, dances, ballroom, pop, bluegrass, rap, swing, techno\n",
            "\n",
            "\n"
          ]
        },
        {
          "output_type": "stream",
          "name": "stderr",
          "text": [
            "3501it [00:53, 46.71it/s]"
          ]
        },
        {
          "output_type": "stream",
          "name": "stdout",
          "text": [
            "| epoch  10 |  3500/32580 batches | loss    0.949 \n",
            "money: goods, taxes, payment, buying, prices, millions, funds, compensation, gift, cash\n",
            "lion: sands, bearded, saguinus, swan, crab, goat, eagle, alder, serpent, calf\n",
            "africa: korea, borneo, albania, mozambique, eurasia, yemen, morocco, americas, africans, macedonia\n",
            "musician: singer, guitarist, pianist, drummer, comedian, songwriter, dancer, songwriters, bassist, singers\n",
            "dance: dancing, jazz, blues, dances, ballroom, pop, bluegrass, rap, swing, techno\n",
            "\n",
            "\n"
          ]
        },
        {
          "output_type": "stream",
          "name": "stderr",
          "text": [
            "4000it [01:00, 68.83it/s]"
          ]
        },
        {
          "output_type": "stream",
          "name": "stdout",
          "text": [
            "| epoch  10 |  4000/32580 batches | loss    0.945 \n",
            "money: goods, taxes, payment, prices, buying, millions, funds, compensation, gift, cash\n",
            "lion: sands, bearded, saguinus, swan, crab, goat, eagle, alder, serpent, calf\n",
            "africa: korea, borneo, albania, eurasia, mozambique, yemen, morocco, americas, africans, sumatra\n",
            "musician: singer, guitarist, pianist, drummer, comedian, songwriter, dancer, songwriters, bassist, singers\n",
            "dance: dancing, jazz, blues, dances, ballroom, pop, bluegrass, rap, swing, techno\n",
            "\n",
            "\n"
          ]
        },
        {
          "output_type": "stream",
          "name": "stderr",
          "text": [
            "4496it [01:08, 72.86it/s]"
          ]
        },
        {
          "output_type": "stream",
          "name": "stdout",
          "text": [
            "| epoch  10 |  4500/32580 batches | loss    0.943 \n",
            "money: goods, taxes, payment, buying, prices, millions, funds, compensation, gift, cash\n",
            "lion: sands, bearded, saguinus, swan, crab, goat, eagle, serpent, alder, calf\n",
            "africa: korea, borneo, albania, eurasia, mozambique, yemen, morocco, americas, africans, sumatra\n",
            "musician: singer, guitarist, pianist, drummer, comedian, songwriter, dancer, songwriters, bassist, singers\n",
            "dance: dancing, jazz, blues, dances, ballroom, pop, bluegrass, rap, swing, techno\n",
            "\n",
            "\n"
          ]
        },
        {
          "output_type": "stream",
          "name": "stderr",
          "text": [
            "4999it [01:15, 71.76it/s]"
          ]
        },
        {
          "output_type": "stream",
          "name": "stdout",
          "text": [
            "| epoch  10 |  5000/32580 batches | loss    0.942 \n",
            "money: goods, taxes, payment, prices, buying, millions, funds, compensation, gift, cash\n",
            "lion: sands, bearded, saguinus, swan, crab, goat, eagle, serpent, alder, calf\n",
            "africa: korea, borneo, albania, eurasia, mozambique, yemen, morocco, americas, africans, sumatra\n",
            "musician: singer, guitarist, pianist, drummer, comedian, songwriter, dancer, songwriters, bassist, singers\n",
            "dance: dancing, jazz, blues, dances, ballroom, pop, bluegrass, rap, swing, techno\n",
            "\n",
            "\n"
          ]
        },
        {
          "output_type": "stream",
          "name": "stderr",
          "text": [
            "5501it [01:23, 43.76it/s]"
          ]
        },
        {
          "output_type": "stream",
          "name": "stdout",
          "text": [
            "| epoch  10 |  5500/32580 batches | loss    0.944 \n",
            "money: goods, taxes, payment, prices, buying, millions, funds, compensation, gift, cash\n",
            "lion: sands, bearded, saguinus, swan, crab, goat, eagle, alder, serpent, calf\n",
            "africa: korea, borneo, albania, mozambique, eurasia, yemen, morocco, americas, africans, sumatra\n",
            "musician: singer, guitarist, pianist, drummer, comedian, songwriter, dancer, songwriters, bassist, singers\n",
            "dance: dancing, jazz, blues, dances, ballroom, pop, bluegrass, rap, swing, techno\n",
            "\n",
            "\n"
          ]
        },
        {
          "output_type": "stream",
          "name": "stderr",
          "text": [
            "5995it [01:30, 73.13it/s]"
          ]
        },
        {
          "output_type": "stream",
          "name": "stdout",
          "text": [
            "| epoch  10 |  6000/32580 batches | loss    0.943 \n",
            "money: goods, taxes, payment, buying, prices, millions, funds, compensation, gift, cash\n",
            "lion: sands, bearded, saguinus, swan, crab, goat, eagle, alder, serpent, calf\n",
            "africa: korea, borneo, albania, eurasia, mozambique, yemen, morocco, americas, africans, sumatra\n",
            "musician: singer, guitarist, pianist, drummer, comedian, songwriter, dancer, songwriters, bassist, singers\n",
            "dance: dancing, jazz, blues, dances, ballroom, pop, bluegrass, rap, swing, techno\n",
            "\n",
            "\n"
          ]
        },
        {
          "output_type": "stream",
          "name": "stderr",
          "text": [
            "6497it [01:37, 73.09it/s]"
          ]
        },
        {
          "output_type": "stream",
          "name": "stdout",
          "text": [
            "| epoch  10 |  6500/32580 batches | loss    0.946 \n",
            "money: goods, taxes, payment, prices, buying, millions, funds, compensation, gift, cash\n",
            "lion: sands, bearded, saguinus, swan, crab, goat, eagle, serpent, alder, calf\n",
            "africa: korea, borneo, albania, eurasia, mozambique, yemen, morocco, americas, africans, sumatra\n",
            "musician: singer, guitarist, pianist, drummer, comedian, songwriter, dancer, songwriters, bassist, singers\n",
            "dance: dancing, jazz, blues, dances, ballroom, pop, bluegrass, rap, swing, techno\n",
            "\n",
            "\n"
          ]
        },
        {
          "output_type": "stream",
          "name": "stderr",
          "text": [
            "6995it [01:44, 68.46it/s]"
          ]
        },
        {
          "output_type": "stream",
          "name": "stdout",
          "text": [
            "| epoch  10 |  7000/32580 batches | loss    0.944 \n",
            "money: goods, taxes, payment, buying, prices, millions, funds, compensation, gift, cash\n",
            "lion: sands, bearded, saguinus, swan, crab, goat, eagle, alder, serpent, calf\n",
            "africa: korea, borneo, albania, eurasia, mozambique, yemen, morocco, americas, africans, sumatra\n",
            "musician: singer, guitarist, pianist, drummer, comedian, songwriter, dancer, songwriters, bassist, singers\n",
            "dance: dancing, jazz, blues, dances, ballroom, pop, bluegrass, rap, swing, techno\n",
            "\n",
            "\n"
          ]
        },
        {
          "output_type": "stream",
          "name": "stderr",
          "text": [
            "7499it [01:52, 71.17it/s]"
          ]
        },
        {
          "output_type": "stream",
          "name": "stdout",
          "text": [
            "| epoch  10 |  7500/32580 batches | loss    0.944 \n",
            "money: goods, taxes, payment, buying, prices, millions, funds, compensation, gift, cash\n",
            "lion: sands, bearded, saguinus, swan, crab, goat, eagle, alder, serpent, calf\n",
            "africa: korea, borneo, albania, eurasia, mozambique, yemen, morocco, americas, africans, sumatra\n",
            "musician: singer, guitarist, pianist, drummer, comedian, songwriter, dancer, songwriters, bassist, singers\n",
            "dance: dancing, jazz, blues, dances, ballroom, pop, bluegrass, rap, swing, techno\n",
            "\n",
            "\n"
          ]
        },
        {
          "output_type": "stream",
          "name": "stderr",
          "text": [
            "8000it [01:59, 66.72it/s]"
          ]
        },
        {
          "output_type": "stream",
          "name": "stdout",
          "text": [
            "| epoch  10 |  8000/32580 batches | loss    0.947 \n"
          ]
        },
        {
          "output_type": "stream",
          "name": "stderr",
          "text": [
            "\r8007it [01:59, 38.10it/s]"
          ]
        },
        {
          "output_type": "stream",
          "name": "stdout",
          "text": [
            "money: goods, taxes, payment, buying, prices, millions, funds, compensation, gift, cash\n",
            "lion: sands, bearded, saguinus, swan, crab, goat, eagle, alder, serpent, calf\n",
            "africa: korea, borneo, albania, eurasia, mozambique, yemen, morocco, americas, africans, sumatra\n",
            "musician: singer, guitarist, pianist, drummer, comedian, songwriter, dancer, songwriters, bassist, singers\n",
            "dance: dancing, jazz, blues, dances, ballroom, pop, bluegrass, rap, swing, techno\n",
            "\n",
            "\n"
          ]
        },
        {
          "output_type": "stream",
          "name": "stderr",
          "text": [
            "8496it [02:06, 70.49it/s]"
          ]
        },
        {
          "output_type": "stream",
          "name": "stdout",
          "text": [
            "| epoch  10 |  8500/32580 batches | loss    0.943 \n",
            "money: goods, taxes, payment, buying, prices, millions, funds, compensation, gift, cash\n",
            "lion: sands, bearded, saguinus, swan, crab, goat, eagle, alder, serpent, calf\n",
            "africa: korea, borneo, albania, eurasia, mozambique, yemen, morocco, americas, africans, sumatra\n",
            "musician: singer, guitarist, pianist, drummer, comedian, songwriter, dancer, songwriters, bassist, singers\n",
            "dance: dancing, jazz, blues, dances, ballroom, pop, bluegrass, rap, swing, techno\n",
            "\n",
            "\n"
          ]
        },
        {
          "output_type": "stream",
          "name": "stderr",
          "text": [
            "9000it [02:14, 73.17it/s]"
          ]
        },
        {
          "output_type": "stream",
          "name": "stdout",
          "text": [
            "| epoch  10 |  9000/32580 batches | loss    0.942 \n",
            "money: goods, taxes, payment, prices, buying, millions, funds, compensation, gift, cash\n",
            "lion: sands, bearded, saguinus, swan, crab, goat, eagle, alder, serpent, calf\n",
            "africa: korea, borneo, albania, mozambique, eurasia, yemen, morocco, americas, africans, sumatra\n",
            "musician: singer, guitarist, pianist, drummer, comedian, songwriter, dancer, songwriters, bassist, singers\n",
            "dance: dancing, jazz, blues, dances, ballroom, pop, bluegrass, rap, swing, techno\n",
            "\n",
            "\n"
          ]
        },
        {
          "output_type": "stream",
          "name": "stderr",
          "text": [
            "9497it [02:21, 69.82it/s]"
          ]
        },
        {
          "output_type": "stream",
          "name": "stdout",
          "text": [
            "| epoch  10 |  9500/32580 batches | loss    0.943 \n"
          ]
        },
        {
          "output_type": "stream",
          "name": "stderr",
          "text": [
            "\r9504it [02:21, 38.80it/s]"
          ]
        },
        {
          "output_type": "stream",
          "name": "stdout",
          "text": [
            "money: goods, taxes, payment, prices, buying, millions, funds, compensation, gift, cash\n",
            "lion: sands, bearded, saguinus, swan, crab, goat, eagle, alder, serpent, calf\n",
            "africa: korea, borneo, albania, mozambique, eurasia, yemen, morocco, americas, africans, macedonia\n",
            "musician: singer, guitarist, pianist, drummer, comedian, songwriter, dancer, songwriters, bassist, singers\n",
            "dance: dancing, jazz, blues, dances, ballroom, pop, bluegrass, rap, swing, techno\n",
            "\n",
            "\n"
          ]
        },
        {
          "output_type": "stream",
          "name": "stderr",
          "text": [
            "9995it [02:28, 71.24it/s]"
          ]
        },
        {
          "output_type": "stream",
          "name": "stdout",
          "text": [
            "| epoch  10 | 10000/32580 batches | loss    0.941 \n",
            "money: goods, taxes, payment, prices, buying, millions, funds, compensation, gift, cash\n",
            "lion: sands, bearded, saguinus, swan, crab, goat, eagle, alder, serpent, calf\n",
            "africa: korea, borneo, albania, eurasia, mozambique, yemen, morocco, americas, africans, sumatra\n",
            "musician: singer, guitarist, pianist, drummer, comedian, songwriter, dancer, songwriters, bassist, singers\n",
            "dance: dancing, jazz, blues, dances, ballroom, pop, bluegrass, rap, swing, techno\n",
            "\n",
            "\n"
          ]
        },
        {
          "output_type": "stream",
          "name": "stderr",
          "text": [
            "10497it [02:35, 73.62it/s]"
          ]
        },
        {
          "output_type": "stream",
          "name": "stdout",
          "text": [
            "| epoch  10 | 10500/32580 batches | loss    0.950 \n",
            "money: goods, taxes, payment, prices, buying, millions, funds, compensation, gift, cash\n",
            "lion: sands, bearded, saguinus, swan, crab, goat, eagle, alder, serpent, calf\n",
            "africa: korea, borneo, albania, eurasia, mozambique, yemen, morocco, americas, africans, sumatra\n",
            "musician: singer, guitarist, pianist, drummer, comedian, songwriter, dancer, songwriters, bassist, singers\n",
            "dance: dancing, jazz, blues, dances, ballroom, pop, bluegrass, rap, swing, techno\n",
            "\n",
            "\n"
          ]
        },
        {
          "output_type": "stream",
          "name": "stderr",
          "text": [
            "10995it [02:43, 71.72it/s]"
          ]
        },
        {
          "output_type": "stream",
          "name": "stdout",
          "text": [
            "| epoch  10 | 11000/32580 batches | loss    0.944 \n",
            "money: goods, taxes, payment, prices, buying, millions, funds, compensation, gift, cash\n",
            "lion: sands, bearded, saguinus, swan, crab, goat, eagle, alder, serpent, calf\n",
            "africa: korea, borneo, albania, eurasia, mozambique, yemen, morocco, americas, africans, sumatra\n",
            "musician: singer, guitarist, pianist, drummer, comedian, songwriter, dancer, songwriters, bassist, singers\n",
            "dance: dancing, jazz, blues, dances, ballroom, pop, bluegrass, rap, swing, techno\n",
            "\n",
            "\n"
          ]
        },
        {
          "output_type": "stream",
          "name": "stderr",
          "text": [
            "11499it [02:50, 71.97it/s]"
          ]
        },
        {
          "output_type": "stream",
          "name": "stdout",
          "text": [
            "| epoch  10 | 11500/32580 batches | loss    0.946 \n",
            "money: goods, taxes, payment, prices, buying, millions, funds, compensation, gift, cash\n",
            "lion: sands, bearded, saguinus, swan, crab, goat, eagle, alder, serpent, calf\n",
            "africa: korea, borneo, albania, eurasia, mozambique, yemen, morocco, americas, africans, sumatra\n",
            "musician: singer, guitarist, pianist, drummer, comedian, songwriter, dancer, songwriters, bassist, singers\n",
            "dance: dancing, jazz, blues, dances, ballroom, pop, bluegrass, rap, swing, techno\n",
            "\n",
            "\n"
          ]
        },
        {
          "output_type": "stream",
          "name": "stderr",
          "text": [
            "11995it [02:57, 73.54it/s]"
          ]
        },
        {
          "output_type": "stream",
          "name": "stdout",
          "text": [
            "| epoch  10 | 12000/32580 batches | loss    0.945 \n",
            "money: goods, taxes, payment, prices, buying, millions, funds, compensation, gift, cash\n",
            "lion: sands, bearded, saguinus, swan, crab, goat, eagle, alder, serpent, calf\n",
            "africa: korea, borneo, albania, eurasia, mozambique, yemen, morocco, americas, africans, sumatra\n",
            "musician: singer, guitarist, pianist, drummer, comedian, songwriter, dancer, songwriters, bassist, singers\n",
            "dance: dancing, jazz, blues, dances, ballroom, pop, bluegrass, rap, swing, techno\n",
            "\n",
            "\n"
          ]
        },
        {
          "output_type": "stream",
          "name": "stderr",
          "text": [
            "12499it [03:04, 69.29it/s]"
          ]
        },
        {
          "output_type": "stream",
          "name": "stdout",
          "text": [
            "| epoch  10 | 12500/32580 batches | loss    0.943 \n",
            "money: goods, taxes, payment, prices, buying, millions, funds, compensation, gift, cash\n",
            "lion: sands, bearded, saguinus, swan, crab, goat, eagle, alder, serpent, calf\n",
            "africa: korea, borneo, albania, eurasia, mozambique, yemen, morocco, americas, africans, sumatra\n",
            "musician: singer, guitarist, pianist, drummer, comedian, songwriter, dancer, songwriters, bassist, singers\n",
            "dance: dancing, jazz, blues, dances, ballroom, pop, bluegrass, rap, swing, techno\n",
            "\n",
            "\n"
          ]
        },
        {
          "output_type": "stream",
          "name": "stderr",
          "text": [
            "13000it [03:12, 69.14it/s]"
          ]
        },
        {
          "output_type": "stream",
          "name": "stdout",
          "text": [
            "| epoch  10 | 13000/32580 batches | loss    0.943 \n",
            "money: goods, taxes, payment, buying, prices, millions, funds, compensation, gift, cash\n",
            "lion: sands, bearded, saguinus, swan, crab, goat, eagle, alder, serpent, calf\n",
            "africa: korea, borneo, albania, eurasia, mozambique, yemen, morocco, africans, americas, sumatra\n",
            "musician: singer, guitarist, pianist, drummer, comedian, songwriter, dancer, songwriters, bassist, singers\n",
            "dance: dancing, jazz, blues, dances, ballroom, pop, bluegrass, rap, swing, techno\n",
            "\n",
            "\n"
          ]
        },
        {
          "output_type": "stream",
          "name": "stderr",
          "text": [
            "13496it [03:19, 66.57it/s]"
          ]
        },
        {
          "output_type": "stream",
          "name": "stdout",
          "text": [
            "| epoch  10 | 13500/32580 batches | loss    0.945 \n",
            "money: goods, taxes, payment, buying, prices, millions, funds, compensation, gift, cash\n",
            "lion: sands, bearded, saguinus, swan, crab, goat, eagle, alder, serpent, calf\n",
            "africa: korea, borneo, albania, eurasia, mozambique, yemen, morocco, americas, africans, sumatra\n",
            "musician: singer, guitarist, pianist, drummer, comedian, songwriter, dancer, songwriters, bassist, singers\n",
            "dance: dancing, jazz, blues, dances, ballroom, pop, bluegrass, rap, swing, techno\n",
            "\n",
            "\n"
          ]
        },
        {
          "output_type": "stream",
          "name": "stderr",
          "text": [
            "13996it [03:27, 69.36it/s]"
          ]
        },
        {
          "output_type": "stream",
          "name": "stdout",
          "text": [
            "| epoch  10 | 14000/32580 batches | loss    0.943 \n",
            "money: goods, taxes, payment, prices, buying, millions, funds, compensation, gift, cash\n",
            "lion: sands, bearded, saguinus, crab, swan, goat, eagle, serpent, alder, calf\n",
            "africa: korea, borneo, albania, eurasia, mozambique, yemen, morocco, africans, americas, sumatra\n",
            "musician: singer, guitarist, pianist, drummer, comedian, songwriter, dancer, songwriters, bassist, singers\n",
            "dance: dancing, jazz, blues, dances, ballroom, pop, bluegrass, rap, swing, techno\n",
            "\n",
            "\n"
          ]
        },
        {
          "output_type": "stream",
          "name": "stderr",
          "text": [
            "14495it [03:34, 72.34it/s]"
          ]
        },
        {
          "output_type": "stream",
          "name": "stdout",
          "text": [
            "| epoch  10 | 14500/32580 batches | loss    0.943 \n",
            "money: goods, taxes, payment, prices, buying, millions, funds, compensation, gift, cash\n",
            "lion: sands, bearded, saguinus, crab, swan, goat, serpent, alder, eagle, calf\n",
            "africa: korea, borneo, albania, eurasia, mozambique, yemen, morocco, americas, africans, sumatra\n",
            "musician: singer, guitarist, pianist, drummer, comedian, songwriter, dancer, songwriters, bassist, singers\n",
            "dance: dancing, jazz, blues, dances, ballroom, pop, bluegrass, rap, swing, techno\n",
            "\n",
            "\n"
          ]
        },
        {
          "output_type": "stream",
          "name": "stderr",
          "text": [
            "14995it [03:41, 69.34it/s]"
          ]
        },
        {
          "output_type": "stream",
          "name": "stdout",
          "text": [
            "| epoch  10 | 15000/32580 batches | loss    0.943 \n",
            "money: goods, taxes, payment, prices, buying, millions, funds, compensation, gift, cash\n",
            "lion: sands, bearded, saguinus, crab, swan, goat, eagle, serpent, alder, calf\n",
            "africa: korea, borneo, albania, eurasia, mozambique, yemen, morocco, africans, americas, sumatra\n",
            "musician: singer, guitarist, pianist, drummer, comedian, songwriter, dancer, songwriters, bassist, singers\n",
            "dance: dancing, jazz, blues, dances, ballroom, pop, bluegrass, rap, swing, techno\n",
            "\n",
            "\n"
          ]
        },
        {
          "output_type": "stream",
          "name": "stderr",
          "text": [
            "15498it [03:49, 73.82it/s]"
          ]
        },
        {
          "output_type": "stream",
          "name": "stdout",
          "text": [
            "| epoch  10 | 15500/32580 batches | loss    0.948 \n",
            "money: goods, taxes, payment, prices, buying, millions, funds, compensation, gift, cash\n",
            "lion: sands, bearded, saguinus, crab, swan, goat, eagle, serpent, alder, calf\n",
            "africa: korea, borneo, albania, eurasia, mozambique, yemen, morocco, africans, americas, sumatra\n",
            "musician: singer, guitarist, pianist, drummer, comedian, songwriter, dancer, songwriters, bassist, singers\n",
            "dance: dancing, jazz, blues, dances, ballroom, pop, bluegrass, rap, swing, techno\n",
            "\n",
            "\n"
          ]
        },
        {
          "output_type": "stream",
          "name": "stderr",
          "text": [
            "15994it [03:56, 73.37it/s]"
          ]
        },
        {
          "output_type": "stream",
          "name": "stdout",
          "text": [
            "| epoch  10 | 16000/32580 batches | loss    0.944 \n",
            "money: goods, taxes, payment, prices, buying, millions, funds, compensation, gift, cash\n",
            "lion: sands, bearded, saguinus, crab, swan, goat, eagle, serpent, alder, calf\n",
            "africa: korea, borneo, albania, eurasia, mozambique, yemen, morocco, americas, africans, sumatra\n",
            "musician: singer, guitarist, pianist, drummer, comedian, songwriter, dancer, songwriters, bassist, singers\n",
            "dance: dancing, jazz, blues, dances, ballroom, pop, bluegrass, rap, swing, techno\n",
            "\n",
            "\n"
          ]
        },
        {
          "output_type": "stream",
          "name": "stderr",
          "text": [
            "16497it [04:03, 69.78it/s]"
          ]
        },
        {
          "output_type": "stream",
          "name": "stdout",
          "text": [
            "| epoch  10 | 16500/32580 batches | loss    0.943 \n",
            "money: goods, taxes, payment, prices, buying, millions, funds, compensation, gift, cash\n",
            "lion: sands, bearded, saguinus, crab, swan, goat, eagle, alder, serpent, calf\n",
            "africa: korea, borneo, albania, eurasia, mozambique, yemen, morocco, americas, africans, sumatra\n",
            "musician: singer, guitarist, pianist, drummer, comedian, songwriter, dancer, songwriters, bassist, singers\n",
            "dance: dancing, jazz, blues, dances, ballroom, pop, bluegrass, rap, swing, techno\n",
            "\n",
            "\n"
          ]
        },
        {
          "output_type": "stream",
          "name": "stderr",
          "text": [
            "17000it [04:11, 73.31it/s]"
          ]
        },
        {
          "output_type": "stream",
          "name": "stdout",
          "text": [
            "| epoch  10 | 17000/32580 batches | loss    0.943 \n",
            "money: goods, taxes, payment, prices, buying, millions, funds, compensation, gift, cash\n",
            "lion: sands, bearded, saguinus, crab, swan, goat, eagle, serpent, alder, calf\n",
            "africa: korea, borneo, albania, eurasia, mozambique, yemen, morocco, africans, americas, sumatra\n",
            "musician: singer, guitarist, pianist, drummer, comedian, songwriter, dancer, songwriters, bassist, singers\n",
            "dance: dancing, jazz, blues, dances, ballroom, pop, bluegrass, rap, swing, techno\n",
            "\n",
            "\n"
          ]
        },
        {
          "output_type": "stream",
          "name": "stderr",
          "text": [
            "17495it [04:18, 73.36it/s]"
          ]
        },
        {
          "output_type": "stream",
          "name": "stdout",
          "text": [
            "| epoch  10 | 17500/32580 batches | loss    0.943 \n",
            "money: goods, taxes, payment, prices, buying, millions, funds, compensation, gift, cash\n",
            "lion: sands, bearded, saguinus, crab, swan, goat, eagle, serpent, alder, calf\n",
            "africa: korea, borneo, albania, eurasia, mozambique, yemen, morocco, americas, africans, sumatra\n",
            "musician: singer, guitarist, pianist, drummer, comedian, songwriter, dancer, songwriters, bassist, singers\n",
            "dance: dancing, jazz, blues, dances, ballroom, pop, bluegrass, rap, swing, techno\n",
            "\n",
            "\n"
          ]
        },
        {
          "output_type": "stream",
          "name": "stderr",
          "text": [
            "18001it [04:25, 43.85it/s]"
          ]
        },
        {
          "output_type": "stream",
          "name": "stdout",
          "text": [
            "| epoch  10 | 18000/32580 batches | loss    0.942 \n",
            "money: goods, taxes, prices, payment, buying, millions, funds, compensation, gift, cash\n",
            "lion: sands, bearded, saguinus, crab, swan, goat, eagle, alder, serpent, calf\n",
            "africa: korea, borneo, albania, eurasia, mozambique, yemen, morocco, americas, africans, sumatra\n",
            "musician: singer, guitarist, pianist, drummer, comedian, songwriter, dancer, songwriters, bassist, singers\n",
            "dance: dancing, jazz, blues, dances, ballroom, pop, bluegrass, rap, swing, techno\n",
            "\n",
            "\n"
          ]
        },
        {
          "output_type": "stream",
          "name": "stderr",
          "text": [
            "18500it [04:32, 73.45it/s]"
          ]
        },
        {
          "output_type": "stream",
          "name": "stdout",
          "text": [
            "| epoch  10 | 18500/32580 batches | loss    0.941 \n",
            "money: goods, taxes, prices, payment, buying, millions, funds, compensation, gift, cash\n",
            "lion: sands, bearded, saguinus, crab, swan, goat, eagle, alder, serpent, calf\n",
            "africa: korea, borneo, albania, eurasia, mozambique, yemen, morocco, africans, americas, sumatra\n",
            "musician: singer, guitarist, pianist, drummer, comedian, songwriter, dancer, songwriters, bassist, singers\n",
            "dance: dancing, jazz, blues, dances, ballroom, pop, bluegrass, rap, swing, techno\n",
            "\n",
            "\n"
          ]
        },
        {
          "output_type": "stream",
          "name": "stderr",
          "text": [
            "18996it [04:39, 69.88it/s]"
          ]
        },
        {
          "output_type": "stream",
          "name": "stdout",
          "text": [
            "| epoch  10 | 19000/32580 batches | loss    0.943 \n",
            "money: goods, taxes, prices, payment, buying, millions, funds, compensation, gift, cash\n",
            "lion: sands, bearded, saguinus, crab, swan, goat, eagle, alder, serpent, calf\n",
            "africa: korea, borneo, albania, eurasia, mozambique, yemen, morocco, africans, sumatra, americas\n",
            "musician: singer, guitarist, pianist, drummer, comedian, songwriter, dancer, songwriters, bassist, singers\n",
            "dance: dancing, jazz, blues, dances, ballroom, pop, bluegrass, rap, swing, techno\n",
            "\n",
            "\n"
          ]
        },
        {
          "output_type": "stream",
          "name": "stderr",
          "text": [
            "19501it [04:51, 47.75it/s]"
          ]
        },
        {
          "output_type": "stream",
          "name": "stdout",
          "text": [
            "| epoch  10 | 19500/32580 batches | loss    0.944 \n",
            "money: goods, taxes, payment, prices, buying, millions, funds, compensation, gift, cash\n",
            "lion: sands, bearded, saguinus, crab, swan, goat, alder, eagle, serpent, calf\n",
            "africa: korea, borneo, albania, eurasia, mozambique, yemen, morocco, sumatra, africans, americas\n",
            "musician: singer, guitarist, pianist, drummer, comedian, songwriter, dancer, songwriters, bassist, singers\n",
            "dance: dancing, jazz, blues, dances, ballroom, pop, bluegrass, rap, swing, techno\n",
            "\n",
            "\n"
          ]
        },
        {
          "output_type": "stream",
          "name": "stderr",
          "text": [
            "20000it [04:57, 73.94it/s]"
          ]
        },
        {
          "output_type": "stream",
          "name": "stdout",
          "text": [
            "| epoch  10 | 20000/32580 batches | loss    0.945 \n",
            "money: goods, taxes, prices, payment, buying, millions, funds, compensation, gift, cash\n",
            "lion: sands, bearded, saguinus, crab, swan, goat, alder, eagle, serpent, calf\n",
            "africa: korea, borneo, albania, eurasia, mozambique, yemen, africans, sumatra, morocco, americas\n",
            "musician: singer, guitarist, pianist, drummer, comedian, songwriter, dancer, songwriters, bassist, singers\n",
            "dance: dancing, jazz, blues, dances, ballroom, pop, bluegrass, rap, swing, techno\n",
            "\n",
            "\n"
          ]
        },
        {
          "output_type": "stream",
          "name": "stderr",
          "text": [
            "20497it [05:05, 67.52it/s]"
          ]
        },
        {
          "output_type": "stream",
          "name": "stdout",
          "text": [
            "| epoch  10 | 20500/32580 batches | loss    0.944 \n",
            "money: goods, taxes, prices, payment, buying, millions, funds, compensation, gift, cash\n",
            "lion: sands, bearded, saguinus, crab, swan, goat, alder, eagle, serpent, calf\n",
            "africa: korea, borneo, albania, eurasia, mozambique, yemen, morocco, africans, sumatra, americas\n",
            "musician: singer, guitarist, pianist, drummer, comedian, songwriter, dancer, songwriters, bassist, singers\n",
            "dance: dancing, jazz, blues, dances, ballroom, pop, bluegrass, rap, swing, techno\n",
            "\n",
            "\n"
          ]
        },
        {
          "output_type": "stream",
          "name": "stderr",
          "text": [
            "20995it [05:12, 72.21it/s]"
          ]
        },
        {
          "output_type": "stream",
          "name": "stdout",
          "text": [
            "| epoch  10 | 21000/32580 batches | loss    0.946 \n",
            "money: goods, taxes, prices, payment, buying, millions, funds, compensation, gift, cash\n",
            "lion: sands, bearded, saguinus, crab, swan, goat, alder, eagle, serpent, calf\n",
            "africa: korea, borneo, albania, eurasia, mozambique, yemen, morocco, americas, sumatra, africans\n",
            "musician: singer, guitarist, pianist, drummer, comedian, songwriter, dancer, songwriters, bassist, singers\n",
            "dance: dancing, jazz, blues, dances, ballroom, pop, bluegrass, rap, swing, techno\n",
            "\n",
            "\n"
          ]
        },
        {
          "output_type": "stream",
          "name": "stderr",
          "text": [
            "21498it [05:19, 71.14it/s]"
          ]
        },
        {
          "output_type": "stream",
          "name": "stdout",
          "text": [
            "| epoch  10 | 21500/32580 batches | loss    0.943 \n",
            "money: goods, taxes, prices, payment, buying, millions, funds, compensation, gift, cash\n",
            "lion: sands, bearded, saguinus, crab, swan, goat, alder, eagle, serpent, calf\n",
            "africa: korea, borneo, albania, eurasia, mozambique, yemen, morocco, africans, sumatra, americas\n",
            "musician: singer, guitarist, pianist, drummer, comedian, songwriter, dancer, songwriters, bassist, singers\n",
            "dance: dancing, jazz, blues, dances, ballroom, pop, bluegrass, rap, swing, techno\n",
            "\n",
            "\n"
          ]
        },
        {
          "output_type": "stream",
          "name": "stderr",
          "text": [
            "21999it [05:27, 69.70it/s]"
          ]
        },
        {
          "output_type": "stream",
          "name": "stdout",
          "text": [
            "| epoch  10 | 22000/32580 batches | loss    0.943 \n",
            "money: goods, taxes, payment, prices, buying, millions, funds, compensation, gift, cash\n",
            "lion: sands, bearded, saguinus, crab, swan, goat, eagle, alder, serpent, calf\n",
            "africa: korea, borneo, albania, eurasia, mozambique, yemen, africans, morocco, americas, sumatra\n",
            "musician: singer, guitarist, pianist, drummer, comedian, songwriter, dancer, songwriters, bassist, singers\n",
            "dance: dancing, jazz, blues, dances, ballroom, pop, bluegrass, rap, swing, techno\n",
            "\n",
            "\n"
          ]
        },
        {
          "output_type": "stream",
          "name": "stderr",
          "text": [
            "22499it [05:34, 72.98it/s]"
          ]
        },
        {
          "output_type": "stream",
          "name": "stdout",
          "text": [
            "| epoch  10 | 22500/32580 batches | loss    0.949 \n",
            "money: goods, taxes, prices, payment, buying, millions, funds, compensation, gift, cash\n",
            "lion: sands, bearded, saguinus, crab, swan, goat, alder, eagle, serpent, calf\n",
            "africa: korea, borneo, albania, eurasia, mozambique, yemen, morocco, africans, sumatra, americas\n",
            "musician: singer, guitarist, pianist, drummer, comedian, songwriter, dancer, songwriters, bassist, singers\n",
            "dance: dancing, jazz, blues, dances, ballroom, pop, bluegrass, rap, swing, techno\n",
            "\n",
            "\n"
          ]
        },
        {
          "output_type": "stream",
          "name": "stderr",
          "text": [
            "22995it [05:41, 67.89it/s]"
          ]
        },
        {
          "output_type": "stream",
          "name": "stdout",
          "text": [
            "| epoch  10 | 23000/32580 batches | loss    0.943 \n",
            "money: goods, taxes, prices, payment, buying, millions, funds, compensation, gift, cash\n",
            "lion: sands, bearded, saguinus, crab, swan, goat, alder, serpent, eagle, calf\n",
            "africa: korea, borneo, albania, eurasia, mozambique, yemen, morocco, africans, sumatra, americas\n",
            "musician: singer, guitarist, pianist, drummer, comedian, songwriter, dancer, songwriters, bassist, singers\n",
            "dance: dancing, jazz, blues, dances, ballroom, pop, bluegrass, rap, swing, techno\n",
            "\n",
            "\n"
          ]
        },
        {
          "output_type": "stream",
          "name": "stderr",
          "text": [
            "23496it [05:49, 71.07it/s]"
          ]
        },
        {
          "output_type": "stream",
          "name": "stdout",
          "text": [
            "| epoch  10 | 23500/32580 batches | loss    0.946 \n",
            "money: goods, taxes, payment, prices, buying, millions, funds, compensation, gift, cash\n",
            "lion: sands, bearded, saguinus, crab, swan, goat, eagle, alder, serpent, calf\n",
            "africa: korea, borneo, albania, eurasia, mozambique, yemen, morocco, africans, sumatra, americas\n",
            "musician: singer, guitarist, pianist, drummer, comedian, songwriter, dancer, songwriters, bassist, singers\n",
            "dance: dancing, jazz, blues, dances, ballroom, pop, bluegrass, rap, swing, techno\n",
            "\n",
            "\n"
          ]
        },
        {
          "output_type": "stream",
          "name": "stderr",
          "text": [
            "24001it [05:56, 42.47it/s]"
          ]
        },
        {
          "output_type": "stream",
          "name": "stdout",
          "text": [
            "| epoch  10 | 24000/32580 batches | loss    0.949 \n",
            "money: goods, taxes, prices, payment, buying, millions, funds, compensation, gift, cash\n",
            "lion: sands, bearded, saguinus, crab, goat, swan, alder, eagle, serpent, calf\n",
            "africa: korea, borneo, albania, eurasia, mozambique, yemen, morocco, africans, sumatra, americas\n",
            "musician: singer, guitarist, pianist, drummer, comedian, songwriter, dancer, songwriters, bassist, singers\n",
            "dance: dancing, jazz, blues, dances, ballroom, pop, bluegrass, rap, swing, techno\n",
            "\n",
            "\n"
          ]
        },
        {
          "output_type": "stream",
          "name": "stderr",
          "text": [
            "24496it [06:03, 68.61it/s]"
          ]
        },
        {
          "output_type": "stream",
          "name": "stdout",
          "text": [
            "| epoch  10 | 24500/32580 batches | loss    0.947 \n",
            "money: goods, taxes, payment, prices, buying, millions, funds, compensation, gift, cash\n",
            "lion: sands, bearded, saguinus, crab, goat, swan, alder, serpent, eagle, calf\n",
            "africa: korea, borneo, albania, eurasia, mozambique, yemen, africans, morocco, americas, sumatra\n",
            "musician: singer, guitarist, pianist, drummer, comedian, songwriter, dancer, songwriters, bassist, singers\n",
            "dance: dancing, jazz, blues, dances, ballroom, pop, bluegrass, rap, swing, techno\n",
            "\n",
            "\n"
          ]
        },
        {
          "output_type": "stream",
          "name": "stderr",
          "text": [
            "24999it [06:11, 71.64it/s]"
          ]
        },
        {
          "output_type": "stream",
          "name": "stdout",
          "text": [
            "| epoch  10 | 25000/32580 batches | loss    0.947 \n",
            "money: goods, taxes, payment, prices, buying, millions, funds, compensation, gift, cash\n",
            "lion: sands, bearded, saguinus, crab, goat, swan, alder, eagle, serpent, calf\n",
            "africa: korea, borneo, albania, eurasia, mozambique, yemen, morocco, americas, africans, sumatra\n",
            "musician: singer, guitarist, pianist, drummer, comedian, songwriter, dancer, songwriters, bassist, singers\n",
            "dance: dancing, jazz, blues, dances, ballroom, pop, bluegrass, rap, swing, techno\n",
            "\n",
            "\n"
          ]
        },
        {
          "output_type": "stream",
          "name": "stderr",
          "text": [
            "25495it [06:18, 72.53it/s]"
          ]
        },
        {
          "output_type": "stream",
          "name": "stdout",
          "text": [
            "| epoch  10 | 25500/32580 batches | loss    0.943 \n",
            "money: goods, taxes, prices, buying, payment, millions, funds, compensation, gift, cash\n",
            "lion: sands, bearded, saguinus, crab, swan, goat, alder, serpent, eagle, calf\n",
            "africa: korea, borneo, albania, eurasia, mozambique, yemen, americas, morocco, africans, sumatra\n",
            "musician: singer, guitarist, pianist, drummer, comedian, songwriter, dancer, songwriters, bassist, singers\n",
            "dance: dancing, jazz, blues, dances, ballroom, pop, bluegrass, rap, swing, techno\n",
            "\n",
            "\n"
          ]
        },
        {
          "output_type": "stream",
          "name": "stderr",
          "text": [
            "25997it [06:25, 68.86it/s]"
          ]
        },
        {
          "output_type": "stream",
          "name": "stdout",
          "text": [
            "| epoch  10 | 26000/32580 batches | loss    0.946 \n",
            "money: goods, taxes, prices, buying, payment, millions, funds, compensation, gift, cash\n",
            "lion: sands, bearded, saguinus, crab, swan, goat, serpent, alder, eagle, calf\n",
            "africa: korea, borneo, albania, eurasia, mozambique, yemen, americas, morocco, africans, sumatra\n",
            "musician: singer, guitarist, pianist, drummer, comedian, songwriter, dancer, songwriters, bassist, singers\n",
            "dance: dancing, jazz, blues, dances, ballroom, pop, bluegrass, rap, swing, techno\n",
            "\n",
            "\n"
          ]
        },
        {
          "output_type": "stream",
          "name": "stderr",
          "text": [
            "26498it [06:33, 73.41it/s]"
          ]
        },
        {
          "output_type": "stream",
          "name": "stdout",
          "text": [
            "| epoch  10 | 26500/32580 batches | loss    0.944 \n",
            "money: goods, taxes, prices, buying, payment, millions, funds, compensation, gift, cash\n",
            "lion: sands, bearded, saguinus, crab, swan, goat, serpent, alder, eagle, calf\n",
            "africa: korea, borneo, albania, eurasia, mozambique, yemen, americas, morocco, africans, sumatra\n",
            "musician: singer, guitarist, pianist, drummer, comedian, songwriter, dancer, songwriters, bassist, singers\n",
            "dance: dancing, jazz, blues, dances, ballroom, pop, bluegrass, rap, swing, techno\n",
            "\n",
            "\n"
          ]
        },
        {
          "output_type": "stream",
          "name": "stderr",
          "text": [
            "27001it [06:40, 47.43it/s]"
          ]
        },
        {
          "output_type": "stream",
          "name": "stdout",
          "text": [
            "| epoch  10 | 27000/32580 batches | loss    0.948 \n",
            "money: goods, taxes, prices, buying, payment, millions, funds, compensation, gift, cash\n",
            "lion: sands, bearded, saguinus, crab, swan, goat, alder, serpent, eagle, calf\n",
            "africa: korea, borneo, albania, eurasia, mozambique, yemen, americas, morocco, africans, sumatra\n",
            "musician: singer, guitarist, pianist, drummer, comedian, songwriter, dancer, songwriters, bassist, singers\n",
            "dance: dancing, jazz, blues, dances, ballroom, pop, bluegrass, rap, swing, techno\n",
            "\n",
            "\n"
          ]
        },
        {
          "output_type": "stream",
          "name": "stderr",
          "text": [
            "27500it [06:48, 68.21it/s]"
          ]
        },
        {
          "output_type": "stream",
          "name": "stdout",
          "text": [
            "| epoch  10 | 27500/32580 batches | loss    0.940 \n",
            "money: goods, taxes, prices, payment, buying, millions, funds, compensation, gift, cash\n",
            "lion: sands, bearded, saguinus, crab, goat, swan, alder, serpent, eagle, calf\n",
            "africa: korea, borneo, albania, eurasia, mozambique, yemen, americas, morocco, africans, sumatra\n",
            "musician: singer, guitarist, pianist, drummer, comedian, songwriter, dancer, songwriters, bassist, singers\n",
            "dance: dancing, jazz, blues, dances, ballroom, pop, bluegrass, rap, swing, techno\n",
            "\n",
            "\n"
          ]
        },
        {
          "output_type": "stream",
          "name": "stderr",
          "text": [
            "27996it [06:55, 73.20it/s]"
          ]
        },
        {
          "output_type": "stream",
          "name": "stdout",
          "text": [
            "| epoch  10 | 28000/32580 batches | loss    0.941 \n",
            "money: goods, taxes, prices, payment, buying, millions, funds, compensation, gift, cash\n",
            "lion: sands, bearded, saguinus, crab, goat, swan, alder, serpent, eagle, calf\n",
            "africa: korea, borneo, albania, eurasia, mozambique, yemen, americas, sumatra, africans, morocco\n",
            "musician: singer, guitarist, pianist, drummer, comedian, songwriter, dancer, songwriters, bassist, singers\n",
            "dance: dancing, jazz, blues, dances, ballroom, pop, bluegrass, rap, swing, techno\n",
            "\n",
            "\n"
          ]
        },
        {
          "output_type": "stream",
          "name": "stderr",
          "text": [
            "28496it [07:02, 68.43it/s]"
          ]
        },
        {
          "output_type": "stream",
          "name": "stdout",
          "text": [
            "| epoch  10 | 28500/32580 batches | loss    0.946 \n",
            "money: goods, taxes, prices, payment, buying, millions, funds, compensation, gift, cash\n",
            "lion: sands, bearded, saguinus, crab, goat, swan, alder, serpent, eagle, calf\n",
            "africa: korea, borneo, albania, eurasia, mozambique, yemen, americas, africans, morocco, sumatra\n",
            "musician: singer, guitarist, pianist, drummer, comedian, songwriter, dancer, songwriters, bassist, singers\n",
            "dance: dancing, jazz, blues, dances, ballroom, pop, bluegrass, rap, swing, techno\n",
            "\n",
            "\n"
          ]
        },
        {
          "output_type": "stream",
          "name": "stderr",
          "text": [
            "29000it [07:09, 70.94it/s]"
          ]
        },
        {
          "output_type": "stream",
          "name": "stdout",
          "text": [
            "| epoch  10 | 29000/32580 batches | loss    0.948 \n",
            "money: goods, taxes, payment, prices, buying, millions, funds, compensation, gift, cash\n",
            "lion: sands, bearded, saguinus, crab, goat, swan, alder, eagle, serpent, calf\n",
            "africa: korea, borneo, albania, eurasia, mozambique, yemen, americas, africans, sumatra, morocco\n",
            "musician: singer, guitarist, pianist, drummer, comedian, songwriter, dancer, songwriters, bassist, singers\n",
            "dance: dancing, jazz, blues, dances, ballroom, pop, bluegrass, rap, swing, techno\n",
            "\n",
            "\n"
          ]
        },
        {
          "output_type": "stream",
          "name": "stderr",
          "text": [
            "29495it [07:16, 72.09it/s]"
          ]
        },
        {
          "output_type": "stream",
          "name": "stdout",
          "text": [
            "| epoch  10 | 29500/32580 batches | loss    0.947 \n",
            "money: goods, taxes, prices, payment, buying, millions, funds, compensation, gift, cash\n",
            "lion: sands, bearded, saguinus, crab, goat, swan, alder, serpent, eagle, calf\n",
            "africa: korea, borneo, albania, eurasia, mozambique, yemen, americas, africans, sumatra, morocco\n",
            "musician: singer, guitarist, pianist, drummer, comedian, songwriter, dancer, songwriters, bassist, singers\n",
            "dance: dancing, jazz, blues, dances, ballroom, pop, bluegrass, rap, swing, techno\n",
            "\n",
            "\n"
          ]
        },
        {
          "output_type": "stream",
          "name": "stderr",
          "text": [
            "30000it [07:28, 19.48it/s]"
          ]
        },
        {
          "output_type": "stream",
          "name": "stdout",
          "text": [
            "| epoch  10 | 30000/32580 batches | loss    0.946 \n",
            "money: goods, taxes, prices, payment, buying, millions, funds, compensation, gift, cash\n",
            "lion: sands, bearded, saguinus, crab, goat, swan, alder, serpent, eagle, calf\n",
            "africa: korea, borneo, albania, eurasia, mozambique, yemen, americas, africans, morocco, sumatra\n",
            "musician: singer, guitarist, pianist, drummer, comedian, songwriter, dancer, songwriters, bassist, singers\n",
            "dance: dancing, jazz, blues, dances, ballroom, pop, bluegrass, rap, swing, techno\n",
            "\n",
            "\n"
          ]
        },
        {
          "output_type": "stream",
          "name": "stderr",
          "text": [
            "30494it [07:35, 73.91it/s]"
          ]
        },
        {
          "output_type": "stream",
          "name": "stdout",
          "text": [
            "| epoch  10 | 30500/32580 batches | loss    0.943 \n",
            "money: goods, taxes, prices, payment, buying, millions, funds, compensation, gift, cash\n",
            "lion: sands, bearded, saguinus, crab, goat, swan, alder, eagle, serpent, calf\n",
            "africa: korea, borneo, albania, eurasia, mozambique, yemen, americas, africans, morocco, sumatra\n",
            "musician: singer, guitarist, pianist, drummer, comedian, songwriter, dancer, songwriters, bassist, singers\n",
            "dance: dancing, jazz, blues, dances, ballroom, pop, bluegrass, rap, swing, techno\n",
            "\n",
            "\n"
          ]
        },
        {
          "output_type": "stream",
          "name": "stderr",
          "text": [
            "30996it [07:42, 68.21it/s]"
          ]
        },
        {
          "output_type": "stream",
          "name": "stdout",
          "text": [
            "| epoch  10 | 31000/32580 batches | loss    0.946 \n",
            "money: goods, taxes, payment, prices, buying, millions, funds, compensation, gift, cash\n",
            "lion: sands, bearded, saguinus, crab, goat, swan, alder, serpent, eagle, calf\n",
            "africa: korea, borneo, albania, eurasia, mozambique, yemen, americas, africans, sumatra, morocco\n",
            "musician: singer, guitarist, pianist, drummer, comedian, songwriter, dancer, songwriters, bassist, singers\n",
            "dance: dancing, jazz, blues, dances, ballroom, pop, bluegrass, rap, swing, techno\n",
            "\n",
            "\n"
          ]
        },
        {
          "output_type": "stream",
          "name": "stderr",
          "text": [
            "31499it [07:49, 69.78it/s]"
          ]
        },
        {
          "output_type": "stream",
          "name": "stdout",
          "text": [
            "| epoch  10 | 31500/32580 batches | loss    0.946 \n",
            "money: goods, taxes, prices, payment, buying, millions, funds, compensation, gift, cash\n",
            "lion: sands, bearded, saguinus, crab, goat, swan, alder, eagle, serpent, calf\n",
            "africa: korea, borneo, albania, eurasia, mozambique, yemen, americas, africans, sumatra, morocco\n",
            "musician: singer, guitarist, pianist, drummer, comedian, songwriter, dancer, songwriters, bassist, singers\n",
            "dance: dancing, jazz, blues, dances, ballroom, pop, bluegrass, rap, swing, techno\n",
            "\n",
            "\n"
          ]
        },
        {
          "output_type": "stream",
          "name": "stderr",
          "text": [
            "31997it [07:56, 72.57it/s]"
          ]
        },
        {
          "output_type": "stream",
          "name": "stdout",
          "text": [
            "| epoch  10 | 32000/32580 batches | loss    0.946 \n",
            "money: goods, taxes, prices, payment, buying, millions, funds, compensation, gift, cash\n",
            "lion: sands, bearded, saguinus, crab, goat, swan, alder, eagle, serpent, calf\n",
            "africa: korea, borneo, albania, eurasia, mozambique, yemen, americas, africans, sumatra, morocco\n",
            "musician: singer, guitarist, pianist, drummer, comedian, songwriter, dancer, songwriters, bassist, singers\n",
            "dance: dancing, jazz, blues, dances, ballroom, pop, bluegrass, rap, swing, techno\n",
            "\n",
            "\n"
          ]
        },
        {
          "output_type": "stream",
          "name": "stderr",
          "text": [
            "32501it [08:04, 44.52it/s]"
          ]
        },
        {
          "output_type": "stream",
          "name": "stdout",
          "text": [
            "| epoch  10 | 32500/32580 batches | loss    0.942 \n",
            "money: goods, taxes, prices, payment, buying, millions, funds, compensation, gift, cash\n",
            "lion: sands, bearded, saguinus, crab, goat, swan, alder, serpent, eagle, calf\n",
            "africa: korea, borneo, albania, eurasia, mozambique, yemen, americas, africans, sumatra, morocco\n",
            "musician: singer, guitarist, pianist, drummer, comedian, songwriter, dancer, songwriters, bassist, singers\n",
            "dance: dancing, jazz, blues, dances, ballroom, pop, bluegrass, rap, swing, techno\n",
            "\n",
            "\n"
          ]
        },
        {
          "output_type": "stream",
          "name": "stderr",
          "text": [
            "32580it [08:07, 66.77it/s]\n"
          ]
        }
      ],
      "source": [
        "for epoch in range(1, NUM_EPOCHS + 1):\n",
        "    epoch_start_time = time.time()\n",
        "\n",
        "    train(train_dl, model, optimizer, epoch)\n",
        "    # We have a learning rate scheduler here\n",
        "\n",
        "    # Basically, given the state of the optimizer, this lowers the learning rate in a smart way\n",
        "    scheduler.step()"
      ]
    },
    {
      "cell_type": "markdown",
      "source": [
        "**Associated words:**\n",
        "\n",
        "32501it [08:04, 44.52it/s]| epoch  10 | 32500/32580 batches | loss    0.942\n",
        "\n",
        "money: goods, taxes, prices, payment, buying, millions, funds, compensation, gift, cash\n",
        "\n",
        "lion: sands, bearded, saguinus, crab, goat, swan, alder, serpent, eagle, calf\n",
        "\n",
        "africa: korea, borneo, albania, eurasia, mozambique, yemen, americas, africans, sumatra, morocco\n",
        "\n",
        "musician: singer, guitarist, pianist, drummer, comedian, songwriter, dancer, songwriters, bassist, singers\n",
        "\n",
        "dance: dancing, jazz, blues, dances, ballroom, pop, bluegrass, rap, swing, techno"
      ],
      "metadata": {
        "id": "VPKAFY8UVEUj"
      },
      "id": "VPKAFY8UVEUj"
    }
  ],
  "metadata": {
    "colab": {
      "provenance": [],
      "machine_shape": "hm",
      "gpuType": "A100"
    },
    "kernelspec": {
      "display_name": "Python 3",
      "name": "python3"
    },
    "language_info": {
      "codemirror_mode": {
        "name": "ipython",
        "version": 3
      },
      "file_extension": ".py",
      "mimetype": "text/x-python",
      "name": "python",
      "nbconvert_exporter": "python",
      "pygments_lexer": "ipython3",
      "version": "3.8.15"
    },
    "accelerator": "GPU"
  },
  "nbformat": 4,
  "nbformat_minor": 5
}